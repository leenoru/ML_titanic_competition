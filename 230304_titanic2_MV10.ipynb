{
  "nbformat": 4,
  "nbformat_minor": 0,
  "metadata": {
    "colab": {
      "provenance": [],
      "toc_visible": true,
      "authorship_tag": "ABX9TyOCjRg8Q6rMG51s0/uucWKk"
    },
    "kernelspec": {
      "name": "python3",
      "display_name": "Python 3"
    },
    "language_info": {
      "name": "python"
    }
  },
  "cells": [
    {
      "cell_type": "markdown",
      "source": [
        "# Mission"
      ],
      "metadata": {
        "id": "FfAjcqg7uEF-"
      }
    },
    {
      "cell_type": "markdown",
      "source": [
        "- 제공된 타이타닉 데이터셋 사용\n",
        "- passengerid 대비 생존율을 정확하게 맞출 수 있는 머신러닝 모델 완성"
      ],
      "metadata": {
        "id": "jABbChszuEA_"
      }
    },
    {
      "cell_type": "markdown",
      "source": [
        "# Connect to google account"
      ],
      "metadata": {
        "id": "U0syvVW8uD7Q"
      }
    },
    {
      "cell_type": "code",
      "source": [
        "from google.colab import drive\n",
        "import pandas as pd\n",
        "\n",
        "# 구글 드라이브 마운트\n",
        "drive.mount('/content/gdrive')"
      ],
      "metadata": {
        "colab": {
          "base_uri": "https://localhost:8080/"
        },
        "id": "OAXlpNVxuLxl",
        "outputId": "5f0519c8-c7f3-42b0-98f4-cd1eb9720b3f"
      },
      "execution_count": 724,
      "outputs": [
        {
          "output_type": "stream",
          "name": "stdout",
          "text": [
            "Drive already mounted at /content/gdrive; to attempt to forcibly remount, call drive.mount(\"/content/gdrive\", force_remount=True).\n"
          ]
        }
      ]
    },
    {
      "cell_type": "code",
      "source": [
        "# 코렙 한글깨짐 방지\n",
        "!apt -qq -y install fonts-nanum > /dev/null\n",
        "\n",
        "# 데이터 시각화에 사용할 라이브러리\n",
        "import matplotlib.pyplot as plt\n",
        "import matplotlib.font_manager as fm\n",
        "import seaborn as sns\n",
        "\n",
        "fontpath = '/usr/share/fonts/truetype/nanum/NanumBarunGothic.ttf'\n",
        "font_name = fm.FontProperties(fname=fontpath).get_name() \n",
        "# fm._rebuild()  \n",
        "\n",
        "%config InlineBackend.figure_format = 'retina'\n",
        "\n",
        "plt.rc('font', family=font_name)  \n",
        "plt.rcParams['axes.unicode_minus'] = False"
      ],
      "metadata": {
        "colab": {
          "base_uri": "https://localhost:8080/"
        },
        "id": "ReUkDyCxuLss",
        "outputId": "eb3c9438-b6be-44d7-f2fe-4b76121cbdf6"
      },
      "execution_count": 725,
      "outputs": [
        {
          "output_type": "stream",
          "name": "stdout",
          "text": [
            "\n",
            "WARNING: apt does not have a stable CLI interface. Use with caution in scripts.\n",
            "\n"
          ]
        }
      ]
    },
    {
      "cell_type": "markdown",
      "source": [
        "# Global Variables"
      ],
      "metadata": {
        "id": "ECivV_B0uD1-"
      }
    },
    {
      "cell_type": "code",
      "source": [
        "import easydict\n",
        "import json\n",
        "args = easydict.EasyDict()\n",
        "\n",
        "# path 정보\n",
        "args.default_path = '/content/gdrive/My Drive/titanic_kaggle/data/'\n",
        "args.train_csv = args.default_path+'train.csv'\n",
        "args.test_csv = args.default_path+'test.csv'\n",
        "args.submission_csv = args.default_path+'submission.csv'\n",
        "args.save_results = args.default_path+\"model_results.json\"\n",
        "\n",
        "# 데이터 분석을 위한 변수들\n",
        "args.random_state = 42\n",
        "SEED = 42\n",
        "args.results = []"
      ],
      "metadata": {
        "id": "q6r_RWdguPvU"
      },
      "execution_count": 726,
      "outputs": []
    },
    {
      "cell_type": "code",
      "source": [
        "# 데이터 시각화 라이브러리 \n",
        "import numpy as np \n",
        "import pandas as pd\n",
        "\n",
        "import matplotlib.pyplot as plt\n",
        "import seaborn as sns\n",
        "\n",
        "plt.style.use('fivethirtyeight')\n",
        "plt.ion()\n",
        "\n",
        "import warnings\n",
        "warnings.filterwarnings('ignore')"
      ],
      "metadata": {
        "id": "N4aoEo6euPol"
      },
      "execution_count": 727,
      "outputs": []
    },
    {
      "cell_type": "code",
      "source": [
        "# # 지난 결과 확인\n",
        "# with open(args.save_results, 'r') as file:\n",
        "#      args.results = json.load(file)\n",
        "\n",
        "# args.results"
      ],
      "metadata": {
        "id": "UdFbSmkwuPUr"
      },
      "execution_count": 728,
      "outputs": []
    },
    {
      "cell_type": "markdown",
      "source": [
        "# Load Tritanic"
      ],
      "metadata": {
        "id": "NKizid6JuDwV"
      }
    },
    {
      "cell_type": "markdown",
      "source": [
        "- Surived:0=사망, 1=생존\n",
        "- Pclass: 1=1등석, 2=2등석, 3=3등석\n",
        "- Sex:male=남성, female=여성\n",
        "- Age: 나이\n",
        "- SibSp: 타이타닉 호에 동승한 자매/배우자의 수\n",
        "- Parch: 타이타닉 호에 동승한 부모/자식의 수\n",
        "- Ticket: 티켓 번호\n",
        "- Fare: 승객 요금\n",
        "- Cabin: 방 호수\n",
        "- Embarked: 탑승지; C=셰르부르, Q=퀴즈타운, S=사우샘프턴"
      ],
      "metadata": {
        "id": "pg8jjwmYuDqW"
      }
    },
    {
      "cell_type": "code",
      "source": [
        "ori_train = pd.read_csv(args.train_csv)\n",
        "ori_test = pd.read_csv(args.test_csv)\n",
        "\n",
        "ori_train.shape, ori_test.shape"
      ],
      "metadata": {
        "colab": {
          "base_uri": "https://localhost:8080/"
        },
        "id": "DpAWz7ToufH1",
        "outputId": "77e05255-6272-4039-ee28-b92ecd48d316"
      },
      "execution_count": 729,
      "outputs": [
        {
          "output_type": "execute_result",
          "data": {
            "text/plain": [
              "((916, 12), (393, 11))"
            ]
          },
          "metadata": {},
          "execution_count": 729
        }
      ]
    },
    {
      "cell_type": "code",
      "source": [
        "ori_train.head()"
      ],
      "metadata": {
        "colab": {
          "base_uri": "https://localhost:8080/",
          "height": 206
        },
        "id": "BxxPH-bZufEc",
        "outputId": "3345009f-4339-4826-fb4b-f3ad6c1d72c3"
      },
      "execution_count": 730,
      "outputs": [
        {
          "output_type": "execute_result",
          "data": {
            "text/plain": [
              "   passengerid  survived  pclass  \\\n",
              "0            0         0       2   \n",
              "1            1         0       3   \n",
              "2            2         1       1   \n",
              "3            3         1       3   \n",
              "4            4         0       2   \n",
              "\n",
              "                                                name  gender   age  sibsp  \\\n",
              "0                     Wheeler, Mr. Edwin Frederick\"\"    male   NaN      0   \n",
              "1                                 Henry, Miss. Delia  female   NaN      0   \n",
              "2  Hays, Mrs. Charles Melville (Clara Jennings Gr...  female  52.0      1   \n",
              "3       Andersson, Mr. August Edvard (\"Wennerstrom\")    male  27.0      0   \n",
              "4                                  Hold, Mr. Stephen    male  44.0      1   \n",
              "\n",
              "   parch         ticket     fare cabin embarked  \n",
              "0      0  SC/PARIS 2159  12.8750   NaN        S  \n",
              "1      0         382649   7.7500   NaN        Q  \n",
              "2      1          12749  93.5000   B69        S  \n",
              "3      0         350043   7.7958   NaN        S  \n",
              "4      0          26707  26.0000   NaN        S  "
            ],
            "text/html": [
              "\n",
              "  <div id=\"df-c21c3cfe-f5f9-4c24-9da2-24a472791bdb\">\n",
              "    <div class=\"colab-df-container\">\n",
              "      <div>\n",
              "<style scoped>\n",
              "    .dataframe tbody tr th:only-of-type {\n",
              "        vertical-align: middle;\n",
              "    }\n",
              "\n",
              "    .dataframe tbody tr th {\n",
              "        vertical-align: top;\n",
              "    }\n",
              "\n",
              "    .dataframe thead th {\n",
              "        text-align: right;\n",
              "    }\n",
              "</style>\n",
              "<table border=\"1\" class=\"dataframe\">\n",
              "  <thead>\n",
              "    <tr style=\"text-align: right;\">\n",
              "      <th></th>\n",
              "      <th>passengerid</th>\n",
              "      <th>survived</th>\n",
              "      <th>pclass</th>\n",
              "      <th>name</th>\n",
              "      <th>gender</th>\n",
              "      <th>age</th>\n",
              "      <th>sibsp</th>\n",
              "      <th>parch</th>\n",
              "      <th>ticket</th>\n",
              "      <th>fare</th>\n",
              "      <th>cabin</th>\n",
              "      <th>embarked</th>\n",
              "    </tr>\n",
              "  </thead>\n",
              "  <tbody>\n",
              "    <tr>\n",
              "      <th>0</th>\n",
              "      <td>0</td>\n",
              "      <td>0</td>\n",
              "      <td>2</td>\n",
              "      <td>Wheeler, Mr. Edwin Frederick\"\"</td>\n",
              "      <td>male</td>\n",
              "      <td>NaN</td>\n",
              "      <td>0</td>\n",
              "      <td>0</td>\n",
              "      <td>SC/PARIS 2159</td>\n",
              "      <td>12.8750</td>\n",
              "      <td>NaN</td>\n",
              "      <td>S</td>\n",
              "    </tr>\n",
              "    <tr>\n",
              "      <th>1</th>\n",
              "      <td>1</td>\n",
              "      <td>0</td>\n",
              "      <td>3</td>\n",
              "      <td>Henry, Miss. Delia</td>\n",
              "      <td>female</td>\n",
              "      <td>NaN</td>\n",
              "      <td>0</td>\n",
              "      <td>0</td>\n",
              "      <td>382649</td>\n",
              "      <td>7.7500</td>\n",
              "      <td>NaN</td>\n",
              "      <td>Q</td>\n",
              "    </tr>\n",
              "    <tr>\n",
              "      <th>2</th>\n",
              "      <td>2</td>\n",
              "      <td>1</td>\n",
              "      <td>1</td>\n",
              "      <td>Hays, Mrs. Charles Melville (Clara Jennings Gr...</td>\n",
              "      <td>female</td>\n",
              "      <td>52.0</td>\n",
              "      <td>1</td>\n",
              "      <td>1</td>\n",
              "      <td>12749</td>\n",
              "      <td>93.5000</td>\n",
              "      <td>B69</td>\n",
              "      <td>S</td>\n",
              "    </tr>\n",
              "    <tr>\n",
              "      <th>3</th>\n",
              "      <td>3</td>\n",
              "      <td>1</td>\n",
              "      <td>3</td>\n",
              "      <td>Andersson, Mr. August Edvard (\"Wennerstrom\")</td>\n",
              "      <td>male</td>\n",
              "      <td>27.0</td>\n",
              "      <td>0</td>\n",
              "      <td>0</td>\n",
              "      <td>350043</td>\n",
              "      <td>7.7958</td>\n",
              "      <td>NaN</td>\n",
              "      <td>S</td>\n",
              "    </tr>\n",
              "    <tr>\n",
              "      <th>4</th>\n",
              "      <td>4</td>\n",
              "      <td>0</td>\n",
              "      <td>2</td>\n",
              "      <td>Hold, Mr. Stephen</td>\n",
              "      <td>male</td>\n",
              "      <td>44.0</td>\n",
              "      <td>1</td>\n",
              "      <td>0</td>\n",
              "      <td>26707</td>\n",
              "      <td>26.0000</td>\n",
              "      <td>NaN</td>\n",
              "      <td>S</td>\n",
              "    </tr>\n",
              "  </tbody>\n",
              "</table>\n",
              "</div>\n",
              "      <button class=\"colab-df-convert\" onclick=\"convertToInteractive('df-c21c3cfe-f5f9-4c24-9da2-24a472791bdb')\"\n",
              "              title=\"Convert this dataframe to an interactive table.\"\n",
              "              style=\"display:none;\">\n",
              "        \n",
              "  <svg xmlns=\"http://www.w3.org/2000/svg\" height=\"24px\"viewBox=\"0 0 24 24\"\n",
              "       width=\"24px\">\n",
              "    <path d=\"M0 0h24v24H0V0z\" fill=\"none\"/>\n",
              "    <path d=\"M18.56 5.44l.94 2.06.94-2.06 2.06-.94-2.06-.94-.94-2.06-.94 2.06-2.06.94zm-11 1L8.5 8.5l.94-2.06 2.06-.94-2.06-.94L8.5 2.5l-.94 2.06-2.06.94zm10 10l.94 2.06.94-2.06 2.06-.94-2.06-.94-.94-2.06-.94 2.06-2.06.94z\"/><path d=\"M17.41 7.96l-1.37-1.37c-.4-.4-.92-.59-1.43-.59-.52 0-1.04.2-1.43.59L10.3 9.45l-7.72 7.72c-.78.78-.78 2.05 0 2.83L4 21.41c.39.39.9.59 1.41.59.51 0 1.02-.2 1.41-.59l7.78-7.78 2.81-2.81c.8-.78.8-2.07 0-2.86zM5.41 20L4 18.59l7.72-7.72 1.47 1.35L5.41 20z\"/>\n",
              "  </svg>\n",
              "      </button>\n",
              "      \n",
              "  <style>\n",
              "    .colab-df-container {\n",
              "      display:flex;\n",
              "      flex-wrap:wrap;\n",
              "      gap: 12px;\n",
              "    }\n",
              "\n",
              "    .colab-df-convert {\n",
              "      background-color: #E8F0FE;\n",
              "      border: none;\n",
              "      border-radius: 50%;\n",
              "      cursor: pointer;\n",
              "      display: none;\n",
              "      fill: #1967D2;\n",
              "      height: 32px;\n",
              "      padding: 0 0 0 0;\n",
              "      width: 32px;\n",
              "    }\n",
              "\n",
              "    .colab-df-convert:hover {\n",
              "      background-color: #E2EBFA;\n",
              "      box-shadow: 0px 1px 2px rgba(60, 64, 67, 0.3), 0px 1px 3px 1px rgba(60, 64, 67, 0.15);\n",
              "      fill: #174EA6;\n",
              "    }\n",
              "\n",
              "    [theme=dark] .colab-df-convert {\n",
              "      background-color: #3B4455;\n",
              "      fill: #D2E3FC;\n",
              "    }\n",
              "\n",
              "    [theme=dark] .colab-df-convert:hover {\n",
              "      background-color: #434B5C;\n",
              "      box-shadow: 0px 1px 3px 1px rgba(0, 0, 0, 0.15);\n",
              "      filter: drop-shadow(0px 1px 2px rgba(0, 0, 0, 0.3));\n",
              "      fill: #FFFFFF;\n",
              "    }\n",
              "  </style>\n",
              "\n",
              "      <script>\n",
              "        const buttonEl =\n",
              "          document.querySelector('#df-c21c3cfe-f5f9-4c24-9da2-24a472791bdb button.colab-df-convert');\n",
              "        buttonEl.style.display =\n",
              "          google.colab.kernel.accessAllowed ? 'block' : 'none';\n",
              "\n",
              "        async function convertToInteractive(key) {\n",
              "          const element = document.querySelector('#df-c21c3cfe-f5f9-4c24-9da2-24a472791bdb');\n",
              "          const dataTable =\n",
              "            await google.colab.kernel.invokeFunction('convertToInteractive',\n",
              "                                                     [key], {});\n",
              "          if (!dataTable) return;\n",
              "\n",
              "          const docLinkHtml = 'Like what you see? Visit the ' +\n",
              "            '<a target=\"_blank\" href=https://colab.research.google.com/notebooks/data_table.ipynb>data table notebook</a>'\n",
              "            + ' to learn more about interactive tables.';\n",
              "          element.innerHTML = '';\n",
              "          dataTable['output_type'] = 'display_data';\n",
              "          await google.colab.output.renderOutput(dataTable, element);\n",
              "          const docLink = document.createElement('div');\n",
              "          docLink.innerHTML = docLinkHtml;\n",
              "          element.appendChild(docLink);\n",
              "        }\n",
              "      </script>\n",
              "    </div>\n",
              "  </div>\n",
              "  "
            ]
          },
          "metadata": {},
          "execution_count": 730
        }
      ]
    },
    {
      "cell_type": "code",
      "source": [
        "ori_train.tail()"
      ],
      "metadata": {
        "colab": {
          "base_uri": "https://localhost:8080/",
          "height": 206
        },
        "id": "Ihe7oKMBufBT",
        "outputId": "436354c7-2888-43f3-d92b-8c84468fdc2a"
      },
      "execution_count": 731,
      "outputs": [
        {
          "output_type": "execute_result",
          "data": {
            "text/plain": [
              "     passengerid  survived  pclass  \\\n",
              "911          911         0       3   \n",
              "912          912         0       3   \n",
              "913          913         0       2   \n",
              "914          914         1       3   \n",
              "915          915         1       1   \n",
              "\n",
              "                                                 name  gender   age  sibsp  \\\n",
              "911                             Thomas, Mr. Charles P    male   NaN      1   \n",
              "912                              Cacic, Mr. Jego Grga    male  18.0      0   \n",
              "913                   Pengelly, Mr. Frederick William    male  19.0      0   \n",
              "914                  Mullens, Miss. Katherine \"Katie\"  female   NaN      0   \n",
              "915  Candee, Mrs. Edward (Helen Churchill Hungerford)  female  53.0      0   \n",
              "\n",
              "     parch    ticket     fare cabin embarked  \n",
              "911      0      2621   6.4375   NaN        C  \n",
              "912      0    315091   8.6625   NaN        S  \n",
              "913      0     28665  10.5000   NaN        S  \n",
              "914      0     35852   7.7333   NaN        Q  \n",
              "915      0  PC 17606  27.4458   NaN        C  "
            ],
            "text/html": [
              "\n",
              "  <div id=\"df-92638de3-1512-434b-a0a8-48053172f59c\">\n",
              "    <div class=\"colab-df-container\">\n",
              "      <div>\n",
              "<style scoped>\n",
              "    .dataframe tbody tr th:only-of-type {\n",
              "        vertical-align: middle;\n",
              "    }\n",
              "\n",
              "    .dataframe tbody tr th {\n",
              "        vertical-align: top;\n",
              "    }\n",
              "\n",
              "    .dataframe thead th {\n",
              "        text-align: right;\n",
              "    }\n",
              "</style>\n",
              "<table border=\"1\" class=\"dataframe\">\n",
              "  <thead>\n",
              "    <tr style=\"text-align: right;\">\n",
              "      <th></th>\n",
              "      <th>passengerid</th>\n",
              "      <th>survived</th>\n",
              "      <th>pclass</th>\n",
              "      <th>name</th>\n",
              "      <th>gender</th>\n",
              "      <th>age</th>\n",
              "      <th>sibsp</th>\n",
              "      <th>parch</th>\n",
              "      <th>ticket</th>\n",
              "      <th>fare</th>\n",
              "      <th>cabin</th>\n",
              "      <th>embarked</th>\n",
              "    </tr>\n",
              "  </thead>\n",
              "  <tbody>\n",
              "    <tr>\n",
              "      <th>911</th>\n",
              "      <td>911</td>\n",
              "      <td>0</td>\n",
              "      <td>3</td>\n",
              "      <td>Thomas, Mr. Charles P</td>\n",
              "      <td>male</td>\n",
              "      <td>NaN</td>\n",
              "      <td>1</td>\n",
              "      <td>0</td>\n",
              "      <td>2621</td>\n",
              "      <td>6.4375</td>\n",
              "      <td>NaN</td>\n",
              "      <td>C</td>\n",
              "    </tr>\n",
              "    <tr>\n",
              "      <th>912</th>\n",
              "      <td>912</td>\n",
              "      <td>0</td>\n",
              "      <td>3</td>\n",
              "      <td>Cacic, Mr. Jego Grga</td>\n",
              "      <td>male</td>\n",
              "      <td>18.0</td>\n",
              "      <td>0</td>\n",
              "      <td>0</td>\n",
              "      <td>315091</td>\n",
              "      <td>8.6625</td>\n",
              "      <td>NaN</td>\n",
              "      <td>S</td>\n",
              "    </tr>\n",
              "    <tr>\n",
              "      <th>913</th>\n",
              "      <td>913</td>\n",
              "      <td>0</td>\n",
              "      <td>2</td>\n",
              "      <td>Pengelly, Mr. Frederick William</td>\n",
              "      <td>male</td>\n",
              "      <td>19.0</td>\n",
              "      <td>0</td>\n",
              "      <td>0</td>\n",
              "      <td>28665</td>\n",
              "      <td>10.5000</td>\n",
              "      <td>NaN</td>\n",
              "      <td>S</td>\n",
              "    </tr>\n",
              "    <tr>\n",
              "      <th>914</th>\n",
              "      <td>914</td>\n",
              "      <td>1</td>\n",
              "      <td>3</td>\n",
              "      <td>Mullens, Miss. Katherine \"Katie\"</td>\n",
              "      <td>female</td>\n",
              "      <td>NaN</td>\n",
              "      <td>0</td>\n",
              "      <td>0</td>\n",
              "      <td>35852</td>\n",
              "      <td>7.7333</td>\n",
              "      <td>NaN</td>\n",
              "      <td>Q</td>\n",
              "    </tr>\n",
              "    <tr>\n",
              "      <th>915</th>\n",
              "      <td>915</td>\n",
              "      <td>1</td>\n",
              "      <td>1</td>\n",
              "      <td>Candee, Mrs. Edward (Helen Churchill Hungerford)</td>\n",
              "      <td>female</td>\n",
              "      <td>53.0</td>\n",
              "      <td>0</td>\n",
              "      <td>0</td>\n",
              "      <td>PC 17606</td>\n",
              "      <td>27.4458</td>\n",
              "      <td>NaN</td>\n",
              "      <td>C</td>\n",
              "    </tr>\n",
              "  </tbody>\n",
              "</table>\n",
              "</div>\n",
              "      <button class=\"colab-df-convert\" onclick=\"convertToInteractive('df-92638de3-1512-434b-a0a8-48053172f59c')\"\n",
              "              title=\"Convert this dataframe to an interactive table.\"\n",
              "              style=\"display:none;\">\n",
              "        \n",
              "  <svg xmlns=\"http://www.w3.org/2000/svg\" height=\"24px\"viewBox=\"0 0 24 24\"\n",
              "       width=\"24px\">\n",
              "    <path d=\"M0 0h24v24H0V0z\" fill=\"none\"/>\n",
              "    <path d=\"M18.56 5.44l.94 2.06.94-2.06 2.06-.94-2.06-.94-.94-2.06-.94 2.06-2.06.94zm-11 1L8.5 8.5l.94-2.06 2.06-.94-2.06-.94L8.5 2.5l-.94 2.06-2.06.94zm10 10l.94 2.06.94-2.06 2.06-.94-2.06-.94-.94-2.06-.94 2.06-2.06.94z\"/><path d=\"M17.41 7.96l-1.37-1.37c-.4-.4-.92-.59-1.43-.59-.52 0-1.04.2-1.43.59L10.3 9.45l-7.72 7.72c-.78.78-.78 2.05 0 2.83L4 21.41c.39.39.9.59 1.41.59.51 0 1.02-.2 1.41-.59l7.78-7.78 2.81-2.81c.8-.78.8-2.07 0-2.86zM5.41 20L4 18.59l7.72-7.72 1.47 1.35L5.41 20z\"/>\n",
              "  </svg>\n",
              "      </button>\n",
              "      \n",
              "  <style>\n",
              "    .colab-df-container {\n",
              "      display:flex;\n",
              "      flex-wrap:wrap;\n",
              "      gap: 12px;\n",
              "    }\n",
              "\n",
              "    .colab-df-convert {\n",
              "      background-color: #E8F0FE;\n",
              "      border: none;\n",
              "      border-radius: 50%;\n",
              "      cursor: pointer;\n",
              "      display: none;\n",
              "      fill: #1967D2;\n",
              "      height: 32px;\n",
              "      padding: 0 0 0 0;\n",
              "      width: 32px;\n",
              "    }\n",
              "\n",
              "    .colab-df-convert:hover {\n",
              "      background-color: #E2EBFA;\n",
              "      box-shadow: 0px 1px 2px rgba(60, 64, 67, 0.3), 0px 1px 3px 1px rgba(60, 64, 67, 0.15);\n",
              "      fill: #174EA6;\n",
              "    }\n",
              "\n",
              "    [theme=dark] .colab-df-convert {\n",
              "      background-color: #3B4455;\n",
              "      fill: #D2E3FC;\n",
              "    }\n",
              "\n",
              "    [theme=dark] .colab-df-convert:hover {\n",
              "      background-color: #434B5C;\n",
              "      box-shadow: 0px 1px 3px 1px rgba(0, 0, 0, 0.15);\n",
              "      filter: drop-shadow(0px 1px 2px rgba(0, 0, 0, 0.3));\n",
              "      fill: #FFFFFF;\n",
              "    }\n",
              "  </style>\n",
              "\n",
              "      <script>\n",
              "        const buttonEl =\n",
              "          document.querySelector('#df-92638de3-1512-434b-a0a8-48053172f59c button.colab-df-convert');\n",
              "        buttonEl.style.display =\n",
              "          google.colab.kernel.accessAllowed ? 'block' : 'none';\n",
              "\n",
              "        async function convertToInteractive(key) {\n",
              "          const element = document.querySelector('#df-92638de3-1512-434b-a0a8-48053172f59c');\n",
              "          const dataTable =\n",
              "            await google.colab.kernel.invokeFunction('convertToInteractive',\n",
              "                                                     [key], {});\n",
              "          if (!dataTable) return;\n",
              "\n",
              "          const docLinkHtml = 'Like what you see? Visit the ' +\n",
              "            '<a target=\"_blank\" href=https://colab.research.google.com/notebooks/data_table.ipynb>data table notebook</a>'\n",
              "            + ' to learn more about interactive tables.';\n",
              "          element.innerHTML = '';\n",
              "          dataTable['output_type'] = 'display_data';\n",
              "          await google.colab.output.renderOutput(dataTable, element);\n",
              "          const docLink = document.createElement('div');\n",
              "          docLink.innerHTML = docLinkHtml;\n",
              "          element.appendChild(docLink);\n",
              "        }\n",
              "      </script>\n",
              "    </div>\n",
              "  </div>\n",
              "  "
            ]
          },
          "metadata": {},
          "execution_count": 731
        }
      ]
    },
    {
      "cell_type": "code",
      "source": [
        "ori_train.info()"
      ],
      "metadata": {
        "colab": {
          "base_uri": "https://localhost:8080/"
        },
        "id": "MawEWJrhue-D",
        "outputId": "50ee515f-3faf-43c7-9ce8-06a6bfeb817d"
      },
      "execution_count": 732,
      "outputs": [
        {
          "output_type": "stream",
          "name": "stdout",
          "text": [
            "<class 'pandas.core.frame.DataFrame'>\n",
            "RangeIndex: 916 entries, 0 to 915\n",
            "Data columns (total 12 columns):\n",
            " #   Column       Non-Null Count  Dtype  \n",
            "---  ------       --------------  -----  \n",
            " 0   passengerid  916 non-null    int64  \n",
            " 1   survived     916 non-null    int64  \n",
            " 2   pclass       916 non-null    int64  \n",
            " 3   name         916 non-null    object \n",
            " 4   gender       916 non-null    object \n",
            " 5   age          736 non-null    float64\n",
            " 6   sibsp        916 non-null    int64  \n",
            " 7   parch        916 non-null    int64  \n",
            " 8   ticket       916 non-null    object \n",
            " 9   fare         916 non-null    float64\n",
            " 10  cabin        198 non-null    object \n",
            " 11  embarked     915 non-null    object \n",
            "dtypes: float64(2), int64(5), object(5)\n",
            "memory usage: 86.0+ KB\n"
          ]
        }
      ]
    },
    {
      "cell_type": "code",
      "source": [
        "ori_train.describe(include = 'all')"
      ],
      "metadata": {
        "colab": {
          "base_uri": "https://localhost:8080/",
          "height": 394
        },
        "id": "k2sym9atujzK",
        "outputId": "a6262977-218b-4f78-8008-815ceef47c06"
      },
      "execution_count": 733,
      "outputs": [
        {
          "output_type": "execute_result",
          "data": {
            "text/plain": [
              "        passengerid    survived      pclass                  name gender  \\\n",
              "count    916.000000  916.000000  916.000000                   916    916   \n",
              "unique          NaN         NaN         NaN                   915      2   \n",
              "top             NaN         NaN         NaN  Connolly, Miss. Kate   male   \n",
              "freq            NaN         NaN         NaN                     2    589   \n",
              "mean     457.500000    0.377729    2.292576                   NaN    NaN   \n",
              "std      264.570721    0.485084    0.838675                   NaN    NaN   \n",
              "min        0.000000    0.000000    1.000000                   NaN    NaN   \n",
              "25%      228.750000    0.000000    2.000000                   NaN    NaN   \n",
              "50%      457.500000    0.000000    3.000000                   NaN    NaN   \n",
              "75%      686.250000    1.000000    3.000000                   NaN    NaN   \n",
              "max      915.000000    1.000000    3.000000                   NaN    NaN   \n",
              "\n",
              "               age       sibsp       parch    ticket        fare cabin  \\\n",
              "count   736.000000  916.000000  916.000000       916  916.000000   198   \n",
              "unique         NaN         NaN         NaN       703         NaN   146   \n",
              "top            NaN         NaN         NaN  CA. 2343         NaN    G6   \n",
              "freq           NaN         NaN         NaN         7         NaN     4   \n",
              "mean     29.698370    0.507642    0.361354       NaN   32.402710   NaN   \n",
              "std      14.185627    1.044866    0.828054       NaN   50.506411   NaN   \n",
              "min       0.170000    0.000000    0.000000       NaN    0.000000   NaN   \n",
              "25%      21.000000    0.000000    0.000000       NaN    7.895800   NaN   \n",
              "50%      28.000000    0.000000    0.000000       NaN   14.458300   NaN   \n",
              "75%      38.000000    1.000000    0.000000       NaN   30.017700   NaN   \n",
              "max      80.000000    8.000000    9.000000       NaN  512.329200   NaN   \n",
              "\n",
              "       embarked  \n",
              "count       915  \n",
              "unique        3  \n",
              "top           S  \n",
              "freq        645  \n",
              "mean        NaN  \n",
              "std         NaN  \n",
              "min         NaN  \n",
              "25%         NaN  \n",
              "50%         NaN  \n",
              "75%         NaN  \n",
              "max         NaN  "
            ],
            "text/html": [
              "\n",
              "  <div id=\"df-c8d8838b-c0c5-4f93-b8bd-61896f054020\">\n",
              "    <div class=\"colab-df-container\">\n",
              "      <div>\n",
              "<style scoped>\n",
              "    .dataframe tbody tr th:only-of-type {\n",
              "        vertical-align: middle;\n",
              "    }\n",
              "\n",
              "    .dataframe tbody tr th {\n",
              "        vertical-align: top;\n",
              "    }\n",
              "\n",
              "    .dataframe thead th {\n",
              "        text-align: right;\n",
              "    }\n",
              "</style>\n",
              "<table border=\"1\" class=\"dataframe\">\n",
              "  <thead>\n",
              "    <tr style=\"text-align: right;\">\n",
              "      <th></th>\n",
              "      <th>passengerid</th>\n",
              "      <th>survived</th>\n",
              "      <th>pclass</th>\n",
              "      <th>name</th>\n",
              "      <th>gender</th>\n",
              "      <th>age</th>\n",
              "      <th>sibsp</th>\n",
              "      <th>parch</th>\n",
              "      <th>ticket</th>\n",
              "      <th>fare</th>\n",
              "      <th>cabin</th>\n",
              "      <th>embarked</th>\n",
              "    </tr>\n",
              "  </thead>\n",
              "  <tbody>\n",
              "    <tr>\n",
              "      <th>count</th>\n",
              "      <td>916.000000</td>\n",
              "      <td>916.000000</td>\n",
              "      <td>916.000000</td>\n",
              "      <td>916</td>\n",
              "      <td>916</td>\n",
              "      <td>736.000000</td>\n",
              "      <td>916.000000</td>\n",
              "      <td>916.000000</td>\n",
              "      <td>916</td>\n",
              "      <td>916.000000</td>\n",
              "      <td>198</td>\n",
              "      <td>915</td>\n",
              "    </tr>\n",
              "    <tr>\n",
              "      <th>unique</th>\n",
              "      <td>NaN</td>\n",
              "      <td>NaN</td>\n",
              "      <td>NaN</td>\n",
              "      <td>915</td>\n",
              "      <td>2</td>\n",
              "      <td>NaN</td>\n",
              "      <td>NaN</td>\n",
              "      <td>NaN</td>\n",
              "      <td>703</td>\n",
              "      <td>NaN</td>\n",
              "      <td>146</td>\n",
              "      <td>3</td>\n",
              "    </tr>\n",
              "    <tr>\n",
              "      <th>top</th>\n",
              "      <td>NaN</td>\n",
              "      <td>NaN</td>\n",
              "      <td>NaN</td>\n",
              "      <td>Connolly, Miss. Kate</td>\n",
              "      <td>male</td>\n",
              "      <td>NaN</td>\n",
              "      <td>NaN</td>\n",
              "      <td>NaN</td>\n",
              "      <td>CA. 2343</td>\n",
              "      <td>NaN</td>\n",
              "      <td>G6</td>\n",
              "      <td>S</td>\n",
              "    </tr>\n",
              "    <tr>\n",
              "      <th>freq</th>\n",
              "      <td>NaN</td>\n",
              "      <td>NaN</td>\n",
              "      <td>NaN</td>\n",
              "      <td>2</td>\n",
              "      <td>589</td>\n",
              "      <td>NaN</td>\n",
              "      <td>NaN</td>\n",
              "      <td>NaN</td>\n",
              "      <td>7</td>\n",
              "      <td>NaN</td>\n",
              "      <td>4</td>\n",
              "      <td>645</td>\n",
              "    </tr>\n",
              "    <tr>\n",
              "      <th>mean</th>\n",
              "      <td>457.500000</td>\n",
              "      <td>0.377729</td>\n",
              "      <td>2.292576</td>\n",
              "      <td>NaN</td>\n",
              "      <td>NaN</td>\n",
              "      <td>29.698370</td>\n",
              "      <td>0.507642</td>\n",
              "      <td>0.361354</td>\n",
              "      <td>NaN</td>\n",
              "      <td>32.402710</td>\n",
              "      <td>NaN</td>\n",
              "      <td>NaN</td>\n",
              "    </tr>\n",
              "    <tr>\n",
              "      <th>std</th>\n",
              "      <td>264.570721</td>\n",
              "      <td>0.485084</td>\n",
              "      <td>0.838675</td>\n",
              "      <td>NaN</td>\n",
              "      <td>NaN</td>\n",
              "      <td>14.185627</td>\n",
              "      <td>1.044866</td>\n",
              "      <td>0.828054</td>\n",
              "      <td>NaN</td>\n",
              "      <td>50.506411</td>\n",
              "      <td>NaN</td>\n",
              "      <td>NaN</td>\n",
              "    </tr>\n",
              "    <tr>\n",
              "      <th>min</th>\n",
              "      <td>0.000000</td>\n",
              "      <td>0.000000</td>\n",
              "      <td>1.000000</td>\n",
              "      <td>NaN</td>\n",
              "      <td>NaN</td>\n",
              "      <td>0.170000</td>\n",
              "      <td>0.000000</td>\n",
              "      <td>0.000000</td>\n",
              "      <td>NaN</td>\n",
              "      <td>0.000000</td>\n",
              "      <td>NaN</td>\n",
              "      <td>NaN</td>\n",
              "    </tr>\n",
              "    <tr>\n",
              "      <th>25%</th>\n",
              "      <td>228.750000</td>\n",
              "      <td>0.000000</td>\n",
              "      <td>2.000000</td>\n",
              "      <td>NaN</td>\n",
              "      <td>NaN</td>\n",
              "      <td>21.000000</td>\n",
              "      <td>0.000000</td>\n",
              "      <td>0.000000</td>\n",
              "      <td>NaN</td>\n",
              "      <td>7.895800</td>\n",
              "      <td>NaN</td>\n",
              "      <td>NaN</td>\n",
              "    </tr>\n",
              "    <tr>\n",
              "      <th>50%</th>\n",
              "      <td>457.500000</td>\n",
              "      <td>0.000000</td>\n",
              "      <td>3.000000</td>\n",
              "      <td>NaN</td>\n",
              "      <td>NaN</td>\n",
              "      <td>28.000000</td>\n",
              "      <td>0.000000</td>\n",
              "      <td>0.000000</td>\n",
              "      <td>NaN</td>\n",
              "      <td>14.458300</td>\n",
              "      <td>NaN</td>\n",
              "      <td>NaN</td>\n",
              "    </tr>\n",
              "    <tr>\n",
              "      <th>75%</th>\n",
              "      <td>686.250000</td>\n",
              "      <td>1.000000</td>\n",
              "      <td>3.000000</td>\n",
              "      <td>NaN</td>\n",
              "      <td>NaN</td>\n",
              "      <td>38.000000</td>\n",
              "      <td>1.000000</td>\n",
              "      <td>0.000000</td>\n",
              "      <td>NaN</td>\n",
              "      <td>30.017700</td>\n",
              "      <td>NaN</td>\n",
              "      <td>NaN</td>\n",
              "    </tr>\n",
              "    <tr>\n",
              "      <th>max</th>\n",
              "      <td>915.000000</td>\n",
              "      <td>1.000000</td>\n",
              "      <td>3.000000</td>\n",
              "      <td>NaN</td>\n",
              "      <td>NaN</td>\n",
              "      <td>80.000000</td>\n",
              "      <td>8.000000</td>\n",
              "      <td>9.000000</td>\n",
              "      <td>NaN</td>\n",
              "      <td>512.329200</td>\n",
              "      <td>NaN</td>\n",
              "      <td>NaN</td>\n",
              "    </tr>\n",
              "  </tbody>\n",
              "</table>\n",
              "</div>\n",
              "      <button class=\"colab-df-convert\" onclick=\"convertToInteractive('df-c8d8838b-c0c5-4f93-b8bd-61896f054020')\"\n",
              "              title=\"Convert this dataframe to an interactive table.\"\n",
              "              style=\"display:none;\">\n",
              "        \n",
              "  <svg xmlns=\"http://www.w3.org/2000/svg\" height=\"24px\"viewBox=\"0 0 24 24\"\n",
              "       width=\"24px\">\n",
              "    <path d=\"M0 0h24v24H0V0z\" fill=\"none\"/>\n",
              "    <path d=\"M18.56 5.44l.94 2.06.94-2.06 2.06-.94-2.06-.94-.94-2.06-.94 2.06-2.06.94zm-11 1L8.5 8.5l.94-2.06 2.06-.94-2.06-.94L8.5 2.5l-.94 2.06-2.06.94zm10 10l.94 2.06.94-2.06 2.06-.94-2.06-.94-.94-2.06-.94 2.06-2.06.94z\"/><path d=\"M17.41 7.96l-1.37-1.37c-.4-.4-.92-.59-1.43-.59-.52 0-1.04.2-1.43.59L10.3 9.45l-7.72 7.72c-.78.78-.78 2.05 0 2.83L4 21.41c.39.39.9.59 1.41.59.51 0 1.02-.2 1.41-.59l7.78-7.78 2.81-2.81c.8-.78.8-2.07 0-2.86zM5.41 20L4 18.59l7.72-7.72 1.47 1.35L5.41 20z\"/>\n",
              "  </svg>\n",
              "      </button>\n",
              "      \n",
              "  <style>\n",
              "    .colab-df-container {\n",
              "      display:flex;\n",
              "      flex-wrap:wrap;\n",
              "      gap: 12px;\n",
              "    }\n",
              "\n",
              "    .colab-df-convert {\n",
              "      background-color: #E8F0FE;\n",
              "      border: none;\n",
              "      border-radius: 50%;\n",
              "      cursor: pointer;\n",
              "      display: none;\n",
              "      fill: #1967D2;\n",
              "      height: 32px;\n",
              "      padding: 0 0 0 0;\n",
              "      width: 32px;\n",
              "    }\n",
              "\n",
              "    .colab-df-convert:hover {\n",
              "      background-color: #E2EBFA;\n",
              "      box-shadow: 0px 1px 2px rgba(60, 64, 67, 0.3), 0px 1px 3px 1px rgba(60, 64, 67, 0.15);\n",
              "      fill: #174EA6;\n",
              "    }\n",
              "\n",
              "    [theme=dark] .colab-df-convert {\n",
              "      background-color: #3B4455;\n",
              "      fill: #D2E3FC;\n",
              "    }\n",
              "\n",
              "    [theme=dark] .colab-df-convert:hover {\n",
              "      background-color: #434B5C;\n",
              "      box-shadow: 0px 1px 3px 1px rgba(0, 0, 0, 0.15);\n",
              "      filter: drop-shadow(0px 1px 2px rgba(0, 0, 0, 0.3));\n",
              "      fill: #FFFFFF;\n",
              "    }\n",
              "  </style>\n",
              "\n",
              "      <script>\n",
              "        const buttonEl =\n",
              "          document.querySelector('#df-c8d8838b-c0c5-4f93-b8bd-61896f054020 button.colab-df-convert');\n",
              "        buttonEl.style.display =\n",
              "          google.colab.kernel.accessAllowed ? 'block' : 'none';\n",
              "\n",
              "        async function convertToInteractive(key) {\n",
              "          const element = document.querySelector('#df-c8d8838b-c0c5-4f93-b8bd-61896f054020');\n",
              "          const dataTable =\n",
              "            await google.colab.kernel.invokeFunction('convertToInteractive',\n",
              "                                                     [key], {});\n",
              "          if (!dataTable) return;\n",
              "\n",
              "          const docLinkHtml = 'Like what you see? Visit the ' +\n",
              "            '<a target=\"_blank\" href=https://colab.research.google.com/notebooks/data_table.ipynb>data table notebook</a>'\n",
              "            + ' to learn more about interactive tables.';\n",
              "          element.innerHTML = '';\n",
              "          dataTable['output_type'] = 'display_data';\n",
              "          await google.colab.output.renderOutput(dataTable, element);\n",
              "          const docLink = document.createElement('div');\n",
              "          docLink.innerHTML = docLinkHtml;\n",
              "          element.appendChild(docLink);\n",
              "        }\n",
              "      </script>\n",
              "    </div>\n",
              "  </div>\n",
              "  "
            ]
          },
          "metadata": {},
          "execution_count": 733
        }
      ]
    },
    {
      "cell_type": "markdown",
      "source": [
        "## drop_duplicates"
      ],
      "metadata": {
        "id": "PyzU_vRzunjq"
      }
    },
    {
      "cell_type": "code",
      "source": [
        "print(f'before : {ori_train.shape}')\n",
        "ori_train.drop_duplicates(keep = 'first', inplace = True, ignore_index = True)\n",
        "print(f'after : {ori_train.shape}')"
      ],
      "metadata": {
        "colab": {
          "base_uri": "https://localhost:8080/"
        },
        "id": "sXxt5c4Gujtk",
        "outputId": "fa54acbb-9c91-4dab-efde-8b367ba6006a"
      },
      "execution_count": 734,
      "outputs": [
        {
          "output_type": "stream",
          "name": "stdout",
          "text": [
            "before : (916, 12)\n",
            "after : (916, 12)\n"
          ]
        }
      ]
    },
    {
      "cell_type": "markdown",
      "source": [
        "# Train_test_split"
      ],
      "metadata": {
        "id": "u1fMTyMxuDku"
      }
    },
    {
      "cell_type": "code",
      "source": [
        "# 피쳐와 타겟 데이터 분리\n",
        "X = ori_train.drop('survived', axis = 1)\n",
        "y = ori_train['survived'] #우리가 알고자하는 생존 데이터"
      ],
      "metadata": {
        "id": "3hPUYAa2unNJ"
      },
      "execution_count": 735,
      "outputs": []
    },
    {
      "cell_type": "code",
      "source": [
        "# 카테고리화\n",
        "new_survived = pd.Categorical(ori_train[\"survived\"])\n",
        "new_survived = new_survived.rename_categories([\"Died\",\"Survived\"])              \n",
        "\n",
        "new_survived.describe()"
      ],
      "metadata": {
        "colab": {
          "base_uri": "https://localhost:8080/",
          "height": 143
        },
        "id": "cOpjayr2utTJ",
        "outputId": "74b8dc8c-93b6-4294-912d-addc24a3bb10"
      },
      "execution_count": 736,
      "outputs": [
        {
          "output_type": "execute_result",
          "data": {
            "text/plain": [
              "            counts     freqs\n",
              "categories                  \n",
              "Died           570  0.622271\n",
              "Survived       346  0.377729"
            ],
            "text/html": [
              "\n",
              "  <div id=\"df-7af1d3cf-6200-4776-af5f-847b745893fd\">\n",
              "    <div class=\"colab-df-container\">\n",
              "      <div>\n",
              "<style scoped>\n",
              "    .dataframe tbody tr th:only-of-type {\n",
              "        vertical-align: middle;\n",
              "    }\n",
              "\n",
              "    .dataframe tbody tr th {\n",
              "        vertical-align: top;\n",
              "    }\n",
              "\n",
              "    .dataframe thead th {\n",
              "        text-align: right;\n",
              "    }\n",
              "</style>\n",
              "<table border=\"1\" class=\"dataframe\">\n",
              "  <thead>\n",
              "    <tr style=\"text-align: right;\">\n",
              "      <th></th>\n",
              "      <th>counts</th>\n",
              "      <th>freqs</th>\n",
              "    </tr>\n",
              "    <tr>\n",
              "      <th>categories</th>\n",
              "      <th></th>\n",
              "      <th></th>\n",
              "    </tr>\n",
              "  </thead>\n",
              "  <tbody>\n",
              "    <tr>\n",
              "      <th>Died</th>\n",
              "      <td>570</td>\n",
              "      <td>0.622271</td>\n",
              "    </tr>\n",
              "    <tr>\n",
              "      <th>Survived</th>\n",
              "      <td>346</td>\n",
              "      <td>0.377729</td>\n",
              "    </tr>\n",
              "  </tbody>\n",
              "</table>\n",
              "</div>\n",
              "      <button class=\"colab-df-convert\" onclick=\"convertToInteractive('df-7af1d3cf-6200-4776-af5f-847b745893fd')\"\n",
              "              title=\"Convert this dataframe to an interactive table.\"\n",
              "              style=\"display:none;\">\n",
              "        \n",
              "  <svg xmlns=\"http://www.w3.org/2000/svg\" height=\"24px\"viewBox=\"0 0 24 24\"\n",
              "       width=\"24px\">\n",
              "    <path d=\"M0 0h24v24H0V0z\" fill=\"none\"/>\n",
              "    <path d=\"M18.56 5.44l.94 2.06.94-2.06 2.06-.94-2.06-.94-.94-2.06-.94 2.06-2.06.94zm-11 1L8.5 8.5l.94-2.06 2.06-.94-2.06-.94L8.5 2.5l-.94 2.06-2.06.94zm10 10l.94 2.06.94-2.06 2.06-.94-2.06-.94-.94-2.06-.94 2.06-2.06.94z\"/><path d=\"M17.41 7.96l-1.37-1.37c-.4-.4-.92-.59-1.43-.59-.52 0-1.04.2-1.43.59L10.3 9.45l-7.72 7.72c-.78.78-.78 2.05 0 2.83L4 21.41c.39.39.9.59 1.41.59.51 0 1.02-.2 1.41-.59l7.78-7.78 2.81-2.81c.8-.78.8-2.07 0-2.86zM5.41 20L4 18.59l7.72-7.72 1.47 1.35L5.41 20z\"/>\n",
              "  </svg>\n",
              "      </button>\n",
              "      \n",
              "  <style>\n",
              "    .colab-df-container {\n",
              "      display:flex;\n",
              "      flex-wrap:wrap;\n",
              "      gap: 12px;\n",
              "    }\n",
              "\n",
              "    .colab-df-convert {\n",
              "      background-color: #E8F0FE;\n",
              "      border: none;\n",
              "      border-radius: 50%;\n",
              "      cursor: pointer;\n",
              "      display: none;\n",
              "      fill: #1967D2;\n",
              "      height: 32px;\n",
              "      padding: 0 0 0 0;\n",
              "      width: 32px;\n",
              "    }\n",
              "\n",
              "    .colab-df-convert:hover {\n",
              "      background-color: #E2EBFA;\n",
              "      box-shadow: 0px 1px 2px rgba(60, 64, 67, 0.3), 0px 1px 3px 1px rgba(60, 64, 67, 0.15);\n",
              "      fill: #174EA6;\n",
              "    }\n",
              "\n",
              "    [theme=dark] .colab-df-convert {\n",
              "      background-color: #3B4455;\n",
              "      fill: #D2E3FC;\n",
              "    }\n",
              "\n",
              "    [theme=dark] .colab-df-convert:hover {\n",
              "      background-color: #434B5C;\n",
              "      box-shadow: 0px 1px 3px 1px rgba(0, 0, 0, 0.15);\n",
              "      filter: drop-shadow(0px 1px 2px rgba(0, 0, 0, 0.3));\n",
              "      fill: #FFFFFF;\n",
              "    }\n",
              "  </style>\n",
              "\n",
              "      <script>\n",
              "        const buttonEl =\n",
              "          document.querySelector('#df-7af1d3cf-6200-4776-af5f-847b745893fd button.colab-df-convert');\n",
              "        buttonEl.style.display =\n",
              "          google.colab.kernel.accessAllowed ? 'block' : 'none';\n",
              "\n",
              "        async function convertToInteractive(key) {\n",
              "          const element = document.querySelector('#df-7af1d3cf-6200-4776-af5f-847b745893fd');\n",
              "          const dataTable =\n",
              "            await google.colab.kernel.invokeFunction('convertToInteractive',\n",
              "                                                     [key], {});\n",
              "          if (!dataTable) return;\n",
              "\n",
              "          const docLinkHtml = 'Like what you see? Visit the ' +\n",
              "            '<a target=\"_blank\" href=https://colab.research.google.com/notebooks/data_table.ipynb>data table notebook</a>'\n",
              "            + ' to learn more about interactive tables.';\n",
              "          element.innerHTML = '';\n",
              "          dataTable['output_type'] = 'display_data';\n",
              "          await google.colab.output.renderOutput(dataTable, element);\n",
              "          const docLink = document.createElement('div');\n",
              "          docLink.innerHTML = docLinkHtml;\n",
              "          element.appendChild(docLink);\n",
              "        }\n",
              "      </script>\n",
              "    </div>\n",
              "  </div>\n",
              "  "
            ]
          },
          "metadata": {},
          "execution_count": 736
        }
      ]
    },
    {
      "cell_type": "code",
      "source": [
        "from sklearn.model_selection import train_test_split\n",
        "\n",
        "X_tr, X_te, y_tr, y_te = train_test_split(X, y, test_size = 0.3, stratify =y , random_state = SEED)\n",
        "\n",
        "X_tr.shape, X_te.shape, y_tr.shape, y_te.shape"
      ],
      "metadata": {
        "colab": {
          "base_uri": "https://localhost:8080/"
        },
        "id": "Bl87Yd7huuOa",
        "outputId": "c4ecd540-704d-4398-ff41-0b9914a24ce6"
      },
      "execution_count": 737,
      "outputs": [
        {
          "output_type": "execute_result",
          "data": {
            "text/plain": [
              "((641, 11), (275, 11), (641,), (275,))"
            ]
          },
          "metadata": {},
          "execution_count": 737
        }
      ]
    },
    {
      "cell_type": "markdown",
      "source": [
        "# Column Classification"
      ],
      "metadata": {
        "id": "rJvKPDU6uDem"
      }
    },
    {
      "cell_type": "code",
      "source": [
        "continous_cols = ['age', 'sibsp', 'parch', 'fare']\n",
        "category_cols = ['pclass', 'gender', 'embarked']\n",
        "other_cols = ['passengerid', 'name', 'ticket', 'cabin']"
      ],
      "metadata": {
        "id": "pR48aN-7uyJa"
      },
      "execution_count": 738,
      "outputs": []
    },
    {
      "cell_type": "markdown",
      "source": [
        "# ModelV10"
      ],
      "metadata": {
        "id": "c0StZaKTuDZG"
      }
    },
    {
      "cell_type": "markdown",
      "source": [
        "- ModelV9 결과\n",
        "  - public score 86점\n",
        "  - 지속적인 Version Upgrade를 통한 score 상승 필요\n",
        "  - 오타가 있는지 체크확인 필요\n",
        "- LGBMClassifier score\n",
        "  - train : 0.8798751950078003\n",
        "  - test : 0.8545454545454545\n",
        "- feature_importances의 상위 5개(변경 전후)\n",
        "  - 변경 전\n",
        "    - gender_male :\t0.532091\n",
        "    - age_random : \t0.204676\n",
        "    - fare\t: 0.176452\n",
        "    - pclass_3.0 : 0.025995\n",
        "    - sibsp\t: 0.024247\n",
        "  - 피쳐 생성 후\n",
        "    - gender_female\t0.531190\n",
        "    - fare\t0.169875\n",
        "    - age\t0.162931\n",
        "    - age_\t0.031489\n",
        "    - pclass\t0.028754\n",
        "  - 앙상블 후\n",
        "    - age\t597\n",
        "    -\tfare\t436\n",
        "    -\tpclass\t122\n",
        "    -\tgender_female\t100\n",
        "    -\tsibsp\t70\n",
        "  - 교차검증 KFold 이후\n",
        "    - age\t412\n",
        "    - fare\t345\n",
        "    - pclass\t118\n",
        "    - gender_female\t100\n",
        "    - parch\t91\n",
        "  - 교차검증 2차 이후\n",
        "    - age\t512\n",
        "    - fare\t269\n",
        "    - sibsp\t106\n",
        "    - pclass\t102\n",
        "    - gender_female\t100\n",
        "  - V5 HPO 이후\n",
        "    -\tage\t493\n",
        "    - fare\t156\n",
        "    - pclass\t146\n",
        "    - gender_female\t100\n",
        "    - parch\t83\n",
        "  - V6 오타 수정 이후\n",
        "    - age\t177\n",
        "    - fare\t95\n",
        "    - sibsp\t53\n",
        "    - gender_female\t50\n",
        "    - pclass\t45\n",
        "  - V8 SHAP\n",
        "    - gender_female\n",
        "    - gender_pcalss_female_1\n",
        "    - fare\n",
        "    - pclass\n",
        "    - age\n",
        "    - sibsp\n",
        "  - v9 인사이트\n",
        "    - age, age_ , parch, embarked QSC 제거 후 스코어 감소\n",
        "'\n",
        "\n",
        "- 인사이트\n",
        "  - shap를 통한 Feature 중요도 파악 및 선정 재진행\n",
        "  - 가장 상위권에 있는 gender를 위주로 피쳐를 생성하면 학습에 도움이 될 것이다.\n",
        "- 가설\n",
        "  - 유의미한 Feature 찾고 불필요한 것을 제거한다면 Score가 더 오를 것이다."
      ],
      "metadata": {
        "id": "7sFUkYJ-u5ZQ"
      }
    },
    {
      "cell_type": "markdown",
      "source": [
        "## Missing value"
      ],
      "metadata": {
        "id": "3y92H-gavMoX"
      }
    },
    {
      "cell_type": "code",
      "source": [
        "ori_train = pd.read_csv(args.train_csv)\n",
        "ori_test = pd.read_csv(args.test_csv)\n",
        "\n",
        "X = ori_train.drop('survived', axis = 1)\n",
        "y = ori_train['survived'] \n",
        "\n",
        "from sklearn.model_selection import train_test_split\n",
        "\n",
        "X_tr, X_te, y_tr, y_te = train_test_split(X, y, test_size = 0.3, stratify =y , random_state = SEED)\n",
        "\n",
        "X_tr.shape, X_te.shape, y_tr.shape, y_te.shape"
      ],
      "metadata": {
        "colab": {
          "base_uri": "https://localhost:8080/"
        },
        "id": "B3Wz8VDBvQPG",
        "outputId": "db75c8e1-c115-4525-9a7a-22fd3d6dce4a"
      },
      "execution_count": 739,
      "outputs": [
        {
          "output_type": "execute_result",
          "data": {
            "text/plain": [
              "((641, 11), (275, 11), (641,), (275,))"
            ]
          },
          "metadata": {},
          "execution_count": 739
        }
      ]
    },
    {
      "cell_type": "code",
      "source": [
        "train = X_tr.copy() \n",
        "test = X_te.copy()\n",
        "ori_te = ori_test.copy()\n",
        "\n",
        "train.shape, test.shape, ori_te.shape"
      ],
      "metadata": {
        "colab": {
          "base_uri": "https://localhost:8080/"
        },
        "id": "-6dqcPYPvQM2",
        "outputId": "236dbd89-df8d-4d1f-da37-4c732a0033f0"
      },
      "execution_count": 740,
      "outputs": [
        {
          "output_type": "execute_result",
          "data": {
            "text/plain": [
              "((641, 11), (275, 11), (393, 11))"
            ]
          },
          "metadata": {},
          "execution_count": 740
        }
      ]
    },
    {
      "cell_type": "code",
      "source": [
        "train.drop('cabin', axis = 1, inplace=True)\n",
        "test.drop('cabin', axis = 1, inplace=True)\n",
        "ori_te.drop('cabin', axis = 1, inplace=True)\n",
        "\n",
        "train.shape, test.shape, ori_te.shape"
      ],
      "metadata": {
        "colab": {
          "base_uri": "https://localhost:8080/"
        },
        "id": "jh4R6uVhvQKo",
        "outputId": "45a047bc-e66d-41bc-b4bd-7728e130d675"
      },
      "execution_count": 741,
      "outputs": [
        {
          "output_type": "execute_result",
          "data": {
            "text/plain": [
              "((641, 10), (275, 10), (393, 10))"
            ]
          },
          "metadata": {},
          "execution_count": 741
        }
      ]
    },
    {
      "cell_type": "code",
      "source": [
        "from pandas.api.types import is_string_dtype\n",
        "from pandas.api.types import is_numeric_dtype\n",
        "\n",
        "def __get_cols_cleaning(p_pd_list:list) -> list:\n",
        "  cols_cleaning = []\n",
        "  for df in p_pd_list:\n",
        "    # 결측치 컬럼 조회\n",
        "    tmp = df.isnull().sum()\n",
        "    cols_cleaning += list(tmp[df.isnull().sum() > 0].index)\n",
        "\n",
        "  cols_cleaning = list(set(cols_cleaning))\n",
        "  print(f'cols_cleaning: {cols_cleaning}')\n",
        "  return cols_cleaning\n",
        "\n",
        "def add_cols_cleaning(p_train:pd.DataFrame, p_test:pd.DataFrame, p_ori_te:pd.DataFrame) -> None:\n",
        "  pd_list = [p_train, p_test, p_ori_te]\n",
        "  for col in __get_cols_cleaning(pd_list):  # for col in cols_cleaning:\n",
        "    for i, df in enumerate(pd_list, start=1): \n",
        "      \n",
        "      if is_numeric_dtype(df[col]): # 숫자형 결측치 처리\n",
        "        new_col = col+'_cleaning'\n",
        "        df[new_col] = df[col]   \n",
        "        # random sampling\n",
        "        random_sampling = (p_train[col].dropna().sample(df[col].isnull().sum()))\n",
        "        # index 부여\n",
        "        random_sampling.index = df[lambda x: x[col].isnull()].index \n",
        "        # NA imputation\n",
        "        df.loc[df[col].isnull(), new_col] = random_sampling\n",
        "        \n",
        "        # 기존 결측치 컬럼 제거\n",
        "        if i == len(pd_list):\n",
        "          for _df in pd_list:\n",
        "            _df.drop([col], axis=1, inplace=True)\n",
        "      \n",
        "      else: # 범주형 결측치 처리\n",
        "        df[col].fillna(p_train[col].mode().values[0], inplace=True)\n",
        "\n",
        "  print(f'p_train: {p_train.isnull().sum().sum()} / p_test: {p_test.isnull().sum().sum()} / p_ori_te: {p_ori_te.isnull().sum().sum()}')"
      ],
      "metadata": {
        "id": "eXKsq61kvQIO"
      },
      "execution_count": 742,
      "outputs": []
    },
    {
      "cell_type": "code",
      "source": [
        "add_cols_cleaning(train, test, ori_te)"
      ],
      "metadata": {
        "colab": {
          "base_uri": "https://localhost:8080/"
        },
        "id": "INgTo_OSuxwz",
        "outputId": "62222bb9-ed32-4554-b6dd-b04ceeff2e6e"
      },
      "execution_count": 743,
      "outputs": [
        {
          "output_type": "stream",
          "name": "stdout",
          "text": [
            "cols_cleaning: ['embarked', 'fare', 'age']\n",
            "p_train: 0 / p_test: 0 / p_ori_te: 0\n"
          ]
        }
      ]
    },
    {
      "cell_type": "code",
      "source": [
        "cols = ['passengerid', 'pclass', 'name', 'gender', 'sibsp', 'parch', 'ticket',\n",
        "       'embarked', 'fare', 'age']\n",
        "\n",
        "for df in [train, test, ori_te]:\n",
        "  df.columns = cols"
      ],
      "metadata": {
        "id": "3LOr5ie3vWy8"
      },
      "execution_count": 744,
      "outputs": []
    },
    {
      "cell_type": "code",
      "source": [
        "train.shape, test.shape, ori_te.shape"
      ],
      "metadata": {
        "colab": {
          "base_uri": "https://localhost:8080/"
        },
        "id": "4ef2YFtcvWsN",
        "outputId": "2621f827-ea08-4a10-c92b-648b2487043f"
      },
      "execution_count": 745,
      "outputs": [
        {
          "output_type": "execute_result",
          "data": {
            "text/plain": [
              "((641, 10), (275, 10), (393, 10))"
            ]
          },
          "metadata": {},
          "execution_count": 745
        }
      ]
    },
    {
      "cell_type": "code",
      "source": [
        "train.isnull().sum().sum(), test.isnull().sum().sum(), ori_te.isnull().sum().sum()"
      ],
      "metadata": {
        "colab": {
          "base_uri": "https://localhost:8080/"
        },
        "id": "tkL5FbxwvWn2",
        "outputId": "a70f8e2d-6ad3-447d-bd22-6fb445dcbb8f"
      },
      "execution_count": 746,
      "outputs": [
        {
          "output_type": "execute_result",
          "data": {
            "text/plain": [
              "(0, 0, 0)"
            ]
          },
          "metadata": {},
          "execution_count": 746
        }
      ]
    },
    {
      "cell_type": "code",
      "source": [
        "train.corr()"
      ],
      "metadata": {
        "colab": {
          "base_uri": "https://localhost:8080/",
          "height": 237
        },
        "id": "iaLkxcPnvZHl",
        "outputId": "7ada079a-86e3-444a-e3f1-b762c8d5ebd3"
      },
      "execution_count": 747,
      "outputs": [
        {
          "output_type": "execute_result",
          "data": {
            "text/plain": [
              "             passengerid    pclass     sibsp     parch      fare       age\n",
              "passengerid     1.000000  0.041179 -0.011624 -0.054474 -0.048175 -0.036248\n",
              "pclass          0.041179  1.000000  0.077389  0.071752 -0.555652 -0.375460\n",
              "sibsp          -0.011624  0.077389  1.000000  0.399212  0.161138 -0.197633\n",
              "parch          -0.054474  0.071752  0.399212  1.000000  0.189171 -0.181010\n",
              "fare           -0.048175 -0.555652  0.161138  0.189171  1.000000  0.140458\n",
              "age            -0.036248 -0.375460 -0.197633 -0.181010  0.140458  1.000000"
            ],
            "text/html": [
              "\n",
              "  <div id=\"df-3d8c50d5-7157-4576-a93c-35d6de3d0974\">\n",
              "    <div class=\"colab-df-container\">\n",
              "      <div>\n",
              "<style scoped>\n",
              "    .dataframe tbody tr th:only-of-type {\n",
              "        vertical-align: middle;\n",
              "    }\n",
              "\n",
              "    .dataframe tbody tr th {\n",
              "        vertical-align: top;\n",
              "    }\n",
              "\n",
              "    .dataframe thead th {\n",
              "        text-align: right;\n",
              "    }\n",
              "</style>\n",
              "<table border=\"1\" class=\"dataframe\">\n",
              "  <thead>\n",
              "    <tr style=\"text-align: right;\">\n",
              "      <th></th>\n",
              "      <th>passengerid</th>\n",
              "      <th>pclass</th>\n",
              "      <th>sibsp</th>\n",
              "      <th>parch</th>\n",
              "      <th>fare</th>\n",
              "      <th>age</th>\n",
              "    </tr>\n",
              "  </thead>\n",
              "  <tbody>\n",
              "    <tr>\n",
              "      <th>passengerid</th>\n",
              "      <td>1.000000</td>\n",
              "      <td>0.041179</td>\n",
              "      <td>-0.011624</td>\n",
              "      <td>-0.054474</td>\n",
              "      <td>-0.048175</td>\n",
              "      <td>-0.036248</td>\n",
              "    </tr>\n",
              "    <tr>\n",
              "      <th>pclass</th>\n",
              "      <td>0.041179</td>\n",
              "      <td>1.000000</td>\n",
              "      <td>0.077389</td>\n",
              "      <td>0.071752</td>\n",
              "      <td>-0.555652</td>\n",
              "      <td>-0.375460</td>\n",
              "    </tr>\n",
              "    <tr>\n",
              "      <th>sibsp</th>\n",
              "      <td>-0.011624</td>\n",
              "      <td>0.077389</td>\n",
              "      <td>1.000000</td>\n",
              "      <td>0.399212</td>\n",
              "      <td>0.161138</td>\n",
              "      <td>-0.197633</td>\n",
              "    </tr>\n",
              "    <tr>\n",
              "      <th>parch</th>\n",
              "      <td>-0.054474</td>\n",
              "      <td>0.071752</td>\n",
              "      <td>0.399212</td>\n",
              "      <td>1.000000</td>\n",
              "      <td>0.189171</td>\n",
              "      <td>-0.181010</td>\n",
              "    </tr>\n",
              "    <tr>\n",
              "      <th>fare</th>\n",
              "      <td>-0.048175</td>\n",
              "      <td>-0.555652</td>\n",
              "      <td>0.161138</td>\n",
              "      <td>0.189171</td>\n",
              "      <td>1.000000</td>\n",
              "      <td>0.140458</td>\n",
              "    </tr>\n",
              "    <tr>\n",
              "      <th>age</th>\n",
              "      <td>-0.036248</td>\n",
              "      <td>-0.375460</td>\n",
              "      <td>-0.197633</td>\n",
              "      <td>-0.181010</td>\n",
              "      <td>0.140458</td>\n",
              "      <td>1.000000</td>\n",
              "    </tr>\n",
              "  </tbody>\n",
              "</table>\n",
              "</div>\n",
              "      <button class=\"colab-df-convert\" onclick=\"convertToInteractive('df-3d8c50d5-7157-4576-a93c-35d6de3d0974')\"\n",
              "              title=\"Convert this dataframe to an interactive table.\"\n",
              "              style=\"display:none;\">\n",
              "        \n",
              "  <svg xmlns=\"http://www.w3.org/2000/svg\" height=\"24px\"viewBox=\"0 0 24 24\"\n",
              "       width=\"24px\">\n",
              "    <path d=\"M0 0h24v24H0V0z\" fill=\"none\"/>\n",
              "    <path d=\"M18.56 5.44l.94 2.06.94-2.06 2.06-.94-2.06-.94-.94-2.06-.94 2.06-2.06.94zm-11 1L8.5 8.5l.94-2.06 2.06-.94-2.06-.94L8.5 2.5l-.94 2.06-2.06.94zm10 10l.94 2.06.94-2.06 2.06-.94-2.06-.94-.94-2.06-.94 2.06-2.06.94z\"/><path d=\"M17.41 7.96l-1.37-1.37c-.4-.4-.92-.59-1.43-.59-.52 0-1.04.2-1.43.59L10.3 9.45l-7.72 7.72c-.78.78-.78 2.05 0 2.83L4 21.41c.39.39.9.59 1.41.59.51 0 1.02-.2 1.41-.59l7.78-7.78 2.81-2.81c.8-.78.8-2.07 0-2.86zM5.41 20L4 18.59l7.72-7.72 1.47 1.35L5.41 20z\"/>\n",
              "  </svg>\n",
              "      </button>\n",
              "      \n",
              "  <style>\n",
              "    .colab-df-container {\n",
              "      display:flex;\n",
              "      flex-wrap:wrap;\n",
              "      gap: 12px;\n",
              "    }\n",
              "\n",
              "    .colab-df-convert {\n",
              "      background-color: #E8F0FE;\n",
              "      border: none;\n",
              "      border-radius: 50%;\n",
              "      cursor: pointer;\n",
              "      display: none;\n",
              "      fill: #1967D2;\n",
              "      height: 32px;\n",
              "      padding: 0 0 0 0;\n",
              "      width: 32px;\n",
              "    }\n",
              "\n",
              "    .colab-df-convert:hover {\n",
              "      background-color: #E2EBFA;\n",
              "      box-shadow: 0px 1px 2px rgba(60, 64, 67, 0.3), 0px 1px 3px 1px rgba(60, 64, 67, 0.15);\n",
              "      fill: #174EA6;\n",
              "    }\n",
              "\n",
              "    [theme=dark] .colab-df-convert {\n",
              "      background-color: #3B4455;\n",
              "      fill: #D2E3FC;\n",
              "    }\n",
              "\n",
              "    [theme=dark] .colab-df-convert:hover {\n",
              "      background-color: #434B5C;\n",
              "      box-shadow: 0px 1px 3px 1px rgba(0, 0, 0, 0.15);\n",
              "      filter: drop-shadow(0px 1px 2px rgba(0, 0, 0, 0.3));\n",
              "      fill: #FFFFFF;\n",
              "    }\n",
              "  </style>\n",
              "\n",
              "      <script>\n",
              "        const buttonEl =\n",
              "          document.querySelector('#df-3d8c50d5-7157-4576-a93c-35d6de3d0974 button.colab-df-convert');\n",
              "        buttonEl.style.display =\n",
              "          google.colab.kernel.accessAllowed ? 'block' : 'none';\n",
              "\n",
              "        async function convertToInteractive(key) {\n",
              "          const element = document.querySelector('#df-3d8c50d5-7157-4576-a93c-35d6de3d0974');\n",
              "          const dataTable =\n",
              "            await google.colab.kernel.invokeFunction('convertToInteractive',\n",
              "                                                     [key], {});\n",
              "          if (!dataTable) return;\n",
              "\n",
              "          const docLinkHtml = 'Like what you see? Visit the ' +\n",
              "            '<a target=\"_blank\" href=https://colab.research.google.com/notebooks/data_table.ipynb>data table notebook</a>'\n",
              "            + ' to learn more about interactive tables.';\n",
              "          element.innerHTML = '';\n",
              "          dataTable['output_type'] = 'display_data';\n",
              "          await google.colab.output.renderOutput(dataTable, element);\n",
              "          const docLink = document.createElement('div');\n",
              "          docLink.innerHTML = docLinkHtml;\n",
              "          element.appendChild(docLink);\n",
              "        }\n",
              "      </script>\n",
              "    </div>\n",
              "  </div>\n",
              "  "
            ]
          },
          "metadata": {},
          "execution_count": 747
        }
      ]
    },
    {
      "cell_type": "markdown",
      "source": [
        "## Add Feature"
      ],
      "metadata": {
        "id": "ZQeJZoT1uDSY"
      }
    },
    {
      "cell_type": "code",
      "source": [
        "train[\"age_\"] = train[\"age\"].map(lambda x: x // 10)\n",
        "test[\"age_\"] = test[\"age\"].map(lambda x: x // 10)\n",
        "ori_te[\"age_\"] = ori_te[\"age\"].map(lambda x: x // 10)\n",
        "\n",
        "train['age_'].unique()"
      ],
      "metadata": {
        "colab": {
          "base_uri": "https://localhost:8080/"
        },
        "id": "jhXaS4AJvhZ2",
        "outputId": "67a00605-b19c-4525-c197-8a2fb0d8f903"
      },
      "execution_count": 748,
      "outputs": [
        {
          "output_type": "execute_result",
          "data": {
            "text/plain": [
              "array([6., 3., 2., 1., 4., 0., 5., 7., 8.])"
            ]
          },
          "metadata": {},
          "execution_count": 748
        }
      ]
    },
    {
      "cell_type": "code",
      "source": [
        "train['gender_age'] = train.apply(lambda row: row['gender']+'_'+str(row['age_']), axis=1)\n",
        "test['gender_age'] = test.apply(lambda row: row['gender']+'_'+str(row['age_']), axis=1)\n",
        "ori_te['gender_age'] = ori_te.apply(lambda row: row['gender']+'_'+str(row['age_']), axis=1)\n",
        "\n",
        "train['gender_age'].unique()"
      ],
      "metadata": {
        "colab": {
          "base_uri": "https://localhost:8080/"
        },
        "id": "0hHL5JZzvhXn",
        "outputId": "9aa5b717-969b-4c8f-9430-2ec7e7df062b"
      },
      "execution_count": 749,
      "outputs": [
        {
          "output_type": "execute_result",
          "data": {
            "text/plain": [
              "array(['male_6.0', 'female_3.0', 'male_2.0', 'male_1.0', 'male_3.0',\n",
              "       'male_4.0', 'female_4.0', 'female_6.0', 'female_0.0', 'female_2.0',\n",
              "       'male_0.0', 'female_1.0', 'male_5.0', 'female_5.0', 'male_7.0',\n",
              "       'male_8.0', 'female_7.0'], dtype=object)"
            ]
          },
          "metadata": {},
          "execution_count": 749
        }
      ]
    },
    {
      "cell_type": "code",
      "source": [
        "# train['gender_sibsp'] = train.apply(lambda row: row['gender']+'_'+str(row['sibsp']), axis=1)\n",
        "# test['gender_sibsp'] = test.apply(lambda row: row['gender']+'_'+str(row['sibsp']), axis=1)\n",
        "# ori_te['gender_sibsp'] = ori_te.apply(lambda row: row['gender']+'_'+str(row['sibsp']), axis=1)\n",
        "\n",
        "# train['gender_sibsp'].unique()"
      ],
      "metadata": {
        "id": "nix8db8Vv0Gj"
      },
      "execution_count": 750,
      "outputs": []
    },
    {
      "cell_type": "code",
      "source": [
        "train['gender_pclass'] = train.apply(lambda row: row['gender']+'_'+str(row['pclass']), axis=1)\n",
        "test['gender_pclass'] = test.apply(lambda row: row['gender']+'_'+str(row['pclass']), axis=1)\n",
        "ori_te['gender_pclass'] = ori_te.apply(lambda row: row['gender']+'_'+str(row['pclass']), axis=1)\n",
        "\n",
        "train['gender_pclass'].unique()"
      ],
      "metadata": {
        "colab": {
          "base_uri": "https://localhost:8080/"
        },
        "id": "N91UORdRvhVd",
        "outputId": "0b48d038-937b-4b00-ab7b-42a65ea72b6c"
      },
      "execution_count": 751,
      "outputs": [
        {
          "output_type": "execute_result",
          "data": {
            "text/plain": [
              "array(['male_1', 'female_1', 'male_3', 'male_2', 'female_3', 'female_2'],\n",
              "      dtype=object)"
            ]
          },
          "metadata": {},
          "execution_count": 751
        }
      ]
    },
    {
      "cell_type": "code",
      "source": [
        "train['gender_embarked'] = train.apply(lambda row: row['gender']+'_'+str(row['embarked']), axis=1)\n",
        "test['gender_embarked'] = test.apply(lambda row: row['gender']+'_'+str(row['embarked']), axis=1)\n",
        "ori_te['gender_embarked'] = ori_te.apply(lambda row: row['gender']+'_'+str(row['embarked']), axis=1)\n",
        "\n",
        "train['gender_embarked'].unique()"
      ],
      "metadata": {
        "colab": {
          "base_uri": "https://localhost:8080/"
        },
        "id": "mBL23-6-vhSt",
        "outputId": "77729e0f-8c9a-4411-a7ab-2b869ac3c614"
      },
      "execution_count": 752,
      "outputs": [
        {
          "output_type": "execute_result",
          "data": {
            "text/plain": [
              "array(['male_S', 'female_C', 'male_Q', 'female_S', 'male_C', 'female_Q'],\n",
              "      dtype=object)"
            ]
          },
          "metadata": {},
          "execution_count": 752
        }
      ]
    },
    {
      "cell_type": "code",
      "execution_count": 753,
      "metadata": {
        "colab": {
          "base_uri": "https://localhost:8080/"
        },
        "id": "nfYJQ9K3t8o4",
        "outputId": "bb3060ec-0ca5-4105-a856-280ba8eac990"
      },
      "outputs": [
        {
          "output_type": "execute_result",
          "data": {
            "text/plain": [
              "((641, 18), (275, 18), (393, 18))"
            ]
          },
          "metadata": {},
          "execution_count": 753
        }
      ],
      "source": [
        "for data in [train, test, ori_te]:\n",
        "  p1 = data['parch'] == 0\n",
        "  data['parch_solo'] = p1\n",
        "\n",
        "  p2 = data['parch'] == 1\n",
        "  data['parch_couple'] = p2\n",
        "\n",
        "  p3 = data['parch'] == 2 \n",
        "  p4 = data['parch'] == 3\n",
        "  p = p3 | p4\n",
        "  data['parch_family'] = p\n",
        "\n",
        "  p5 = data['parch'] >= 4\n",
        "  data['parch_big'] = p5\n",
        "\n",
        "train.shape, test.shape, ori_te.shape"
      ]
    },
    {
      "cell_type": "markdown",
      "source": [
        "## Scaling"
      ],
      "metadata": {
        "id": "6PkEZM4RwMXQ"
      }
    },
    {
      "cell_type": "code",
      "source": [
        "from sklearn.preprocessing import StandardScaler\n",
        "\n",
        "scaling_cols = ['pclass', 'sibsp', 'parch', 'age_', 'fare', 'age']\n",
        "scaler = StandardScaler()\n",
        "scaled_dfs = []\n",
        "\n",
        "for i, df in enumerate([train, test, ori_te]):\n",
        "  if not i:\n",
        "    _scaled = scaler.fit_transform(df[scaling_cols])\n",
        "  else:\n",
        "    _scaled = scaler.transform(df[scaling_cols])\n",
        "\n",
        "  _scaled_df = pd.DataFrame(\n",
        "    _scaled, \n",
        "    columns = scaling_cols\n",
        "  )\n",
        "\n",
        "  not_scaling_cols = list(set(df.columns) - set(scaling_cols))\n",
        "\n",
        "  scaled_dfs.append(\n",
        "    pd.concat(\n",
        "      [df[not_scaling_cols].reset_index(drop=True), _scaled_df.reset_index(drop=True)]\n",
        "      , axis=1\n",
        "    ).reset_index(drop=True)\n",
        "  )\n",
        "\n",
        "train = scaled_dfs[0]\n",
        "test = scaled_dfs[1]\n",
        "ori_te = scaled_dfs[2]\n",
        "\n",
        "print(f'{train.isnull().sum().sum()} / {test.isnull().sum().sum()} / {ori_te.isnull().sum().sum()}')\n",
        "train.shape, test.shape, ori_te.shape"
      ],
      "metadata": {
        "colab": {
          "base_uri": "https://localhost:8080/"
        },
        "id": "GGVlwziRvq0-",
        "outputId": "679b8887-d6a3-4a7e-cbd0-d807cb6479dd"
      },
      "execution_count": 754,
      "outputs": [
        {
          "output_type": "stream",
          "name": "stdout",
          "text": [
            "0 / 0 / 0\n"
          ]
        },
        {
          "output_type": "execute_result",
          "data": {
            "text/plain": [
              "((641, 18), (275, 18), (393, 18))"
            ]
          },
          "metadata": {},
          "execution_count": 754
        }
      ]
    },
    {
      "cell_type": "code",
      "source": [
        "train.head()"
      ],
      "metadata": {
        "colab": {
          "base_uri": "https://localhost:8080/",
          "height": 461
        },
        "id": "QbfX8W0xwSkM",
        "outputId": "de98cda2-c117-4c80-e30c-a097f688513c"
      },
      "execution_count": 755,
      "outputs": [
        {
          "output_type": "execute_result",
          "data": {
            "text/plain": [
              "        ticket gender_embarked  gender_age gender_pclass  parch_family  \\\n",
              "0       113028          male_S    male_6.0        male_1         False   \n",
              "1     PC 17760        female_C  female_3.0      female_1         False   \n",
              "2  SC/A4 23568          male_S    male_2.0        male_3         False   \n",
              "3       315151          male_S    male_2.0        male_3         False   \n",
              "4       330971          male_Q    male_1.0        male_3         False   \n",
              "\n",
              "  embarked  parch_big  gender  passengerid  parch_couple  \\\n",
              "0        S      False    male          539         False   \n",
              "1        C      False  female          339         False   \n",
              "2        S      False    male          505         False   \n",
              "3        S      False    male          492         False   \n",
              "4        Q      False    male          897         False   \n",
              "\n",
              "                       name  parch_solo    pclass     sibsp     parch  \\\n",
              "0        Klaber, Mr. Herman        True -1.519560 -0.496392 -0.437574   \n",
              "1  Young, Miss. Marie Grice        True -1.519560 -0.496392 -0.437574   \n",
              "2          Davies, Mr. Evan        True  0.870717 -0.496392 -0.437574   \n",
              "3         Kink, Mr. Vincenz        True  0.870717  1.517451 -0.437574   \n",
              "4      Linehan, Mr. Michael        True  0.870717 -0.496392 -0.437574   \n",
              "\n",
              "       age_      fare       age  \n",
              "0  2.287204 -0.114641  2.127661  \n",
              "1  0.292513  2.204701  0.414922  \n",
              "2 -0.372384 -0.507990 -0.544212  \n",
              "3 -0.372384 -0.494967 -0.270173  \n",
              "4 -1.037281 -0.511622 -0.783995  "
            ],
            "text/html": [
              "\n",
              "  <div id=\"df-78c7fb23-e4f4-4950-ac6e-74dcf0da858a\">\n",
              "    <div class=\"colab-df-container\">\n",
              "      <div>\n",
              "<style scoped>\n",
              "    .dataframe tbody tr th:only-of-type {\n",
              "        vertical-align: middle;\n",
              "    }\n",
              "\n",
              "    .dataframe tbody tr th {\n",
              "        vertical-align: top;\n",
              "    }\n",
              "\n",
              "    .dataframe thead th {\n",
              "        text-align: right;\n",
              "    }\n",
              "</style>\n",
              "<table border=\"1\" class=\"dataframe\">\n",
              "  <thead>\n",
              "    <tr style=\"text-align: right;\">\n",
              "      <th></th>\n",
              "      <th>ticket</th>\n",
              "      <th>gender_embarked</th>\n",
              "      <th>gender_age</th>\n",
              "      <th>gender_pclass</th>\n",
              "      <th>parch_family</th>\n",
              "      <th>embarked</th>\n",
              "      <th>parch_big</th>\n",
              "      <th>gender</th>\n",
              "      <th>passengerid</th>\n",
              "      <th>parch_couple</th>\n",
              "      <th>name</th>\n",
              "      <th>parch_solo</th>\n",
              "      <th>pclass</th>\n",
              "      <th>sibsp</th>\n",
              "      <th>parch</th>\n",
              "      <th>age_</th>\n",
              "      <th>fare</th>\n",
              "      <th>age</th>\n",
              "    </tr>\n",
              "  </thead>\n",
              "  <tbody>\n",
              "    <tr>\n",
              "      <th>0</th>\n",
              "      <td>113028</td>\n",
              "      <td>male_S</td>\n",
              "      <td>male_6.0</td>\n",
              "      <td>male_1</td>\n",
              "      <td>False</td>\n",
              "      <td>S</td>\n",
              "      <td>False</td>\n",
              "      <td>male</td>\n",
              "      <td>539</td>\n",
              "      <td>False</td>\n",
              "      <td>Klaber, Mr. Herman</td>\n",
              "      <td>True</td>\n",
              "      <td>-1.519560</td>\n",
              "      <td>-0.496392</td>\n",
              "      <td>-0.437574</td>\n",
              "      <td>2.287204</td>\n",
              "      <td>-0.114641</td>\n",
              "      <td>2.127661</td>\n",
              "    </tr>\n",
              "    <tr>\n",
              "      <th>1</th>\n",
              "      <td>PC 17760</td>\n",
              "      <td>female_C</td>\n",
              "      <td>female_3.0</td>\n",
              "      <td>female_1</td>\n",
              "      <td>False</td>\n",
              "      <td>C</td>\n",
              "      <td>False</td>\n",
              "      <td>female</td>\n",
              "      <td>339</td>\n",
              "      <td>False</td>\n",
              "      <td>Young, Miss. Marie Grice</td>\n",
              "      <td>True</td>\n",
              "      <td>-1.519560</td>\n",
              "      <td>-0.496392</td>\n",
              "      <td>-0.437574</td>\n",
              "      <td>0.292513</td>\n",
              "      <td>2.204701</td>\n",
              "      <td>0.414922</td>\n",
              "    </tr>\n",
              "    <tr>\n",
              "      <th>2</th>\n",
              "      <td>SC/A4 23568</td>\n",
              "      <td>male_S</td>\n",
              "      <td>male_2.0</td>\n",
              "      <td>male_3</td>\n",
              "      <td>False</td>\n",
              "      <td>S</td>\n",
              "      <td>False</td>\n",
              "      <td>male</td>\n",
              "      <td>505</td>\n",
              "      <td>False</td>\n",
              "      <td>Davies, Mr. Evan</td>\n",
              "      <td>True</td>\n",
              "      <td>0.870717</td>\n",
              "      <td>-0.496392</td>\n",
              "      <td>-0.437574</td>\n",
              "      <td>-0.372384</td>\n",
              "      <td>-0.507990</td>\n",
              "      <td>-0.544212</td>\n",
              "    </tr>\n",
              "    <tr>\n",
              "      <th>3</th>\n",
              "      <td>315151</td>\n",
              "      <td>male_S</td>\n",
              "      <td>male_2.0</td>\n",
              "      <td>male_3</td>\n",
              "      <td>False</td>\n",
              "      <td>S</td>\n",
              "      <td>False</td>\n",
              "      <td>male</td>\n",
              "      <td>492</td>\n",
              "      <td>False</td>\n",
              "      <td>Kink, Mr. Vincenz</td>\n",
              "      <td>True</td>\n",
              "      <td>0.870717</td>\n",
              "      <td>1.517451</td>\n",
              "      <td>-0.437574</td>\n",
              "      <td>-0.372384</td>\n",
              "      <td>-0.494967</td>\n",
              "      <td>-0.270173</td>\n",
              "    </tr>\n",
              "    <tr>\n",
              "      <th>4</th>\n",
              "      <td>330971</td>\n",
              "      <td>male_Q</td>\n",
              "      <td>male_1.0</td>\n",
              "      <td>male_3</td>\n",
              "      <td>False</td>\n",
              "      <td>Q</td>\n",
              "      <td>False</td>\n",
              "      <td>male</td>\n",
              "      <td>897</td>\n",
              "      <td>False</td>\n",
              "      <td>Linehan, Mr. Michael</td>\n",
              "      <td>True</td>\n",
              "      <td>0.870717</td>\n",
              "      <td>-0.496392</td>\n",
              "      <td>-0.437574</td>\n",
              "      <td>-1.037281</td>\n",
              "      <td>-0.511622</td>\n",
              "      <td>-0.783995</td>\n",
              "    </tr>\n",
              "  </tbody>\n",
              "</table>\n",
              "</div>\n",
              "      <button class=\"colab-df-convert\" onclick=\"convertToInteractive('df-78c7fb23-e4f4-4950-ac6e-74dcf0da858a')\"\n",
              "              title=\"Convert this dataframe to an interactive table.\"\n",
              "              style=\"display:none;\">\n",
              "        \n",
              "  <svg xmlns=\"http://www.w3.org/2000/svg\" height=\"24px\"viewBox=\"0 0 24 24\"\n",
              "       width=\"24px\">\n",
              "    <path d=\"M0 0h24v24H0V0z\" fill=\"none\"/>\n",
              "    <path d=\"M18.56 5.44l.94 2.06.94-2.06 2.06-.94-2.06-.94-.94-2.06-.94 2.06-2.06.94zm-11 1L8.5 8.5l.94-2.06 2.06-.94-2.06-.94L8.5 2.5l-.94 2.06-2.06.94zm10 10l.94 2.06.94-2.06 2.06-.94-2.06-.94-.94-2.06-.94 2.06-2.06.94z\"/><path d=\"M17.41 7.96l-1.37-1.37c-.4-.4-.92-.59-1.43-.59-.52 0-1.04.2-1.43.59L10.3 9.45l-7.72 7.72c-.78.78-.78 2.05 0 2.83L4 21.41c.39.39.9.59 1.41.59.51 0 1.02-.2 1.41-.59l7.78-7.78 2.81-2.81c.8-.78.8-2.07 0-2.86zM5.41 20L4 18.59l7.72-7.72 1.47 1.35L5.41 20z\"/>\n",
              "  </svg>\n",
              "      </button>\n",
              "      \n",
              "  <style>\n",
              "    .colab-df-container {\n",
              "      display:flex;\n",
              "      flex-wrap:wrap;\n",
              "      gap: 12px;\n",
              "    }\n",
              "\n",
              "    .colab-df-convert {\n",
              "      background-color: #E8F0FE;\n",
              "      border: none;\n",
              "      border-radius: 50%;\n",
              "      cursor: pointer;\n",
              "      display: none;\n",
              "      fill: #1967D2;\n",
              "      height: 32px;\n",
              "      padding: 0 0 0 0;\n",
              "      width: 32px;\n",
              "    }\n",
              "\n",
              "    .colab-df-convert:hover {\n",
              "      background-color: #E2EBFA;\n",
              "      box-shadow: 0px 1px 2px rgba(60, 64, 67, 0.3), 0px 1px 3px 1px rgba(60, 64, 67, 0.15);\n",
              "      fill: #174EA6;\n",
              "    }\n",
              "\n",
              "    [theme=dark] .colab-df-convert {\n",
              "      background-color: #3B4455;\n",
              "      fill: #D2E3FC;\n",
              "    }\n",
              "\n",
              "    [theme=dark] .colab-df-convert:hover {\n",
              "      background-color: #434B5C;\n",
              "      box-shadow: 0px 1px 3px 1px rgba(0, 0, 0, 0.15);\n",
              "      filter: drop-shadow(0px 1px 2px rgba(0, 0, 0, 0.3));\n",
              "      fill: #FFFFFF;\n",
              "    }\n",
              "  </style>\n",
              "\n",
              "      <script>\n",
              "        const buttonEl =\n",
              "          document.querySelector('#df-78c7fb23-e4f4-4950-ac6e-74dcf0da858a button.colab-df-convert');\n",
              "        buttonEl.style.display =\n",
              "          google.colab.kernel.accessAllowed ? 'block' : 'none';\n",
              "\n",
              "        async function convertToInteractive(key) {\n",
              "          const element = document.querySelector('#df-78c7fb23-e4f4-4950-ac6e-74dcf0da858a');\n",
              "          const dataTable =\n",
              "            await google.colab.kernel.invokeFunction('convertToInteractive',\n",
              "                                                     [key], {});\n",
              "          if (!dataTable) return;\n",
              "\n",
              "          const docLinkHtml = 'Like what you see? Visit the ' +\n",
              "            '<a target=\"_blank\" href=https://colab.research.google.com/notebooks/data_table.ipynb>data table notebook</a>'\n",
              "            + ' to learn more about interactive tables.';\n",
              "          element.innerHTML = '';\n",
              "          dataTable['output_type'] = 'display_data';\n",
              "          await google.colab.output.renderOutput(dataTable, element);\n",
              "          const docLink = document.createElement('div');\n",
              "          docLink.innerHTML = docLinkHtml;\n",
              "          element.appendChild(docLink);\n",
              "        }\n",
              "      </script>\n",
              "    </div>\n",
              "  </div>\n",
              "  "
            ]
          },
          "metadata": {},
          "execution_count": 755
        }
      ]
    },
    {
      "cell_type": "markdown",
      "source": [
        "## Encoding"
      ],
      "metadata": {
        "id": "kqlh-1W5wl4-"
      }
    },
    {
      "cell_type": "code",
      "source": [
        "from sklearn.preprocessing import OneHotEncoder\n",
        "\n",
        "enc_cols = ['gender', 'embarked', 'gender_pclass', 'gender_embarked','gender_age']\n",
        "print(f'len_enc_cols: {len(enc_cols)}')\n",
        "encoder = OneHotEncoder() \n",
        "enc_dfs = []\n",
        "\n",
        "for i, df in enumerate([train, test, ori_te]):\n",
        "  if not i:\n",
        "    _encoded = encoder.fit_transform(df[enc_cols])\n",
        "  else:\n",
        "    _encoded = encoder.transform(df[enc_cols])\n",
        "\n",
        "  _encoded_df = pd.DataFrame(\n",
        "    _encoded.toarray(), \n",
        "    columns = encoder.get_feature_names_out()\n",
        "  )\n",
        "\n",
        "  not_enc_cols = list(set(df.columns) - set(enc_cols))\n",
        "  enc_dfs.append(\n",
        "    pd.concat(\n",
        "      [df[not_enc_cols].reset_index(drop=True), _encoded_df.reset_index(drop=True)]\n",
        "      , axis=1\n",
        "    ).reset_index(drop=True)\n",
        "  )\n",
        "\n",
        "train = enc_dfs[0]\n",
        "test = enc_dfs[1]\n",
        "ori_te = enc_dfs[2]\n",
        "\n",
        "print(f'{train.isnull().sum().sum()} / {test.isnull().sum().sum()} / {ori_te.isnull().sum().sum()}')\n",
        "train.shape, test.shape, ori_te.shape"
      ],
      "metadata": {
        "colab": {
          "base_uri": "https://localhost:8080/"
        },
        "id": "8T7phL5CwW2j",
        "outputId": "59786f11-a1a0-43c8-f825-6d4992d9113c"
      },
      "execution_count": 756,
      "outputs": [
        {
          "output_type": "stream",
          "name": "stdout",
          "text": [
            "len_enc_cols: 5\n",
            "0 / 0 / 0\n"
          ]
        },
        {
          "output_type": "execute_result",
          "data": {
            "text/plain": [
              "((641, 47), (275, 47), (393, 47))"
            ]
          },
          "metadata": {},
          "execution_count": 756
        }
      ]
    },
    {
      "cell_type": "markdown",
      "source": [
        "## Modeling"
      ],
      "metadata": {
        "id": "JpJGL3Alw5iU"
      }
    },
    {
      "cell_type": "code",
      "source": [
        "train.columns"
      ],
      "metadata": {
        "colab": {
          "base_uri": "https://localhost:8080/"
        },
        "id": "MgX6qJHVxB8S",
        "outputId": "4c376897-2cfb-4b1d-f01a-bf2cd2975e98"
      },
      "execution_count": 757,
      "outputs": [
        {
          "output_type": "execute_result",
          "data": {
            "text/plain": [
              "Index(['ticket', 'pclass', 'parch_family', 'age_', 'parch_big', 'age',\n",
              "       'passengerid', 'parch', 'parch_couple', 'name', 'fare', 'parch_solo',\n",
              "       'sibsp', 'gender_female', 'gender_male', 'embarked_C', 'embarked_Q',\n",
              "       'embarked_S', 'gender_pclass_female_1', 'gender_pclass_female_2',\n",
              "       'gender_pclass_female_3', 'gender_pclass_male_1',\n",
              "       'gender_pclass_male_2', 'gender_pclass_male_3',\n",
              "       'gender_embarked_female_C', 'gender_embarked_female_Q',\n",
              "       'gender_embarked_female_S', 'gender_embarked_male_C',\n",
              "       'gender_embarked_male_Q', 'gender_embarked_male_S',\n",
              "       'gender_age_female_0.0', 'gender_age_female_1.0',\n",
              "       'gender_age_female_2.0', 'gender_age_female_3.0',\n",
              "       'gender_age_female_4.0', 'gender_age_female_5.0',\n",
              "       'gender_age_female_6.0', 'gender_age_female_7.0', 'gender_age_male_0.0',\n",
              "       'gender_age_male_1.0', 'gender_age_male_2.0', 'gender_age_male_3.0',\n",
              "       'gender_age_male_4.0', 'gender_age_male_5.0', 'gender_age_male_6.0',\n",
              "       'gender_age_male_7.0', 'gender_age_male_8.0'],\n",
              "      dtype='object')"
            ]
          },
          "metadata": {},
          "execution_count": 757
        }
      ]
    },
    {
      "cell_type": "code",
      "source": [
        "# cols = ['pclass', 'parch_family', 'age_', 'parch_big', 'age',\n",
        "#        'passengerid', 'parch', 'parch_couple', 'fare', 'parch_solo',\n",
        "#        'sibsp', 'gender_female', 'gender_male', 'embarked_C', 'embarked_Q',\n",
        "#        'embarked_S', 'gender_pclass_female_1', 'gender_pclass_female_2',\n",
        "#        'gender_pclass_female_3', 'gender_pclass_male_1',\n",
        "#        'gender_pclass_male_2', 'gender_pclass_male_3',\n",
        "#        'gender_embarked_female_C', 'gender_embarked_female_Q',\n",
        "#        'gender_embarked_female_S', 'gender_embarked_male_C',\n",
        "#        'gender_embarked_male_Q', 'gender_embarked_male_S',\n",
        "#        'gender_age_female_0.0', 'gender_age_female_1.0',\n",
        "#        'gender_age_female_2.0', 'gender_age_female_3.0',\n",
        "#        'gender_age_female_4.0', 'gender_age_female_5.0',\n",
        "#        'gender_age_female_6.0', 'gender_age_female_7.0', 'gender_age_male_0.0',\n",
        "#        'gender_age_male_1.0', 'gender_age_male_2.0', 'gender_age_male_3.0',\n",
        "#        'gender_age_male_4.0', 'gender_age_male_5.0', 'gender_age_male_6.0',\n",
        "#        'gender_age_male_7.0', 'gender_age_male_8.0']\n",
        "\n",
        "# X_tr = train[cols]\n",
        "# X_te = test[cols]\n",
        "# ori_te = ori_te[cols]\n",
        "\n",
        "# X_tr.shape, X_te.shape, ori_te.shape"
      ],
      "metadata": {
        "id": "Q_1e1qOPwwQA"
      },
      "execution_count": 758,
      "outputs": []
    },
    {
      "cell_type": "code",
      "source": [
        "# cols = ['pclass', 'age_', 'age', 'parch', 'fare',\n",
        "#        'sibsp', 'gender_female', 'gender_male', 'embarked_C', 'embarked_Q',\n",
        "#        'embarked_S', 'gender_pclass_female_1', 'gender_pclass_female_2',\n",
        "#        'gender_pclass_female_3', 'gender_pclass_male_1',\n",
        "#        'gender_pclass_male_2', 'gender_pclass_male_3',\n",
        "#        'gender_embarked_female_C', 'gender_embarked_female_Q',\n",
        "#        'gender_embarked_female_S', 'gender_embarked_male_C',\n",
        "#        'gender_embarked_male_Q', 'gender_embarked_male_S',\n",
        "#        'gender_age_female_0.0', 'gender_age_female_1.0',\n",
        "#        'gender_age_female_2.0', 'gender_age_female_3.0',\n",
        "#        'gender_age_female_4.0', 'gender_age_female_5.0',\n",
        "#        'gender_age_female_6.0', 'gender_age_female_7.0', 'gender_age_male_0.0',\n",
        "#        'gender_age_male_1.0', 'gender_age_male_2.0', 'gender_age_male_3.0',\n",
        "#        'gender_age_male_4.0', 'gender_age_male_5.0', 'gender_age_male_6.0',\n",
        "#        'gender_age_male_7.0', 'gender_age_male_8.0']\n",
        "\n",
        "# X_tr = train[cols]\n",
        "# X_te = test[cols]\n",
        "# ori_te = ori_te[cols]\n",
        "\n",
        "# X_tr.shape, X_te.shape, ori_te.shape"
      ],
      "metadata": {
        "id": "4PhT2frovR3e"
      },
      "execution_count": 759,
      "outputs": []
    },
    {
      "cell_type": "code",
      "source": [
        "cols = ['pclass', 'age', 'fare', 'gender_female', 'gender_male', 'embarked_C', 'embarked_Q',\n",
        "       'embarked_S', 'gender_pclass_female_1', 'gender_pclass_female_2',\n",
        "       'gender_pclass_female_3', 'gender_pclass_male_1',\n",
        "       'gender_pclass_male_2', 'gender_pclass_male_3',\n",
        "       'gender_embarked_female_C', 'gender_embarked_female_Q',\n",
        "       'gender_embarked_female_S', 'gender_embarked_male_C',\n",
        "       'gender_embarked_male_Q', 'gender_embarked_male_S',\n",
        "       'gender_age_female_0.0', 'gender_age_female_1.0',\n",
        "       'gender_age_female_2.0', 'gender_age_female_3.0',\n",
        "       'gender_age_female_4.0', 'gender_age_female_5.0',\n",
        "       'gender_age_female_6.0', 'gender_age_female_7.0', 'gender_age_male_0.0',\n",
        "       'gender_age_male_1.0', 'gender_age_male_2.0', 'gender_age_male_3.0',\n",
        "       'gender_age_male_4.0', 'gender_age_male_5.0', 'gender_age_male_6.0',\n",
        "       'gender_age_male_7.0', 'gender_age_male_8.0']\n",
        "\n",
        "X_tr = train[cols]\n",
        "X_te = test[cols]\n",
        "ori_te = ori_te[cols]\n",
        "\n",
        "X_tr.shape, X_te.shape, ori_te.shape"
      ],
      "metadata": {
        "colab": {
          "base_uri": "https://localhost:8080/"
        },
        "id": "OSC5D8PPxb5g",
        "outputId": "c02ec40d-addd-4e11-d082-af43696b9748"
      },
      "execution_count": 760,
      "outputs": [
        {
          "output_type": "execute_result",
          "data": {
            "text/plain": [
              "((641, 37), (275, 37), (393, 37))"
            ]
          },
          "metadata": {},
          "execution_count": 760
        }
      ]
    },
    {
      "cell_type": "code",
      "source": [
        "X_tr.shape, X_te.shape, y_te.shape, y_tr.shape"
      ],
      "metadata": {
        "colab": {
          "base_uri": "https://localhost:8080/"
        },
        "id": "JPD6uphIxcrc",
        "outputId": "5a06256d-bc38-40c0-c138-0d3cbf535b48"
      },
      "execution_count": 761,
      "outputs": [
        {
          "output_type": "execute_result",
          "data": {
            "text/plain": [
              "((641, 37), (275, 37), (275,), (641,))"
            ]
          },
          "metadata": {},
          "execution_count": 761
        }
      ]
    },
    {
      "cell_type": "code",
      "source": [
        "X_tr.reset_index(drop=True, inplace=True)\n",
        "X_te.reset_index(drop=True, inplace=True)\n",
        "y_te.reset_index(drop=True, inplace=True)\n",
        "y_tr.reset_index(drop=True, inplace=True)"
      ],
      "metadata": {
        "id": "xXezFCsYxckq"
      },
      "execution_count": 762,
      "outputs": []
    },
    {
      "cell_type": "markdown",
      "source": [
        "> HPO"
      ],
      "metadata": {
        "id": "o6qDsLruxfmK"
      }
    },
    {
      "cell_type": "code",
      "source": [
        "!pip install optuna"
      ],
      "metadata": {
        "colab": {
          "base_uri": "https://localhost:8080/"
        },
        "id": "PBMDMQjWxiRS",
        "outputId": "5d7c9ec9-63d8-4e7e-8688-cbebd04cb974"
      },
      "execution_count": 763,
      "outputs": [
        {
          "output_type": "stream",
          "name": "stdout",
          "text": [
            "Looking in indexes: https://pypi.org/simple, https://us-python.pkg.dev/colab-wheels/public/simple/\n",
            "Requirement already satisfied: optuna in /usr/local/lib/python3.8/dist-packages (3.1.0)\n",
            "Requirement already satisfied: numpy in /usr/local/lib/python3.8/dist-packages (from optuna) (1.22.4)\n",
            "Requirement already satisfied: tqdm in /usr/local/lib/python3.8/dist-packages (from optuna) (4.64.1)\n",
            "Requirement already satisfied: PyYAML in /usr/local/lib/python3.8/dist-packages (from optuna) (6.0)\n",
            "Requirement already satisfied: packaging>=20.0 in /usr/local/lib/python3.8/dist-packages (from optuna) (23.0)\n",
            "Requirement already satisfied: colorlog in /usr/local/lib/python3.8/dist-packages (from optuna) (6.7.0)\n",
            "Requirement already satisfied: cmaes>=0.9.1 in /usr/local/lib/python3.8/dist-packages (from optuna) (0.9.1)\n",
            "Requirement already satisfied: alembic>=1.5.0 in /usr/local/lib/python3.8/dist-packages (from optuna) (1.9.4)\n",
            "Requirement already satisfied: sqlalchemy>=1.3.0 in /usr/local/lib/python3.8/dist-packages (from optuna) (1.4.46)\n",
            "Requirement already satisfied: importlib-metadata in /usr/local/lib/python3.8/dist-packages (from alembic>=1.5.0->optuna) (6.0.0)\n",
            "Requirement already satisfied: Mako in /usr/local/lib/python3.8/dist-packages (from alembic>=1.5.0->optuna) (1.2.4)\n",
            "Requirement already satisfied: importlib-resources in /usr/local/lib/python3.8/dist-packages (from alembic>=1.5.0->optuna) (5.12.0)\n",
            "Requirement already satisfied: greenlet!=0.4.17 in /usr/local/lib/python3.8/dist-packages (from sqlalchemy>=1.3.0->optuna) (2.0.2)\n",
            "Requirement already satisfied: zipp>=0.5 in /usr/local/lib/python3.8/dist-packages (from importlib-metadata->alembic>=1.5.0->optuna) (3.15.0)\n",
            "Requirement already satisfied: MarkupSafe>=0.9.2 in /usr/local/lib/python3.8/dist-packages (from Mako->alembic>=1.5.0->optuna) (2.1.2)\n"
          ]
        }
      ]
    },
    {
      "cell_type": "code",
      "source": [
        "import optuna\n",
        "from sklearn.model_selection import cross_val_score\n",
        "from optuna.samplers import TPESampler\n",
        "optuna.logging.disable_default_handler()\n",
        "\n",
        "from sklearn import svm\n",
        "from sklearn.model_selection import StratifiedKFold\n",
        "from sklearn.metrics import roc_curve, auc\n",
        "\n",
        "from lightgbm import LGBMClassifier, plot_importance"
      ],
      "metadata": {
        "id": "8wCNE9Cixi2y"
      },
      "execution_count": 764,
      "outputs": []
    },
    {
      "cell_type": "code",
      "source": [
        "class Objective:\n",
        "    def __init__(self, x_train, y_train, seed):\n",
        "        self.x_train = x_train\n",
        "        self.y_train = y_train\n",
        "        self.seed = seed\n",
        "        num_folds=5\n",
        "        self.cv = StratifiedKFold(n_splits=num_folds, shuffle=True, random_state=self.seed)\n",
        "\n",
        "    def __call__(self, trial):\n",
        "        hp = {\n",
        "            \"max_depth\" : trial.suggest_int(\"max_depth\", 2, 20),\n",
        "            \"min_samples_split\" : trial.suggest_int(\"min_samples_split\", 2, 5),\n",
        "            \"criterion\" : trial.suggest_categorical(\"criterion\", [\"gini\", \"entropy\"]),\n",
        "            \"max_leaf_nodes\" : trial.suggest_int(\"max_leaf_nodes\", 5, 10),\n",
        "            \"n_estimators\" : trial.suggest_int(\"n_estimators\", 10, 1000, 50),\n",
        "            \"learning_rate\" : trial.suggest_float(\"learning_rate\", 0.01, 0.1)\n",
        "        }\n",
        "        model = LGBMClassifier(random_state=self.seed, **hp)\n",
        "        scores = cross_val_score(model, self.x_train, self.y_train, cv=self.cv, scoring=\"roc_auc\")\n",
        "        return np.mean(scores)"
      ],
      "metadata": {
        "id": "qbGcXGthxjrp"
      },
      "execution_count": 765,
      "outputs": []
    },
    {
      "cell_type": "code",
      "source": [
        "sampler = TPESampler(seed=SEED)\n",
        "\n",
        "study = optuna.create_study(\n",
        "    direction = \"maximize\",\n",
        "    sampler = sampler\n",
        ")\n",
        "objective = Objective(X_tr, y_tr, SEED)\n",
        "study.optimize(objective, n_trials=100)\n",
        "\n",
        "print(\"Best Score:\", study.best_value)\n",
        "print(\"Best hp\", study.best_params)"
      ],
      "metadata": {
        "colab": {
          "base_uri": "https://localhost:8080/"
        },
        "id": "jnlNd5H5xlB6",
        "outputId": "c1ce8459-9855-4bf5-cb85-d84f783c5051"
      },
      "execution_count": 766,
      "outputs": [
        {
          "output_type": "stream",
          "name": "stdout",
          "text": [
            "Best Score: 0.8845080271032464\n",
            "Best hp {'max_depth': 2, 'min_samples_split': 5, 'criterion': 'entropy', 'max_leaf_nodes': 6, 'n_estimators': 860, 'learning_rate': 0.05344703319133936}\n"
          ]
        }
      ]
    },
    {
      "cell_type": "code",
      "source": [
        "# 모델 정의\n",
        "modelV10 = LGBMClassifier(random_state=SEED, **study.best_params)"
      ],
      "metadata": {
        "id": "SNZz9hJ1tT8k"
      },
      "execution_count": 767,
      "outputs": []
    },
    {
      "cell_type": "code",
      "source": [
        "# 교차 검증\n",
        "skf = StratifiedKFold(n_splits=5, shuffle=True, random_state=0)"
      ],
      "metadata": {
        "id": "VFSFKtEUtV36"
      },
      "execution_count": 768,
      "outputs": []
    },
    {
      "cell_type": "code",
      "source": [
        "from sklearn.metrics import roc_curve, auc\n",
        "\n",
        "n_iter = 0\n",
        "auc_te_lst = []\n",
        "\n",
        "for train_index, valid_index in skf.split(X_tr, y_tr):\n",
        "    n_iter += 1\n",
        "    # 학습용, 검증용 데이터 구성\n",
        "    train_x, valid_x = X_tr.loc[train_index], X_tr.loc[valid_index]\n",
        "    train_y, valid_y = y_tr.loc[train_index], y_tr.loc[valid_index]\n",
        "    # 학습\n",
        "    modelV10.fit(train_x, train_y)\n",
        "    # 예측\n",
        "    best_threshold = 0.20876870285445615\n",
        "    pred_prob = modelV10.predict_proba(valid_x)[:, 1]\n",
        "    pred_class = (pred_prob >= best_threshold).astype(int)\n",
        "    # 평가\n",
        "    fpr, tpr, thresholds = roc_curve(valid_y, pred_class)\n",
        "    auc_te = auc(fpr, tpr)\n",
        "    auc_te_lst.append(auc_te)\n",
        "    print(f'{n_iter} 번째 StratifiedKFold AUC: {auc_te:.4f}, 학습데이터 크기: {train_x.shape}, 검증데이터 크기: {valid_x.shape}')\n",
        "\n",
        "# 최종 평가\n",
        "print('-'*50)\n",
        "print(f'교차 검증 AUC: {np.mean(auc_te_lst):.4f} / 모델 평가: {modelV10.score(X_te, y_te)}')"
      ],
      "metadata": {
        "colab": {
          "base_uri": "https://localhost:8080/"
        },
        "id": "ApSLnBOHtWlU",
        "outputId": "01126cbb-62c0-40fb-cd20-6af6c2e1a810"
      },
      "execution_count": 789,
      "outputs": [
        {
          "output_type": "stream",
          "name": "stdout",
          "text": [
            "1 번째 StratifiedKFold AUC: 0.8082, 학습데이터 크기: (512, 37), 검증데이터 크기: (129, 37)\n",
            "2 번째 StratifiedKFold AUC: 0.7854, 학습데이터 크기: (513, 37), 검증데이터 크기: (128, 37)\n",
            "3 번째 StratifiedKFold AUC: 0.8292, 학습데이터 크기: (513, 37), 검증데이터 크기: (128, 37)\n",
            "4 번째 StratifiedKFold AUC: 0.8271, 학습데이터 크기: (513, 37), 검증데이터 크기: (128, 37)\n",
            "5 번째 StratifiedKFold AUC: 0.8551, 학습데이터 크기: (513, 37), 검증데이터 크기: (128, 37)\n",
            "--------------------------------------------------\n",
            "교차 검증 AUC: 0.8210 / 모델 평가: 0.8472727272727273\n"
          ]
        }
      ]
    },
    {
      "cell_type": "code",
      "source": [
        "def find_best_threshold(y_true, y_prob):\n",
        "    fpr, tpr, thresholds = roc_curve(y_true, y_prob)\n",
        "    best_threshold = thresholds[np.argmax(tpr-fpr)]\n",
        "    return best_threshold"
      ],
      "metadata": {
        "id": "BB9ganKKtYRi"
      },
      "execution_count": 790,
      "outputs": []
    },
    {
      "cell_type": "code",
      "source": [
        "best_threshold = find_best_threshold(valid_y, pred_prob)"
      ],
      "metadata": {
        "id": "PM1xeW4OtZZK"
      },
      "execution_count": 791,
      "outputs": []
    },
    {
      "cell_type": "code",
      "source": [
        "best_threshold"
      ],
      "metadata": {
        "colab": {
          "base_uri": "https://localhost:8080/"
        },
        "id": "xOUhurSXtaDz",
        "outputId": "6a34cb29-d8e8-47bd-faee-bfa2008b0f12"
      },
      "execution_count": 792,
      "outputs": [
        {
          "output_type": "execute_result",
          "data": {
            "text/plain": [
              "0.20876870285445615"
            ]
          },
          "metadata": {},
          "execution_count": 792
        }
      ]
    },
    {
      "cell_type": "code",
      "source": [
        "# 모델 확인\n",
        "df_feature_importances = pd.DataFrame(modelV10.feature_importances_, X_tr.columns).sort_values(by=[0], ascending=False).reset_index()\n",
        "\n",
        "print(f'{df_feature_importances.shape}')\n",
        "df_feature_importances"
      ],
      "metadata": {
        "colab": {
          "base_uri": "https://localhost:8080/",
          "height": 1000
        },
        "id": "AsKq1xQGta8i",
        "outputId": "d7119bc5-48ec-4c82-8bd4-725f38f5033a"
      },
      "execution_count": 793,
      "outputs": [
        {
          "output_type": "stream",
          "name": "stdout",
          "text": [
            "(37, 2)\n"
          ]
        },
        {
          "output_type": "execute_result",
          "data": {
            "text/plain": [
              "                       index     0\n",
              "0                       fare  1045\n",
              "1                        age   677\n",
              "2                     pclass   102\n",
              "3      gender_age_female_3.0    88\n",
              "4     gender_pclass_female_1    84\n",
              "5   gender_embarked_female_Q    60\n",
              "6              gender_female    59\n",
              "7                 embarked_S    48\n",
              "8     gender_pclass_female_2    43\n",
              "9      gender_age_female_2.0    40\n",
              "10       gender_age_male_2.0    23\n",
              "11       gender_age_male_5.0    19\n",
              "12    gender_embarked_male_S    18\n",
              "13    gender_embarked_male_C    16\n",
              "14                embarked_Q    11\n",
              "15      gender_pclass_male_2    11\n",
              "16                embarked_C    10\n",
              "17    gender_embarked_male_Q     9\n",
              "18               gender_male     7\n",
              "19    gender_pclass_female_3     7\n",
              "20  gender_embarked_female_C     6\n",
              "21      gender_pclass_male_3     5\n",
              "22       gender_age_male_1.0     3\n",
              "23  gender_embarked_female_S     1\n",
              "24       gender_age_male_3.0     1\n",
              "25       gender_age_male_7.0     0\n",
              "26       gender_age_male_6.0     0\n",
              "27       gender_age_male_4.0     0\n",
              "28     gender_age_female_7.0     0\n",
              "29       gender_age_male_0.0     0\n",
              "30     gender_age_female_6.0     0\n",
              "31     gender_age_female_5.0     0\n",
              "32     gender_age_female_4.0     0\n",
              "33      gender_pclass_male_1     0\n",
              "34     gender_age_female_1.0     0\n",
              "35     gender_age_female_0.0     0\n",
              "36       gender_age_male_8.0     0"
            ],
            "text/html": [
              "\n",
              "  <div id=\"df-0b5b0394-d133-454c-be42-d8222d07e275\">\n",
              "    <div class=\"colab-df-container\">\n",
              "      <div>\n",
              "<style scoped>\n",
              "    .dataframe tbody tr th:only-of-type {\n",
              "        vertical-align: middle;\n",
              "    }\n",
              "\n",
              "    .dataframe tbody tr th {\n",
              "        vertical-align: top;\n",
              "    }\n",
              "\n",
              "    .dataframe thead th {\n",
              "        text-align: right;\n",
              "    }\n",
              "</style>\n",
              "<table border=\"1\" class=\"dataframe\">\n",
              "  <thead>\n",
              "    <tr style=\"text-align: right;\">\n",
              "      <th></th>\n",
              "      <th>index</th>\n",
              "      <th>0</th>\n",
              "    </tr>\n",
              "  </thead>\n",
              "  <tbody>\n",
              "    <tr>\n",
              "      <th>0</th>\n",
              "      <td>fare</td>\n",
              "      <td>1045</td>\n",
              "    </tr>\n",
              "    <tr>\n",
              "      <th>1</th>\n",
              "      <td>age</td>\n",
              "      <td>677</td>\n",
              "    </tr>\n",
              "    <tr>\n",
              "      <th>2</th>\n",
              "      <td>pclass</td>\n",
              "      <td>102</td>\n",
              "    </tr>\n",
              "    <tr>\n",
              "      <th>3</th>\n",
              "      <td>gender_age_female_3.0</td>\n",
              "      <td>88</td>\n",
              "    </tr>\n",
              "    <tr>\n",
              "      <th>4</th>\n",
              "      <td>gender_pclass_female_1</td>\n",
              "      <td>84</td>\n",
              "    </tr>\n",
              "    <tr>\n",
              "      <th>5</th>\n",
              "      <td>gender_embarked_female_Q</td>\n",
              "      <td>60</td>\n",
              "    </tr>\n",
              "    <tr>\n",
              "      <th>6</th>\n",
              "      <td>gender_female</td>\n",
              "      <td>59</td>\n",
              "    </tr>\n",
              "    <tr>\n",
              "      <th>7</th>\n",
              "      <td>embarked_S</td>\n",
              "      <td>48</td>\n",
              "    </tr>\n",
              "    <tr>\n",
              "      <th>8</th>\n",
              "      <td>gender_pclass_female_2</td>\n",
              "      <td>43</td>\n",
              "    </tr>\n",
              "    <tr>\n",
              "      <th>9</th>\n",
              "      <td>gender_age_female_2.0</td>\n",
              "      <td>40</td>\n",
              "    </tr>\n",
              "    <tr>\n",
              "      <th>10</th>\n",
              "      <td>gender_age_male_2.0</td>\n",
              "      <td>23</td>\n",
              "    </tr>\n",
              "    <tr>\n",
              "      <th>11</th>\n",
              "      <td>gender_age_male_5.0</td>\n",
              "      <td>19</td>\n",
              "    </tr>\n",
              "    <tr>\n",
              "      <th>12</th>\n",
              "      <td>gender_embarked_male_S</td>\n",
              "      <td>18</td>\n",
              "    </tr>\n",
              "    <tr>\n",
              "      <th>13</th>\n",
              "      <td>gender_embarked_male_C</td>\n",
              "      <td>16</td>\n",
              "    </tr>\n",
              "    <tr>\n",
              "      <th>14</th>\n",
              "      <td>embarked_Q</td>\n",
              "      <td>11</td>\n",
              "    </tr>\n",
              "    <tr>\n",
              "      <th>15</th>\n",
              "      <td>gender_pclass_male_2</td>\n",
              "      <td>11</td>\n",
              "    </tr>\n",
              "    <tr>\n",
              "      <th>16</th>\n",
              "      <td>embarked_C</td>\n",
              "      <td>10</td>\n",
              "    </tr>\n",
              "    <tr>\n",
              "      <th>17</th>\n",
              "      <td>gender_embarked_male_Q</td>\n",
              "      <td>9</td>\n",
              "    </tr>\n",
              "    <tr>\n",
              "      <th>18</th>\n",
              "      <td>gender_male</td>\n",
              "      <td>7</td>\n",
              "    </tr>\n",
              "    <tr>\n",
              "      <th>19</th>\n",
              "      <td>gender_pclass_female_3</td>\n",
              "      <td>7</td>\n",
              "    </tr>\n",
              "    <tr>\n",
              "      <th>20</th>\n",
              "      <td>gender_embarked_female_C</td>\n",
              "      <td>6</td>\n",
              "    </tr>\n",
              "    <tr>\n",
              "      <th>21</th>\n",
              "      <td>gender_pclass_male_3</td>\n",
              "      <td>5</td>\n",
              "    </tr>\n",
              "    <tr>\n",
              "      <th>22</th>\n",
              "      <td>gender_age_male_1.0</td>\n",
              "      <td>3</td>\n",
              "    </tr>\n",
              "    <tr>\n",
              "      <th>23</th>\n",
              "      <td>gender_embarked_female_S</td>\n",
              "      <td>1</td>\n",
              "    </tr>\n",
              "    <tr>\n",
              "      <th>24</th>\n",
              "      <td>gender_age_male_3.0</td>\n",
              "      <td>1</td>\n",
              "    </tr>\n",
              "    <tr>\n",
              "      <th>25</th>\n",
              "      <td>gender_age_male_7.0</td>\n",
              "      <td>0</td>\n",
              "    </tr>\n",
              "    <tr>\n",
              "      <th>26</th>\n",
              "      <td>gender_age_male_6.0</td>\n",
              "      <td>0</td>\n",
              "    </tr>\n",
              "    <tr>\n",
              "      <th>27</th>\n",
              "      <td>gender_age_male_4.0</td>\n",
              "      <td>0</td>\n",
              "    </tr>\n",
              "    <tr>\n",
              "      <th>28</th>\n",
              "      <td>gender_age_female_7.0</td>\n",
              "      <td>0</td>\n",
              "    </tr>\n",
              "    <tr>\n",
              "      <th>29</th>\n",
              "      <td>gender_age_male_0.0</td>\n",
              "      <td>0</td>\n",
              "    </tr>\n",
              "    <tr>\n",
              "      <th>30</th>\n",
              "      <td>gender_age_female_6.0</td>\n",
              "      <td>0</td>\n",
              "    </tr>\n",
              "    <tr>\n",
              "      <th>31</th>\n",
              "      <td>gender_age_female_5.0</td>\n",
              "      <td>0</td>\n",
              "    </tr>\n",
              "    <tr>\n",
              "      <th>32</th>\n",
              "      <td>gender_age_female_4.0</td>\n",
              "      <td>0</td>\n",
              "    </tr>\n",
              "    <tr>\n",
              "      <th>33</th>\n",
              "      <td>gender_pclass_male_1</td>\n",
              "      <td>0</td>\n",
              "    </tr>\n",
              "    <tr>\n",
              "      <th>34</th>\n",
              "      <td>gender_age_female_1.0</td>\n",
              "      <td>0</td>\n",
              "    </tr>\n",
              "    <tr>\n",
              "      <th>35</th>\n",
              "      <td>gender_age_female_0.0</td>\n",
              "      <td>0</td>\n",
              "    </tr>\n",
              "    <tr>\n",
              "      <th>36</th>\n",
              "      <td>gender_age_male_8.0</td>\n",
              "      <td>0</td>\n",
              "    </tr>\n",
              "  </tbody>\n",
              "</table>\n",
              "</div>\n",
              "      <button class=\"colab-df-convert\" onclick=\"convertToInteractive('df-0b5b0394-d133-454c-be42-d8222d07e275')\"\n",
              "              title=\"Convert this dataframe to an interactive table.\"\n",
              "              style=\"display:none;\">\n",
              "        \n",
              "  <svg xmlns=\"http://www.w3.org/2000/svg\" height=\"24px\"viewBox=\"0 0 24 24\"\n",
              "       width=\"24px\">\n",
              "    <path d=\"M0 0h24v24H0V0z\" fill=\"none\"/>\n",
              "    <path d=\"M18.56 5.44l.94 2.06.94-2.06 2.06-.94-2.06-.94-.94-2.06-.94 2.06-2.06.94zm-11 1L8.5 8.5l.94-2.06 2.06-.94-2.06-.94L8.5 2.5l-.94 2.06-2.06.94zm10 10l.94 2.06.94-2.06 2.06-.94-2.06-.94-.94-2.06-.94 2.06-2.06.94z\"/><path d=\"M17.41 7.96l-1.37-1.37c-.4-.4-.92-.59-1.43-.59-.52 0-1.04.2-1.43.59L10.3 9.45l-7.72 7.72c-.78.78-.78 2.05 0 2.83L4 21.41c.39.39.9.59 1.41.59.51 0 1.02-.2 1.41-.59l7.78-7.78 2.81-2.81c.8-.78.8-2.07 0-2.86zM5.41 20L4 18.59l7.72-7.72 1.47 1.35L5.41 20z\"/>\n",
              "  </svg>\n",
              "      </button>\n",
              "      \n",
              "  <style>\n",
              "    .colab-df-container {\n",
              "      display:flex;\n",
              "      flex-wrap:wrap;\n",
              "      gap: 12px;\n",
              "    }\n",
              "\n",
              "    .colab-df-convert {\n",
              "      background-color: #E8F0FE;\n",
              "      border: none;\n",
              "      border-radius: 50%;\n",
              "      cursor: pointer;\n",
              "      display: none;\n",
              "      fill: #1967D2;\n",
              "      height: 32px;\n",
              "      padding: 0 0 0 0;\n",
              "      width: 32px;\n",
              "    }\n",
              "\n",
              "    .colab-df-convert:hover {\n",
              "      background-color: #E2EBFA;\n",
              "      box-shadow: 0px 1px 2px rgba(60, 64, 67, 0.3), 0px 1px 3px 1px rgba(60, 64, 67, 0.15);\n",
              "      fill: #174EA6;\n",
              "    }\n",
              "\n",
              "    [theme=dark] .colab-df-convert {\n",
              "      background-color: #3B4455;\n",
              "      fill: #D2E3FC;\n",
              "    }\n",
              "\n",
              "    [theme=dark] .colab-df-convert:hover {\n",
              "      background-color: #434B5C;\n",
              "      box-shadow: 0px 1px 3px 1px rgba(0, 0, 0, 0.15);\n",
              "      filter: drop-shadow(0px 1px 2px rgba(0, 0, 0, 0.3));\n",
              "      fill: #FFFFFF;\n",
              "    }\n",
              "  </style>\n",
              "\n",
              "      <script>\n",
              "        const buttonEl =\n",
              "          document.querySelector('#df-0b5b0394-d133-454c-be42-d8222d07e275 button.colab-df-convert');\n",
              "        buttonEl.style.display =\n",
              "          google.colab.kernel.accessAllowed ? 'block' : 'none';\n",
              "\n",
              "        async function convertToInteractive(key) {\n",
              "          const element = document.querySelector('#df-0b5b0394-d133-454c-be42-d8222d07e275');\n",
              "          const dataTable =\n",
              "            await google.colab.kernel.invokeFunction('convertToInteractive',\n",
              "                                                     [key], {});\n",
              "          if (!dataTable) return;\n",
              "\n",
              "          const docLinkHtml = 'Like what you see? Visit the ' +\n",
              "            '<a target=\"_blank\" href=https://colab.research.google.com/notebooks/data_table.ipynb>data table notebook</a>'\n",
              "            + ' to learn more about interactive tables.';\n",
              "          element.innerHTML = '';\n",
              "          dataTable['output_type'] = 'display_data';\n",
              "          await google.colab.output.renderOutput(dataTable, element);\n",
              "          const docLink = document.createElement('div');\n",
              "          docLink.innerHTML = docLinkHtml;\n",
              "          element.appendChild(docLink);\n",
              "        }\n",
              "      </script>\n",
              "    </div>\n",
              "  </div>\n",
              "  "
            ]
          },
          "metadata": {},
          "execution_count": 793
        }
      ]
    },
    {
      "cell_type": "markdown",
      "source": [
        "## Evaluation"
      ],
      "metadata": {
        "id": "hnEDmuB5w8MK"
      }
    },
    {
      "cell_type": "code",
      "source": [
        "# 모델 확인\n",
        "score_tr = modelV10.score(X_tr, y_tr)\n",
        "score_te = modelV10.score(X_te, y_te)\n",
        "\n",
        "score_tr, score_te"
      ],
      "metadata": {
        "colab": {
          "base_uri": "https://localhost:8080/"
        },
        "id": "bevqdZsltdbD",
        "outputId": "874bd356-7a55-4d0a-df1a-b82f0877be30"
      },
      "execution_count": 794,
      "outputs": [
        {
          "output_type": "execute_result",
          "data": {
            "text/plain": [
              "(0.9079563182527302, 0.8472727272727273)"
            ]
          },
          "metadata": {},
          "execution_count": 794
        }
      ]
    },
    {
      "cell_type": "code",
      "source": [
        "# 모델 확인\n",
        "ori_te_pred = modelV10.predict_proba(ori_te)[:,1]\n",
        "ori_te_pred.shape"
      ],
      "metadata": {
        "colab": {
          "base_uri": "https://localhost:8080/"
        },
        "id": "0aOTsnU_tmeP",
        "outputId": "fffdacf7-ddd5-4709-f2bc-838dcb84e867"
      },
      "execution_count": 795,
      "outputs": [
        {
          "output_type": "execute_result",
          "data": {
            "text/plain": [
              "(393,)"
            ]
          },
          "metadata": {},
          "execution_count": 795
        }
      ]
    },
    {
      "cell_type": "code",
      "source": [
        "# 모델 확인\n",
        "args.results.append(\n",
        "    {\n",
        "        'model': 'modelV12',\n",
        "        'score_tr': score_tr,\n",
        "        'score_te': score_te,\n",
        "        'auc_te': auc_te,\n",
        "        'ori_te_pred': ori_te_pred,\n",
        "        'len_features': X_tr.shape[1],\n",
        "        'feaute_importances': list(df_feature_importances['index'].values[:X_tr.shape[1]]),\n",
        "        'create_dt': '0303'\n",
        "    }\n",
        ")"
      ],
      "metadata": {
        "id": "pMFGmxLFtnq_"
      },
      "execution_count": 796,
      "outputs": []
    },
    {
      "cell_type": "markdown",
      "source": [
        "> SHAP"
      ],
      "metadata": {
        "id": "AHdzO6OYtpHw"
      }
    },
    {
      "cell_type": "code",
      "source": [
        "!pip install shap"
      ],
      "metadata": {
        "colab": {
          "base_uri": "https://localhost:8080/"
        },
        "id": "YC4puNL0tqkX",
        "outputId": "8d8f3eb6-1343-4715-bb6c-43749c042690"
      },
      "execution_count": 797,
      "outputs": [
        {
          "output_type": "stream",
          "name": "stdout",
          "text": [
            "Looking in indexes: https://pypi.org/simple, https://us-python.pkg.dev/colab-wheels/public/simple/\n",
            "Requirement already satisfied: shap in /usr/local/lib/python3.8/dist-packages (0.41.0)\n",
            "Requirement already satisfied: numpy in /usr/local/lib/python3.8/dist-packages (from shap) (1.22.4)\n",
            "Requirement already satisfied: numba in /usr/local/lib/python3.8/dist-packages (from shap) (0.56.4)\n",
            "Requirement already satisfied: pandas in /usr/local/lib/python3.8/dist-packages (from shap) (1.3.5)\n",
            "Requirement already satisfied: scipy in /usr/local/lib/python3.8/dist-packages (from shap) (1.10.1)\n",
            "Requirement already satisfied: tqdm>4.25.0 in /usr/local/lib/python3.8/dist-packages (from shap) (4.64.1)\n",
            "Requirement already satisfied: slicer==0.0.7 in /usr/local/lib/python3.8/dist-packages (from shap) (0.0.7)\n",
            "Requirement already satisfied: scikit-learn in /usr/local/lib/python3.8/dist-packages (from shap) (1.2.1)\n",
            "Requirement already satisfied: packaging>20.9 in /usr/local/lib/python3.8/dist-packages (from shap) (23.0)\n",
            "Requirement already satisfied: cloudpickle in /usr/local/lib/python3.8/dist-packages (from shap) (2.2.1)\n",
            "Requirement already satisfied: setuptools in /usr/local/lib/python3.8/dist-packages (from numba->shap) (57.4.0)\n",
            "Requirement already satisfied: llvmlite<0.40,>=0.39.0dev0 in /usr/local/lib/python3.8/dist-packages (from numba->shap) (0.39.1)\n",
            "Requirement already satisfied: importlib-metadata in /usr/local/lib/python3.8/dist-packages (from numba->shap) (6.0.0)\n",
            "Requirement already satisfied: python-dateutil>=2.7.3 in /usr/local/lib/python3.8/dist-packages (from pandas->shap) (2.8.2)\n",
            "Requirement already satisfied: pytz>=2017.3 in /usr/local/lib/python3.8/dist-packages (from pandas->shap) (2022.7.1)\n",
            "Requirement already satisfied: joblib>=1.1.1 in /usr/local/lib/python3.8/dist-packages (from scikit-learn->shap) (1.2.0)\n",
            "Requirement already satisfied: threadpoolctl>=2.0.0 in /usr/local/lib/python3.8/dist-packages (from scikit-learn->shap) (3.1.0)\n",
            "Requirement already satisfied: six>=1.5 in /usr/local/lib/python3.8/dist-packages (from python-dateutil>=2.7.3->pandas->shap) (1.15.0)\n",
            "Requirement already satisfied: zipp>=0.5 in /usr/local/lib/python3.8/dist-packages (from importlib-metadata->numba->shap) (3.15.0)\n"
          ]
        }
      ]
    },
    {
      "cell_type": "code",
      "source": [
        "# 모델 확인\n",
        "import shap\n",
        "explainer = shap.TreeExplainer(modelV10)\n",
        "shap_values = explainer.shap_values(X_te)\n",
        "shap.summary_plot(shap_values[1], X_te)"
      ],
      "metadata": {
        "colab": {
          "base_uri": "https://localhost:8080/",
          "height": 685
        },
        "id": "0ZtH8c5qtr33",
        "outputId": "ea977600-f66b-4038-bd4f-f80c10da9899"
      },
      "execution_count": 798,
      "outputs": [
        {
          "output_type": "display_data",
          "data": {
            "text/plain": [
              "<Figure size 576x684 with 2 Axes>"
            ],
            "image/png": "[encoded data removed]"
          },
          "metadata": {
            "image/png": {
              "width": 558,
              "height": 668
            }
          }
        }
      ]
    },
    {
      "cell_type": "markdown",
      "source": [
        "# Submission"
      ],
      "metadata": {
        "id": "3nQbeuprtsvO"
      }
    },
    {
      "cell_type": "code",
      "source": [
        "df_results = pd.DataFrame(args.results).sort_values(by=['auc_te'], ascending=False)\n",
        "df_results"
      ],
      "metadata": {
        "colab": {
          "base_uri": "https://localhost:8080/",
          "height": 156
        },
        "id": "y8K4_ehBtuUe",
        "outputId": "b2b99ee0-b6f5-4631-c93c-03436aeb7934"
      },
      "execution_count": 799,
      "outputs": [
        {
          "output_type": "execute_result",
          "data": {
            "text/plain": [
              "      model  score_tr  score_te    auc_te  \\\n",
              "1  modelV12  0.907956  0.847273  0.855076   \n",
              "0  modelV12  0.907956  0.847273  0.809997   \n",
              "\n",
              "                                         ori_te_pred  len_features  \\\n",
              "1  [0.967733702205378, 0.8884920569370276, 0.9761...            37   \n",
              "0  [0.967733702205378, 0.8884920569370276, 0.9761...            37   \n",
              "\n",
              "                                  feaute_importances create_dt  \n",
              "1  [fare, age, pclass, gender_age_female_3.0, gen...      0303  \n",
              "0  [fare, age, pclass, gender_age_female_3.0, gen...      0303  "
            ],
            "text/html": [
              "\n",
              "  <div id=\"df-2884b07b-47b9-4cf9-9d93-4443e7d01cd6\">\n",
              "    <div class=\"colab-df-container\">\n",
              "      <div>\n",
              "<style scoped>\n",
              "    .dataframe tbody tr th:only-of-type {\n",
              "        vertical-align: middle;\n",
              "    }\n",
              "\n",
              "    .dataframe tbody tr th {\n",
              "        vertical-align: top;\n",
              "    }\n",
              "\n",
              "    .dataframe thead th {\n",
              "        text-align: right;\n",
              "    }\n",
              "</style>\n",
              "<table border=\"1\" class=\"dataframe\">\n",
              "  <thead>\n",
              "    <tr style=\"text-align: right;\">\n",
              "      <th></th>\n",
              "      <th>model</th>\n",
              "      <th>score_tr</th>\n",
              "      <th>score_te</th>\n",
              "      <th>auc_te</th>\n",
              "      <th>ori_te_pred</th>\n",
              "      <th>len_features</th>\n",
              "      <th>feaute_importances</th>\n",
              "      <th>create_dt</th>\n",
              "    </tr>\n",
              "  </thead>\n",
              "  <tbody>\n",
              "    <tr>\n",
              "      <th>1</th>\n",
              "      <td>modelV12</td>\n",
              "      <td>0.907956</td>\n",
              "      <td>0.847273</td>\n",
              "      <td>0.855076</td>\n",
              "      <td>[0.967733702205378, 0.8884920569370276, 0.9761...</td>\n",
              "      <td>37</td>\n",
              "      <td>[fare, age, pclass, gender_age_female_3.0, gen...</td>\n",
              "      <td>0303</td>\n",
              "    </tr>\n",
              "    <tr>\n",
              "      <th>0</th>\n",
              "      <td>modelV12</td>\n",
              "      <td>0.907956</td>\n",
              "      <td>0.847273</td>\n",
              "      <td>0.809997</td>\n",
              "      <td>[0.967733702205378, 0.8884920569370276, 0.9761...</td>\n",
              "      <td>37</td>\n",
              "      <td>[fare, age, pclass, gender_age_female_3.0, gen...</td>\n",
              "      <td>0303</td>\n",
              "    </tr>\n",
              "  </tbody>\n",
              "</table>\n",
              "</div>\n",
              "      <button class=\"colab-df-convert\" onclick=\"convertToInteractive('df-2884b07b-47b9-4cf9-9d93-4443e7d01cd6')\"\n",
              "              title=\"Convert this dataframe to an interactive table.\"\n",
              "              style=\"display:none;\">\n",
              "        \n",
              "  <svg xmlns=\"http://www.w3.org/2000/svg\" height=\"24px\"viewBox=\"0 0 24 24\"\n",
              "       width=\"24px\">\n",
              "    <path d=\"M0 0h24v24H0V0z\" fill=\"none\"/>\n",
              "    <path d=\"M18.56 5.44l.94 2.06.94-2.06 2.06-.94-2.06-.94-.94-2.06-.94 2.06-2.06.94zm-11 1L8.5 8.5l.94-2.06 2.06-.94-2.06-.94L8.5 2.5l-.94 2.06-2.06.94zm10 10l.94 2.06.94-2.06 2.06-.94-2.06-.94-.94-2.06-.94 2.06-2.06.94z\"/><path d=\"M17.41 7.96l-1.37-1.37c-.4-.4-.92-.59-1.43-.59-.52 0-1.04.2-1.43.59L10.3 9.45l-7.72 7.72c-.78.78-.78 2.05 0 2.83L4 21.41c.39.39.9.59 1.41.59.51 0 1.02-.2 1.41-.59l7.78-7.78 2.81-2.81c.8-.78.8-2.07 0-2.86zM5.41 20L4 18.59l7.72-7.72 1.47 1.35L5.41 20z\"/>\n",
              "  </svg>\n",
              "      </button>\n",
              "      \n",
              "  <style>\n",
              "    .colab-df-container {\n",
              "      display:flex;\n",
              "      flex-wrap:wrap;\n",
              "      gap: 12px;\n",
              "    }\n",
              "\n",
              "    .colab-df-convert {\n",
              "      background-color: #E8F0FE;\n",
              "      border: none;\n",
              "      border-radius: 50%;\n",
              "      cursor: pointer;\n",
              "      display: none;\n",
              "      fill: #1967D2;\n",
              "      height: 32px;\n",
              "      padding: 0 0 0 0;\n",
              "      width: 32px;\n",
              "    }\n",
              "\n",
              "    .colab-df-convert:hover {\n",
              "      background-color: #E2EBFA;\n",
              "      box-shadow: 0px 1px 2px rgba(60, 64, 67, 0.3), 0px 1px 3px 1px rgba(60, 64, 67, 0.15);\n",
              "      fill: #174EA6;\n",
              "    }\n",
              "\n",
              "    [theme=dark] .colab-df-convert {\n",
              "      background-color: #3B4455;\n",
              "      fill: #D2E3FC;\n",
              "    }\n",
              "\n",
              "    [theme=dark] .colab-df-convert:hover {\n",
              "      background-color: #434B5C;\n",
              "      box-shadow: 0px 1px 3px 1px rgba(0, 0, 0, 0.15);\n",
              "      filter: drop-shadow(0px 1px 2px rgba(0, 0, 0, 0.3));\n",
              "      fill: #FFFFFF;\n",
              "    }\n",
              "  </style>\n",
              "\n",
              "      <script>\n",
              "        const buttonEl =\n",
              "          document.querySelector('#df-2884b07b-47b9-4cf9-9d93-4443e7d01cd6 button.colab-df-convert');\n",
              "        buttonEl.style.display =\n",
              "          google.colab.kernel.accessAllowed ? 'block' : 'none';\n",
              "\n",
              "        async function convertToInteractive(key) {\n",
              "          const element = document.querySelector('#df-2884b07b-47b9-4cf9-9d93-4443e7d01cd6');\n",
              "          const dataTable =\n",
              "            await google.colab.kernel.invokeFunction('convertToInteractive',\n",
              "                                                     [key], {});\n",
              "          if (!dataTable) return;\n",
              "\n",
              "          const docLinkHtml = 'Like what you see? Visit the ' +\n",
              "            '<a target=\"_blank\" href=https://colab.research.google.com/notebooks/data_table.ipynb>data table notebook</a>'\n",
              "            + ' to learn more about interactive tables.';\n",
              "          element.innerHTML = '';\n",
              "          dataTable['output_type'] = 'display_data';\n",
              "          await google.colab.output.renderOutput(dataTable, element);\n",
              "          const docLink = document.createElement('div');\n",
              "          docLink.innerHTML = docLinkHtml;\n",
              "          element.appendChild(docLink);\n",
              "        }\n",
              "      </script>\n",
              "    </div>\n",
              "  </div>\n",
              "  "
            ]
          },
          "metadata": {},
          "execution_count": 799
        }
      ]
    },
    {
      "cell_type": "code",
      "source": [
        "submission = pd.read_csv(args.submission_csv)\n",
        "submission.head()"
      ],
      "metadata": {
        "colab": {
          "base_uri": "https://localhost:8080/",
          "height": 206
        },
        "id": "9h2sJ_optvv9",
        "outputId": "b1ca02ad-75ac-4dbe-d5b1-1a4976286003"
      },
      "execution_count": 800,
      "outputs": [
        {
          "output_type": "execute_result",
          "data": {
            "text/plain": [
              "   passengerid  survived\n",
              "0          916  0.967734\n",
              "1          917  0.888492\n",
              "2          918  0.976153\n",
              "3          919  0.029510\n",
              "4          920  0.993285"
            ],
            "text/html": [
              "\n",
              "  <div id=\"df-777cce7d-b286-4370-91b5-22fffcd5a960\">\n",
              "    <div class=\"colab-df-container\">\n",
              "      <div>\n",
              "<style scoped>\n",
              "    .dataframe tbody tr th:only-of-type {\n",
              "        vertical-align: middle;\n",
              "    }\n",
              "\n",
              "    .dataframe tbody tr th {\n",
              "        vertical-align: top;\n",
              "    }\n",
              "\n",
              "    .dataframe thead th {\n",
              "        text-align: right;\n",
              "    }\n",
              "</style>\n",
              "<table border=\"1\" class=\"dataframe\">\n",
              "  <thead>\n",
              "    <tr style=\"text-align: right;\">\n",
              "      <th></th>\n",
              "      <th>passengerid</th>\n",
              "      <th>survived</th>\n",
              "    </tr>\n",
              "  </thead>\n",
              "  <tbody>\n",
              "    <tr>\n",
              "      <th>0</th>\n",
              "      <td>916</td>\n",
              "      <td>0.967734</td>\n",
              "    </tr>\n",
              "    <tr>\n",
              "      <th>1</th>\n",
              "      <td>917</td>\n",
              "      <td>0.888492</td>\n",
              "    </tr>\n",
              "    <tr>\n",
              "      <th>2</th>\n",
              "      <td>918</td>\n",
              "      <td>0.976153</td>\n",
              "    </tr>\n",
              "    <tr>\n",
              "      <th>3</th>\n",
              "      <td>919</td>\n",
              "      <td>0.029510</td>\n",
              "    </tr>\n",
              "    <tr>\n",
              "      <th>4</th>\n",
              "      <td>920</td>\n",
              "      <td>0.993285</td>\n",
              "    </tr>\n",
              "  </tbody>\n",
              "</table>\n",
              "</div>\n",
              "      <button class=\"colab-df-convert\" onclick=\"convertToInteractive('df-777cce7d-b286-4370-91b5-22fffcd5a960')\"\n",
              "              title=\"Convert this dataframe to an interactive table.\"\n",
              "              style=\"display:none;\">\n",
              "        \n",
              "  <svg xmlns=\"http://www.w3.org/2000/svg\" height=\"24px\"viewBox=\"0 0 24 24\"\n",
              "       width=\"24px\">\n",
              "    <path d=\"M0 0h24v24H0V0z\" fill=\"none\"/>\n",
              "    <path d=\"M18.56 5.44l.94 2.06.94-2.06 2.06-.94-2.06-.94-.94-2.06-.94 2.06-2.06.94zm-11 1L8.5 8.5l.94-2.06 2.06-.94-2.06-.94L8.5 2.5l-.94 2.06-2.06.94zm10 10l.94 2.06.94-2.06 2.06-.94-2.06-.94-.94-2.06-.94 2.06-2.06.94z\"/><path d=\"M17.41 7.96l-1.37-1.37c-.4-.4-.92-.59-1.43-.59-.52 0-1.04.2-1.43.59L10.3 9.45l-7.72 7.72c-.78.78-.78 2.05 0 2.83L4 21.41c.39.39.9.59 1.41.59.51 0 1.02-.2 1.41-.59l7.78-7.78 2.81-2.81c.8-.78.8-2.07 0-2.86zM5.41 20L4 18.59l7.72-7.72 1.47 1.35L5.41 20z\"/>\n",
              "  </svg>\n",
              "      </button>\n",
              "      \n",
              "  <style>\n",
              "    .colab-df-container {\n",
              "      display:flex;\n",
              "      flex-wrap:wrap;\n",
              "      gap: 12px;\n",
              "    }\n",
              "\n",
              "    .colab-df-convert {\n",
              "      background-color: #E8F0FE;\n",
              "      border: none;\n",
              "      border-radius: 50%;\n",
              "      cursor: pointer;\n",
              "      display: none;\n",
              "      fill: #1967D2;\n",
              "      height: 32px;\n",
              "      padding: 0 0 0 0;\n",
              "      width: 32px;\n",
              "    }\n",
              "\n",
              "    .colab-df-convert:hover {\n",
              "      background-color: #E2EBFA;\n",
              "      box-shadow: 0px 1px 2px rgba(60, 64, 67, 0.3), 0px 1px 3px 1px rgba(60, 64, 67, 0.15);\n",
              "      fill: #174EA6;\n",
              "    }\n",
              "\n",
              "    [theme=dark] .colab-df-convert {\n",
              "      background-color: #3B4455;\n",
              "      fill: #D2E3FC;\n",
              "    }\n",
              "\n",
              "    [theme=dark] .colab-df-convert:hover {\n",
              "      background-color: #434B5C;\n",
              "      box-shadow: 0px 1px 3px 1px rgba(0, 0, 0, 0.15);\n",
              "      filter: drop-shadow(0px 1px 2px rgba(0, 0, 0, 0.3));\n",
              "      fill: #FFFFFF;\n",
              "    }\n",
              "  </style>\n",
              "\n",
              "      <script>\n",
              "        const buttonEl =\n",
              "          document.querySelector('#df-777cce7d-b286-4370-91b5-22fffcd5a960 button.colab-df-convert');\n",
              "        buttonEl.style.display =\n",
              "          google.colab.kernel.accessAllowed ? 'block' : 'none';\n",
              "\n",
              "        async function convertToInteractive(key) {\n",
              "          const element = document.querySelector('#df-777cce7d-b286-4370-91b5-22fffcd5a960');\n",
              "          const dataTable =\n",
              "            await google.colab.kernel.invokeFunction('convertToInteractive',\n",
              "                                                     [key], {});\n",
              "          if (!dataTable) return;\n",
              "\n",
              "          const docLinkHtml = 'Like what you see? Visit the ' +\n",
              "            '<a target=\"_blank\" href=https://colab.research.google.com/notebooks/data_table.ipynb>data table notebook</a>'\n",
              "            + ' to learn more about interactive tables.';\n",
              "          element.innerHTML = '';\n",
              "          dataTable['output_type'] = 'display_data';\n",
              "          await google.colab.output.renderOutput(dataTable, element);\n",
              "          const docLink = document.createElement('div');\n",
              "          docLink.innerHTML = docLinkHtml;\n",
              "          element.appendChild(docLink);\n",
              "        }\n",
              "      </script>\n",
              "    </div>\n",
              "  </div>\n",
              "  "
            ]
          },
          "metadata": {},
          "execution_count": 800
        }
      ]
    },
    {
      "cell_type": "code",
      "source": [
        "submission = pd.read_csv(args.submission_csv)\n",
        "submission.head()"
      ],
      "metadata": {
        "colab": {
          "base_uri": "https://localhost:8080/",
          "height": 206
        },
        "id": "kFNPNXrstwcN",
        "outputId": "77e2af5c-317b-4629-ca7c-e1e95270fd06"
      },
      "execution_count": 801,
      "outputs": [
        {
          "output_type": "execute_result",
          "data": {
            "text/plain": [
              "   passengerid  survived\n",
              "0          916  0.967734\n",
              "1          917  0.888492\n",
              "2          918  0.976153\n",
              "3          919  0.029510\n",
              "4          920  0.993285"
            ],
            "text/html": [
              "\n",
              "  <div id=\"df-3b474bde-3684-4551-9c50-32f4b4a70c70\">\n",
              "    <div class=\"colab-df-container\">\n",
              "      <div>\n",
              "<style scoped>\n",
              "    .dataframe tbody tr th:only-of-type {\n",
              "        vertical-align: middle;\n",
              "    }\n",
              "\n",
              "    .dataframe tbody tr th {\n",
              "        vertical-align: top;\n",
              "    }\n",
              "\n",
              "    .dataframe thead th {\n",
              "        text-align: right;\n",
              "    }\n",
              "</style>\n",
              "<table border=\"1\" class=\"dataframe\">\n",
              "  <thead>\n",
              "    <tr style=\"text-align: right;\">\n",
              "      <th></th>\n",
              "      <th>passengerid</th>\n",
              "      <th>survived</th>\n",
              "    </tr>\n",
              "  </thead>\n",
              "  <tbody>\n",
              "    <tr>\n",
              "      <th>0</th>\n",
              "      <td>916</td>\n",
              "      <td>0.967734</td>\n",
              "    </tr>\n",
              "    <tr>\n",
              "      <th>1</th>\n",
              "      <td>917</td>\n",
              "      <td>0.888492</td>\n",
              "    </tr>\n",
              "    <tr>\n",
              "      <th>2</th>\n",
              "      <td>918</td>\n",
              "      <td>0.976153</td>\n",
              "    </tr>\n",
              "    <tr>\n",
              "      <th>3</th>\n",
              "      <td>919</td>\n",
              "      <td>0.029510</td>\n",
              "    </tr>\n",
              "    <tr>\n",
              "      <th>4</th>\n",
              "      <td>920</td>\n",
              "      <td>0.993285</td>\n",
              "    </tr>\n",
              "  </tbody>\n",
              "</table>\n",
              "</div>\n",
              "      <button class=\"colab-df-convert\" onclick=\"convertToInteractive('df-3b474bde-3684-4551-9c50-32f4b4a70c70')\"\n",
              "              title=\"Convert this dataframe to an interactive table.\"\n",
              "              style=\"display:none;\">\n",
              "        \n",
              "  <svg xmlns=\"http://www.w3.org/2000/svg\" height=\"24px\"viewBox=\"0 0 24 24\"\n",
              "       width=\"24px\">\n",
              "    <path d=\"M0 0h24v24H0V0z\" fill=\"none\"/>\n",
              "    <path d=\"M18.56 5.44l.94 2.06.94-2.06 2.06-.94-2.06-.94-.94-2.06-.94 2.06-2.06.94zm-11 1L8.5 8.5l.94-2.06 2.06-.94-2.06-.94L8.5 2.5l-.94 2.06-2.06.94zm10 10l.94 2.06.94-2.06 2.06-.94-2.06-.94-.94-2.06-.94 2.06-2.06.94z\"/><path d=\"M17.41 7.96l-1.37-1.37c-.4-.4-.92-.59-1.43-.59-.52 0-1.04.2-1.43.59L10.3 9.45l-7.72 7.72c-.78.78-.78 2.05 0 2.83L4 21.41c.39.39.9.59 1.41.59.51 0 1.02-.2 1.41-.59l7.78-7.78 2.81-2.81c.8-.78.8-2.07 0-2.86zM5.41 20L4 18.59l7.72-7.72 1.47 1.35L5.41 20z\"/>\n",
              "  </svg>\n",
              "      </button>\n",
              "      \n",
              "  <style>\n",
              "    .colab-df-container {\n",
              "      display:flex;\n",
              "      flex-wrap:wrap;\n",
              "      gap: 12px;\n",
              "    }\n",
              "\n",
              "    .colab-df-convert {\n",
              "      background-color: #E8F0FE;\n",
              "      border: none;\n",
              "      border-radius: 50%;\n",
              "      cursor: pointer;\n",
              "      display: none;\n",
              "      fill: #1967D2;\n",
              "      height: 32px;\n",
              "      padding: 0 0 0 0;\n",
              "      width: 32px;\n",
              "    }\n",
              "\n",
              "    .colab-df-convert:hover {\n",
              "      background-color: #E2EBFA;\n",
              "      box-shadow: 0px 1px 2px rgba(60, 64, 67, 0.3), 0px 1px 3px 1px rgba(60, 64, 67, 0.15);\n",
              "      fill: #174EA6;\n",
              "    }\n",
              "\n",
              "    [theme=dark] .colab-df-convert {\n",
              "      background-color: #3B4455;\n",
              "      fill: #D2E3FC;\n",
              "    }\n",
              "\n",
              "    [theme=dark] .colab-df-convert:hover {\n",
              "      background-color: #434B5C;\n",
              "      box-shadow: 0px 1px 3px 1px rgba(0, 0, 0, 0.15);\n",
              "      filter: drop-shadow(0px 1px 2px rgba(0, 0, 0, 0.3));\n",
              "      fill: #FFFFFF;\n",
              "    }\n",
              "  </style>\n",
              "\n",
              "      <script>\n",
              "        const buttonEl =\n",
              "          document.querySelector('#df-3b474bde-3684-4551-9c50-32f4b4a70c70 button.colab-df-convert');\n",
              "        buttonEl.style.display =\n",
              "          google.colab.kernel.accessAllowed ? 'block' : 'none';\n",
              "\n",
              "        async function convertToInteractive(key) {\n",
              "          const element = document.querySelector('#df-3b474bde-3684-4551-9c50-32f4b4a70c70');\n",
              "          const dataTable =\n",
              "            await google.colab.kernel.invokeFunction('convertToInteractive',\n",
              "                                                     [key], {});\n",
              "          if (!dataTable) return;\n",
              "\n",
              "          const docLinkHtml = 'Like what you see? Visit the ' +\n",
              "            '<a target=\"_blank\" href=https://colab.research.google.com/notebooks/data_table.ipynb>data table notebook</a>'\n",
              "            + ' to learn more about interactive tables.';\n",
              "          element.innerHTML = '';\n",
              "          dataTable['output_type'] = 'display_data';\n",
              "          await google.colab.output.renderOutput(dataTable, element);\n",
              "          const docLink = document.createElement('div');\n",
              "          docLink.innerHTML = docLinkHtml;\n",
              "          element.appendChild(docLink);\n",
              "        }\n",
              "      </script>\n",
              "    </div>\n",
              "  </div>\n",
              "  "
            ]
          },
          "metadata": {},
          "execution_count": 801
        }
      ]
    },
    {
      "cell_type": "code",
      "source": [
        "submission['survived'] = df_results.loc[0, ['ori_te_pred']].values[0]\n",
        "print(f'{submission.isnull().sum().sum()}')\n",
        "submission.head(10)"
      ],
      "metadata": {
        "colab": {
          "base_uri": "https://localhost:8080/",
          "height": 381
        },
        "id": "oukVjPRdtxAN",
        "outputId": "866d4c06-7c5f-47f7-e396-d57455ec5505"
      },
      "execution_count": 802,
      "outputs": [
        {
          "output_type": "stream",
          "name": "stdout",
          "text": [
            "0\n"
          ]
        },
        {
          "output_type": "execute_result",
          "data": {
            "text/plain": [
              "   passengerid  survived\n",
              "0          916  0.967734\n",
              "1          917  0.888492\n",
              "2          918  0.976153\n",
              "3          919  0.029510\n",
              "4          920  0.993285\n",
              "5          921  0.990187\n",
              "6          922  0.105766\n",
              "7          923  0.088985\n",
              "8          924  0.243422\n",
              "9          925  0.017181"
            ],
            "text/html": [
              "\n",
              "  <div id=\"df-0a2686aa-e75c-4b7e-a49f-9cd67eda8782\">\n",
              "    <div class=\"colab-df-container\">\n",
              "      <div>\n",
              "<style scoped>\n",
              "    .dataframe tbody tr th:only-of-type {\n",
              "        vertical-align: middle;\n",
              "    }\n",
              "\n",
              "    .dataframe tbody tr th {\n",
              "        vertical-align: top;\n",
              "    }\n",
              "\n",
              "    .dataframe thead th {\n",
              "        text-align: right;\n",
              "    }\n",
              "</style>\n",
              "<table border=\"1\" class=\"dataframe\">\n",
              "  <thead>\n",
              "    <tr style=\"text-align: right;\">\n",
              "      <th></th>\n",
              "      <th>passengerid</th>\n",
              "      <th>survived</th>\n",
              "    </tr>\n",
              "  </thead>\n",
              "  <tbody>\n",
              "    <tr>\n",
              "      <th>0</th>\n",
              "      <td>916</td>\n",
              "      <td>0.967734</td>\n",
              "    </tr>\n",
              "    <tr>\n",
              "      <th>1</th>\n",
              "      <td>917</td>\n",
              "      <td>0.888492</td>\n",
              "    </tr>\n",
              "    <tr>\n",
              "      <th>2</th>\n",
              "      <td>918</td>\n",
              "      <td>0.976153</td>\n",
              "    </tr>\n",
              "    <tr>\n",
              "      <th>3</th>\n",
              "      <td>919</td>\n",
              "      <td>0.029510</td>\n",
              "    </tr>\n",
              "    <tr>\n",
              "      <th>4</th>\n",
              "      <td>920</td>\n",
              "      <td>0.993285</td>\n",
              "    </tr>\n",
              "    <tr>\n",
              "      <th>5</th>\n",
              "      <td>921</td>\n",
              "      <td>0.990187</td>\n",
              "    </tr>\n",
              "    <tr>\n",
              "      <th>6</th>\n",
              "      <td>922</td>\n",
              "      <td>0.105766</td>\n",
              "    </tr>\n",
              "    <tr>\n",
              "      <th>7</th>\n",
              "      <td>923</td>\n",
              "      <td>0.088985</td>\n",
              "    </tr>\n",
              "    <tr>\n",
              "      <th>8</th>\n",
              "      <td>924</td>\n",
              "      <td>0.243422</td>\n",
              "    </tr>\n",
              "    <tr>\n",
              "      <th>9</th>\n",
              "      <td>925</td>\n",
              "      <td>0.017181</td>\n",
              "    </tr>\n",
              "  </tbody>\n",
              "</table>\n",
              "</div>\n",
              "      <button class=\"colab-df-convert\" onclick=\"convertToInteractive('df-0a2686aa-e75c-4b7e-a49f-9cd67eda8782')\"\n",
              "              title=\"Convert this dataframe to an interactive table.\"\n",
              "              style=\"display:none;\">\n",
              "        \n",
              "  <svg xmlns=\"http://www.w3.org/2000/svg\" height=\"24px\"viewBox=\"0 0 24 24\"\n",
              "       width=\"24px\">\n",
              "    <path d=\"M0 0h24v24H0V0z\" fill=\"none\"/>\n",
              "    <path d=\"M18.56 5.44l.94 2.06.94-2.06 2.06-.94-2.06-.94-.94-2.06-.94 2.06-2.06.94zm-11 1L8.5 8.5l.94-2.06 2.06-.94-2.06-.94L8.5 2.5l-.94 2.06-2.06.94zm10 10l.94 2.06.94-2.06 2.06-.94-2.06-.94-.94-2.06-.94 2.06-2.06.94z\"/><path d=\"M17.41 7.96l-1.37-1.37c-.4-.4-.92-.59-1.43-.59-.52 0-1.04.2-1.43.59L10.3 9.45l-7.72 7.72c-.78.78-.78 2.05 0 2.83L4 21.41c.39.39.9.59 1.41.59.51 0 1.02-.2 1.41-.59l7.78-7.78 2.81-2.81c.8-.78.8-2.07 0-2.86zM5.41 20L4 18.59l7.72-7.72 1.47 1.35L5.41 20z\"/>\n",
              "  </svg>\n",
              "      </button>\n",
              "      \n",
              "  <style>\n",
              "    .colab-df-container {\n",
              "      display:flex;\n",
              "      flex-wrap:wrap;\n",
              "      gap: 12px;\n",
              "    }\n",
              "\n",
              "    .colab-df-convert {\n",
              "      background-color: #E8F0FE;\n",
              "      border: none;\n",
              "      border-radius: 50%;\n",
              "      cursor: pointer;\n",
              "      display: none;\n",
              "      fill: #1967D2;\n",
              "      height: 32px;\n",
              "      padding: 0 0 0 0;\n",
              "      width: 32px;\n",
              "    }\n",
              "\n",
              "    .colab-df-convert:hover {\n",
              "      background-color: #E2EBFA;\n",
              "      box-shadow: 0px 1px 2px rgba(60, 64, 67, 0.3), 0px 1px 3px 1px rgba(60, 64, 67, 0.15);\n",
              "      fill: #174EA6;\n",
              "    }\n",
              "\n",
              "    [theme=dark] .colab-df-convert {\n",
              "      background-color: #3B4455;\n",
              "      fill: #D2E3FC;\n",
              "    }\n",
              "\n",
              "    [theme=dark] .colab-df-convert:hover {\n",
              "      background-color: #434B5C;\n",
              "      box-shadow: 0px 1px 3px 1px rgba(0, 0, 0, 0.15);\n",
              "      filter: drop-shadow(0px 1px 2px rgba(0, 0, 0, 0.3));\n",
              "      fill: #FFFFFF;\n",
              "    }\n",
              "  </style>\n",
              "\n",
              "      <script>\n",
              "        const buttonEl =\n",
              "          document.querySelector('#df-0a2686aa-e75c-4b7e-a49f-9cd67eda8782 button.colab-df-convert');\n",
              "        buttonEl.style.display =\n",
              "          google.colab.kernel.accessAllowed ? 'block' : 'none';\n",
              "\n",
              "        async function convertToInteractive(key) {\n",
              "          const element = document.querySelector('#df-0a2686aa-e75c-4b7e-a49f-9cd67eda8782');\n",
              "          const dataTable =\n",
              "            await google.colab.kernel.invokeFunction('convertToInteractive',\n",
              "                                                     [key], {});\n",
              "          if (!dataTable) return;\n",
              "\n",
              "          const docLinkHtml = 'Like what you see? Visit the ' +\n",
              "            '<a target=\"_blank\" href=https://colab.research.google.com/notebooks/data_table.ipynb>data table notebook</a>'\n",
              "            + ' to learn more about interactive tables.';\n",
              "          element.innerHTML = '';\n",
              "          dataTable['output_type'] = 'display_data';\n",
              "          await google.colab.output.renderOutput(dataTable, element);\n",
              "          const docLink = document.createElement('div');\n",
              "          docLink.innerHTML = docLinkHtml;\n",
              "          element.appendChild(docLink);\n",
              "        }\n",
              "      </script>\n",
              "    </div>\n",
              "  </div>\n",
              "  "
            ]
          },
          "metadata": {},
          "execution_count": 802
        }
      ]
    },
    {
      "cell_type": "code",
      "source": [
        "submission.to_csv(args.submission_csv, header=True, index=False)"
      ],
      "metadata": {
        "id": "wP5-UWS8tx71"
      },
      "execution_count": 803,
      "outputs": []
    },
    {
      "cell_type": "markdown",
      "source": [
        "# Save Results"
      ],
      "metadata": {
        "id": "7zELwkCgtyMO"
      }
    },
    {
      "cell_type": "code",
      "source": [
        "args.save_results"
      ],
      "metadata": {
        "colab": {
          "base_uri": "https://localhost:8080/",
          "height": 35
        },
        "id": "gP4j82Fnt0c_",
        "outputId": "cd0515c4-fab1-4150-89fb-23591ab79f13"
      },
      "execution_count": 804,
      "outputs": [
        {
          "output_type": "execute_result",
          "data": {
            "text/plain": [
              "'/content/gdrive/My Drive/titanic_kaggle/data/model_results.json'"
            ],
            "application/vnd.google.colaboratory.intrinsic+json": {
              "type": "string"
            }
          },
          "metadata": {},
          "execution_count": 804
        }
      ]
    },
    {
      "cell_type": "code",
      "source": [
        "df_results.columns"
      ],
      "metadata": {
        "colab": {
          "base_uri": "https://localhost:8080/"
        },
        "id": "u2KfDhkpt1Me",
        "outputId": "ea53f049-75c6-43b7-eeba-4fcda3648736"
      },
      "execution_count": 805,
      "outputs": [
        {
          "output_type": "execute_result",
          "data": {
            "text/plain": [
              "Index(['model', 'score_tr', 'score_te', 'auc_te', 'ori_te_pred',\n",
              "       'len_features', 'feaute_importances', 'create_dt'],\n",
              "      dtype='object')"
            ]
          },
          "metadata": {},
          "execution_count": 805
        }
      ]
    },
    {
      "cell_type": "code",
      "source": [
        "df_results.drop(['ori_te_pred'], axis=1, inplace=True) "
      ],
      "metadata": {
        "id": "wB--F4vgt2UW"
      },
      "execution_count": 806,
      "outputs": []
    },
    {
      "cell_type": "code",
      "source": [
        "df_results.to_json(args.save_results, orient=\"records\")"
      ],
      "metadata": {
        "id": "NRzAt-E3t3C4"
      },
      "execution_count": 807,
      "outputs": []
    },
    {
      "cell_type": "code",
      "source": [
        "df_results.head()"
      ],
      "metadata": {
        "colab": {
          "base_uri": "https://localhost:8080/",
          "height": 112
        },
        "id": "WM522EgKt3ez",
        "outputId": "c79bd492-608b-48f5-f9df-d12e82e3c753"
      },
      "execution_count": 808,
      "outputs": [
        {
          "output_type": "execute_result",
          "data": {
            "text/plain": [
              "      model  score_tr  score_te    auc_te  len_features  \\\n",
              "1  modelV12  0.907956  0.847273  0.855076            37   \n",
              "0  modelV12  0.907956  0.847273  0.809997            37   \n",
              "\n",
              "                                  feaute_importances create_dt  \n",
              "1  [fare, age, pclass, gender_age_female_3.0, gen...      0303  \n",
              "0  [fare, age, pclass, gender_age_female_3.0, gen...      0303  "
            ],
            "text/html": [
              "\n",
              "  <div id=\"df-2cc06326-3587-4908-b586-11fe859a871c\">\n",
              "    <div class=\"colab-df-container\">\n",
              "      <div>\n",
              "<style scoped>\n",
              "    .dataframe tbody tr th:only-of-type {\n",
              "        vertical-align: middle;\n",
              "    }\n",
              "\n",
              "    .dataframe tbody tr th {\n",
              "        vertical-align: top;\n",
              "    }\n",
              "\n",
              "    .dataframe thead th {\n",
              "        text-align: right;\n",
              "    }\n",
              "</style>\n",
              "<table border=\"1\" class=\"dataframe\">\n",
              "  <thead>\n",
              "    <tr style=\"text-align: right;\">\n",
              "      <th></th>\n",
              "      <th>model</th>\n",
              "      <th>score_tr</th>\n",
              "      <th>score_te</th>\n",
              "      <th>auc_te</th>\n",
              "      <th>len_features</th>\n",
              "      <th>feaute_importances</th>\n",
              "      <th>create_dt</th>\n",
              "    </tr>\n",
              "  </thead>\n",
              "  <tbody>\n",
              "    <tr>\n",
              "      <th>1</th>\n",
              "      <td>modelV12</td>\n",
              "      <td>0.907956</td>\n",
              "      <td>0.847273</td>\n",
              "      <td>0.855076</td>\n",
              "      <td>37</td>\n",
              "      <td>[fare, age, pclass, gender_age_female_3.0, gen...</td>\n",
              "      <td>0303</td>\n",
              "    </tr>\n",
              "    <tr>\n",
              "      <th>0</th>\n",
              "      <td>modelV12</td>\n",
              "      <td>0.907956</td>\n",
              "      <td>0.847273</td>\n",
              "      <td>0.809997</td>\n",
              "      <td>37</td>\n",
              "      <td>[fare, age, pclass, gender_age_female_3.0, gen...</td>\n",
              "      <td>0303</td>\n",
              "    </tr>\n",
              "  </tbody>\n",
              "</table>\n",
              "</div>\n",
              "      <button class=\"colab-df-convert\" onclick=\"convertToInteractive('df-2cc06326-3587-4908-b586-11fe859a871c')\"\n",
              "              title=\"Convert this dataframe to an interactive table.\"\n",
              "              style=\"display:none;\">\n",
              "        \n",
              "  <svg xmlns=\"http://www.w3.org/2000/svg\" height=\"24px\"viewBox=\"0 0 24 24\"\n",
              "       width=\"24px\">\n",
              "    <path d=\"M0 0h24v24H0V0z\" fill=\"none\"/>\n",
              "    <path d=\"M18.56 5.44l.94 2.06.94-2.06 2.06-.94-2.06-.94-.94-2.06-.94 2.06-2.06.94zm-11 1L8.5 8.5l.94-2.06 2.06-.94-2.06-.94L8.5 2.5l-.94 2.06-2.06.94zm10 10l.94 2.06.94-2.06 2.06-.94-2.06-.94-.94-2.06-.94 2.06-2.06.94z\"/><path d=\"M17.41 7.96l-1.37-1.37c-.4-.4-.92-.59-1.43-.59-.52 0-1.04.2-1.43.59L10.3 9.45l-7.72 7.72c-.78.78-.78 2.05 0 2.83L4 21.41c.39.39.9.59 1.41.59.51 0 1.02-.2 1.41-.59l7.78-7.78 2.81-2.81c.8-.78.8-2.07 0-2.86zM5.41 20L4 18.59l7.72-7.72 1.47 1.35L5.41 20z\"/>\n",
              "  </svg>\n",
              "      </button>\n",
              "      \n",
              "  <style>\n",
              "    .colab-df-container {\n",
              "      display:flex;\n",
              "      flex-wrap:wrap;\n",
              "      gap: 12px;\n",
              "    }\n",
              "\n",
              "    .colab-df-convert {\n",
              "      background-color: #E8F0FE;\n",
              "      border: none;\n",
              "      border-radius: 50%;\n",
              "      cursor: pointer;\n",
              "      display: none;\n",
              "      fill: #1967D2;\n",
              "      height: 32px;\n",
              "      padding: 0 0 0 0;\n",
              "      width: 32px;\n",
              "    }\n",
              "\n",
              "    .colab-df-convert:hover {\n",
              "      background-color: #E2EBFA;\n",
              "      box-shadow: 0px 1px 2px rgba(60, 64, 67, 0.3), 0px 1px 3px 1px rgba(60, 64, 67, 0.15);\n",
              "      fill: #174EA6;\n",
              "    }\n",
              "\n",
              "    [theme=dark] .colab-df-convert {\n",
              "      background-color: #3B4455;\n",
              "      fill: #D2E3FC;\n",
              "    }\n",
              "\n",
              "    [theme=dark] .colab-df-convert:hover {\n",
              "      background-color: #434B5C;\n",
              "      box-shadow: 0px 1px 3px 1px rgba(0, 0, 0, 0.15);\n",
              "      filter: drop-shadow(0px 1px 2px rgba(0, 0, 0, 0.3));\n",
              "      fill: #FFFFFF;\n",
              "    }\n",
              "  </style>\n",
              "\n",
              "      <script>\n",
              "        const buttonEl =\n",
              "          document.querySelector('#df-2cc06326-3587-4908-b586-11fe859a871c button.colab-df-convert');\n",
              "        buttonEl.style.display =\n",
              "          google.colab.kernel.accessAllowed ? 'block' : 'none';\n",
              "\n",
              "        async function convertToInteractive(key) {\n",
              "          const element = document.querySelector('#df-2cc06326-3587-4908-b586-11fe859a871c');\n",
              "          const dataTable =\n",
              "            await google.colab.kernel.invokeFunction('convertToInteractive',\n",
              "                                                     [key], {});\n",
              "          if (!dataTable) return;\n",
              "\n",
              "          const docLinkHtml = 'Like what you see? Visit the ' +\n",
              "            '<a target=\"_blank\" href=https://colab.research.google.com/notebooks/data_table.ipynb>data table notebook</a>'\n",
              "            + ' to learn more about interactive tables.';\n",
              "          element.innerHTML = '';\n",
              "          dataTable['output_type'] = 'display_data';\n",
              "          await google.colab.output.renderOutput(dataTable, element);\n",
              "          const docLink = document.createElement('div');\n",
              "          docLink.innerHTML = docLinkHtml;\n",
              "          element.appendChild(docLink);\n",
              "        }\n",
              "      </script>\n",
              "    </div>\n",
              "  </div>\n",
              "  "
            ]
          },
          "metadata": {},
          "execution_count": 808
        }
      ]
    },
    {
      "cell_type": "code",
      "source": [],
      "metadata": {
        "id": "Sinw7Nxow9bZ"
      },
      "execution_count": 808,
      "outputs": []
    }
  ]
}