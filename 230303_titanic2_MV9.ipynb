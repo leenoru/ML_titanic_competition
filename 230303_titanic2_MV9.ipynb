{
  "nbformat": 4,
  "nbformat_minor": 0,
  "metadata": {
    "colab": {
      "provenance": [],
      "toc_visible": true,
      "authorship_tag": "ABX9TyPzvA5g3Viak+jq9CAHG+b/"
    },
    "kernelspec": {
      "name": "python3",
      "display_name": "Python 3"
    },
    "language_info": {
      "name": "python"
    }
  },
  "cells": [
    {
      "cell_type": "markdown",
      "source": [
        "# Mission"
      ],
      "metadata": {
        "id": "zt5PDVtNGdvl"
      }
    },
    {
      "cell_type": "markdown",
      "source": [
        "- 제공된 타이타닉 데이터셋 사용\n",
        "- passengerid 대비 생존율을 정확하게 맞출 수 있는 머신러닝 모델 완성"
      ],
      "metadata": {
        "id": "FYb1gummGhCi"
      }
    },
    {
      "cell_type": "markdown",
      "source": [
        "# Connect to google account"
      ],
      "metadata": {
        "id": "szKFjduJGpYS"
      }
    },
    {
      "cell_type": "code",
      "source": [
        "from google.colab import drive\n",
        "import pandas as pd\n",
        "\n",
        "# 구글 드라이브 마운트\n",
        "drive.mount('/content/gdrive')"
      ],
      "metadata": {
        "colab": {
          "base_uri": "https://localhost:8080/"
        },
        "id": "4kGNY8OVGrsi",
        "outputId": "92424e39-03bb-49c9-9aee-f260a36f6442"
      },
      "execution_count": 1,
      "outputs": [
        {
          "output_type": "stream",
          "name": "stdout",
          "text": [
            "Mounted at /content/gdrive\n"
          ]
        }
      ]
    },
    {
      "cell_type": "code",
      "source": [
        "# 코렙 한글깨짐 방지\n",
        "!apt -qq -y install fonts-nanum > /dev/null\n",
        "\n",
        "# 데이터 시각화에 사용할 라이브러리\n",
        "import matplotlib.pyplot as plt\n",
        "import matplotlib.font_manager as fm\n",
        "import seaborn as sns\n",
        "\n",
        "fontpath = '/usr/share/fonts/truetype/nanum/NanumBarunGothic.ttf'\n",
        "font_name = fm.FontProperties(fname=fontpath).get_name() \n",
        "# fm._rebuild()  \n",
        "\n",
        "%config InlineBackend.figure_format = 'retina'\n",
        "\n",
        "plt.rc('font', family=font_name)  \n",
        "plt.rcParams['axes.unicode_minus'] = False"
      ],
      "metadata": {
        "colab": {
          "base_uri": "https://localhost:8080/"
        },
        "id": "5l9kT8shGrlY",
        "outputId": "c0050b7c-e157-432e-d805-9e239b69caeb"
      },
      "execution_count": 2,
      "outputs": [
        {
          "output_type": "stream",
          "name": "stdout",
          "text": [
            "\n",
            "WARNING: apt does not have a stable CLI interface. Use with caution in scripts.\n",
            "\n"
          ]
        }
      ]
    },
    {
      "cell_type": "markdown",
      "source": [
        "# Global Variables"
      ],
      "metadata": {
        "id": "hkWfYH6RGpWV"
      }
    },
    {
      "cell_type": "code",
      "source": [
        "import easydict\n",
        "import json\n",
        "args = easydict.EasyDict()\n",
        "\n",
        "# path 정보\n",
        "args.default_path = '/content/gdrive/My Drive/titanic_kaggle/data/'\n",
        "args.train_csv = args.default_path+'train.csv'\n",
        "args.test_csv = args.default_path+'test.csv'\n",
        "args.submission_csv = args.default_path+'submission.csv'\n",
        "args.save_results = args.default_path+\"model_results.json\"\n",
        "\n",
        "# 데이터 분석을 위한 변수들\n",
        "args.random_state = 42\n",
        "SEED = 42\n",
        "args.results = []"
      ],
      "metadata": {
        "id": "TvkrilCgGxj5"
      },
      "execution_count": 3,
      "outputs": []
    },
    {
      "cell_type": "code",
      "source": [
        "# 데이터 시각화 라이브러리 \n",
        "import numpy as np \n",
        "import pandas as pd\n",
        "\n",
        "import matplotlib.pyplot as plt\n",
        "import seaborn as sns\n",
        "\n",
        "plt.style.use('fivethirtyeight')\n",
        "plt.ion()\n",
        "\n",
        "import warnings\n",
        "warnings.filterwarnings('ignore')"
      ],
      "metadata": {
        "id": "IYk8RgVMG3XK"
      },
      "execution_count": 4,
      "outputs": []
    },
    {
      "cell_type": "code",
      "source": [
        "# # 지난 결과 확인\n",
        "# with open(args.save_results, 'r') as file:\n",
        "#      args.results = json.load(file)\n",
        "\n",
        "# args.results"
      ],
      "metadata": {
        "id": "5ZD-s1fcG7K5"
      },
      "execution_count": 5,
      "outputs": []
    },
    {
      "cell_type": "markdown",
      "source": [
        "# Load Tritanic"
      ],
      "metadata": {
        "id": "6mKpuhG_GpT7"
      }
    },
    {
      "cell_type": "markdown",
      "source": [
        "- Surived:0=사망, 1=생존\n",
        "- Pclass: 1=1등석, 2=2등석, 3=3등석\n",
        "- Sex:male=남성, female=여성\n",
        "- Age: 나이\n",
        "- SibSp: 타이타닉 호에 동승한 자매/배우자의 수\n",
        "- Parch: 타이타닉 호에 동승한 부모/자식의 수\n",
        "- Ticket: 티켓 번호\n",
        "- Fare: 승객 요금\n",
        "- Cabin: 방 호수\n",
        "- Embarked: 탑승지; C=셰르부르, Q=퀴즈타운, S=사우샘프턴"
      ],
      "metadata": {
        "id": "nezhTptvGpRi"
      }
    },
    {
      "cell_type": "code",
      "source": [
        "ori_train = pd.read_csv(args.train_csv)\n",
        "ori_test = pd.read_csv(args.test_csv)\n",
        "\n",
        "ori_train.shape, ori_test.shape"
      ],
      "metadata": {
        "colab": {
          "base_uri": "https://localhost:8080/"
        },
        "id": "BeQhzO_AHTUC",
        "outputId": "e886fbae-019c-42bb-9a10-846353cf1579"
      },
      "execution_count": 6,
      "outputs": [
        {
          "output_type": "execute_result",
          "data": {
            "text/plain": [
              "((916, 12), (393, 11))"
            ]
          },
          "metadata": {},
          "execution_count": 6
        }
      ]
    },
    {
      "cell_type": "code",
      "source": [
        "ori_train.head()"
      ],
      "metadata": {
        "colab": {
          "base_uri": "https://localhost:8080/",
          "height": 426
        },
        "id": "RtKJC8AoHVZZ",
        "outputId": "3b857d2e-92be-4e17-f048-f5fb3afe9f09"
      },
      "execution_count": 7,
      "outputs": [
        {
          "output_type": "execute_result",
          "data": {
            "text/plain": [
              "   passengerid  survived  pclass  \\\n",
              "0            0         0       2   \n",
              "1            1         0       3   \n",
              "2            2         1       1   \n",
              "3            3         1       3   \n",
              "4            4         0       2   \n",
              "\n",
              "                                                name  gender   age  sibsp  \\\n",
              "0                     Wheeler, Mr. Edwin Frederick\"\"    male   NaN      0   \n",
              "1                                 Henry, Miss. Delia  female   NaN      0   \n",
              "2  Hays, Mrs. Charles Melville (Clara Jennings Gr...  female  52.0      1   \n",
              "3       Andersson, Mr. August Edvard (\"Wennerstrom\")    male  27.0      0   \n",
              "4                                  Hold, Mr. Stephen    male  44.0      1   \n",
              "\n",
              "   parch         ticket     fare cabin embarked  \n",
              "0      0  SC/PARIS 2159  12.8750   NaN        S  \n",
              "1      0         382649   7.7500   NaN        Q  \n",
              "2      1          12749  93.5000   B69        S  \n",
              "3      0         350043   7.7958   NaN        S  \n",
              "4      0          26707  26.0000   NaN        S  "
            ],
            "text/html": [
              "\n",
              "  <div id=\"df-edbea742-06e5-4d71-8712-cb08de4f100d\">\n",
              "    <div class=\"colab-df-container\">\n",
              "      <div>\n",
              "<style scoped>\n",
              "    .dataframe tbody tr th:only-of-type {\n",
              "        vertical-align: middle;\n",
              "    }\n",
              "\n",
              "    .dataframe tbody tr th {\n",
              "        vertical-align: top;\n",
              "    }\n",
              "\n",
              "    .dataframe thead th {\n",
              "        text-align: right;\n",
              "    }\n",
              "</style>\n",
              "<table border=\"1\" class=\"dataframe\">\n",
              "  <thead>\n",
              "    <tr style=\"text-align: right;\">\n",
              "      <th></th>\n",
              "      <th>passengerid</th>\n",
              "      <th>survived</th>\n",
              "      <th>pclass</th>\n",
              "      <th>name</th>\n",
              "      <th>gender</th>\n",
              "      <th>age</th>\n",
              "      <th>sibsp</th>\n",
              "      <th>parch</th>\n",
              "      <th>ticket</th>\n",
              "      <th>fare</th>\n",
              "      <th>cabin</th>\n",
              "      <th>embarked</th>\n",
              "    </tr>\n",
              "  </thead>\n",
              "  <tbody>\n",
              "    <tr>\n",
              "      <th>0</th>\n",
              "      <td>0</td>\n",
              "      <td>0</td>\n",
              "      <td>2</td>\n",
              "      <td>Wheeler, Mr. Edwin Frederick\"\"</td>\n",
              "      <td>male</td>\n",
              "      <td>NaN</td>\n",
              "      <td>0</td>\n",
              "      <td>0</td>\n",
              "      <td>SC/PARIS 2159</td>\n",
              "      <td>12.8750</td>\n",
              "      <td>NaN</td>\n",
              "      <td>S</td>\n",
              "    </tr>\n",
              "    <tr>\n",
              "      <th>1</th>\n",
              "      <td>1</td>\n",
              "      <td>0</td>\n",
              "      <td>3</td>\n",
              "      <td>Henry, Miss. Delia</td>\n",
              "      <td>female</td>\n",
              "      <td>NaN</td>\n",
              "      <td>0</td>\n",
              "      <td>0</td>\n",
              "      <td>382649</td>\n",
              "      <td>7.7500</td>\n",
              "      <td>NaN</td>\n",
              "      <td>Q</td>\n",
              "    </tr>\n",
              "    <tr>\n",
              "      <th>2</th>\n",
              "      <td>2</td>\n",
              "      <td>1</td>\n",
              "      <td>1</td>\n",
              "      <td>Hays, Mrs. Charles Melville (Clara Jennings Gr...</td>\n",
              "      <td>female</td>\n",
              "      <td>52.0</td>\n",
              "      <td>1</td>\n",
              "      <td>1</td>\n",
              "      <td>12749</td>\n",
              "      <td>93.5000</td>\n",
              "      <td>B69</td>\n",
              "      <td>S</td>\n",
              "    </tr>\n",
              "    <tr>\n",
              "      <th>3</th>\n",
              "      <td>3</td>\n",
              "      <td>1</td>\n",
              "      <td>3</td>\n",
              "      <td>Andersson, Mr. August Edvard (\"Wennerstrom\")</td>\n",
              "      <td>male</td>\n",
              "      <td>27.0</td>\n",
              "      <td>0</td>\n",
              "      <td>0</td>\n",
              "      <td>350043</td>\n",
              "      <td>7.7958</td>\n",
              "      <td>NaN</td>\n",
              "      <td>S</td>\n",
              "    </tr>\n",
              "    <tr>\n",
              "      <th>4</th>\n",
              "      <td>4</td>\n",
              "      <td>0</td>\n",
              "      <td>2</td>\n",
              "      <td>Hold, Mr. Stephen</td>\n",
              "      <td>male</td>\n",
              "      <td>44.0</td>\n",
              "      <td>1</td>\n",
              "      <td>0</td>\n",
              "      <td>26707</td>\n",
              "      <td>26.0000</td>\n",
              "      <td>NaN</td>\n",
              "      <td>S</td>\n",
              "    </tr>\n",
              "  </tbody>\n",
              "</table>\n",
              "</div>\n",
              "      <button class=\"colab-df-convert\" onclick=\"convertToInteractive('df-edbea742-06e5-4d71-8712-cb08de4f100d')\"\n",
              "              title=\"Convert this dataframe to an interactive table.\"\n",
              "              style=\"display:none;\">\n",
              "        \n",
              "  <svg xmlns=\"http://www.w3.org/2000/svg\" height=\"24px\"viewBox=\"0 0 24 24\"\n",
              "       width=\"24px\">\n",
              "    <path d=\"M0 0h24v24H0V0z\" fill=\"none\"/>\n",
              "    <path d=\"M18.56 5.44l.94 2.06.94-2.06 2.06-.94-2.06-.94-.94-2.06-.94 2.06-2.06.94zm-11 1L8.5 8.5l.94-2.06 2.06-.94-2.06-.94L8.5 2.5l-.94 2.06-2.06.94zm10 10l.94 2.06.94-2.06 2.06-.94-2.06-.94-.94-2.06-.94 2.06-2.06.94z\"/><path d=\"M17.41 7.96l-1.37-1.37c-.4-.4-.92-.59-1.43-.59-.52 0-1.04.2-1.43.59L10.3 9.45l-7.72 7.72c-.78.78-.78 2.05 0 2.83L4 21.41c.39.39.9.59 1.41.59.51 0 1.02-.2 1.41-.59l7.78-7.78 2.81-2.81c.8-.78.8-2.07 0-2.86zM5.41 20L4 18.59l7.72-7.72 1.47 1.35L5.41 20z\"/>\n",
              "  </svg>\n",
              "      </button>\n",
              "      \n",
              "  <style>\n",
              "    .colab-df-container {\n",
              "      display:flex;\n",
              "      flex-wrap:wrap;\n",
              "      gap: 12px;\n",
              "    }\n",
              "\n",
              "    .colab-df-convert {\n",
              "      background-color: #E8F0FE;\n",
              "      border: none;\n",
              "      border-radius: 50%;\n",
              "      cursor: pointer;\n",
              "      display: none;\n",
              "      fill: #1967D2;\n",
              "      height: 32px;\n",
              "      padding: 0 0 0 0;\n",
              "      width: 32px;\n",
              "    }\n",
              "\n",
              "    .colab-df-convert:hover {\n",
              "      background-color: #E2EBFA;\n",
              "      box-shadow: 0px 1px 2px rgba(60, 64, 67, 0.3), 0px 1px 3px 1px rgba(60, 64, 67, 0.15);\n",
              "      fill: #174EA6;\n",
              "    }\n",
              "\n",
              "    [theme=dark] .colab-df-convert {\n",
              "      background-color: #3B4455;\n",
              "      fill: #D2E3FC;\n",
              "    }\n",
              "\n",
              "    [theme=dark] .colab-df-convert:hover {\n",
              "      background-color: #434B5C;\n",
              "      box-shadow: 0px 1px 3px 1px rgba(0, 0, 0, 0.15);\n",
              "      filter: drop-shadow(0px 1px 2px rgba(0, 0, 0, 0.3));\n",
              "      fill: #FFFFFF;\n",
              "    }\n",
              "  </style>\n",
              "\n",
              "      <script>\n",
              "        const buttonEl =\n",
              "          document.querySelector('#df-edbea742-06e5-4d71-8712-cb08de4f100d button.colab-df-convert');\n",
              "        buttonEl.style.display =\n",
              "          google.colab.kernel.accessAllowed ? 'block' : 'none';\n",
              "\n",
              "        async function convertToInteractive(key) {\n",
              "          const element = document.querySelector('#df-edbea742-06e5-4d71-8712-cb08de4f100d');\n",
              "          const dataTable =\n",
              "            await google.colab.kernel.invokeFunction('convertToInteractive',\n",
              "                                                     [key], {});\n",
              "          if (!dataTable) return;\n",
              "\n",
              "          const docLinkHtml = 'Like what you see? Visit the ' +\n",
              "            '<a target=\"_blank\" href=https://colab.research.google.com/notebooks/data_table.ipynb>data table notebook</a>'\n",
              "            + ' to learn more about interactive tables.';\n",
              "          element.innerHTML = '';\n",
              "          dataTable['output_type'] = 'display_data';\n",
              "          await google.colab.output.renderOutput(dataTable, element);\n",
              "          const docLink = document.createElement('div');\n",
              "          docLink.innerHTML = docLinkHtml;\n",
              "          element.appendChild(docLink);\n",
              "        }\n",
              "      </script>\n",
              "    </div>\n",
              "  </div>\n",
              "  "
            ]
          },
          "metadata": {},
          "execution_count": 7
        }
      ]
    },
    {
      "cell_type": "code",
      "source": [
        "ori_train.tail()"
      ],
      "metadata": {
        "colab": {
          "base_uri": "https://localhost:8080/",
          "height": 495
        },
        "id": "v87plnqYHYmk",
        "outputId": "11b9736e-5c41-4b61-f699-5cdbeff763cf"
      },
      "execution_count": 8,
      "outputs": [
        {
          "output_type": "execute_result",
          "data": {
            "text/plain": [
              "     passengerid  survived  pclass  \\\n",
              "911          911         0       3   \n",
              "912          912         0       3   \n",
              "913          913         0       2   \n",
              "914          914         1       3   \n",
              "915          915         1       1   \n",
              "\n",
              "                                                 name  gender   age  sibsp  \\\n",
              "911                             Thomas, Mr. Charles P    male   NaN      1   \n",
              "912                              Cacic, Mr. Jego Grga    male  18.0      0   \n",
              "913                   Pengelly, Mr. Frederick William    male  19.0      0   \n",
              "914                  Mullens, Miss. Katherine \"Katie\"  female   NaN      0   \n",
              "915  Candee, Mrs. Edward (Helen Churchill Hungerford)  female  53.0      0   \n",
              "\n",
              "     parch    ticket     fare cabin embarked  \n",
              "911      0      2621   6.4375   NaN        C  \n",
              "912      0    315091   8.6625   NaN        S  \n",
              "913      0     28665  10.5000   NaN        S  \n",
              "914      0     35852   7.7333   NaN        Q  \n",
              "915      0  PC 17606  27.4458   NaN        C  "
            ],
            "text/html": [
              "\n",
              "  <div id=\"df-55d23d2b-b7dd-432f-8d67-00bd66816d29\">\n",
              "    <div class=\"colab-df-container\">\n",
              "      <div>\n",
              "<style scoped>\n",
              "    .dataframe tbody tr th:only-of-type {\n",
              "        vertical-align: middle;\n",
              "    }\n",
              "\n",
              "    .dataframe tbody tr th {\n",
              "        vertical-align: top;\n",
              "    }\n",
              "\n",
              "    .dataframe thead th {\n",
              "        text-align: right;\n",
              "    }\n",
              "</style>\n",
              "<table border=\"1\" class=\"dataframe\">\n",
              "  <thead>\n",
              "    <tr style=\"text-align: right;\">\n",
              "      <th></th>\n",
              "      <th>passengerid</th>\n",
              "      <th>survived</th>\n",
              "      <th>pclass</th>\n",
              "      <th>name</th>\n",
              "      <th>gender</th>\n",
              "      <th>age</th>\n",
              "      <th>sibsp</th>\n",
              "      <th>parch</th>\n",
              "      <th>ticket</th>\n",
              "      <th>fare</th>\n",
              "      <th>cabin</th>\n",
              "      <th>embarked</th>\n",
              "    </tr>\n",
              "  </thead>\n",
              "  <tbody>\n",
              "    <tr>\n",
              "      <th>911</th>\n",
              "      <td>911</td>\n",
              "      <td>0</td>\n",
              "      <td>3</td>\n",
              "      <td>Thomas, Mr. Charles P</td>\n",
              "      <td>male</td>\n",
              "      <td>NaN</td>\n",
              "      <td>1</td>\n",
              "      <td>0</td>\n",
              "      <td>2621</td>\n",
              "      <td>6.4375</td>\n",
              "      <td>NaN</td>\n",
              "      <td>C</td>\n",
              "    </tr>\n",
              "    <tr>\n",
              "      <th>912</th>\n",
              "      <td>912</td>\n",
              "      <td>0</td>\n",
              "      <td>3</td>\n",
              "      <td>Cacic, Mr. Jego Grga</td>\n",
              "      <td>male</td>\n",
              "      <td>18.0</td>\n",
              "      <td>0</td>\n",
              "      <td>0</td>\n",
              "      <td>315091</td>\n",
              "      <td>8.6625</td>\n",
              "      <td>NaN</td>\n",
              "      <td>S</td>\n",
              "    </tr>\n",
              "    <tr>\n",
              "      <th>913</th>\n",
              "      <td>913</td>\n",
              "      <td>0</td>\n",
              "      <td>2</td>\n",
              "      <td>Pengelly, Mr. Frederick William</td>\n",
              "      <td>male</td>\n",
              "      <td>19.0</td>\n",
              "      <td>0</td>\n",
              "      <td>0</td>\n",
              "      <td>28665</td>\n",
              "      <td>10.5000</td>\n",
              "      <td>NaN</td>\n",
              "      <td>S</td>\n",
              "    </tr>\n",
              "    <tr>\n",
              "      <th>914</th>\n",
              "      <td>914</td>\n",
              "      <td>1</td>\n",
              "      <td>3</td>\n",
              "      <td>Mullens, Miss. Katherine \"Katie\"</td>\n",
              "      <td>female</td>\n",
              "      <td>NaN</td>\n",
              "      <td>0</td>\n",
              "      <td>0</td>\n",
              "      <td>35852</td>\n",
              "      <td>7.7333</td>\n",
              "      <td>NaN</td>\n",
              "      <td>Q</td>\n",
              "    </tr>\n",
              "    <tr>\n",
              "      <th>915</th>\n",
              "      <td>915</td>\n",
              "      <td>1</td>\n",
              "      <td>1</td>\n",
              "      <td>Candee, Mrs. Edward (Helen Churchill Hungerford)</td>\n",
              "      <td>female</td>\n",
              "      <td>53.0</td>\n",
              "      <td>0</td>\n",
              "      <td>0</td>\n",
              "      <td>PC 17606</td>\n",
              "      <td>27.4458</td>\n",
              "      <td>NaN</td>\n",
              "      <td>C</td>\n",
              "    </tr>\n",
              "  </tbody>\n",
              "</table>\n",
              "</div>\n",
              "      <button class=\"colab-df-convert\" onclick=\"convertToInteractive('df-55d23d2b-b7dd-432f-8d67-00bd66816d29')\"\n",
              "              title=\"Convert this dataframe to an interactive table.\"\n",
              "              style=\"display:none;\">\n",
              "        \n",
              "  <svg xmlns=\"http://www.w3.org/2000/svg\" height=\"24px\"viewBox=\"0 0 24 24\"\n",
              "       width=\"24px\">\n",
              "    <path d=\"M0 0h24v24H0V0z\" fill=\"none\"/>\n",
              "    <path d=\"M18.56 5.44l.94 2.06.94-2.06 2.06-.94-2.06-.94-.94-2.06-.94 2.06-2.06.94zm-11 1L8.5 8.5l.94-2.06 2.06-.94-2.06-.94L8.5 2.5l-.94 2.06-2.06.94zm10 10l.94 2.06.94-2.06 2.06-.94-2.06-.94-.94-2.06-.94 2.06-2.06.94z\"/><path d=\"M17.41 7.96l-1.37-1.37c-.4-.4-.92-.59-1.43-.59-.52 0-1.04.2-1.43.59L10.3 9.45l-7.72 7.72c-.78.78-.78 2.05 0 2.83L4 21.41c.39.39.9.59 1.41.59.51 0 1.02-.2 1.41-.59l7.78-7.78 2.81-2.81c.8-.78.8-2.07 0-2.86zM5.41 20L4 18.59l7.72-7.72 1.47 1.35L5.41 20z\"/>\n",
              "  </svg>\n",
              "      </button>\n",
              "      \n",
              "  <style>\n",
              "    .colab-df-container {\n",
              "      display:flex;\n",
              "      flex-wrap:wrap;\n",
              "      gap: 12px;\n",
              "    }\n",
              "\n",
              "    .colab-df-convert {\n",
              "      background-color: #E8F0FE;\n",
              "      border: none;\n",
              "      border-radius: 50%;\n",
              "      cursor: pointer;\n",
              "      display: none;\n",
              "      fill: #1967D2;\n",
              "      height: 32px;\n",
              "      padding: 0 0 0 0;\n",
              "      width: 32px;\n",
              "    }\n",
              "\n",
              "    .colab-df-convert:hover {\n",
              "      background-color: #E2EBFA;\n",
              "      box-shadow: 0px 1px 2px rgba(60, 64, 67, 0.3), 0px 1px 3px 1px rgba(60, 64, 67, 0.15);\n",
              "      fill: #174EA6;\n",
              "    }\n",
              "\n",
              "    [theme=dark] .colab-df-convert {\n",
              "      background-color: #3B4455;\n",
              "      fill: #D2E3FC;\n",
              "    }\n",
              "\n",
              "    [theme=dark] .colab-df-convert:hover {\n",
              "      background-color: #434B5C;\n",
              "      box-shadow: 0px 1px 3px 1px rgba(0, 0, 0, 0.15);\n",
              "      filter: drop-shadow(0px 1px 2px rgba(0, 0, 0, 0.3));\n",
              "      fill: #FFFFFF;\n",
              "    }\n",
              "  </style>\n",
              "\n",
              "      <script>\n",
              "        const buttonEl =\n",
              "          document.querySelector('#df-55d23d2b-b7dd-432f-8d67-00bd66816d29 button.colab-df-convert');\n",
              "        buttonEl.style.display =\n",
              "          google.colab.kernel.accessAllowed ? 'block' : 'none';\n",
              "\n",
              "        async function convertToInteractive(key) {\n",
              "          const element = document.querySelector('#df-55d23d2b-b7dd-432f-8d67-00bd66816d29');\n",
              "          const dataTable =\n",
              "            await google.colab.kernel.invokeFunction('convertToInteractive',\n",
              "                                                     [key], {});\n",
              "          if (!dataTable) return;\n",
              "\n",
              "          const docLinkHtml = 'Like what you see? Visit the ' +\n",
              "            '<a target=\"_blank\" href=https://colab.research.google.com/notebooks/data_table.ipynb>data table notebook</a>'\n",
              "            + ' to learn more about interactive tables.';\n",
              "          element.innerHTML = '';\n",
              "          dataTable['output_type'] = 'display_data';\n",
              "          await google.colab.output.renderOutput(dataTable, element);\n",
              "          const docLink = document.createElement('div');\n",
              "          docLink.innerHTML = docLinkHtml;\n",
              "          element.appendChild(docLink);\n",
              "        }\n",
              "      </script>\n",
              "    </div>\n",
              "  </div>\n",
              "  "
            ]
          },
          "metadata": {},
          "execution_count": 8
        }
      ]
    },
    {
      "cell_type": "code",
      "source": [
        "ori_train.info()"
      ],
      "metadata": {
        "colab": {
          "base_uri": "https://localhost:8080/"
        },
        "id": "_MFn3q-ZHYki",
        "outputId": "d50ab9f3-621a-42f7-bc46-cb62c5a3a94d"
      },
      "execution_count": 9,
      "outputs": [
        {
          "output_type": "stream",
          "name": "stdout",
          "text": [
            "<class 'pandas.core.frame.DataFrame'>\n",
            "RangeIndex: 916 entries, 0 to 915\n",
            "Data columns (total 12 columns):\n",
            " #   Column       Non-Null Count  Dtype  \n",
            "---  ------       --------------  -----  \n",
            " 0   passengerid  916 non-null    int64  \n",
            " 1   survived     916 non-null    int64  \n",
            " 2   pclass       916 non-null    int64  \n",
            " 3   name         916 non-null    object \n",
            " 4   gender       916 non-null    object \n",
            " 5   age          736 non-null    float64\n",
            " 6   sibsp        916 non-null    int64  \n",
            " 7   parch        916 non-null    int64  \n",
            " 8   ticket       916 non-null    object \n",
            " 9   fare         916 non-null    float64\n",
            " 10  cabin        198 non-null    object \n",
            " 11  embarked     915 non-null    object \n",
            "dtypes: float64(2), int64(5), object(5)\n",
            "memory usage: 86.0+ KB\n"
          ]
        }
      ]
    },
    {
      "cell_type": "code",
      "source": [
        "ori_train.describe(include = 'all')"
      ],
      "metadata": {
        "colab": {
          "base_uri": "https://localhost:8080/",
          "height": 493
        },
        "id": "sNpvfQKNHYia",
        "outputId": "a50e526b-7737-4944-b7ba-5ca110ccf311"
      },
      "execution_count": 10,
      "outputs": [
        {
          "output_type": "execute_result",
          "data": {
            "text/plain": [
              "        passengerid    survived      pclass                  name gender  \\\n",
              "count    916.000000  916.000000  916.000000                   916    916   \n",
              "unique          NaN         NaN         NaN                   915      2   \n",
              "top             NaN         NaN         NaN  Connolly, Miss. Kate   male   \n",
              "freq            NaN         NaN         NaN                     2    589   \n",
              "mean     457.500000    0.377729    2.292576                   NaN    NaN   \n",
              "std      264.570721    0.485084    0.838675                   NaN    NaN   \n",
              "min        0.000000    0.000000    1.000000                   NaN    NaN   \n",
              "25%      228.750000    0.000000    2.000000                   NaN    NaN   \n",
              "50%      457.500000    0.000000    3.000000                   NaN    NaN   \n",
              "75%      686.250000    1.000000    3.000000                   NaN    NaN   \n",
              "max      915.000000    1.000000    3.000000                   NaN    NaN   \n",
              "\n",
              "               age       sibsp       parch    ticket        fare cabin  \\\n",
              "count   736.000000  916.000000  916.000000       916  916.000000   198   \n",
              "unique         NaN         NaN         NaN       703         NaN   146   \n",
              "top            NaN         NaN         NaN  CA. 2343         NaN    G6   \n",
              "freq           NaN         NaN         NaN         7         NaN     4   \n",
              "mean     29.698370    0.507642    0.361354       NaN   32.402710   NaN   \n",
              "std      14.185627    1.044866    0.828054       NaN   50.506411   NaN   \n",
              "min       0.170000    0.000000    0.000000       NaN    0.000000   NaN   \n",
              "25%      21.000000    0.000000    0.000000       NaN    7.895800   NaN   \n",
              "50%      28.000000    0.000000    0.000000       NaN   14.458300   NaN   \n",
              "75%      38.000000    1.000000    0.000000       NaN   30.017700   NaN   \n",
              "max      80.000000    8.000000    9.000000       NaN  512.329200   NaN   \n",
              "\n",
              "       embarked  \n",
              "count       915  \n",
              "unique        3  \n",
              "top           S  \n",
              "freq        645  \n",
              "mean        NaN  \n",
              "std         NaN  \n",
              "min         NaN  \n",
              "25%         NaN  \n",
              "50%         NaN  \n",
              "75%         NaN  \n",
              "max         NaN  "
            ],
            "text/html": [
              "\n",
              "  <div id=\"df-691a7c68-0178-41ec-9733-72f920114dc4\">\n",
              "    <div class=\"colab-df-container\">\n",
              "      <div>\n",
              "<style scoped>\n",
              "    .dataframe tbody tr th:only-of-type {\n",
              "        vertical-align: middle;\n",
              "    }\n",
              "\n",
              "    .dataframe tbody tr th {\n",
              "        vertical-align: top;\n",
              "    }\n",
              "\n",
              "    .dataframe thead th {\n",
              "        text-align: right;\n",
              "    }\n",
              "</style>\n",
              "<table border=\"1\" class=\"dataframe\">\n",
              "  <thead>\n",
              "    <tr style=\"text-align: right;\">\n",
              "      <th></th>\n",
              "      <th>passengerid</th>\n",
              "      <th>survived</th>\n",
              "      <th>pclass</th>\n",
              "      <th>name</th>\n",
              "      <th>gender</th>\n",
              "      <th>age</th>\n",
              "      <th>sibsp</th>\n",
              "      <th>parch</th>\n",
              "      <th>ticket</th>\n",
              "      <th>fare</th>\n",
              "      <th>cabin</th>\n",
              "      <th>embarked</th>\n",
              "    </tr>\n",
              "  </thead>\n",
              "  <tbody>\n",
              "    <tr>\n",
              "      <th>count</th>\n",
              "      <td>916.000000</td>\n",
              "      <td>916.000000</td>\n",
              "      <td>916.000000</td>\n",
              "      <td>916</td>\n",
              "      <td>916</td>\n",
              "      <td>736.000000</td>\n",
              "      <td>916.000000</td>\n",
              "      <td>916.000000</td>\n",
              "      <td>916</td>\n",
              "      <td>916.000000</td>\n",
              "      <td>198</td>\n",
              "      <td>915</td>\n",
              "    </tr>\n",
              "    <tr>\n",
              "      <th>unique</th>\n",
              "      <td>NaN</td>\n",
              "      <td>NaN</td>\n",
              "      <td>NaN</td>\n",
              "      <td>915</td>\n",
              "      <td>2</td>\n",
              "      <td>NaN</td>\n",
              "      <td>NaN</td>\n",
              "      <td>NaN</td>\n",
              "      <td>703</td>\n",
              "      <td>NaN</td>\n",
              "      <td>146</td>\n",
              "      <td>3</td>\n",
              "    </tr>\n",
              "    <tr>\n",
              "      <th>top</th>\n",
              "      <td>NaN</td>\n",
              "      <td>NaN</td>\n",
              "      <td>NaN</td>\n",
              "      <td>Connolly, Miss. Kate</td>\n",
              "      <td>male</td>\n",
              "      <td>NaN</td>\n",
              "      <td>NaN</td>\n",
              "      <td>NaN</td>\n",
              "      <td>CA. 2343</td>\n",
              "      <td>NaN</td>\n",
              "      <td>G6</td>\n",
              "      <td>S</td>\n",
              "    </tr>\n",
              "    <tr>\n",
              "      <th>freq</th>\n",
              "      <td>NaN</td>\n",
              "      <td>NaN</td>\n",
              "      <td>NaN</td>\n",
              "      <td>2</td>\n",
              "      <td>589</td>\n",
              "      <td>NaN</td>\n",
              "      <td>NaN</td>\n",
              "      <td>NaN</td>\n",
              "      <td>7</td>\n",
              "      <td>NaN</td>\n",
              "      <td>4</td>\n",
              "      <td>645</td>\n",
              "    </tr>\n",
              "    <tr>\n",
              "      <th>mean</th>\n",
              "      <td>457.500000</td>\n",
              "      <td>0.377729</td>\n",
              "      <td>2.292576</td>\n",
              "      <td>NaN</td>\n",
              "      <td>NaN</td>\n",
              "      <td>29.698370</td>\n",
              "      <td>0.507642</td>\n",
              "      <td>0.361354</td>\n",
              "      <td>NaN</td>\n",
              "      <td>32.402710</td>\n",
              "      <td>NaN</td>\n",
              "      <td>NaN</td>\n",
              "    </tr>\n",
              "    <tr>\n",
              "      <th>std</th>\n",
              "      <td>264.570721</td>\n",
              "      <td>0.485084</td>\n",
              "      <td>0.838675</td>\n",
              "      <td>NaN</td>\n",
              "      <td>NaN</td>\n",
              "      <td>14.185627</td>\n",
              "      <td>1.044866</td>\n",
              "      <td>0.828054</td>\n",
              "      <td>NaN</td>\n",
              "      <td>50.506411</td>\n",
              "      <td>NaN</td>\n",
              "      <td>NaN</td>\n",
              "    </tr>\n",
              "    <tr>\n",
              "      <th>min</th>\n",
              "      <td>0.000000</td>\n",
              "      <td>0.000000</td>\n",
              "      <td>1.000000</td>\n",
              "      <td>NaN</td>\n",
              "      <td>NaN</td>\n",
              "      <td>0.170000</td>\n",
              "      <td>0.000000</td>\n",
              "      <td>0.000000</td>\n",
              "      <td>NaN</td>\n",
              "      <td>0.000000</td>\n",
              "      <td>NaN</td>\n",
              "      <td>NaN</td>\n",
              "    </tr>\n",
              "    <tr>\n",
              "      <th>25%</th>\n",
              "      <td>228.750000</td>\n",
              "      <td>0.000000</td>\n",
              "      <td>2.000000</td>\n",
              "      <td>NaN</td>\n",
              "      <td>NaN</td>\n",
              "      <td>21.000000</td>\n",
              "      <td>0.000000</td>\n",
              "      <td>0.000000</td>\n",
              "      <td>NaN</td>\n",
              "      <td>7.895800</td>\n",
              "      <td>NaN</td>\n",
              "      <td>NaN</td>\n",
              "    </tr>\n",
              "    <tr>\n",
              "      <th>50%</th>\n",
              "      <td>457.500000</td>\n",
              "      <td>0.000000</td>\n",
              "      <td>3.000000</td>\n",
              "      <td>NaN</td>\n",
              "      <td>NaN</td>\n",
              "      <td>28.000000</td>\n",
              "      <td>0.000000</td>\n",
              "      <td>0.000000</td>\n",
              "      <td>NaN</td>\n",
              "      <td>14.458300</td>\n",
              "      <td>NaN</td>\n",
              "      <td>NaN</td>\n",
              "    </tr>\n",
              "    <tr>\n",
              "      <th>75%</th>\n",
              "      <td>686.250000</td>\n",
              "      <td>1.000000</td>\n",
              "      <td>3.000000</td>\n",
              "      <td>NaN</td>\n",
              "      <td>NaN</td>\n",
              "      <td>38.000000</td>\n",
              "      <td>1.000000</td>\n",
              "      <td>0.000000</td>\n",
              "      <td>NaN</td>\n",
              "      <td>30.017700</td>\n",
              "      <td>NaN</td>\n",
              "      <td>NaN</td>\n",
              "    </tr>\n",
              "    <tr>\n",
              "      <th>max</th>\n",
              "      <td>915.000000</td>\n",
              "      <td>1.000000</td>\n",
              "      <td>3.000000</td>\n",
              "      <td>NaN</td>\n",
              "      <td>NaN</td>\n",
              "      <td>80.000000</td>\n",
              "      <td>8.000000</td>\n",
              "      <td>9.000000</td>\n",
              "      <td>NaN</td>\n",
              "      <td>512.329200</td>\n",
              "      <td>NaN</td>\n",
              "      <td>NaN</td>\n",
              "    </tr>\n",
              "  </tbody>\n",
              "</table>\n",
              "</div>\n",
              "      <button class=\"colab-df-convert\" onclick=\"convertToInteractive('df-691a7c68-0178-41ec-9733-72f920114dc4')\"\n",
              "              title=\"Convert this dataframe to an interactive table.\"\n",
              "              style=\"display:none;\">\n",
              "        \n",
              "  <svg xmlns=\"http://www.w3.org/2000/svg\" height=\"24px\"viewBox=\"0 0 24 24\"\n",
              "       width=\"24px\">\n",
              "    <path d=\"M0 0h24v24H0V0z\" fill=\"none\"/>\n",
              "    <path d=\"M18.56 5.44l.94 2.06.94-2.06 2.06-.94-2.06-.94-.94-2.06-.94 2.06-2.06.94zm-11 1L8.5 8.5l.94-2.06 2.06-.94-2.06-.94L8.5 2.5l-.94 2.06-2.06.94zm10 10l.94 2.06.94-2.06 2.06-.94-2.06-.94-.94-2.06-.94 2.06-2.06.94z\"/><path d=\"M17.41 7.96l-1.37-1.37c-.4-.4-.92-.59-1.43-.59-.52 0-1.04.2-1.43.59L10.3 9.45l-7.72 7.72c-.78.78-.78 2.05 0 2.83L4 21.41c.39.39.9.59 1.41.59.51 0 1.02-.2 1.41-.59l7.78-7.78 2.81-2.81c.8-.78.8-2.07 0-2.86zM5.41 20L4 18.59l7.72-7.72 1.47 1.35L5.41 20z\"/>\n",
              "  </svg>\n",
              "      </button>\n",
              "      \n",
              "  <style>\n",
              "    .colab-df-container {\n",
              "      display:flex;\n",
              "      flex-wrap:wrap;\n",
              "      gap: 12px;\n",
              "    }\n",
              "\n",
              "    .colab-df-convert {\n",
              "      background-color: #E8F0FE;\n",
              "      border: none;\n",
              "      border-radius: 50%;\n",
              "      cursor: pointer;\n",
              "      display: none;\n",
              "      fill: #1967D2;\n",
              "      height: 32px;\n",
              "      padding: 0 0 0 0;\n",
              "      width: 32px;\n",
              "    }\n",
              "\n",
              "    .colab-df-convert:hover {\n",
              "      background-color: #E2EBFA;\n",
              "      box-shadow: 0px 1px 2px rgba(60, 64, 67, 0.3), 0px 1px 3px 1px rgba(60, 64, 67, 0.15);\n",
              "      fill: #174EA6;\n",
              "    }\n",
              "\n",
              "    [theme=dark] .colab-df-convert {\n",
              "      background-color: #3B4455;\n",
              "      fill: #D2E3FC;\n",
              "    }\n",
              "\n",
              "    [theme=dark] .colab-df-convert:hover {\n",
              "      background-color: #434B5C;\n",
              "      box-shadow: 0px 1px 3px 1px rgba(0, 0, 0, 0.15);\n",
              "      filter: drop-shadow(0px 1px 2px rgba(0, 0, 0, 0.3));\n",
              "      fill: #FFFFFF;\n",
              "    }\n",
              "  </style>\n",
              "\n",
              "      <script>\n",
              "        const buttonEl =\n",
              "          document.querySelector('#df-691a7c68-0178-41ec-9733-72f920114dc4 button.colab-df-convert');\n",
              "        buttonEl.style.display =\n",
              "          google.colab.kernel.accessAllowed ? 'block' : 'none';\n",
              "\n",
              "        async function convertToInteractive(key) {\n",
              "          const element = document.querySelector('#df-691a7c68-0178-41ec-9733-72f920114dc4');\n",
              "          const dataTable =\n",
              "            await google.colab.kernel.invokeFunction('convertToInteractive',\n",
              "                                                     [key], {});\n",
              "          if (!dataTable) return;\n",
              "\n",
              "          const docLinkHtml = 'Like what you see? Visit the ' +\n",
              "            '<a target=\"_blank\" href=https://colab.research.google.com/notebooks/data_table.ipynb>data table notebook</a>'\n",
              "            + ' to learn more about interactive tables.';\n",
              "          element.innerHTML = '';\n",
              "          dataTable['output_type'] = 'display_data';\n",
              "          await google.colab.output.renderOutput(dataTable, element);\n",
              "          const docLink = document.createElement('div');\n",
              "          docLink.innerHTML = docLinkHtml;\n",
              "          element.appendChild(docLink);\n",
              "        }\n",
              "      </script>\n",
              "    </div>\n",
              "  </div>\n",
              "  "
            ]
          },
          "metadata": {},
          "execution_count": 10
        }
      ]
    },
    {
      "cell_type": "markdown",
      "source": [
        "## drop_duplicates"
      ],
      "metadata": {
        "id": "QXnvhc9uGpPK"
      }
    },
    {
      "cell_type": "code",
      "source": [
        "print(f'before : {ori_train.shape}')\n",
        "ori_train.drop_duplicates(keep = 'first', inplace = True, ignore_index = True)\n",
        "print(f'after : {ori_train.shape}')"
      ],
      "metadata": {
        "colab": {
          "base_uri": "https://localhost:8080/"
        },
        "id": "Rh786JWHHl-s",
        "outputId": "4361048b-4ad2-4c5b-dfd3-9ab2b5ff5b76"
      },
      "execution_count": 11,
      "outputs": [
        {
          "output_type": "stream",
          "name": "stdout",
          "text": [
            "before : (916, 12)\n",
            "after : (916, 12)\n"
          ]
        }
      ]
    },
    {
      "cell_type": "markdown",
      "source": [
        "# Train_test_split"
      ],
      "metadata": {
        "id": "bUnC9PbBGpKq"
      }
    },
    {
      "cell_type": "code",
      "source": [
        "# 피쳐와 타겟 데이터 분리\n",
        "X = ori_train.drop('survived', axis = 1)\n",
        "y = ori_train['survived'] #우리가 알고자하는 생존 데이터"
      ],
      "metadata": {
        "id": "cXkC3WttHpie"
      },
      "execution_count": 12,
      "outputs": []
    },
    {
      "cell_type": "code",
      "source": [
        "# 카테고리화\n",
        "new_survived = pd.Categorical(ori_train[\"survived\"])\n",
        "new_survived = new_survived.rename_categories([\"Died\",\"Survived\"])              \n",
        "\n",
        "new_survived.describe()"
      ],
      "metadata": {
        "colab": {
          "base_uri": "https://localhost:8080/",
          "height": 143
        },
        "id": "MZ0K0hJYHpZe",
        "outputId": "7e543d06-406c-4ed9-ee1f-ab8d0c1caf0d"
      },
      "execution_count": 13,
      "outputs": [
        {
          "output_type": "execute_result",
          "data": {
            "text/plain": [
              "            counts     freqs\n",
              "categories                  \n",
              "Died           570  0.622271\n",
              "Survived       346  0.377729"
            ],
            "text/html": [
              "\n",
              "  <div id=\"df-e92044fd-68df-4943-ba74-6599f3fbb28f\">\n",
              "    <div class=\"colab-df-container\">\n",
              "      <div>\n",
              "<style scoped>\n",
              "    .dataframe tbody tr th:only-of-type {\n",
              "        vertical-align: middle;\n",
              "    }\n",
              "\n",
              "    .dataframe tbody tr th {\n",
              "        vertical-align: top;\n",
              "    }\n",
              "\n",
              "    .dataframe thead th {\n",
              "        text-align: right;\n",
              "    }\n",
              "</style>\n",
              "<table border=\"1\" class=\"dataframe\">\n",
              "  <thead>\n",
              "    <tr style=\"text-align: right;\">\n",
              "      <th></th>\n",
              "      <th>counts</th>\n",
              "      <th>freqs</th>\n",
              "    </tr>\n",
              "    <tr>\n",
              "      <th>categories</th>\n",
              "      <th></th>\n",
              "      <th></th>\n",
              "    </tr>\n",
              "  </thead>\n",
              "  <tbody>\n",
              "    <tr>\n",
              "      <th>Died</th>\n",
              "      <td>570</td>\n",
              "      <td>0.622271</td>\n",
              "    </tr>\n",
              "    <tr>\n",
              "      <th>Survived</th>\n",
              "      <td>346</td>\n",
              "      <td>0.377729</td>\n",
              "    </tr>\n",
              "  </tbody>\n",
              "</table>\n",
              "</div>\n",
              "      <button class=\"colab-df-convert\" onclick=\"convertToInteractive('df-e92044fd-68df-4943-ba74-6599f3fbb28f')\"\n",
              "              title=\"Convert this dataframe to an interactive table.\"\n",
              "              style=\"display:none;\">\n",
              "        \n",
              "  <svg xmlns=\"http://www.w3.org/2000/svg\" height=\"24px\"viewBox=\"0 0 24 24\"\n",
              "       width=\"24px\">\n",
              "    <path d=\"M0 0h24v24H0V0z\" fill=\"none\"/>\n",
              "    <path d=\"M18.56 5.44l.94 2.06.94-2.06 2.06-.94-2.06-.94-.94-2.06-.94 2.06-2.06.94zm-11 1L8.5 8.5l.94-2.06 2.06-.94-2.06-.94L8.5 2.5l-.94 2.06-2.06.94zm10 10l.94 2.06.94-2.06 2.06-.94-2.06-.94-.94-2.06-.94 2.06-2.06.94z\"/><path d=\"M17.41 7.96l-1.37-1.37c-.4-.4-.92-.59-1.43-.59-.52 0-1.04.2-1.43.59L10.3 9.45l-7.72 7.72c-.78.78-.78 2.05 0 2.83L4 21.41c.39.39.9.59 1.41.59.51 0 1.02-.2 1.41-.59l7.78-7.78 2.81-2.81c.8-.78.8-2.07 0-2.86zM5.41 20L4 18.59l7.72-7.72 1.47 1.35L5.41 20z\"/>\n",
              "  </svg>\n",
              "      </button>\n",
              "      \n",
              "  <style>\n",
              "    .colab-df-container {\n",
              "      display:flex;\n",
              "      flex-wrap:wrap;\n",
              "      gap: 12px;\n",
              "    }\n",
              "\n",
              "    .colab-df-convert {\n",
              "      background-color: #E8F0FE;\n",
              "      border: none;\n",
              "      border-radius: 50%;\n",
              "      cursor: pointer;\n",
              "      display: none;\n",
              "      fill: #1967D2;\n",
              "      height: 32px;\n",
              "      padding: 0 0 0 0;\n",
              "      width: 32px;\n",
              "    }\n",
              "\n",
              "    .colab-df-convert:hover {\n",
              "      background-color: #E2EBFA;\n",
              "      box-shadow: 0px 1px 2px rgba(60, 64, 67, 0.3), 0px 1px 3px 1px rgba(60, 64, 67, 0.15);\n",
              "      fill: #174EA6;\n",
              "    }\n",
              "\n",
              "    [theme=dark] .colab-df-convert {\n",
              "      background-color: #3B4455;\n",
              "      fill: #D2E3FC;\n",
              "    }\n",
              "\n",
              "    [theme=dark] .colab-df-convert:hover {\n",
              "      background-color: #434B5C;\n",
              "      box-shadow: 0px 1px 3px 1px rgba(0, 0, 0, 0.15);\n",
              "      filter: drop-shadow(0px 1px 2px rgba(0, 0, 0, 0.3));\n",
              "      fill: #FFFFFF;\n",
              "    }\n",
              "  </style>\n",
              "\n",
              "      <script>\n",
              "        const buttonEl =\n",
              "          document.querySelector('#df-e92044fd-68df-4943-ba74-6599f3fbb28f button.colab-df-convert');\n",
              "        buttonEl.style.display =\n",
              "          google.colab.kernel.accessAllowed ? 'block' : 'none';\n",
              "\n",
              "        async function convertToInteractive(key) {\n",
              "          const element = document.querySelector('#df-e92044fd-68df-4943-ba74-6599f3fbb28f');\n",
              "          const dataTable =\n",
              "            await google.colab.kernel.invokeFunction('convertToInteractive',\n",
              "                                                     [key], {});\n",
              "          if (!dataTable) return;\n",
              "\n",
              "          const docLinkHtml = 'Like what you see? Visit the ' +\n",
              "            '<a target=\"_blank\" href=https://colab.research.google.com/notebooks/data_table.ipynb>data table notebook</a>'\n",
              "            + ' to learn more about interactive tables.';\n",
              "          element.innerHTML = '';\n",
              "          dataTable['output_type'] = 'display_data';\n",
              "          await google.colab.output.renderOutput(dataTable, element);\n",
              "          const docLink = document.createElement('div');\n",
              "          docLink.innerHTML = docLinkHtml;\n",
              "          element.appendChild(docLink);\n",
              "        }\n",
              "      </script>\n",
              "    </div>\n",
              "  </div>\n",
              "  "
            ]
          },
          "metadata": {},
          "execution_count": 13
        }
      ]
    },
    {
      "cell_type": "code",
      "source": [
        "from sklearn.model_selection import train_test_split\n",
        "\n",
        "X_tr, X_te, y_tr, y_te = train_test_split(X, y, test_size = 0.3, stratify =y , random_state = SEED)\n",
        "\n",
        "X_tr.shape, X_te.shape, y_tr.shape, y_te.shape"
      ],
      "metadata": {
        "colab": {
          "base_uri": "https://localhost:8080/"
        },
        "id": "LUjz97MLHpXF",
        "outputId": "5fb30341-c02c-4289-cae2-d449dc6bb392"
      },
      "execution_count": 14,
      "outputs": [
        {
          "output_type": "execute_result",
          "data": {
            "text/plain": [
              "((641, 11), (275, 11), (641,), (275,))"
            ]
          },
          "metadata": {},
          "execution_count": 14
        }
      ]
    },
    {
      "cell_type": "markdown",
      "source": [
        "# Column Classification"
      ],
      "metadata": {
        "id": "-cmRrAWUGpHy"
      }
    },
    {
      "cell_type": "code",
      "execution_count": 15,
      "metadata": {
        "id": "VP-kFSMaGR2Q"
      },
      "outputs": [],
      "source": [
        "continous_cols = ['age', 'sibsp', 'parch', 'fare']\n",
        "category_cols = ['pclass', 'gender', 'embarked']\n",
        "other_cols = ['passengerid', 'name', 'ticket', 'cabin']"
      ]
    },
    {
      "cell_type": "markdown",
      "source": [
        "# ModelV6"
      ],
      "metadata": {
        "id": "MfHhOVQ9IPC-"
      }
    },
    {
      "cell_type": "markdown",
      "source": [
        "## Version History"
      ],
      "metadata": {
        "id": "OWmRiJxOAIxX"
      }
    },
    {
      "cell_type": "markdown",
      "source": [
        "- ModelV5 결과\n",
        "  - public score 85점 획득\n",
        "  - 지속적인 Version Upgrade를 통한 score 상승 필요\n",
        "- LGBMClassifier score\n",
        "  - train : 0.8798751950078003\n",
        "  - test : 0.8545454545454545\n",
        "- feature_importances의 상위 5개(변경 전후)\n",
        "  - 변경 전\n",
        "    - gender_male :\t0.532091\n",
        "    - age_random : \t0.204676\n",
        "    - fare\t: 0.176452\n",
        "    - pclass_3.0 : 0.025995\n",
        "    - sibsp\t: 0.024247\n",
        "  - 피쳐 생성 후\n",
        "    - gender_female\t0.531190\n",
        "    - fare\t0.169875\n",
        "    - age\t0.162931\n",
        "    - age_\t0.031489\n",
        "    - pclass\t0.028754\n",
        "  - 앙상블 후\n",
        "    - age\t597\n",
        "    -\tfare\t436\n",
        "    -\tpclass\t122\n",
        "    -\tgender_female\t100\n",
        "    -\tsibsp\t70\n",
        "  - 교차검증 KFold 이후\n",
        "    - age\t412\n",
        "    - fare\t345\n",
        "    - pclass\t118\n",
        "    - gender_female\t100\n",
        "    - parch\t91\n",
        "  - 교차검증 2차 이후\n",
        "    - age\t512\n",
        "    - fare\t269\n",
        "    - sibsp\t106\n",
        "    - pclass\t102\n",
        "    - gender_female\t100\n",
        "  - V5 HPO 이후\n",
        "    -\tage\t493\n",
        "    - fare\t156\n",
        "    - pclass\t146\n",
        "    - gender_female\t100\n",
        "    - parch\t83\n",
        "\n",
        "- 인사이트\n",
        "  - 하이퍼 파라미터 최적화를 통해 진행했지만 Score는 일정한 것으로 확인\n",
        "  - shap를 통한 Feature 중요도 파악 및 선정\n",
        "- 가설\n",
        "  - 유의미한 Feature 좀 더 다듬는다면 Score가 더 오를 것이다."
      ],
      "metadata": {
        "id": "Zy6GOOjNAXef"
      }
    },
    {
      "cell_type": "markdown",
      "source": [
        "## Missing value"
      ],
      "metadata": {
        "id": "LXWN5mB2ISq7"
      }
    },
    {
      "cell_type": "code",
      "source": [
        "ori_train = pd.read_csv(args.train_csv)\n",
        "ori_test = pd.read_csv(args.test_csv)\n",
        "\n",
        "X = ori_train.drop('survived', axis = 1)\n",
        "y = ori_train['survived'] \n",
        "\n",
        "from sklearn.model_selection import train_test_split\n",
        "\n",
        "X_tr, X_te, y_tr, y_te = train_test_split(X, y, test_size = 0.3, stratify =y , random_state = SEED)\n",
        "\n",
        "X_tr.shape, X_te.shape, y_tr.shape, y_te.shape"
      ],
      "metadata": {
        "colab": {
          "base_uri": "https://localhost:8080/"
        },
        "id": "8DDwlBkUCNeP",
        "outputId": "b815305d-e5f1-47ab-abe6-cb92860ee134"
      },
      "execution_count": 16,
      "outputs": [
        {
          "output_type": "execute_result",
          "data": {
            "text/plain": [
              "((641, 11), (275, 11), (641,), (275,))"
            ]
          },
          "metadata": {},
          "execution_count": 16
        }
      ]
    },
    {
      "cell_type": "code",
      "source": [
        "train = X_tr.copy() \n",
        "test = X_te.copy()\n",
        "ori_te = ori_test.copy()\n",
        "\n",
        "train.shape, test.shape, ori_te.shape"
      ],
      "metadata": {
        "colab": {
          "base_uri": "https://localhost:8080/"
        },
        "id": "ey7Hrig3COV1",
        "outputId": "bd14851c-0d20-4901-c52c-a4834c39cddc"
      },
      "execution_count": 17,
      "outputs": [
        {
          "output_type": "execute_result",
          "data": {
            "text/plain": [
              "((641, 11), (275, 11), (393, 11))"
            ]
          },
          "metadata": {},
          "execution_count": 17
        }
      ]
    },
    {
      "cell_type": "code",
      "source": [
        "train.drop('cabin', axis = 1, inplace=True)\n",
        "test.drop('cabin', axis = 1, inplace=True)\n",
        "ori_te.drop('cabin', axis = 1, inplace=True)\n",
        "\n",
        "train.shape, test.shape, ori_te.shape"
      ],
      "metadata": {
        "colab": {
          "base_uri": "https://localhost:8080/"
        },
        "id": "DuUr9Y-cCOTd",
        "outputId": "68cb2e4a-3ce6-45bf-ac83-937aa529c73f"
      },
      "execution_count": 18,
      "outputs": [
        {
          "output_type": "execute_result",
          "data": {
            "text/plain": [
              "((641, 10), (275, 10), (393, 10))"
            ]
          },
          "metadata": {},
          "execution_count": 18
        }
      ]
    },
    {
      "cell_type": "code",
      "source": [
        "from pandas.api.types import is_string_dtype\n",
        "from pandas.api.types import is_numeric_dtype\n",
        "\n",
        "def __get_cols_cleaning(p_pd_list:list) -> list:\n",
        "  cols_cleaning = []\n",
        "  for df in p_pd_list:\n",
        "    # 결측치 컬럼 조회\n",
        "    tmp = df.isnull().sum()\n",
        "    cols_cleaning += list(tmp[df.isnull().sum() > 0].index)\n",
        "\n",
        "  cols_cleaning = list(set(cols_cleaning))\n",
        "  print(f'cols_cleaning: {cols_cleaning}')\n",
        "  return cols_cleaning\n",
        "\n",
        "def add_cols_cleaning(p_train:pd.DataFrame, p_test:pd.DataFrame, p_ori_te:pd.DataFrame) -> None:\n",
        "  pd_list = [p_train, p_test, p_ori_te]\n",
        "  for col in __get_cols_cleaning(pd_list):  # for col in cols_cleaning:\n",
        "    for i, df in enumerate(pd_list, start=1): \n",
        "      \n",
        "      if is_numeric_dtype(df[col]): # 숫자형 결측치 처리\n",
        "        new_col = col+'_cleaning'\n",
        "        df[new_col] = df[col]   \n",
        "        # random sampling\n",
        "        random_sampling = (p_train[col].dropna().sample(df[col].isnull().sum()))\n",
        "        # index 부여\n",
        "        random_sampling.index = df[lambda x: x[col].isnull()].index \n",
        "        # NA imputation\n",
        "        df.loc[df[col].isnull(), new_col] = random_sampling\n",
        "        \n",
        "        # 기존 결측치 컬럼 제거\n",
        "        if i == len(pd_list):\n",
        "          for _df in pd_list:\n",
        "            _df.drop([col], axis=1, inplace=True)\n",
        "      \n",
        "      else: # 범주형 결측치 처리\n",
        "        df[col].fillna(p_train[col].mode().values[0], inplace=True)\n",
        "\n",
        "  print(f'p_train: {p_train.isnull().sum().sum()} / p_test: {p_test.isnull().sum().sum()} / p_ori_te: {p_ori_te.isnull().sum().sum()}')\n"
      ],
      "metadata": {
        "id": "DHomMdJxCORO"
      },
      "execution_count": 19,
      "outputs": []
    },
    {
      "cell_type": "code",
      "source": [
        "add_cols_cleaning(train, test, ori_te)"
      ],
      "metadata": {
        "colab": {
          "base_uri": "https://localhost:8080/"
        },
        "id": "WNoFhiVsCSaO",
        "outputId": "fa0857ba-aea1-45d0-bb57-9e6c57d045df"
      },
      "execution_count": 20,
      "outputs": [
        {
          "output_type": "stream",
          "name": "stdout",
          "text": [
            "cols_cleaning: ['embarked', 'fare', 'age']\n",
            "p_train: 0 / p_test: 0 / p_ori_te: 0\n"
          ]
        }
      ]
    },
    {
      "cell_type": "code",
      "source": [
        "cols = ['passengerid', 'pclass', 'name', 'gender', 'sibsp', 'parch', 'ticket',\n",
        "       'embarked', 'fare', 'age']\n",
        "\n",
        "for df in [train, test, ori_te]:\n",
        "  df.columns = cols"
      ],
      "metadata": {
        "id": "Z6uKfCxPC6Jt"
      },
      "execution_count": 21,
      "outputs": []
    },
    {
      "cell_type": "code",
      "source": [
        "train.shape, test.shape, ori_te.shape"
      ],
      "metadata": {
        "colab": {
          "base_uri": "https://localhost:8080/"
        },
        "id": "Jqqe-n7zCSU9",
        "outputId": "9f29646d-e5cc-4c6c-ec8f-921f8ce91518"
      },
      "execution_count": 22,
      "outputs": [
        {
          "output_type": "execute_result",
          "data": {
            "text/plain": [
              "((641, 10), (275, 10), (393, 10))"
            ]
          },
          "metadata": {},
          "execution_count": 22
        }
      ]
    },
    {
      "cell_type": "code",
      "source": [
        "train.isnull().sum().sum(), test.isnull().sum().sum(), ori_te.isnull().sum().sum()"
      ],
      "metadata": {
        "colab": {
          "base_uri": "https://localhost:8080/"
        },
        "id": "Omd4SjjoCSSe",
        "outputId": "3c66a408-f0dc-4481-c11d-d1e315f7972b"
      },
      "execution_count": 23,
      "outputs": [
        {
          "output_type": "execute_result",
          "data": {
            "text/plain": [
              "(0, 0, 0)"
            ]
          },
          "metadata": {},
          "execution_count": 23
        }
      ]
    },
    {
      "cell_type": "markdown",
      "source": [
        "## Add Feature"
      ],
      "metadata": {
        "id": "GeCLMq2OISoe"
      }
    },
    {
      "cell_type": "code",
      "source": [
        "train[\"age_\"] = train[\"age\"].map(lambda x: x // 10)\n",
        "test[\"age_\"] = test[\"age\"].map(lambda x: x // 10)\n",
        "ori_te[\"age_\"] = ori_te[\"age\"].map(lambda x: x // 10)\n",
        "\n",
        "train['age_'].unique()"
      ],
      "metadata": {
        "colab": {
          "base_uri": "https://localhost:8080/"
        },
        "id": "IbyZ8aMeCWQB",
        "outputId": "220a1c9c-f68b-4f82-b5da-7a3f23e3cc79"
      },
      "execution_count": 24,
      "outputs": [
        {
          "output_type": "execute_result",
          "data": {
            "text/plain": [
              "array([2., 3., 4., 6., 1., 0., 5., 7., 8.])"
            ]
          },
          "metadata": {},
          "execution_count": 24
        }
      ]
    },
    {
      "cell_type": "code",
      "source": [
        "train['gender_pclass'] = train.apply(lambda row: row['gender']+'_'+str(row['pclass']), axis=1)\n",
        "test['gender_pclass'] = test.apply(lambda row: row['gender']+'_'+str(row['pclass']), axis=1)\n",
        "ori_te['gender_pclass'] = ori_te.apply(lambda row: row['gender']+'_'+str(row['pclass']), axis=1)\n",
        "\n",
        "train['gender_pclass'].unique()"
      ],
      "metadata": {
        "colab": {
          "base_uri": "https://localhost:8080/"
        },
        "id": "WdDPpVKbCWNs",
        "outputId": "5ae21e3b-3b2b-48fa-ddd9-a65626d214c9"
      },
      "execution_count": 25,
      "outputs": [
        {
          "output_type": "execute_result",
          "data": {
            "text/plain": [
              "array(['male_1', 'female_1', 'male_3', 'male_2', 'female_3', 'female_2'],\n",
              "      dtype=object)"
            ]
          },
          "metadata": {},
          "execution_count": 25
        }
      ]
    },
    {
      "cell_type": "code",
      "source": [
        "train['gender_embarked'] = train.apply(lambda row: row['gender']+'_'+str(row['embarked']), axis=1)\n",
        "test['gender_embarked'] = test.apply(lambda row: row['gender']+'_'+str(row['embarked']), axis=1)\n",
        "ori_te['gender_embarked'] = ori_te.apply(lambda row: row['gender']+'_'+str(row['embarked']), axis=1)\n",
        "\n",
        "train['gender_embarked'].unique()"
      ],
      "metadata": {
        "colab": {
          "base_uri": "https://localhost:8080/"
        },
        "id": "fMHC-S9xCWLV",
        "outputId": "b204705f-dcbf-4345-846e-e8c51442d4dd"
      },
      "execution_count": 26,
      "outputs": [
        {
          "output_type": "execute_result",
          "data": {
            "text/plain": [
              "array(['male_S', 'female_C', 'male_Q', 'female_S', 'male_C', 'female_Q'],\n",
              "      dtype=object)"
            ]
          },
          "metadata": {},
          "execution_count": 26
        }
      ]
    },
    {
      "cell_type": "code",
      "source": [
        "for data in [train, test, ori_te]:\n",
        "  p1 = data['parch'] == 0\n",
        "  data['parch_solo'] = p1\n",
        "\n",
        "  p2 = data['parch'] == 1\n",
        "  data['parch_couple'] = p2\n",
        "\n",
        "  p3 = data['parch'] == 2 \n",
        "  p4 = data['parch'] == 3\n",
        "  p = p3 | p4\n",
        "  data['parch_family'] = p\n",
        "\n",
        "  p5 = data['parch'] >= 4\n",
        "  data['parch_big'] = p5\n",
        "\n",
        "train.shape, test.shape, ori_te.shape"
      ],
      "metadata": {
        "colab": {
          "base_uri": "https://localhost:8080/"
        },
        "id": "mMIP9gD5CWI-",
        "outputId": "54e7ec3c-2b0c-434b-82d6-733f1bb97201"
      },
      "execution_count": 27,
      "outputs": [
        {
          "output_type": "execute_result",
          "data": {
            "text/plain": [
              "((641, 17), (275, 17), (393, 17))"
            ]
          },
          "metadata": {},
          "execution_count": 27
        }
      ]
    },
    {
      "cell_type": "markdown",
      "source": [
        "## Scaling"
      ],
      "metadata": {
        "id": "pDBtiFIVISlv"
      }
    },
    {
      "cell_type": "code",
      "source": [
        "from sklearn.preprocessing import StandardScaler\n",
        "\n",
        "scaling_cols = ['pclass', 'sibsp', 'parch', 'age_', 'fare', 'age']\n",
        "scaler = StandardScaler()\n",
        "scaled_dfs = []\n",
        "\n",
        "for i, df in enumerate([train, test, ori_te]):\n",
        "  if not i:\n",
        "    _scaled = scaler.fit_transform(df[scaling_cols])\n",
        "  else:\n",
        "    _scaled = scaler.transform(df[scaling_cols])\n",
        "\n",
        "  _scaled_df = pd.DataFrame(\n",
        "    _scaled, \n",
        "    columns = scaling_cols\n",
        "  )\n",
        "\n",
        "  not_scaling_cols = list(set(df.columns) - set(scaling_cols))\n",
        "\n",
        "  scaled_dfs.append(\n",
        "    pd.concat(\n",
        "      [df[not_scaling_cols].reset_index(drop=True), _scaled_df.reset_index(drop=True)]\n",
        "      , axis=1\n",
        "    ).reset_index(drop=True)\n",
        "  )\n",
        "\n",
        "train = scaled_dfs[0]\n",
        "test = scaled_dfs[1]\n",
        "ori_te = scaled_dfs[2]\n",
        "\n",
        "print(f'{train.isnull().sum().sum()} / {test.isnull().sum().sum()} / {ori_te.isnull().sum().sum()}')\n",
        "train.shape, test.shape, ori_te.shape"
      ],
      "metadata": {
        "colab": {
          "base_uri": "https://localhost:8080/"
        },
        "id": "eyQnZbWEDB-F",
        "outputId": "6c5eaa4f-971d-4e8f-ce00-2a2bdc8e1fba"
      },
      "execution_count": 28,
      "outputs": [
        {
          "output_type": "stream",
          "name": "stdout",
          "text": [
            "0 / 0 / 0\n"
          ]
        },
        {
          "output_type": "execute_result",
          "data": {
            "text/plain": [
              "((641, 17), (275, 17), (393, 17))"
            ]
          },
          "metadata": {},
          "execution_count": 28
        }
      ]
    },
    {
      "cell_type": "markdown",
      "source": [
        "## Encoding"
      ],
      "metadata": {
        "id": "XHDXDa3OISgO"
      }
    },
    {
      "cell_type": "code",
      "source": [
        "for df in [train, test, ori_te]:\n",
        "  df['parch_big'] = df['parch_big'].astype(\"int32\")\n",
        "  df['parch_family'] = df['parch_family'].astype(\"int32\")\n",
        "  df['parch_solo'] = df['parch_solo'].astype(\"int32\")\n",
        "  df['parch_couple'] = df['parch_couple'].astype(\"int32\")"
      ],
      "metadata": {
        "id": "AtERt5p0DEyt"
      },
      "execution_count": 29,
      "outputs": []
    },
    {
      "cell_type": "code",
      "source": [
        "from sklearn.preprocessing import OneHotEncoder\n",
        "\n",
        "enc_cols = ['gender', 'embarked', 'gender_pclass', 'gender_embarked']\n",
        "print(f'len_enc_cols: {len(enc_cols)}')\n",
        "encoder = OneHotEncoder() \n",
        "enc_dfs = []\n",
        "\n",
        "for i, df in enumerate([train, test, ori_te]):\n",
        "  if not i:\n",
        "    _encoded = encoder.fit_transform(df[enc_cols])\n",
        "  else:\n",
        "    _encoded = encoder.transform(df[enc_cols])\n",
        "\n",
        "  _encoded_df = pd.DataFrame(\n",
        "    _encoded.toarray(), \n",
        "    columns = encoder.get_feature_names_out()\n",
        "  )\n",
        "\n",
        "  not_enc_cols = list(set(df.columns) - set(enc_cols))\n",
        "  enc_dfs.append(\n",
        "    pd.concat(\n",
        "      [df[not_enc_cols].reset_index(drop=True), _encoded_df.reset_index(drop=True)]\n",
        "      , axis=1\n",
        "    ).reset_index(drop=True)\n",
        "  )\n",
        "\n",
        "train = enc_dfs[0]\n",
        "test = enc_dfs[1]\n",
        "ori_te = enc_dfs[2]\n",
        "\n",
        "print(f'{train.isnull().sum().sum()} / {test.isnull().sum().sum()} / {ori_te.isnull().sum().sum()}')\n",
        "train.shape, test.shape, ori_te.shape"
      ],
      "metadata": {
        "colab": {
          "base_uri": "https://localhost:8080/"
        },
        "id": "SwE7Pyi3DEsd",
        "outputId": "bac3facb-65f5-4fed-b1d8-9c1479e0c75b"
      },
      "execution_count": 30,
      "outputs": [
        {
          "output_type": "stream",
          "name": "stdout",
          "text": [
            "len_enc_cols: 4\n",
            "0 / 0 / 0\n"
          ]
        },
        {
          "output_type": "execute_result",
          "data": {
            "text/plain": [
              "((641, 30), (275, 30), (393, 30))"
            ]
          },
          "metadata": {},
          "execution_count": 30
        }
      ]
    },
    {
      "cell_type": "markdown",
      "source": [
        "## Modeling"
      ],
      "metadata": {
        "id": "RM4UoBviIfya"
      }
    },
    {
      "cell_type": "code",
      "source": [
        "cols = ['parch', 'sibsp', 'age', 'parch_big',\n",
        "       'fare', 'parch_family', 'parch_solo', 'pclass', 'parch_couple', 'age_',\n",
        "       'gender_female', 'gender_male', 'embarked_C', 'embarked_Q',\n",
        "       'embarked_S', 'gender_pclass_female_1', 'gender_pclass_female_2',\n",
        "       'gender_pclass_female_3', 'gender_pclass_male_1',\n",
        "       'gender_pclass_male_2', 'gender_pclass_male_3',\n",
        "       'gender_embarked_female_C', 'gender_embarked_female_Q',\n",
        "       'gender_embarked_female_S', 'gender_embarked_male_C',\n",
        "       'gender_embarked_male_Q', 'gender_embarked_male_S']\n",
        "\n",
        "X_tr = train[cols]\n",
        "X_te = test[cols]\n",
        "ori_te = ori_te[cols]\n",
        "\n",
        "X_tr.shape, X_te.shape, ori_te.shape"
      ],
      "metadata": {
        "colab": {
          "base_uri": "https://localhost:8080/"
        },
        "id": "1xTE4Sg6DtxJ",
        "outputId": "f0187350-d4d2-4490-e687-5c12e44b9ef1"
      },
      "execution_count": 31,
      "outputs": [
        {
          "output_type": "execute_result",
          "data": {
            "text/plain": [
              "((641, 27), (275, 27), (393, 27))"
            ]
          },
          "metadata": {},
          "execution_count": 31
        }
      ]
    },
    {
      "cell_type": "code",
      "source": [
        "X_tr.shape, X_te.shape, y_te.shape, y_tr.shape"
      ],
      "metadata": {
        "colab": {
          "base_uri": "https://localhost:8080/"
        },
        "id": "eLCZlPFmDtu2",
        "outputId": "6050cdea-3c3e-41db-a63d-14dfb9ddb311"
      },
      "execution_count": 32,
      "outputs": [
        {
          "output_type": "execute_result",
          "data": {
            "text/plain": [
              "((641, 27), (275, 27), (275,), (641,))"
            ]
          },
          "metadata": {},
          "execution_count": 32
        }
      ]
    },
    {
      "cell_type": "code",
      "source": [
        "X_tr.reset_index(drop=True, inplace=True)\n",
        "X_te.reset_index(drop=True, inplace=True)\n",
        "y_te.reset_index(drop=True, inplace=True)\n",
        "y_tr.reset_index(drop=True, inplace=True)"
      ],
      "metadata": {
        "id": "DrI1DoXpDv9W"
      },
      "execution_count": 33,
      "outputs": []
    },
    {
      "cell_type": "markdown",
      "source": [
        "> HPO"
      ],
      "metadata": {
        "id": "mWUidCQhD0vP"
      }
    },
    {
      "cell_type": "code",
      "source": [
        "!pip install optuna"
      ],
      "metadata": {
        "colab": {
          "base_uri": "https://localhost:8080/"
        },
        "id": "GTmJR595D2rG",
        "outputId": "5bbd6e6d-31a1-41b2-ca2e-06954c4a9427"
      },
      "execution_count": 34,
      "outputs": [
        {
          "output_type": "stream",
          "name": "stdout",
          "text": [
            "Looking in indexes: https://pypi.org/simple, https://us-python.pkg.dev/colab-wheels/public/simple/\n",
            "Collecting optuna\n",
            "  Downloading optuna-3.1.0-py3-none-any.whl (365 kB)\n",
            "\u001b[2K     \u001b[90m━━━━━━━━━━━━━━━━━━━━━━━━━━━━━━━━━━━━━━━\u001b[0m \u001b[32m365.3/365.3 KB\u001b[0m \u001b[31m7.1 MB/s\u001b[0m eta \u001b[36m0:00:00\u001b[0m\n",
            "\u001b[?25hCollecting alembic>=1.5.0\n",
            "  Downloading alembic-1.9.4-py3-none-any.whl (210 kB)\n",
            "\u001b[2K     \u001b[90m━━━━━━━━━━━━━━━━━━━━━━━━━━━━━━━━━━━━━━\u001b[0m \u001b[32m210.5/210.5 KB\u001b[0m \u001b[31m21.6 MB/s\u001b[0m eta \u001b[36m0:00:00\u001b[0m\n",
            "\u001b[?25hRequirement already satisfied: packaging>=20.0 in /usr/local/lib/python3.8/dist-packages (from optuna) (23.0)\n",
            "Requirement already satisfied: PyYAML in /usr/local/lib/python3.8/dist-packages (from optuna) (6.0)\n",
            "Requirement already satisfied: sqlalchemy>=1.3.0 in /usr/local/lib/python3.8/dist-packages (from optuna) (1.4.46)\n",
            "Collecting cmaes>=0.9.1\n",
            "  Downloading cmaes-0.9.1-py3-none-any.whl (21 kB)\n",
            "Collecting colorlog\n",
            "  Downloading colorlog-6.7.0-py2.py3-none-any.whl (11 kB)\n",
            "Requirement already satisfied: tqdm in /usr/local/lib/python3.8/dist-packages (from optuna) (4.64.1)\n",
            "Requirement already satisfied: numpy in /usr/local/lib/python3.8/dist-packages (from optuna) (1.22.4)\n",
            "Requirement already satisfied: importlib-metadata in /usr/local/lib/python3.8/dist-packages (from alembic>=1.5.0->optuna) (6.0.0)\n",
            "Requirement already satisfied: importlib-resources in /usr/local/lib/python3.8/dist-packages (from alembic>=1.5.0->optuna) (5.12.0)\n",
            "Collecting Mako\n",
            "  Downloading Mako-1.2.4-py3-none-any.whl (78 kB)\n",
            "\u001b[2K     \u001b[90m━━━━━━━━━━━━━━━━━━━━━━━━━━━━━━━━━━━━━━━━\u001b[0m \u001b[32m78.7/78.7 KB\u001b[0m \u001b[31m11.1 MB/s\u001b[0m eta \u001b[36m0:00:00\u001b[0m\n",
            "\u001b[?25hRequirement already satisfied: greenlet!=0.4.17 in /usr/local/lib/python3.8/dist-packages (from sqlalchemy>=1.3.0->optuna) (2.0.2)\n",
            "Requirement already satisfied: zipp>=0.5 in /usr/local/lib/python3.8/dist-packages (from importlib-metadata->alembic>=1.5.0->optuna) (3.15.0)\n",
            "Requirement already satisfied: MarkupSafe>=0.9.2 in /usr/local/lib/python3.8/dist-packages (from Mako->alembic>=1.5.0->optuna) (2.1.2)\n",
            "Installing collected packages: Mako, colorlog, cmaes, alembic, optuna\n",
            "Successfully installed Mako-1.2.4 alembic-1.9.4 cmaes-0.9.1 colorlog-6.7.0 optuna-3.1.0\n"
          ]
        }
      ]
    },
    {
      "cell_type": "code",
      "source": [
        "import optuna\n",
        "from sklearn.model_selection import cross_val_score\n",
        "from optuna.samplers import TPESampler\n",
        "optuna.logging.disable_default_handler()"
      ],
      "metadata": {
        "id": "ZtxDmv1aD2o-"
      },
      "execution_count": 35,
      "outputs": []
    },
    {
      "cell_type": "code",
      "source": [
        "from sklearn import svm\n",
        "from sklearn.model_selection import StratifiedKFold\n",
        "from sklearn.metrics import roc_curve, auc\n",
        "\n",
        "from lightgbm import LGBMClassifier, plot_importance"
      ],
      "metadata": {
        "id": "yAJL1-g_FiSv"
      },
      "execution_count": 36,
      "outputs": []
    },
    {
      "cell_type": "code",
      "source": [
        "class Objective:\n",
        "    def __init__(self, x_train, y_train, seed):\n",
        "        self.x_train = x_train\n",
        "        self.y_train = y_train\n",
        "        self.seed = seed\n",
        "        num_folds=5\n",
        "        self.cv = StratifiedKFold(n_splits=num_folds,shuffle=True,random_state=self.seed)\n",
        "    def __call__(self,trial):\n",
        "        hp = {\n",
        "            \"max_depth\" : trial.suggest_int(\"max_depth\",2,5),\n",
        "            \"min_samples_split\" : trial.suggest_int(\"min_samples_split\",2,5),\n",
        "            \"criterion\" : trial.suggest_categorical(\"criterion\",[\"gini\",\"entropy\"]),\n",
        "            \"max_leaf_nodes\" : trial.suggest_int(\"max_leaf_nodes\",5,10),\n",
        "            \"n_estimators\" : trial.suggest_int(\"n_estimators\",10,500,50),\n",
        "            \"learning_rate\" : trial.suggest_float(\"learning_rate\",0.01,0.1)\n",
        "        }\n",
        "        model = LGBMClassifier(random_state=self.seed,**hp) #LGBMClassifier\n",
        "        scores = cross_val_score(model,self.x_train,self.y_train, cv = self.cv , scoring=\"roc_auc\")\n",
        "        return np.mean(scores)"
      ],
      "metadata": {
        "id": "mZxpgKFqD2m1"
      },
      "execution_count": 37,
      "outputs": []
    },
    {
      "cell_type": "code",
      "source": [
        "sampler = TPESampler(seed=SEED)\n",
        "\n",
        "study = optuna.create_study(\n",
        "    direction = \"maximize\",\n",
        "    sampler = sampler\n",
        ")\n",
        "objective = Objective(X_tr, y_tr, SEED)\n",
        "study.optimize(objective, n_trials=50)\n",
        "\n",
        "print(\"Best Score:\", study.best_value)\n",
        "print(\"Best hp\", study.best_params)"
      ],
      "metadata": {
        "colab": {
          "base_uri": "https://localhost:8080/"
        },
        "id": "oo_umkoAEam-",
        "outputId": "bd88f095-fd47-4256-b5d8-f8da47bb4111"
      },
      "execution_count": 38,
      "outputs": [
        {
          "output_type": "stream",
          "name": "stdout",
          "text": [
            "Best Score: 0.9051807309157841\n",
            "Best hp {'max_depth': 3, 'min_samples_split': 4, 'criterion': 'entropy', 'max_leaf_nodes': 7, 'n_estimators': 10, 'learning_rate': 0.09312792146130952}\n"
          ]
        }
      ]
    },
    {
      "cell_type": "code",
      "source": [
        "# 모델 정의\n",
        "modelV6 = LGBMClassifier(random_state=SEED, **study.best_params)"
      ],
      "metadata": {
        "id": "cLjyEvMtEATe"
      },
      "execution_count": 39,
      "outputs": []
    },
    {
      "cell_type": "code",
      "source": [
        "# 교차 검증\n",
        "skf = StratifiedKFold(n_splits=5, shuffle=True, random_state=0)"
      ],
      "metadata": {
        "id": "4WWykQlAGzRg"
      },
      "execution_count": 40,
      "outputs": []
    },
    {
      "cell_type": "code",
      "source": [
        "from sklearn.metrics import roc_curve, auc\n",
        "\n",
        "n_iter = 0\n",
        "auc_te_lst = []\n",
        "\n",
        "for train_index, valid_index in skf.split(X_tr, y_tr):\n",
        "  n_iter += 1\n",
        "  # 학습용, 검증용 데이터 구성\n",
        "  train_x, valid_x = X_tr.loc[train_index], X_tr.loc[valid_index]\n",
        "  train_y, valid_y = y_tr.loc[train_index], y_tr.loc[valid_index]\n",
        "  # 학습\n",
        "  modelV6.fit(train_x, train_y)\n",
        "  # 예측\n",
        "  pred_prob = modelV6.predict_proba(valid_x)[:, 1]  # 클래스 1에 속할 확률 값만 가져옴\n",
        "  # 평가\n",
        "  fpr, tpr, thresholds = roc_curve(valid_y, pred_prob)\n",
        "  auc_te = auc(fpr, tpr)\n",
        "  auc_te_lst.append(auc_te)\n",
        "  print(f'{n_iter} 번째 StratifiedKFold AUC: {auc_te:.4f}, 학습데이터 크기: {train_x.shape}, 검증데이터 크기: {valid_x.shape}')\n",
        "\n",
        "# 최종 평가\n",
        "print('-'*50)\n",
        "print(f'교차 검증 AUC: {np.mean(auc_te_lst):.4f} / 모델 평가: {modelV6.score(X_te, y_te)}')"
      ],
      "metadata": {
        "colab": {
          "base_uri": "https://localhost:8080/"
        },
        "id": "8jKY-dv0G0KR",
        "outputId": "d44b8f40-6651-4fd9-8461-6dea33c327d5"
      },
      "execution_count": 41,
      "outputs": [
        {
          "output_type": "stream",
          "name": "stdout",
          "text": [
            "1 번째 StratifiedKFold AUC: 0.8938, 학습데이터 크기: (512, 27), 검증데이터 크기: (129, 27)\n",
            "2 번째 StratifiedKFold AUC: 0.8973, 학습데이터 크기: (513, 27), 검증데이터 크기: (128, 27)\n",
            "3 번째 StratifiedKFold AUC: 0.9012, 학습데이터 크기: (513, 27), 검증데이터 크기: (128, 27)\n",
            "4 번째 StratifiedKFold AUC: 0.9285, 학습데이터 크기: (513, 27), 검증데이터 크기: (128, 27)\n",
            "5 번째 StratifiedKFold AUC: 0.9044, 학습데이터 크기: (513, 27), 검증데이터 크기: (128, 27)\n",
            "--------------------------------------------------\n",
            "교차 검증 AUC: 0.9050 / 모델 평가: 0.84\n"
          ]
        }
      ]
    },
    {
      "cell_type": "code",
      "source": [
        "df_feature_importances = pd.DataFrame(modelV6.feature_importances_, X_tr.columns).sort_values(by=[0], ascending=False).reset_index()\n",
        "\n",
        "print(f'{df_feature_importances.shape}')\n",
        "df_feature_importances"
      ],
      "metadata": {
        "colab": {
          "base_uri": "https://localhost:8080/",
          "height": 914
        },
        "id": "KWYTwx-8IMDv",
        "outputId": "70540f01-194f-482f-bdcf-75451e14793f"
      },
      "execution_count": 42,
      "outputs": [
        {
          "output_type": "stream",
          "name": "stdout",
          "text": [
            "(27, 2)\n"
          ]
        },
        {
          "output_type": "execute_result",
          "data": {
            "text/plain": [
              "                       index   0\n",
              "0                       fare  19\n",
              "1                        age  14\n",
              "2                     pclass  10\n",
              "3              gender_female  10\n",
              "4                 embarked_Q   4\n",
              "5                 embarked_S   4\n",
              "6                      sibsp   4\n",
              "7                 parch_solo   2\n",
              "8   gender_embarked_female_C   0\n",
              "9       gender_pclass_male_2   0\n",
              "10      gender_pclass_male_3   0\n",
              "11  gender_embarked_female_S   0\n",
              "12  gender_embarked_female_Q   0\n",
              "13    gender_pclass_female_3   0\n",
              "14    gender_embarked_male_C   0\n",
              "15    gender_embarked_male_Q   0\n",
              "16      gender_pclass_male_1   0\n",
              "17                     parch   0\n",
              "18    gender_pclass_female_2   0\n",
              "19    gender_pclass_female_1   0\n",
              "20                embarked_C   0\n",
              "21               gender_male   0\n",
              "22                      age_   0\n",
              "23              parch_couple   0\n",
              "24              parch_family   0\n",
              "25                 parch_big   0\n",
              "26    gender_embarked_male_S   0"
            ],
            "text/html": [
              "\n",
              "  <div id=\"df-9ed3bdd3-d3a9-48c9-a722-df5f161a42e1\">\n",
              "    <div class=\"colab-df-container\">\n",
              "      <div>\n",
              "<style scoped>\n",
              "    .dataframe tbody tr th:only-of-type {\n",
              "        vertical-align: middle;\n",
              "    }\n",
              "\n",
              "    .dataframe tbody tr th {\n",
              "        vertical-align: top;\n",
              "    }\n",
              "\n",
              "    .dataframe thead th {\n",
              "        text-align: right;\n",
              "    }\n",
              "</style>\n",
              "<table border=\"1\" class=\"dataframe\">\n",
              "  <thead>\n",
              "    <tr style=\"text-align: right;\">\n",
              "      <th></th>\n",
              "      <th>index</th>\n",
              "      <th>0</th>\n",
              "    </tr>\n",
              "  </thead>\n",
              "  <tbody>\n",
              "    <tr>\n",
              "      <th>0</th>\n",
              "      <td>fare</td>\n",
              "      <td>19</td>\n",
              "    </tr>\n",
              "    <tr>\n",
              "      <th>1</th>\n",
              "      <td>age</td>\n",
              "      <td>14</td>\n",
              "    </tr>\n",
              "    <tr>\n",
              "      <th>2</th>\n",
              "      <td>pclass</td>\n",
              "      <td>10</td>\n",
              "    </tr>\n",
              "    <tr>\n",
              "      <th>3</th>\n",
              "      <td>gender_female</td>\n",
              "      <td>10</td>\n",
              "    </tr>\n",
              "    <tr>\n",
              "      <th>4</th>\n",
              "      <td>embarked_Q</td>\n",
              "      <td>4</td>\n",
              "    </tr>\n",
              "    <tr>\n",
              "      <th>5</th>\n",
              "      <td>embarked_S</td>\n",
              "      <td>4</td>\n",
              "    </tr>\n",
              "    <tr>\n",
              "      <th>6</th>\n",
              "      <td>sibsp</td>\n",
              "      <td>4</td>\n",
              "    </tr>\n",
              "    <tr>\n",
              "      <th>7</th>\n",
              "      <td>parch_solo</td>\n",
              "      <td>2</td>\n",
              "    </tr>\n",
              "    <tr>\n",
              "      <th>8</th>\n",
              "      <td>gender_embarked_female_C</td>\n",
              "      <td>0</td>\n",
              "    </tr>\n",
              "    <tr>\n",
              "      <th>9</th>\n",
              "      <td>gender_pclass_male_2</td>\n",
              "      <td>0</td>\n",
              "    </tr>\n",
              "    <tr>\n",
              "      <th>10</th>\n",
              "      <td>gender_pclass_male_3</td>\n",
              "      <td>0</td>\n",
              "    </tr>\n",
              "    <tr>\n",
              "      <th>11</th>\n",
              "      <td>gender_embarked_female_S</td>\n",
              "      <td>0</td>\n",
              "    </tr>\n",
              "    <tr>\n",
              "      <th>12</th>\n",
              "      <td>gender_embarked_female_Q</td>\n",
              "      <td>0</td>\n",
              "    </tr>\n",
              "    <tr>\n",
              "      <th>13</th>\n",
              "      <td>gender_pclass_female_3</td>\n",
              "      <td>0</td>\n",
              "    </tr>\n",
              "    <tr>\n",
              "      <th>14</th>\n",
              "      <td>gender_embarked_male_C</td>\n",
              "      <td>0</td>\n",
              "    </tr>\n",
              "    <tr>\n",
              "      <th>15</th>\n",
              "      <td>gender_embarked_male_Q</td>\n",
              "      <td>0</td>\n",
              "    </tr>\n",
              "    <tr>\n",
              "      <th>16</th>\n",
              "      <td>gender_pclass_male_1</td>\n",
              "      <td>0</td>\n",
              "    </tr>\n",
              "    <tr>\n",
              "      <th>17</th>\n",
              "      <td>parch</td>\n",
              "      <td>0</td>\n",
              "    </tr>\n",
              "    <tr>\n",
              "      <th>18</th>\n",
              "      <td>gender_pclass_female_2</td>\n",
              "      <td>0</td>\n",
              "    </tr>\n",
              "    <tr>\n",
              "      <th>19</th>\n",
              "      <td>gender_pclass_female_1</td>\n",
              "      <td>0</td>\n",
              "    </tr>\n",
              "    <tr>\n",
              "      <th>20</th>\n",
              "      <td>embarked_C</td>\n",
              "      <td>0</td>\n",
              "    </tr>\n",
              "    <tr>\n",
              "      <th>21</th>\n",
              "      <td>gender_male</td>\n",
              "      <td>0</td>\n",
              "    </tr>\n",
              "    <tr>\n",
              "      <th>22</th>\n",
              "      <td>age_</td>\n",
              "      <td>0</td>\n",
              "    </tr>\n",
              "    <tr>\n",
              "      <th>23</th>\n",
              "      <td>parch_couple</td>\n",
              "      <td>0</td>\n",
              "    </tr>\n",
              "    <tr>\n",
              "      <th>24</th>\n",
              "      <td>parch_family</td>\n",
              "      <td>0</td>\n",
              "    </tr>\n",
              "    <tr>\n",
              "      <th>25</th>\n",
              "      <td>parch_big</td>\n",
              "      <td>0</td>\n",
              "    </tr>\n",
              "    <tr>\n",
              "      <th>26</th>\n",
              "      <td>gender_embarked_male_S</td>\n",
              "      <td>0</td>\n",
              "    </tr>\n",
              "  </tbody>\n",
              "</table>\n",
              "</div>\n",
              "      <button class=\"colab-df-convert\" onclick=\"convertToInteractive('df-9ed3bdd3-d3a9-48c9-a722-df5f161a42e1')\"\n",
              "              title=\"Convert this dataframe to an interactive table.\"\n",
              "              style=\"display:none;\">\n",
              "        \n",
              "  <svg xmlns=\"http://www.w3.org/2000/svg\" height=\"24px\"viewBox=\"0 0 24 24\"\n",
              "       width=\"24px\">\n",
              "    <path d=\"M0 0h24v24H0V0z\" fill=\"none\"/>\n",
              "    <path d=\"M18.56 5.44l.94 2.06.94-2.06 2.06-.94-2.06-.94-.94-2.06-.94 2.06-2.06.94zm-11 1L8.5 8.5l.94-2.06 2.06-.94-2.06-.94L8.5 2.5l-.94 2.06-2.06.94zm10 10l.94 2.06.94-2.06 2.06-.94-2.06-.94-.94-2.06-.94 2.06-2.06.94z\"/><path d=\"M17.41 7.96l-1.37-1.37c-.4-.4-.92-.59-1.43-.59-.52 0-1.04.2-1.43.59L10.3 9.45l-7.72 7.72c-.78.78-.78 2.05 0 2.83L4 21.41c.39.39.9.59 1.41.59.51 0 1.02-.2 1.41-.59l7.78-7.78 2.81-2.81c.8-.78.8-2.07 0-2.86zM5.41 20L4 18.59l7.72-7.72 1.47 1.35L5.41 20z\"/>\n",
              "  </svg>\n",
              "      </button>\n",
              "      \n",
              "  <style>\n",
              "    .colab-df-container {\n",
              "      display:flex;\n",
              "      flex-wrap:wrap;\n",
              "      gap: 12px;\n",
              "    }\n",
              "\n",
              "    .colab-df-convert {\n",
              "      background-color: #E8F0FE;\n",
              "      border: none;\n",
              "      border-radius: 50%;\n",
              "      cursor: pointer;\n",
              "      display: none;\n",
              "      fill: #1967D2;\n",
              "      height: 32px;\n",
              "      padding: 0 0 0 0;\n",
              "      width: 32px;\n",
              "    }\n",
              "\n",
              "    .colab-df-convert:hover {\n",
              "      background-color: #E2EBFA;\n",
              "      box-shadow: 0px 1px 2px rgba(60, 64, 67, 0.3), 0px 1px 3px 1px rgba(60, 64, 67, 0.15);\n",
              "      fill: #174EA6;\n",
              "    }\n",
              "\n",
              "    [theme=dark] .colab-df-convert {\n",
              "      background-color: #3B4455;\n",
              "      fill: #D2E3FC;\n",
              "    }\n",
              "\n",
              "    [theme=dark] .colab-df-convert:hover {\n",
              "      background-color: #434B5C;\n",
              "      box-shadow: 0px 1px 3px 1px rgba(0, 0, 0, 0.15);\n",
              "      filter: drop-shadow(0px 1px 2px rgba(0, 0, 0, 0.3));\n",
              "      fill: #FFFFFF;\n",
              "    }\n",
              "  </style>\n",
              "\n",
              "      <script>\n",
              "        const buttonEl =\n",
              "          document.querySelector('#df-9ed3bdd3-d3a9-48c9-a722-df5f161a42e1 button.colab-df-convert');\n",
              "        buttonEl.style.display =\n",
              "          google.colab.kernel.accessAllowed ? 'block' : 'none';\n",
              "\n",
              "        async function convertToInteractive(key) {\n",
              "          const element = document.querySelector('#df-9ed3bdd3-d3a9-48c9-a722-df5f161a42e1');\n",
              "          const dataTable =\n",
              "            await google.colab.kernel.invokeFunction('convertToInteractive',\n",
              "                                                     [key], {});\n",
              "          if (!dataTable) return;\n",
              "\n",
              "          const docLinkHtml = 'Like what you see? Visit the ' +\n",
              "            '<a target=\"_blank\" href=https://colab.research.google.com/notebooks/data_table.ipynb>data table notebook</a>'\n",
              "            + ' to learn more about interactive tables.';\n",
              "          element.innerHTML = '';\n",
              "          dataTable['output_type'] = 'display_data';\n",
              "          await google.colab.output.renderOutput(dataTable, element);\n",
              "          const docLink = document.createElement('div');\n",
              "          docLink.innerHTML = docLinkHtml;\n",
              "          element.appendChild(docLink);\n",
              "        }\n",
              "      </script>\n",
              "    </div>\n",
              "  </div>\n",
              "  "
            ]
          },
          "metadata": {},
          "execution_count": 42
        }
      ]
    },
    {
      "cell_type": "markdown",
      "source": [
        "## Evaluation"
      ],
      "metadata": {
        "id": "T2CYFfH7IRdH"
      }
    },
    {
      "cell_type": "code",
      "source": [
        "score_tr = modelV6.score(X_tr, y_tr)\n",
        "score_te = modelV6.score(X_te, y_te)\n",
        "\n",
        "score_tr, score_te"
      ],
      "metadata": {
        "colab": {
          "base_uri": "https://localhost:8080/"
        },
        "id": "BfWCyL-xIUn_",
        "outputId": "ccd2aad6-a6cc-4800-aa6e-ed7fe4529cbc"
      },
      "execution_count": 43,
      "outputs": [
        {
          "output_type": "execute_result",
          "data": {
            "text/plain": [
              "(0.8705148205928237, 0.84)"
            ]
          },
          "metadata": {},
          "execution_count": 43
        }
      ]
    },
    {
      "cell_type": "code",
      "source": [
        "ori_te_pred = modelV6.predict_proba(ori_te)[:,1]\n",
        "ori_te_pred.shape"
      ],
      "metadata": {
        "colab": {
          "base_uri": "https://localhost:8080/"
        },
        "id": "6-DmawXonqcW",
        "outputId": "95be7f1e-4a48-419c-f979-9a2d6c151f4d"
      },
      "execution_count": 46,
      "outputs": [
        {
          "output_type": "execute_result",
          "data": {
            "text/plain": [
              "(393,)"
            ]
          },
          "metadata": {},
          "execution_count": 46
        }
      ]
    },
    {
      "cell_type": "code",
      "source": [
        "args.results.append(\n",
        "    {\n",
        "        'model': 'modelV6',\n",
        "        'score_tr': score_tr,\n",
        "        'score_te': score_te,\n",
        "        'auc_te': auc_te,\n",
        "        'ori_te_pred': ori_te_pred,\n",
        "        'len_features': X_tr.shape[1],\n",
        "        'feaute_importances': list(df_feature_importances['index'].values[:X_tr.shape[1]]),\n",
        "        'create_dt': '0303'\n",
        "    }\n",
        ")"
      ],
      "metadata": {
        "id": "eid4PY_mIa45"
      },
      "execution_count": 47,
      "outputs": []
    },
    {
      "cell_type": "markdown",
      "source": [
        "# ModelV7"
      ],
      "metadata": {
        "id": "5BilP8irMeKY"
      }
    },
    {
      "cell_type": "markdown",
      "source": [
        "## Version History"
      ],
      "metadata": {
        "id": "ZROknEovMryp"
      }
    },
    {
      "cell_type": "markdown",
      "source": [
        "- ModelV6 결과\n",
        "  - public score 90점 획득\n",
        "  - 지속적인 Version Upgrade를 통한 score 상승 필요\n",
        "  - 오타가 있는지 체크확인 필요\n",
        "- LGBMClassifier score\n",
        "  - train : 0.8798751950078003\n",
        "  - test : 0.8545454545454545\n",
        "- feature_importances의 상위 5개(변경 전후)\n",
        "  - 변경 전\n",
        "    - gender_male :\t0.532091\n",
        "    - age_random : \t0.204676\n",
        "    - fare\t: 0.176452\n",
        "    - pclass_3.0 : 0.025995\n",
        "    - sibsp\t: 0.024247\n",
        "  - 피쳐 생성 후\n",
        "    - gender_female\t0.531190\n",
        "    - fare\t0.169875\n",
        "    - age\t0.162931\n",
        "    - age_\t0.031489\n",
        "    - pclass\t0.028754\n",
        "  - 앙상블 후\n",
        "    - age\t597\n",
        "    -\tfare\t436\n",
        "    -\tpclass\t122\n",
        "    -\tgender_female\t100\n",
        "    -\tsibsp\t70\n",
        "  - 교차검증 KFold 이후\n",
        "    - age\t412\n",
        "    - fare\t345\n",
        "    - pclass\t118\n",
        "    - gender_female\t100\n",
        "    - parch\t91\n",
        "  - 교차검증 2차 이후\n",
        "    - age\t512\n",
        "    - fare\t269\n",
        "    - sibsp\t106\n",
        "    - pclass\t102\n",
        "    - gender_female\t100\n",
        "  - V5 HPO 이후\n",
        "    -\tage\t493\n",
        "    - fare\t156\n",
        "    - pclass\t146\n",
        "    - gender_female\t100\n",
        "    - parch\t83\n",
        "  - V6 오타 수정 이후\n",
        "    - age\t177\n",
        "    - fare\t95\n",
        "    - sibsp\t53\n",
        "    - gender_female\t50\n",
        "    - pclass\t45\n",
        "\n",
        "- 인사이트\n",
        "  - 오타 수정 후 적용한 결과 Score가 5점 상승한 것으로 확인\n",
        "  - shap를 통한 Feature 중요도 파악 및 선정 재진행\n",
        "- 가설\n",
        "  - 유의미한 Feature 좀 더 다듬는다면 Score가 더 오를 것이다."
      ],
      "metadata": {
        "id": "VWKyuxUhMlIS"
      }
    },
    {
      "cell_type": "markdown",
      "source": [
        "## Missing value\n"
      ],
      "metadata": {
        "id": "l1LsISNoMlBS"
      }
    },
    {
      "cell_type": "code",
      "source": [
        "ori_train = pd.read_csv(args.train_csv)\n",
        "ori_test = pd.read_csv(args.test_csv)\n",
        "\n",
        "X = ori_train.drop('survived', axis = 1)\n",
        "y = ori_train['survived'] \n",
        "\n",
        "from sklearn.model_selection import train_test_split\n",
        "\n",
        "X_tr, X_te, y_tr, y_te = train_test_split(X, y, test_size = 0.3, stratify =y , random_state = SEED)\n",
        "\n",
        "X_tr.shape, X_te.shape, y_tr.shape, y_te.shape"
      ],
      "metadata": {
        "colab": {
          "base_uri": "https://localhost:8080/"
        },
        "id": "FKpohdJqZAaj",
        "outputId": "e0540c39-653b-4667-eeb2-41bec36ed3ef"
      },
      "execution_count": 48,
      "outputs": [
        {
          "output_type": "execute_result",
          "data": {
            "text/plain": [
              "((641, 11), (275, 11), (641,), (275,))"
            ]
          },
          "metadata": {},
          "execution_count": 48
        }
      ]
    },
    {
      "cell_type": "code",
      "source": [
        "train = X_tr.copy() \n",
        "test = X_te.copy()\n",
        "ori_te = ori_test.copy()\n",
        "\n",
        "train.shape, test.shape, ori_te.shape"
      ],
      "metadata": {
        "colab": {
          "base_uri": "https://localhost:8080/"
        },
        "id": "yK5yICx6ZHpp",
        "outputId": "8254c1bf-a475-452e-d27d-53f9774215e3"
      },
      "execution_count": 49,
      "outputs": [
        {
          "output_type": "execute_result",
          "data": {
            "text/plain": [
              "((641, 11), (275, 11), (393, 11))"
            ]
          },
          "metadata": {},
          "execution_count": 49
        }
      ]
    },
    {
      "cell_type": "code",
      "source": [
        "train.drop('cabin', axis = 1, inplace=True)\n",
        "test.drop('cabin', axis = 1, inplace=True)\n",
        "ori_te.drop('cabin', axis = 1, inplace=True)\n",
        "\n",
        "train.shape, test.shape, ori_te.shape"
      ],
      "metadata": {
        "colab": {
          "base_uri": "https://localhost:8080/"
        },
        "id": "g8I8nQqDZHoM",
        "outputId": "37900009-2926-4693-ffa0-8b56b878c474"
      },
      "execution_count": 50,
      "outputs": [
        {
          "output_type": "execute_result",
          "data": {
            "text/plain": [
              "((641, 10), (275, 10), (393, 10))"
            ]
          },
          "metadata": {},
          "execution_count": 50
        }
      ]
    },
    {
      "cell_type": "code",
      "source": [
        "from pandas.api.types import is_string_dtype\n",
        "from pandas.api.types import is_numeric_dtype\n",
        "\n",
        "def __get_cols_cleaning(p_pd_list:list) -> list:\n",
        "  cols_cleaning = []\n",
        "  for df in p_pd_list:\n",
        "    # 결측치 컬럼 조회\n",
        "    tmp = df.isnull().sum()\n",
        "    cols_cleaning += list(tmp[df.isnull().sum() > 0].index)\n",
        "\n",
        "  cols_cleaning = list(set(cols_cleaning))\n",
        "  print(f'cols_cleaning: {cols_cleaning}')\n",
        "  return cols_cleaning\n",
        "\n",
        "def add_cols_cleaning(p_train:pd.DataFrame, p_test:pd.DataFrame, p_ori_te:pd.DataFrame) -> None:\n",
        "  pd_list = [p_train, p_test, p_ori_te]\n",
        "  for col in __get_cols_cleaning(pd_list):  # for col in cols_cleaning:\n",
        "    for i, df in enumerate(pd_list, start=1): \n",
        "      \n",
        "      if is_numeric_dtype(df[col]): # 숫자형 결측치 처리\n",
        "        new_col = col+'_cleaning'\n",
        "        df[new_col] = df[col]   \n",
        "        # random sampling\n",
        "        random_sampling = (p_train[col].dropna().sample(df[col].isnull().sum()))\n",
        "        # index 부여\n",
        "        random_sampling.index = df[lambda x: x[col].isnull()].index \n",
        "        # NA imputation\n",
        "        df.loc[df[col].isnull(), new_col] = random_sampling\n",
        "        \n",
        "        # 기존 결측치 컬럼 제거\n",
        "        if i == len(pd_list):\n",
        "          for _df in pd_list:\n",
        "            _df.drop([col], axis=1, inplace=True)\n",
        "      \n",
        "      else: # 범주형 결측치 처리\n",
        "        df[col].fillna(p_train[col].mode().values[0], inplace=True)\n",
        "\n",
        "  print(f'p_train: {p_train.isnull().sum().sum()} / p_test: {p_test.isnull().sum().sum()} / p_ori_te: {p_ori_te.isnull().sum().sum()}')\n"
      ],
      "metadata": {
        "id": "AE3EZgEbZHl6"
      },
      "execution_count": 51,
      "outputs": []
    },
    {
      "cell_type": "code",
      "source": [
        "add_cols_cleaning(train, test, ori_te)"
      ],
      "metadata": {
        "colab": {
          "base_uri": "https://localhost:8080/"
        },
        "id": "mzYtpwdRZHj6",
        "outputId": "7714b434-742e-4e3e-8c97-ce44c5a6abc2"
      },
      "execution_count": 52,
      "outputs": [
        {
          "output_type": "stream",
          "name": "stdout",
          "text": [
            "cols_cleaning: ['embarked', 'fare', 'age']\n",
            "p_train: 0 / p_test: 0 / p_ori_te: 0\n"
          ]
        }
      ]
    },
    {
      "cell_type": "code",
      "source": [
        "cols = ['passengerid', 'pclass', 'name', 'gender', 'sibsp', 'parch', 'ticket',\n",
        "       'embarked', 'fare', 'age']\n",
        "\n",
        "for df in [train, test, ori_te]:\n",
        "  df.columns = cols"
      ],
      "metadata": {
        "id": "JO2sLr8hZHhi"
      },
      "execution_count": 53,
      "outputs": []
    },
    {
      "cell_type": "code",
      "source": [
        "train.shape, test.shape, ori_te.shape"
      ],
      "metadata": {
        "colab": {
          "base_uri": "https://localhost:8080/"
        },
        "id": "KFEPJ0ZlZHfi",
        "outputId": "6766ae31-672d-4351-a47a-6d0537314faa"
      },
      "execution_count": 54,
      "outputs": [
        {
          "output_type": "execute_result",
          "data": {
            "text/plain": [
              "((641, 10), (275, 10), (393, 10))"
            ]
          },
          "metadata": {},
          "execution_count": 54
        }
      ]
    },
    {
      "cell_type": "code",
      "source": [
        "train.isnull().sum().sum(), test.isnull().sum().sum(), ori_te.isnull().sum().sum()"
      ],
      "metadata": {
        "colab": {
          "base_uri": "https://localhost:8080/"
        },
        "id": "8XSTvqo8ZQ8b",
        "outputId": "e27264bc-14f8-4c16-c140-a5535e8d35a4"
      },
      "execution_count": 55,
      "outputs": [
        {
          "output_type": "execute_result",
          "data": {
            "text/plain": [
              "(0, 0, 0)"
            ]
          },
          "metadata": {},
          "execution_count": 55
        }
      ]
    },
    {
      "cell_type": "markdown",
      "source": [
        "## Add Feature"
      ],
      "metadata": {
        "id": "nTqWWe5IMk5Q"
      }
    },
    {
      "cell_type": "code",
      "source": [
        "train[\"age_\"] = train[\"age\"].map(lambda x: x // 10)\n",
        "test[\"age_\"] = test[\"age\"].map(lambda x: x // 10)\n",
        "ori_te[\"age_\"] = ori_te[\"age\"].map(lambda x: x // 10)\n",
        "\n",
        "train['age_'].unique()"
      ],
      "metadata": {
        "colab": {
          "base_uri": "https://localhost:8080/"
        },
        "id": "Wl8F8iVGZWzH",
        "outputId": "a9d65f46-425c-4e62-e54d-b4448e799a58"
      },
      "execution_count": 56,
      "outputs": [
        {
          "output_type": "execute_result",
          "data": {
            "text/plain": [
              "array([0., 3., 2., 1., 4., 6., 5., 7., 8.])"
            ]
          },
          "metadata": {},
          "execution_count": 56
        }
      ]
    },
    {
      "cell_type": "code",
      "source": [
        "train['gender_pclass'] = train.apply(lambda row: row['gender']+'_'+str(row['pclass']), axis=1)\n",
        "test['gender_pclass'] = test.apply(lambda row: row['gender']+'_'+str(row['pclass']), axis=1)\n",
        "ori_te['gender_pclass'] = ori_te.apply(lambda row: row['gender']+'_'+str(row['pclass']), axis=1)\n",
        "\n",
        "train['gender_pclass'].unique()"
      ],
      "metadata": {
        "colab": {
          "base_uri": "https://localhost:8080/"
        },
        "id": "_4KbgaRpZWur",
        "outputId": "6bc30010-3f6a-48c9-ffa0-e0ac803f383c"
      },
      "execution_count": 57,
      "outputs": [
        {
          "output_type": "execute_result",
          "data": {
            "text/plain": [
              "array(['male_1', 'female_1', 'male_3', 'male_2', 'female_3', 'female_2'],\n",
              "      dtype=object)"
            ]
          },
          "metadata": {},
          "execution_count": 57
        }
      ]
    },
    {
      "cell_type": "code",
      "source": [
        "train['gender_embarked'] = train.apply(lambda row: row['gender']+'_'+str(row['embarked']), axis=1)\n",
        "test['gender_embarked'] = test.apply(lambda row: row['gender']+'_'+str(row['embarked']), axis=1)\n",
        "ori_te['gender_embarked'] = ori_te.apply(lambda row: row['gender']+'_'+str(row['embarked']), axis=1)\n",
        "\n",
        "train['gender_embarked'].unique()"
      ],
      "metadata": {
        "colab": {
          "base_uri": "https://localhost:8080/"
        },
        "id": "GvaoZIvSZWrj",
        "outputId": "6adc9663-3d6b-4f0a-e3fc-0e552dc08677"
      },
      "execution_count": 58,
      "outputs": [
        {
          "output_type": "execute_result",
          "data": {
            "text/plain": [
              "array(['male_S', 'female_C', 'male_Q', 'female_S', 'male_C', 'female_Q'],\n",
              "      dtype=object)"
            ]
          },
          "metadata": {},
          "execution_count": 58
        }
      ]
    },
    {
      "cell_type": "code",
      "source": [
        "for data in [train, test, ori_te]:\n",
        "  p1 = data['parch'] == 0\n",
        "  data['parch_solo'] = p1\n",
        "\n",
        "  p2 = data['parch'] == 1\n",
        "  data['parch_couple'] = p2\n",
        "\n",
        "  p3 = data['parch'] == 2 \n",
        "  p4 = data['parch'] == 3\n",
        "  p = p3 | p4\n",
        "  data['parch_family'] = p\n",
        "\n",
        "  p5 = data['parch'] >= 4\n",
        "  data['parch_big'] = p5\n",
        "\n",
        "train.shape, test.shape, ori_te.shape"
      ],
      "metadata": {
        "colab": {
          "base_uri": "https://localhost:8080/"
        },
        "id": "Vjnn5BDmZWoj",
        "outputId": "a1fa6882-9637-4a93-f28e-303da1788c1a"
      },
      "execution_count": 59,
      "outputs": [
        {
          "output_type": "execute_result",
          "data": {
            "text/plain": [
              "((641, 17), (275, 17), (393, 17))"
            ]
          },
          "metadata": {},
          "execution_count": 59
        }
      ]
    },
    {
      "cell_type": "markdown",
      "source": [
        "## Scaling"
      ],
      "metadata": {
        "id": "f4thcK2uMkso"
      }
    },
    {
      "cell_type": "code",
      "source": [
        "from sklearn.preprocessing import StandardScaler\n",
        "\n",
        "scaling_cols = ['pclass', 'sibsp', 'parch', 'age_', 'fare', 'age']\n",
        "scaler = StandardScaler()\n",
        "scaled_dfs = []\n",
        "\n",
        "for i, df in enumerate([train, test, ori_te]):\n",
        "  if not i:\n",
        "    _scaled = scaler.fit_transform(df[scaling_cols])\n",
        "  else:\n",
        "    _scaled = scaler.transform(df[scaling_cols])\n",
        "\n",
        "  _scaled_df = pd.DataFrame(\n",
        "    _scaled, \n",
        "    columns = scaling_cols\n",
        "  )\n",
        "\n",
        "  not_scaling_cols = list(set(df.columns) - set(scaling_cols))\n",
        "\n",
        "  scaled_dfs.append(\n",
        "    pd.concat(\n",
        "      [df[not_scaling_cols].reset_index(drop=True), _scaled_df.reset_index(drop=True)]\n",
        "      , axis=1\n",
        "    ).reset_index(drop=True)\n",
        "  )\n",
        "\n",
        "train = scaled_dfs[0]\n",
        "test = scaled_dfs[1]\n",
        "ori_te = scaled_dfs[2]\n",
        "\n",
        "print(f'{train.isnull().sum().sum()} / {test.isnull().sum().sum()} / {ori_te.isnull().sum().sum()}')\n",
        "train.shape, test.shape, ori_te.shape"
      ],
      "metadata": {
        "colab": {
          "base_uri": "https://localhost:8080/"
        },
        "id": "9iRG77dAZZ-P",
        "outputId": "1401ea90-05c6-4a53-c085-c5aeca45d257"
      },
      "execution_count": 60,
      "outputs": [
        {
          "output_type": "stream",
          "name": "stdout",
          "text": [
            "0 / 0 / 0\n"
          ]
        },
        {
          "output_type": "execute_result",
          "data": {
            "text/plain": [
              "((641, 17), (275, 17), (393, 17))"
            ]
          },
          "metadata": {},
          "execution_count": 60
        }
      ]
    },
    {
      "cell_type": "markdown",
      "source": [
        "## Encoding"
      ],
      "metadata": {
        "id": "ThkqoRPVMkdB"
      }
    },
    {
      "cell_type": "code",
      "source": [
        "for df in [train, test, ori_te]:\n",
        "  df['parch_big'] = df['parch_big'].astype(\"int32\")\n",
        "  df['parch_family'] = df['parch_family'].astype(\"int32\")\n",
        "  df['parch_solo'] = df['parch_solo'].astype(\"int32\")\n",
        "  df['parch_couple'] = df['parch_couple'].astype(\"int32\")"
      ],
      "metadata": {
        "id": "4I2dCyqNZgi6"
      },
      "execution_count": 61,
      "outputs": []
    },
    {
      "cell_type": "code",
      "source": [
        "from sklearn.preprocessing import OneHotEncoder\n",
        "\n",
        "enc_cols = ['gender', 'embarked', 'gender_pclass', 'gender_embarked']\n",
        "print(f'len_enc_cols: {len(enc_cols)}')\n",
        "encoder = OneHotEncoder() \n",
        "enc_dfs = []\n",
        "\n",
        "for i, df in enumerate([train, test, ori_te]):\n",
        "  if not i:\n",
        "    _encoded = encoder.fit_transform(df[enc_cols])\n",
        "  else:\n",
        "    _encoded = encoder.transform(df[enc_cols])\n",
        "\n",
        "  _encoded_df = pd.DataFrame(\n",
        "    _encoded.toarray(), \n",
        "    columns = encoder.get_feature_names_out()\n",
        "  )\n",
        "\n",
        "  not_enc_cols = list(set(df.columns) - set(enc_cols))\n",
        "  enc_dfs.append(\n",
        "    pd.concat(\n",
        "      [df[not_enc_cols].reset_index(drop=True), _encoded_df.reset_index(drop=True)]\n",
        "      , axis=1\n",
        "    ).reset_index(drop=True)\n",
        "  )\n",
        "\n",
        "train = enc_dfs[0]\n",
        "test = enc_dfs[1]\n",
        "ori_te = enc_dfs[2]\n",
        "\n",
        "print(f'{train.isnull().sum().sum()} / {test.isnull().sum().sum()} / {ori_te.isnull().sum().sum()}')\n",
        "train.shape, test.shape, ori_te.shape"
      ],
      "metadata": {
        "colab": {
          "base_uri": "https://localhost:8080/"
        },
        "id": "KK4CCOyuZggj",
        "outputId": "f4773458-bc3f-4db1-9886-153eb5d89eb2"
      },
      "execution_count": 62,
      "outputs": [
        {
          "output_type": "stream",
          "name": "stdout",
          "text": [
            "len_enc_cols: 4\n",
            "0 / 0 / 0\n"
          ]
        },
        {
          "output_type": "execute_result",
          "data": {
            "text/plain": [
              "((641, 30), (275, 30), (393, 30))"
            ]
          },
          "metadata": {},
          "execution_count": 62
        }
      ]
    },
    {
      "cell_type": "markdown",
      "source": [
        "## Modeling"
      ],
      "metadata": {
        "id": "MnPcI7t6MkSw"
      }
    },
    {
      "cell_type": "code",
      "source": [
        "cols = ['parch', 'sibsp', 'age', 'parch_big',\n",
        "       'fare', 'parch_family', 'parch_solo', 'pclass', 'parch_couple', 'age_',\n",
        "       'gender_female', 'gender_male', 'embarked_C', 'embarked_Q',\n",
        "       'embarked_S', 'gender_pclass_female_1', 'gender_pclass_female_2',\n",
        "       'gender_pclass_female_3', 'gender_pclass_male_1',\n",
        "       'gender_pclass_male_2', 'gender_pclass_male_3',\n",
        "       'gender_embarked_female_C', 'gender_embarked_female_Q',\n",
        "       'gender_embarked_female_S', 'gender_embarked_male_C',\n",
        "       'gender_embarked_male_Q', 'gender_embarked_male_S']\n",
        "\n",
        "X_tr = train[cols]\n",
        "X_te = test[cols]\n",
        "ori_te = ori_te[cols]\n",
        "\n",
        "X_tr.shape, X_te.shape, ori_te.shape"
      ],
      "metadata": {
        "colab": {
          "base_uri": "https://localhost:8080/"
        },
        "id": "Kq38aISVZiVa",
        "outputId": "8072f182-ca0d-4247-fd6f-cc368c08b778"
      },
      "execution_count": 63,
      "outputs": [
        {
          "output_type": "execute_result",
          "data": {
            "text/plain": [
              "((641, 27), (275, 27), (393, 27))"
            ]
          },
          "metadata": {},
          "execution_count": 63
        }
      ]
    },
    {
      "cell_type": "code",
      "source": [
        "X_tr.shape, X_te.shape, y_te.shape, y_tr.shape"
      ],
      "metadata": {
        "colab": {
          "base_uri": "https://localhost:8080/"
        },
        "id": "3f7c20pHZjPM",
        "outputId": "eb78072a-4e31-41b2-b6bd-ba4adb1b0eb2"
      },
      "execution_count": 64,
      "outputs": [
        {
          "output_type": "execute_result",
          "data": {
            "text/plain": [
              "((641, 27), (275, 27), (275,), (641,))"
            ]
          },
          "metadata": {},
          "execution_count": 64
        }
      ]
    },
    {
      "cell_type": "code",
      "source": [
        "X_tr.reset_index(drop=True, inplace=True)\n",
        "X_te.reset_index(drop=True, inplace=True)\n",
        "y_te.reset_index(drop=True, inplace=True)\n",
        "y_tr.reset_index(drop=True, inplace=True)"
      ],
      "metadata": {
        "id": "JaAUhQ5cZlWU"
      },
      "execution_count": 65,
      "outputs": []
    },
    {
      "cell_type": "markdown",
      "source": [
        "> HPO"
      ],
      "metadata": {
        "id": "O-o2ua1LOpko"
      }
    },
    {
      "cell_type": "code",
      "source": [
        "!pip install optuna"
      ],
      "metadata": {
        "colab": {
          "base_uri": "https://localhost:8080/"
        },
        "id": "g6sz0zk9ZmXc",
        "outputId": "87319610-1e24-4366-9956-70b6a3700f16"
      },
      "execution_count": 66,
      "outputs": [
        {
          "output_type": "stream",
          "name": "stdout",
          "text": [
            "Looking in indexes: https://pypi.org/simple, https://us-python.pkg.dev/colab-wheels/public/simple/\n",
            "Requirement already satisfied: optuna in /usr/local/lib/python3.8/dist-packages (3.1.0)\n",
            "Requirement already satisfied: tqdm in /usr/local/lib/python3.8/dist-packages (from optuna) (4.64.1)\n",
            "Requirement already satisfied: colorlog in /usr/local/lib/python3.8/dist-packages (from optuna) (6.7.0)\n",
            "Requirement already satisfied: numpy in /usr/local/lib/python3.8/dist-packages (from optuna) (1.22.4)\n",
            "Requirement already satisfied: alembic>=1.5.0 in /usr/local/lib/python3.8/dist-packages (from optuna) (1.9.4)\n",
            "Requirement already satisfied: sqlalchemy>=1.3.0 in /usr/local/lib/python3.8/dist-packages (from optuna) (1.4.46)\n",
            "Requirement already satisfied: PyYAML in /usr/local/lib/python3.8/dist-packages (from optuna) (6.0)\n",
            "Requirement already satisfied: cmaes>=0.9.1 in /usr/local/lib/python3.8/dist-packages (from optuna) (0.9.1)\n",
            "Requirement already satisfied: packaging>=20.0 in /usr/local/lib/python3.8/dist-packages (from optuna) (23.0)\n",
            "Requirement already satisfied: importlib-metadata in /usr/local/lib/python3.8/dist-packages (from alembic>=1.5.0->optuna) (6.0.0)\n",
            "Requirement already satisfied: Mako in /usr/local/lib/python3.8/dist-packages (from alembic>=1.5.0->optuna) (1.2.4)\n",
            "Requirement already satisfied: importlib-resources in /usr/local/lib/python3.8/dist-packages (from alembic>=1.5.0->optuna) (5.12.0)\n",
            "Requirement already satisfied: greenlet!=0.4.17 in /usr/local/lib/python3.8/dist-packages (from sqlalchemy>=1.3.0->optuna) (2.0.2)\n",
            "Requirement already satisfied: zipp>=0.5 in /usr/local/lib/python3.8/dist-packages (from importlib-metadata->alembic>=1.5.0->optuna) (3.15.0)\n",
            "Requirement already satisfied: MarkupSafe>=0.9.2 in /usr/local/lib/python3.8/dist-packages (from Mako->alembic>=1.5.0->optuna) (2.1.2)\n"
          ]
        }
      ]
    },
    {
      "cell_type": "code",
      "source": [
        "import optuna\n",
        "from sklearn.model_selection import cross_val_score\n",
        "from optuna.samplers import TPESampler\n",
        "optuna.logging.disable_default_handler()"
      ],
      "metadata": {
        "id": "LORJzKgoZnFC"
      },
      "execution_count": 67,
      "outputs": []
    },
    {
      "cell_type": "code",
      "source": [
        "from sklearn import svm\n",
        "from sklearn.model_selection import StratifiedKFold\n",
        "from sklearn.metrics import roc_curve, auc\n",
        "\n",
        "from lightgbm import LGBMClassifier, plot_importance"
      ],
      "metadata": {
        "id": "Rpd6l2fkZoC6"
      },
      "execution_count": 68,
      "outputs": []
    },
    {
      "cell_type": "code",
      "source": [
        "class Objective:\n",
        "    def __init__(self, x_train, y_train, seed):\n",
        "        self.x_train = x_train\n",
        "        self.y_train = y_train\n",
        "        self.seed = seed\n",
        "        num_folds=5\n",
        "        self.cv = StratifiedKFold(n_splits=num_folds,shuffle=True,random_state=self.seed)\n",
        "    def __call__(self,trial):\n",
        "        hp = {\n",
        "            \"max_depth\" : trial.suggest_int(\"max_depth\",2,5),\n",
        "            \"min_samples_split\" : trial.suggest_int(\"min_samples_split\",2,5),\n",
        "            \"criterion\" : trial.suggest_categorical(\"criterion\",[\"gini\",\"entropy\"]),\n",
        "            \"max_leaf_nodes\" : trial.suggest_int(\"max_leaf_nodes\",5,10),\n",
        "            \"n_estimators\" : trial.suggest_int(\"n_estimators\",10,500,50),\n",
        "            \"learning_rate\" : trial.suggest_float(\"learning_rate\",0.01,0.1)\n",
        "        }\n",
        "        model = LGBMClassifier(random_state=self.seed,**hp) #LGBMClassifier\n",
        "        scores = cross_val_score(model,self.x_train,self.y_train, cv = self.cv , scoring=\"roc_auc\")\n",
        "        return np.mean(scores)"
      ],
      "metadata": {
        "id": "DUOavJqfZp-9"
      },
      "execution_count": 69,
      "outputs": []
    },
    {
      "cell_type": "code",
      "source": [
        "sampler = TPESampler(seed=SEED)\n",
        "\n",
        "study = optuna.create_study(\n",
        "    direction = \"maximize\",\n",
        "    sampler = sampler\n",
        ")\n",
        "objective = Objective(X_tr, y_tr, SEED)\n",
        "study.optimize(objective, n_trials=50)\n",
        "\n",
        "print(\"Best Score:\", study.best_value)\n",
        "print(\"Best hp\", study.best_params)"
      ],
      "metadata": {
        "colab": {
          "base_uri": "https://localhost:8080/"
        },
        "id": "SomQULf9ZrBE",
        "outputId": "875ce038-cf36-4ebf-8d53-abb329f97d94"
      },
      "execution_count": 70,
      "outputs": [
        {
          "output_type": "stream",
          "name": "stdout",
          "text": [
            "Best Score: 0.9023447591061741\n",
            "Best hp {'max_depth': 4, 'min_samples_split': 2, 'criterion': 'gini', 'max_leaf_nodes': 8, 'n_estimators': 160, 'learning_rate': 0.02171215195269277}\n"
          ]
        }
      ]
    },
    {
      "cell_type": "code",
      "source": [
        "# 모델 정의\n",
        "modelV7 = LGBMClassifier(random_state=SEED, **study.best_params)"
      ],
      "metadata": {
        "id": "u9twWZVEZsEq"
      },
      "execution_count": 71,
      "outputs": []
    },
    {
      "cell_type": "code",
      "source": [
        "# 교차 검증\n",
        "skf = StratifiedKFold(n_splits=5, shuffle=True, random_state=0)"
      ],
      "metadata": {
        "id": "U67a6ktOZs_z"
      },
      "execution_count": 72,
      "outputs": []
    },
    {
      "cell_type": "code",
      "source": [
        "from sklearn.metrics import roc_curve, auc\n",
        "\n",
        "n_iter = 0\n",
        "auc_te_lst = []\n",
        "\n",
        "for train_index, valid_index in skf.split(X_tr, y_tr):\n",
        "  n_iter += 1\n",
        "  # 학습용, 검증용 데이터 구성\n",
        "  train_x, valid_x = X_tr.loc[train_index], X_tr.loc[valid_index]\n",
        "  train_y, valid_y = y_tr.loc[train_index], y_tr.loc[valid_index]\n",
        "  # 학습\n",
        "  modelV7.fit(train_x, train_y)\n",
        "  # 예측\n",
        "  pred_prob = modelV7.predict_proba(valid_x)[:, 1]  # 클래스 1에 속할 확률 값만 가져옴\n",
        "  # 평가\n",
        "  fpr, tpr, thresholds = roc_curve(valid_y, pred_prob)\n",
        "  auc_te = auc(fpr, tpr)\n",
        "  auc_te_lst.append(auc_te)\n",
        "  print(f'{n_iter} 번째 StratifiedKFold AUC: {auc_te:.4f}, 학습데이터 크기: {train_x.shape}, 검증데이터 크기: {valid_x.shape}')\n",
        "\n",
        "# 최종 평가\n",
        "print('-'*50)\n",
        "print(f'교차 검증 AUC: {np.mean(auc_te_lst):.4f} / 모델 평가: {modelV7.score(X_te, y_te)}')"
      ],
      "metadata": {
        "colab": {
          "base_uri": "https://localhost:8080/"
        },
        "id": "YDM-Zx2HZuXM",
        "outputId": "705ea24f-0aec-400b-de9b-4b2e0144827d"
      },
      "execution_count": 73,
      "outputs": [
        {
          "output_type": "stream",
          "name": "stdout",
          "text": [
            "1 번째 StratifiedKFold AUC: 0.8967, 학습데이터 크기: (512, 27), 검증데이터 크기: (129, 27)\n",
            "2 번째 StratifiedKFold AUC: 0.9048, 학습데이터 크기: (513, 27), 검증데이터 크기: (128, 27)\n",
            "3 번째 StratifiedKFold AUC: 0.9073, 학습데이터 크기: (513, 27), 검증데이터 크기: (128, 27)\n",
            "4 번째 StratifiedKFold AUC: 0.9254, 학습데이터 크기: (513, 27), 검증데이터 크기: (128, 27)\n",
            "5 번째 StratifiedKFold AUC: 0.9083, 학습데이터 크기: (513, 27), 검증데이터 크기: (128, 27)\n",
            "--------------------------------------------------\n",
            "교차 검증 AUC: 0.9085 / 모델 평가: 0.8545454545454545\n"
          ]
        }
      ]
    },
    {
      "cell_type": "code",
      "source": [
        "df_feature_importances = pd.DataFrame(modelV7.feature_importances_, X_tr.columns).sort_values(by=[0], ascending=False).reset_index()\n",
        "\n",
        "print(f'{df_feature_importances.shape}')\n",
        "df_feature_importances"
      ],
      "metadata": {
        "colab": {
          "base_uri": "https://localhost:8080/",
          "height": 914
        },
        "id": "bkauFtx1ZvX6",
        "outputId": "761a7dae-e39a-4823-c798-2b34342a235c"
      },
      "execution_count": 74,
      "outputs": [
        {
          "output_type": "stream",
          "name": "stdout",
          "text": [
            "(27, 2)\n"
          ]
        },
        {
          "output_type": "execute_result",
          "data": {
            "text/plain": [
              "                       index    0\n",
              "0                       fare  373\n",
              "1                        age  332\n",
              "2                      sibsp  128\n",
              "3              gender_female  126\n",
              "4                     pclass  126\n",
              "5                 embarked_Q   51\n",
              "6     gender_pclass_female_1   45\n",
              "7                 embarked_C   39\n",
              "8                 embarked_S   36\n",
              "9                      parch   36\n",
              "10      gender_pclass_male_2   32\n",
              "11                parch_solo   28\n",
              "12    gender_pclass_female_2   10\n",
              "13  gender_embarked_female_Q   10\n",
              "14                      age_    0\n",
              "15      gender_pclass_male_3    0\n",
              "16    gender_embarked_male_Q    0\n",
              "17    gender_embarked_male_C    0\n",
              "18  gender_embarked_female_S    0\n",
              "19  gender_embarked_female_C    0\n",
              "20      gender_pclass_male_1    0\n",
              "21               gender_male    0\n",
              "22    gender_pclass_female_3    0\n",
              "23                 parch_big    0\n",
              "24              parch_family    0\n",
              "25              parch_couple    0\n",
              "26    gender_embarked_male_S    0"
            ],
            "text/html": [
              "\n",
              "  <div id=\"df-ce5b1f74-05e0-4df2-ba1d-9b3404350df1\">\n",
              "    <div class=\"colab-df-container\">\n",
              "      <div>\n",
              "<style scoped>\n",
              "    .dataframe tbody tr th:only-of-type {\n",
              "        vertical-align: middle;\n",
              "    }\n",
              "\n",
              "    .dataframe tbody tr th {\n",
              "        vertical-align: top;\n",
              "    }\n",
              "\n",
              "    .dataframe thead th {\n",
              "        text-align: right;\n",
              "    }\n",
              "</style>\n",
              "<table border=\"1\" class=\"dataframe\">\n",
              "  <thead>\n",
              "    <tr style=\"text-align: right;\">\n",
              "      <th></th>\n",
              "      <th>index</th>\n",
              "      <th>0</th>\n",
              "    </tr>\n",
              "  </thead>\n",
              "  <tbody>\n",
              "    <tr>\n",
              "      <th>0</th>\n",
              "      <td>fare</td>\n",
              "      <td>373</td>\n",
              "    </tr>\n",
              "    <tr>\n",
              "      <th>1</th>\n",
              "      <td>age</td>\n",
              "      <td>332</td>\n",
              "    </tr>\n",
              "    <tr>\n",
              "      <th>2</th>\n",
              "      <td>sibsp</td>\n",
              "      <td>128</td>\n",
              "    </tr>\n",
              "    <tr>\n",
              "      <th>3</th>\n",
              "      <td>gender_female</td>\n",
              "      <td>126</td>\n",
              "    </tr>\n",
              "    <tr>\n",
              "      <th>4</th>\n",
              "      <td>pclass</td>\n",
              "      <td>126</td>\n",
              "    </tr>\n",
              "    <tr>\n",
              "      <th>5</th>\n",
              "      <td>embarked_Q</td>\n",
              "      <td>51</td>\n",
              "    </tr>\n",
              "    <tr>\n",
              "      <th>6</th>\n",
              "      <td>gender_pclass_female_1</td>\n",
              "      <td>45</td>\n",
              "    </tr>\n",
              "    <tr>\n",
              "      <th>7</th>\n",
              "      <td>embarked_C</td>\n",
              "      <td>39</td>\n",
              "    </tr>\n",
              "    <tr>\n",
              "      <th>8</th>\n",
              "      <td>embarked_S</td>\n",
              "      <td>36</td>\n",
              "    </tr>\n",
              "    <tr>\n",
              "      <th>9</th>\n",
              "      <td>parch</td>\n",
              "      <td>36</td>\n",
              "    </tr>\n",
              "    <tr>\n",
              "      <th>10</th>\n",
              "      <td>gender_pclass_male_2</td>\n",
              "      <td>32</td>\n",
              "    </tr>\n",
              "    <tr>\n",
              "      <th>11</th>\n",
              "      <td>parch_solo</td>\n",
              "      <td>28</td>\n",
              "    </tr>\n",
              "    <tr>\n",
              "      <th>12</th>\n",
              "      <td>gender_pclass_female_2</td>\n",
              "      <td>10</td>\n",
              "    </tr>\n",
              "    <tr>\n",
              "      <th>13</th>\n",
              "      <td>gender_embarked_female_Q</td>\n",
              "      <td>10</td>\n",
              "    </tr>\n",
              "    <tr>\n",
              "      <th>14</th>\n",
              "      <td>age_</td>\n",
              "      <td>0</td>\n",
              "    </tr>\n",
              "    <tr>\n",
              "      <th>15</th>\n",
              "      <td>gender_pclass_male_3</td>\n",
              "      <td>0</td>\n",
              "    </tr>\n",
              "    <tr>\n",
              "      <th>16</th>\n",
              "      <td>gender_embarked_male_Q</td>\n",
              "      <td>0</td>\n",
              "    </tr>\n",
              "    <tr>\n",
              "      <th>17</th>\n",
              "      <td>gender_embarked_male_C</td>\n",
              "      <td>0</td>\n",
              "    </tr>\n",
              "    <tr>\n",
              "      <th>18</th>\n",
              "      <td>gender_embarked_female_S</td>\n",
              "      <td>0</td>\n",
              "    </tr>\n",
              "    <tr>\n",
              "      <th>19</th>\n",
              "      <td>gender_embarked_female_C</td>\n",
              "      <td>0</td>\n",
              "    </tr>\n",
              "    <tr>\n",
              "      <th>20</th>\n",
              "      <td>gender_pclass_male_1</td>\n",
              "      <td>0</td>\n",
              "    </tr>\n",
              "    <tr>\n",
              "      <th>21</th>\n",
              "      <td>gender_male</td>\n",
              "      <td>0</td>\n",
              "    </tr>\n",
              "    <tr>\n",
              "      <th>22</th>\n",
              "      <td>gender_pclass_female_3</td>\n",
              "      <td>0</td>\n",
              "    </tr>\n",
              "    <tr>\n",
              "      <th>23</th>\n",
              "      <td>parch_big</td>\n",
              "      <td>0</td>\n",
              "    </tr>\n",
              "    <tr>\n",
              "      <th>24</th>\n",
              "      <td>parch_family</td>\n",
              "      <td>0</td>\n",
              "    </tr>\n",
              "    <tr>\n",
              "      <th>25</th>\n",
              "      <td>parch_couple</td>\n",
              "      <td>0</td>\n",
              "    </tr>\n",
              "    <tr>\n",
              "      <th>26</th>\n",
              "      <td>gender_embarked_male_S</td>\n",
              "      <td>0</td>\n",
              "    </tr>\n",
              "  </tbody>\n",
              "</table>\n",
              "</div>\n",
              "      <button class=\"colab-df-convert\" onclick=\"convertToInteractive('df-ce5b1f74-05e0-4df2-ba1d-9b3404350df1')\"\n",
              "              title=\"Convert this dataframe to an interactive table.\"\n",
              "              style=\"display:none;\">\n",
              "        \n",
              "  <svg xmlns=\"http://www.w3.org/2000/svg\" height=\"24px\"viewBox=\"0 0 24 24\"\n",
              "       width=\"24px\">\n",
              "    <path d=\"M0 0h24v24H0V0z\" fill=\"none\"/>\n",
              "    <path d=\"M18.56 5.44l.94 2.06.94-2.06 2.06-.94-2.06-.94-.94-2.06-.94 2.06-2.06.94zm-11 1L8.5 8.5l.94-2.06 2.06-.94-2.06-.94L8.5 2.5l-.94 2.06-2.06.94zm10 10l.94 2.06.94-2.06 2.06-.94-2.06-.94-.94-2.06-.94 2.06-2.06.94z\"/><path d=\"M17.41 7.96l-1.37-1.37c-.4-.4-.92-.59-1.43-.59-.52 0-1.04.2-1.43.59L10.3 9.45l-7.72 7.72c-.78.78-.78 2.05 0 2.83L4 21.41c.39.39.9.59 1.41.59.51 0 1.02-.2 1.41-.59l7.78-7.78 2.81-2.81c.8-.78.8-2.07 0-2.86zM5.41 20L4 18.59l7.72-7.72 1.47 1.35L5.41 20z\"/>\n",
              "  </svg>\n",
              "      </button>\n",
              "      \n",
              "  <style>\n",
              "    .colab-df-container {\n",
              "      display:flex;\n",
              "      flex-wrap:wrap;\n",
              "      gap: 12px;\n",
              "    }\n",
              "\n",
              "    .colab-df-convert {\n",
              "      background-color: #E8F0FE;\n",
              "      border: none;\n",
              "      border-radius: 50%;\n",
              "      cursor: pointer;\n",
              "      display: none;\n",
              "      fill: #1967D2;\n",
              "      height: 32px;\n",
              "      padding: 0 0 0 0;\n",
              "      width: 32px;\n",
              "    }\n",
              "\n",
              "    .colab-df-convert:hover {\n",
              "      background-color: #E2EBFA;\n",
              "      box-shadow: 0px 1px 2px rgba(60, 64, 67, 0.3), 0px 1px 3px 1px rgba(60, 64, 67, 0.15);\n",
              "      fill: #174EA6;\n",
              "    }\n",
              "\n",
              "    [theme=dark] .colab-df-convert {\n",
              "      background-color: #3B4455;\n",
              "      fill: #D2E3FC;\n",
              "    }\n",
              "\n",
              "    [theme=dark] .colab-df-convert:hover {\n",
              "      background-color: #434B5C;\n",
              "      box-shadow: 0px 1px 3px 1px rgba(0, 0, 0, 0.15);\n",
              "      filter: drop-shadow(0px 1px 2px rgba(0, 0, 0, 0.3));\n",
              "      fill: #FFFFFF;\n",
              "    }\n",
              "  </style>\n",
              "\n",
              "      <script>\n",
              "        const buttonEl =\n",
              "          document.querySelector('#df-ce5b1f74-05e0-4df2-ba1d-9b3404350df1 button.colab-df-convert');\n",
              "        buttonEl.style.display =\n",
              "          google.colab.kernel.accessAllowed ? 'block' : 'none';\n",
              "\n",
              "        async function convertToInteractive(key) {\n",
              "          const element = document.querySelector('#df-ce5b1f74-05e0-4df2-ba1d-9b3404350df1');\n",
              "          const dataTable =\n",
              "            await google.colab.kernel.invokeFunction('convertToInteractive',\n",
              "                                                     [key], {});\n",
              "          if (!dataTable) return;\n",
              "\n",
              "          const docLinkHtml = 'Like what you see? Visit the ' +\n",
              "            '<a target=\"_blank\" href=https://colab.research.google.com/notebooks/data_table.ipynb>data table notebook</a>'\n",
              "            + ' to learn more about interactive tables.';\n",
              "          element.innerHTML = '';\n",
              "          dataTable['output_type'] = 'display_data';\n",
              "          await google.colab.output.renderOutput(dataTable, element);\n",
              "          const docLink = document.createElement('div');\n",
              "          docLink.innerHTML = docLinkHtml;\n",
              "          element.appendChild(docLink);\n",
              "        }\n",
              "      </script>\n",
              "    </div>\n",
              "  </div>\n",
              "  "
            ]
          },
          "metadata": {},
          "execution_count": 74
        }
      ]
    },
    {
      "cell_type": "markdown",
      "source": [
        "## Evaluation"
      ],
      "metadata": {
        "id": "ya8d_GiyMkBZ"
      }
    },
    {
      "cell_type": "code",
      "source": [
        "score_tr = modelV7.score(X_tr, y_tr)\n",
        "score_te = modelV7.score(X_te, y_te)\n",
        "\n",
        "score_tr, score_te"
      ],
      "metadata": {
        "colab": {
          "base_uri": "https://localhost:8080/"
        },
        "id": "H27ucsn8ZzKb",
        "outputId": "eb68185b-4cd5-4c43-94a3-46aaeb2848d4"
      },
      "execution_count": 75,
      "outputs": [
        {
          "output_type": "execute_result",
          "data": {
            "text/plain": [
              "(0.8876755070202809, 0.8545454545454545)"
            ]
          },
          "metadata": {},
          "execution_count": 75
        }
      ]
    },
    {
      "cell_type": "code",
      "source": [
        "ori_te_pred = modelV7.predict_proba(ori_te)[:,1]\n",
        "ori_te_pred.shape"
      ],
      "metadata": {
        "colab": {
          "base_uri": "https://localhost:8080/"
        },
        "id": "lfzdNu8FZ7bR",
        "outputId": "ad5b5abe-2eef-4a26-faa7-14a7c29db7b8"
      },
      "execution_count": 76,
      "outputs": [
        {
          "output_type": "execute_result",
          "data": {
            "text/plain": [
              "(393,)"
            ]
          },
          "metadata": {},
          "execution_count": 76
        }
      ]
    },
    {
      "cell_type": "code",
      "source": [
        "args.results.append(\n",
        "    {\n",
        "        'model': 'modelV7',\n",
        "        'score_tr': score_tr,\n",
        "        'score_te': score_te,\n",
        "        'auc_te': auc_te,\n",
        "        'ori_te_pred': ori_te_pred,\n",
        "        'len_features': X_tr.shape[1],\n",
        "        'feaute_importances': list(df_feature_importances['index'].values[:X_tr.shape[1]]),\n",
        "        'create_dt': '0303'\n",
        "    }\n",
        ")"
      ],
      "metadata": {
        "id": "NUm5t37kZ8vJ"
      },
      "execution_count": 77,
      "outputs": []
    },
    {
      "cell_type": "markdown",
      "source": [
        "> SHAP"
      ],
      "metadata": {
        "id": "7JQ8nNOGcTm6"
      }
    },
    {
      "cell_type": "code",
      "source": [
        "!pip install shap"
      ],
      "metadata": {
        "colab": {
          "base_uri": "https://localhost:8080/"
        },
        "id": "cJLx_WW5cUzr",
        "outputId": "4d1c9ef4-1c65-448a-f18c-35f586fbb9af"
      },
      "execution_count": 78,
      "outputs": [
        {
          "output_type": "stream",
          "name": "stdout",
          "text": [
            "Looking in indexes: https://pypi.org/simple, https://us-python.pkg.dev/colab-wheels/public/simple/\n",
            "Collecting shap\n",
            "  Downloading shap-0.41.0-cp38-cp38-manylinux_2_12_x86_64.manylinux2010_x86_64.whl (575 kB)\n",
            "\u001b[2K     \u001b[90m━━━━━━━━━━━━━━━━━━━━━━━━━━━━━━━━━━━━━━━\u001b[0m \u001b[32m575.9/575.9 KB\u001b[0m \u001b[31m9.1 MB/s\u001b[0m eta \u001b[36m0:00:00\u001b[0m\n",
            "\u001b[?25hRequirement already satisfied: packaging>20.9 in /usr/local/lib/python3.8/dist-packages (from shap) (23.0)\n",
            "Requirement already satisfied: numba in /usr/local/lib/python3.8/dist-packages (from shap) (0.56.4)\n",
            "Requirement already satisfied: scikit-learn in /usr/local/lib/python3.8/dist-packages (from shap) (1.2.1)\n",
            "Requirement already satisfied: cloudpickle in /usr/local/lib/python3.8/dist-packages (from shap) (2.2.1)\n",
            "Requirement already satisfied: pandas in /usr/local/lib/python3.8/dist-packages (from shap) (1.3.5)\n",
            "Collecting slicer==0.0.7\n",
            "  Downloading slicer-0.0.7-py3-none-any.whl (14 kB)\n",
            "Requirement already satisfied: numpy in /usr/local/lib/python3.8/dist-packages (from shap) (1.22.4)\n",
            "Requirement already satisfied: tqdm>4.25.0 in /usr/local/lib/python3.8/dist-packages (from shap) (4.64.1)\n",
            "Requirement already satisfied: scipy in /usr/local/lib/python3.8/dist-packages (from shap) (1.10.1)\n",
            "Requirement already satisfied: setuptools in /usr/local/lib/python3.8/dist-packages (from numba->shap) (57.4.0)\n",
            "Requirement already satisfied: llvmlite<0.40,>=0.39.0dev0 in /usr/local/lib/python3.8/dist-packages (from numba->shap) (0.39.1)\n",
            "Requirement already satisfied: importlib-metadata in /usr/local/lib/python3.8/dist-packages (from numba->shap) (6.0.0)\n",
            "Requirement already satisfied: pytz>=2017.3 in /usr/local/lib/python3.8/dist-packages (from pandas->shap) (2022.7.1)\n",
            "Requirement already satisfied: python-dateutil>=2.7.3 in /usr/local/lib/python3.8/dist-packages (from pandas->shap) (2.8.2)\n",
            "Requirement already satisfied: joblib>=1.1.1 in /usr/local/lib/python3.8/dist-packages (from scikit-learn->shap) (1.2.0)\n",
            "Requirement already satisfied: threadpoolctl>=2.0.0 in /usr/local/lib/python3.8/dist-packages (from scikit-learn->shap) (3.1.0)\n",
            "Requirement already satisfied: six>=1.5 in /usr/local/lib/python3.8/dist-packages (from python-dateutil>=2.7.3->pandas->shap) (1.15.0)\n",
            "Requirement already satisfied: zipp>=0.5 in /usr/local/lib/python3.8/dist-packages (from importlib-metadata->numba->shap) (3.15.0)\n",
            "Installing collected packages: slicer, shap\n",
            "Successfully installed shap-0.41.0 slicer-0.0.7\n"
          ]
        }
      ]
    },
    {
      "cell_type": "code",
      "source": [
        "import shap"
      ],
      "metadata": {
        "id": "ghhef7_UceP0"
      },
      "execution_count": 79,
      "outputs": []
    },
    {
      "cell_type": "code",
      "source": [
        "explainer = shap.TreeExplainer(modelV7) #학습 모델\n",
        "shap_values = explainer.shap_values(X_te)"
      ],
      "metadata": {
        "id": "19Sr6eWScjSz"
      },
      "execution_count": 80,
      "outputs": []
    },
    {
      "cell_type": "code",
      "source": [
        "shap.summary_plot(shap_values[1], X_te)"
      ],
      "metadata": {
        "colab": {
          "base_uri": "https://localhost:8080/",
          "height": 759
        },
        "id": "ochF-5_zcpXy",
        "outputId": "353d5a50-510b-4587-b5ab-0043646908d3"
      },
      "execution_count": 81,
      "outputs": [
        {
          "output_type": "stream",
          "name": "stderr",
          "text": [
            "WARNING:matplotlib.font_manager:findfont: Font family ['NanumBarunGothic'] not found. Falling back to DejaVu Sans.\n",
            "WARNING:matplotlib.font_manager:findfont: Font family ['NanumBarunGothic'] not found. Falling back to DejaVu Sans.\n",
            "WARNING:matplotlib.font_manager:findfont: Font family ['NanumBarunGothic'] not found. Falling back to DejaVu Sans.\n"
          ]
        },
        {
          "output_type": "display_data",
          "data": {
            "text/plain": [
              "<Figure size 576x684 with 2 Axes>"
            ],
            "image/png": "[encoded data removed]"
          },
          "metadata": {
            "image/png": {
              "width": 558,
              "height": 668
            }
          }
        }
      ]
    },
    {
      "cell_type": "markdown",
      "source": [
        "# ModelV8"
      ],
      "metadata": {
        "id": "DGGUmN-6exZU"
      }
    },
    {
      "cell_type": "markdown",
      "source": [
        "## Version History"
      ],
      "metadata": {
        "id": "WW9OFXwBk2-3"
      }
    },
    {
      "cell_type": "markdown",
      "source": [
        "- ModelV7 결과\n",
        "  - public score 90점 획득\n",
        "  - 지속적인 Version Upgrade를 통한 score 상승 필요\n",
        "  - 오타가 있는지 체크확인 필요\n",
        "- LGBMClassifier score\n",
        "  - train : 0.8798751950078003\n",
        "  - test : 0.8545454545454545\n",
        "- feature_importances의 상위 5개(변경 전후)\n",
        "  - 변경 전\n",
        "    - gender_male :\t0.532091\n",
        "    - age_random : \t0.204676\n",
        "    - fare\t: 0.176452\n",
        "    - pclass_3.0 : 0.025995\n",
        "    - sibsp\t: 0.024247\n",
        "  - 피쳐 생성 후\n",
        "    - gender_female\t0.531190\n",
        "    - fare\t0.169875\n",
        "    - age\t0.162931\n",
        "    - age_\t0.031489\n",
        "    - pclass\t0.028754\n",
        "  - 앙상블 후\n",
        "    - age\t597\n",
        "    -\tfare\t436\n",
        "    -\tpclass\t122\n",
        "    -\tgender_female\t100\n",
        "    -\tsibsp\t70\n",
        "  - 교차검증 KFold 이후\n",
        "    - age\t412\n",
        "    - fare\t345\n",
        "    - pclass\t118\n",
        "    - gender_female\t100\n",
        "    - parch\t91\n",
        "  - 교차검증 2차 이후\n",
        "    - age\t512\n",
        "    - fare\t269\n",
        "    - sibsp\t106\n",
        "    - pclass\t102\n",
        "    - gender_female\t100\n",
        "  - V5 HPO 이후\n",
        "    -\tage\t493\n",
        "    - fare\t156\n",
        "    - pclass\t146\n",
        "    - gender_female\t100\n",
        "    - parch\t83\n",
        "  - V6 오타 수정 이후\n",
        "    - age\t177\n",
        "    - fare\t95\n",
        "    - sibsp\t53\n",
        "    - gender_female\t50\n",
        "    - pclass\t45\n",
        "\n",
        "- 인사이트\n",
        "  - 오타 수정 후 적용한 결과 Score가 5점 상승한 것으로 확인\n",
        "  - shap를 통한 Feature 중요도 파악 및 선정 재진행\n",
        "  - 모델 하이퍼파라미터 범위 확장\n",
        "- 가설\n",
        "  - 모델 하이퍼파라미터 범위를 확장하면 Score가 더 오를 것이다.\n",
        "  - 유의미한 Feature 찾고 다듬는다면 Score가 더 오를 것이다."
      ],
      "metadata": {
        "id": "UosbQTeMk5yX"
      }
    },
    {
      "cell_type": "markdown",
      "source": [
        "## Missing value"
      ],
      "metadata": {
        "id": "m1w1X56jfAwM"
      }
    },
    {
      "cell_type": "code",
      "source": [
        "ori_train = pd.read_csv(args.train_csv)\n",
        "ori_test = pd.read_csv(args.test_csv)\n",
        "\n",
        "X = ori_train.drop('survived', axis = 1)\n",
        "y = ori_train['survived'] \n",
        "\n",
        "from sklearn.model_selection import train_test_split\n",
        "\n",
        "X_tr, X_te, y_tr, y_te = train_test_split(X, y, test_size = 0.3, stratify =y , random_state = SEED)\n",
        "\n",
        "X_tr.shape, X_te.shape, y_tr.shape, y_te.shape"
      ],
      "metadata": {
        "colab": {
          "base_uri": "https://localhost:8080/"
        },
        "id": "R85tUmuufP8c",
        "outputId": "93546459-5a6d-470a-ee24-eccc978f16a0"
      },
      "execution_count": 128,
      "outputs": [
        {
          "output_type": "execute_result",
          "data": {
            "text/plain": [
              "((641, 11), (275, 11), (641,), (275,))"
            ]
          },
          "metadata": {},
          "execution_count": 128
        }
      ]
    },
    {
      "cell_type": "code",
      "source": [
        "train = X_tr.copy() \n",
        "test = X_te.copy()\n",
        "ori_te = ori_test.copy()\n",
        "\n",
        "train.shape, test.shape, ori_te.shape"
      ],
      "metadata": {
        "colab": {
          "base_uri": "https://localhost:8080/"
        },
        "id": "ii2POg_AfVH0",
        "outputId": "5f6c9685-d2d9-4714-a8a0-96e435cea084"
      },
      "execution_count": 129,
      "outputs": [
        {
          "output_type": "execute_result",
          "data": {
            "text/plain": [
              "((641, 11), (275, 11), (393, 11))"
            ]
          },
          "metadata": {},
          "execution_count": 129
        }
      ]
    },
    {
      "cell_type": "code",
      "source": [
        "train.drop('cabin', axis = 1, inplace=True)\n",
        "test.drop('cabin', axis = 1, inplace=True)\n",
        "ori_te.drop('cabin', axis = 1, inplace=True)\n",
        "\n",
        "train.shape, test.shape, ori_te.shape"
      ],
      "metadata": {
        "colab": {
          "base_uri": "https://localhost:8080/"
        },
        "id": "DFAThNrwfV7c",
        "outputId": "698ad848-4092-4f86-96aa-9da16e6f3e04"
      },
      "execution_count": 130,
      "outputs": [
        {
          "output_type": "execute_result",
          "data": {
            "text/plain": [
              "((641, 10), (275, 10), (393, 10))"
            ]
          },
          "metadata": {},
          "execution_count": 130
        }
      ]
    },
    {
      "cell_type": "code",
      "source": [
        "from pandas.api.types import is_string_dtype\n",
        "from pandas.api.types import is_numeric_dtype\n",
        "\n",
        "def __get_cols_cleaning(p_pd_list:list) -> list:\n",
        "  cols_cleaning = []\n",
        "  for df in p_pd_list:\n",
        "    # 결측치 컬럼 조회\n",
        "    tmp = df.isnull().sum()\n",
        "    cols_cleaning += list(tmp[df.isnull().sum() > 0].index)\n",
        "\n",
        "  cols_cleaning = list(set(cols_cleaning))\n",
        "  print(f'cols_cleaning: {cols_cleaning}')\n",
        "  return cols_cleaning\n",
        "\n",
        "def add_cols_cleaning(p_train:pd.DataFrame, p_test:pd.DataFrame, p_ori_te:pd.DataFrame) -> None:\n",
        "  pd_list = [p_train, p_test, p_ori_te]\n",
        "  for col in __get_cols_cleaning(pd_list):  # for col in cols_cleaning:\n",
        "    for i, df in enumerate(pd_list, start=1): \n",
        "      \n",
        "      if is_numeric_dtype(df[col]): # 숫자형 결측치 처리\n",
        "        new_col = col+'_cleaning'\n",
        "        df[new_col] = df[col]   \n",
        "        # random sampling\n",
        "        random_sampling = (p_train[col].dropna().sample(df[col].isnull().sum()))\n",
        "        # index 부여\n",
        "        random_sampling.index = df[lambda x: x[col].isnull()].index \n",
        "        # NA imputation\n",
        "        df.loc[df[col].isnull(), new_col] = random_sampling\n",
        "        \n",
        "        # 기존 결측치 컬럼 제거\n",
        "        if i == len(pd_list):\n",
        "          for _df in pd_list:\n",
        "            _df.drop([col], axis=1, inplace=True)\n",
        "      \n",
        "      else: # 범주형 결측치 처리\n",
        "        df[col].fillna(p_train[col].mode().values[0], inplace=True)\n",
        "\n",
        "  print(f'p_train: {p_train.isnull().sum().sum()} / p_test: {p_test.isnull().sum().sum()} / p_ori_te: {p_ori_te.isnull().sum().sum()}')\n"
      ],
      "metadata": {
        "id": "lGTTc64EfWoL"
      },
      "execution_count": 131,
      "outputs": []
    },
    {
      "cell_type": "code",
      "source": [
        "add_cols_cleaning(train, test, ori_te)"
      ],
      "metadata": {
        "colab": {
          "base_uri": "https://localhost:8080/"
        },
        "id": "Pjyql7QGfZUM",
        "outputId": "f3f4f31a-cafc-48d0-9a6d-c98786b90ef2"
      },
      "execution_count": 132,
      "outputs": [
        {
          "output_type": "stream",
          "name": "stdout",
          "text": [
            "cols_cleaning: ['embarked', 'fare', 'age']\n",
            "p_train: 0 / p_test: 0 / p_ori_te: 0\n"
          ]
        }
      ]
    },
    {
      "cell_type": "code",
      "source": [
        "cols = ['passengerid', 'pclass', 'name', 'gender', 'sibsp', 'parch', 'ticket',\n",
        "       'embarked', 'fare', 'age']\n",
        "\n",
        "for df in [train, test, ori_te]:\n",
        "  df.columns = cols"
      ],
      "metadata": {
        "id": "FdlCE8WhfZOE"
      },
      "execution_count": 133,
      "outputs": []
    },
    {
      "cell_type": "code",
      "source": [
        "train.shape, test.shape, ori_te.shape"
      ],
      "metadata": {
        "colab": {
          "base_uri": "https://localhost:8080/"
        },
        "id": "SVDOag_0fZHE",
        "outputId": "6941e89a-f88f-4309-835f-a47c720e1a76"
      },
      "execution_count": 134,
      "outputs": [
        {
          "output_type": "execute_result",
          "data": {
            "text/plain": [
              "((641, 10), (275, 10), (393, 10))"
            ]
          },
          "metadata": {},
          "execution_count": 134
        }
      ]
    },
    {
      "cell_type": "code",
      "source": [
        "train.isnull().sum().sum(), test.isnull().sum().sum(), ori_te.isnull().sum().sum()"
      ],
      "metadata": {
        "colab": {
          "base_uri": "https://localhost:8080/"
        },
        "id": "2hcIfwV2fbfV",
        "outputId": "28d8e821-d7f3-4054-e6a4-bddad9638470"
      },
      "execution_count": 135,
      "outputs": [
        {
          "output_type": "execute_result",
          "data": {
            "text/plain": [
              "(0, 0, 0)"
            ]
          },
          "metadata": {},
          "execution_count": 135
        }
      ]
    },
    {
      "cell_type": "markdown",
      "source": [
        "## Add Feature"
      ],
      "metadata": {
        "id": "kvyyjUuafQw0"
      }
    },
    {
      "cell_type": "code",
      "source": [
        "train[\"age_\"] = train[\"age\"].map(lambda x: x // 10)\n",
        "test[\"age_\"] = test[\"age\"].map(lambda x: x // 10)\n",
        "ori_te[\"age_\"] = ori_te[\"age\"].map(lambda x: x // 10)\n",
        "\n",
        "train['age_'].unique()"
      ],
      "metadata": {
        "colab": {
          "base_uri": "https://localhost:8080/"
        },
        "id": "g715X0LEft58",
        "outputId": "b904c477-839f-4f97-f770-f010854bfd22"
      },
      "execution_count": 136,
      "outputs": [
        {
          "output_type": "execute_result",
          "data": {
            "text/plain": [
              "array([2., 3., 4., 6., 1., 0., 5., 7., 8.])"
            ]
          },
          "metadata": {},
          "execution_count": 136
        }
      ]
    },
    {
      "cell_type": "code",
      "source": [
        "train['gender_pclass'] = train.apply(lambda row: row['gender']+'_'+str(row['pclass']), axis=1)\n",
        "test['gender_pclass'] = test.apply(lambda row: row['gender']+'_'+str(row['pclass']), axis=1)\n",
        "ori_te['gender_pclass'] = ori_te.apply(lambda row: row['gender']+'_'+str(row['pclass']), axis=1)\n",
        "\n",
        "train['gender_pclass'].unique()"
      ],
      "metadata": {
        "colab": {
          "base_uri": "https://localhost:8080/"
        },
        "id": "XxF6f4CkftpH",
        "outputId": "4e4034f0-c021-4333-8dc4-6b38d5223a83"
      },
      "execution_count": 137,
      "outputs": [
        {
          "output_type": "execute_result",
          "data": {
            "text/plain": [
              "array(['male_1', 'female_1', 'male_3', 'male_2', 'female_3', 'female_2'],\n",
              "      dtype=object)"
            ]
          },
          "metadata": {},
          "execution_count": 137
        }
      ]
    },
    {
      "cell_type": "code",
      "source": [
        "train['gender_embarked'] = train.apply(lambda row: row['gender']+'_'+str(row['embarked']), axis=1)\n",
        "test['gender_embarked'] = test.apply(lambda row: row['gender']+'_'+str(row['embarked']), axis=1)\n",
        "ori_te['gender_embarked'] = ori_te.apply(lambda row: row['gender']+'_'+str(row['embarked']), axis=1)\n",
        "\n",
        "train['gender_embarked'].unique()"
      ],
      "metadata": {
        "colab": {
          "base_uri": "https://localhost:8080/"
        },
        "id": "3T04V6cfftZE",
        "outputId": "64c1a049-6e0a-4be4-bfb6-c0bc9300e5b9"
      },
      "execution_count": 138,
      "outputs": [
        {
          "output_type": "execute_result",
          "data": {
            "text/plain": [
              "array(['male_S', 'female_C', 'male_Q', 'female_S', 'male_C', 'female_Q'],\n",
              "      dtype=object)"
            ]
          },
          "metadata": {},
          "execution_count": 138
        }
      ]
    },
    {
      "cell_type": "code",
      "source": [
        "for data in [train, test, ori_te]:\n",
        "  p1 = data['parch'] == 0\n",
        "  data['parch_solo'] = p1\n",
        "\n",
        "  p2 = data['parch'] == 1\n",
        "  data['parch_couple'] = p2\n",
        "\n",
        "  p3 = data['parch'] == 2 \n",
        "  p4 = data['parch'] == 3\n",
        "  p = p3 | p4\n",
        "  data['parch_family'] = p\n",
        "\n",
        "  p5 = data['parch'] >= 4\n",
        "  data['parch_big'] = p5\n",
        "\n",
        "train.shape, test.shape, ori_te.shape"
      ],
      "metadata": {
        "colab": {
          "base_uri": "https://localhost:8080/"
        },
        "id": "H05mHDERftTk",
        "outputId": "a33b4abb-50d8-4808-cf42-9e842aa9f678"
      },
      "execution_count": 139,
      "outputs": [
        {
          "output_type": "execute_result",
          "data": {
            "text/plain": [
              "((641, 17), (275, 17), (393, 17))"
            ]
          },
          "metadata": {},
          "execution_count": 139
        }
      ]
    },
    {
      "cell_type": "markdown",
      "source": [
        "## Scaling"
      ],
      "metadata": {
        "id": "4zeZfprefQuM"
      }
    },
    {
      "cell_type": "code",
      "source": [
        "from sklearn.preprocessing import StandardScaler\n",
        "\n",
        "scaling_cols = ['pclass', 'sibsp', 'parch', 'age_', 'fare', 'age']\n",
        "scaler = StandardScaler()\n",
        "scaled_dfs = []\n",
        "\n",
        "for i, df in enumerate([train, test, ori_te]):\n",
        "  if not i:\n",
        "    _scaled = scaler.fit_transform(df[scaling_cols])\n",
        "  else:\n",
        "    _scaled = scaler.transform(df[scaling_cols])\n",
        "\n",
        "  _scaled_df = pd.DataFrame(\n",
        "    _scaled, \n",
        "    columns = scaling_cols\n",
        "  )\n",
        "\n",
        "  not_scaling_cols = list(set(df.columns) - set(scaling_cols))\n",
        "\n",
        "  scaled_dfs.append(\n",
        "    pd.concat(\n",
        "      [df[not_scaling_cols].reset_index(drop=True), _scaled_df.reset_index(drop=True)]\n",
        "      , axis=1\n",
        "    ).reset_index(drop=True)\n",
        "  )\n",
        "\n",
        "train = scaled_dfs[0]\n",
        "test = scaled_dfs[1]\n",
        "ori_te = scaled_dfs[2]\n",
        "\n",
        "print(f'{train.isnull().sum().sum()} / {test.isnull().sum().sum()} / {ori_te.isnull().sum().sum()}')\n",
        "train.shape, test.shape, ori_te.shape"
      ],
      "metadata": {
        "colab": {
          "base_uri": "https://localhost:8080/"
        },
        "id": "Frq0qz9tf0MM",
        "outputId": "da36a766-7282-4b30-a928-b1c60ce94762"
      },
      "execution_count": 140,
      "outputs": [
        {
          "output_type": "stream",
          "name": "stdout",
          "text": [
            "0 / 0 / 0\n"
          ]
        },
        {
          "output_type": "execute_result",
          "data": {
            "text/plain": [
              "((641, 17), (275, 17), (393, 17))"
            ]
          },
          "metadata": {},
          "execution_count": 140
        }
      ]
    },
    {
      "cell_type": "markdown",
      "source": [
        "## Encoding"
      ],
      "metadata": {
        "id": "lgByQqJLfQrE"
      }
    },
    {
      "cell_type": "code",
      "source": [
        "for df in [train, test, ori_te]:\n",
        "  df['parch_big'] = df['parch_big'].astype(\"int32\")\n",
        "  df['parch_family'] = df['parch_family'].astype(\"int32\")\n",
        "  df['parch_solo'] = df['parch_solo'].astype(\"int32\")\n",
        "  df['parch_couple'] = df['parch_couple'].astype(\"int32\")"
      ],
      "metadata": {
        "id": "Dw3VQnDjf4gc"
      },
      "execution_count": 141,
      "outputs": []
    },
    {
      "cell_type": "code",
      "source": [
        "from sklearn.preprocessing import OneHotEncoder\n",
        "\n",
        "enc_cols = ['gender', 'embarked', 'gender_pclass', 'gender_embarked']\n",
        "print(f'len_enc_cols: {len(enc_cols)}')\n",
        "encoder = OneHotEncoder() \n",
        "enc_dfs = []\n",
        "\n",
        "for i, df in enumerate([train, test, ori_te]):\n",
        "  if not i:\n",
        "    _encoded = encoder.fit_transform(df[enc_cols])\n",
        "  else:\n",
        "    _encoded = encoder.transform(df[enc_cols])\n",
        "\n",
        "  _encoded_df = pd.DataFrame(\n",
        "    _encoded.toarray(), \n",
        "    columns = encoder.get_feature_names_out()\n",
        "  )\n",
        "\n",
        "  not_enc_cols = list(set(df.columns) - set(enc_cols))\n",
        "  enc_dfs.append(\n",
        "    pd.concat(\n",
        "      [df[not_enc_cols].reset_index(drop=True), _encoded_df.reset_index(drop=True)]\n",
        "      , axis=1\n",
        "    ).reset_index(drop=True)\n",
        "  )\n",
        "\n",
        "train = enc_dfs[0]\n",
        "test = enc_dfs[1]\n",
        "ori_te = enc_dfs[2]\n",
        "\n",
        "print(f'{train.isnull().sum().sum()} / {test.isnull().sum().sum()} / {ori_te.isnull().sum().sum()}')\n",
        "train.shape, test.shape, ori_te.shape"
      ],
      "metadata": {
        "colab": {
          "base_uri": "https://localhost:8080/"
        },
        "id": "pC2JsAOkf4b9",
        "outputId": "97a2dd87-fecd-42aa-8753-cab3b1067711"
      },
      "execution_count": 142,
      "outputs": [
        {
          "output_type": "stream",
          "name": "stdout",
          "text": [
            "len_enc_cols: 4\n",
            "0 / 0 / 0\n"
          ]
        },
        {
          "output_type": "execute_result",
          "data": {
            "text/plain": [
              "((641, 30), (275, 30), (393, 30))"
            ]
          },
          "metadata": {},
          "execution_count": 142
        }
      ]
    },
    {
      "cell_type": "markdown",
      "source": [
        "## Modeling"
      ],
      "metadata": {
        "id": "N6xLBPetfQjs"
      }
    },
    {
      "cell_type": "code",
      "source": [
        "cols = ['parch', 'sibsp', 'age', 'parch_big',\n",
        "       'fare', 'parch_family', 'parch_solo', 'pclass', 'parch_couple',\n",
        "       'gender_female', 'gender_male', 'embarked_C', 'embarked_Q',\n",
        "       'embarked_S', 'gender_pclass_female_1', 'gender_pclass_female_2',\n",
        "       'gender_pclass_female_3', 'gender_pclass_male_1',\n",
        "       'gender_pclass_male_2', 'gender_pclass_male_3',\n",
        "       'gender_embarked_female_C', 'gender_embarked_female_Q',\n",
        "       'gender_embarked_female_S', 'gender_embarked_male_C',\n",
        "       'gender_embarked_male_Q', 'gender_embarked_male_S']\n",
        "\n",
        "X_tr = train[cols]\n",
        "X_te = test[cols]\n",
        "ori_te = ori_te[cols]\n",
        "\n",
        "X_tr.shape, X_te.shape, ori_te.shape"
      ],
      "metadata": {
        "colab": {
          "base_uri": "https://localhost:8080/"
        },
        "id": "GzX4iHaopLGI",
        "outputId": "e7880e31-b7d6-4b21-fa51-5e99fb563e96"
      },
      "execution_count": 143,
      "outputs": [
        {
          "output_type": "execute_result",
          "data": {
            "text/plain": [
              "((641, 26), (275, 26), (393, 26))"
            ]
          },
          "metadata": {},
          "execution_count": 143
        }
      ]
    },
    {
      "cell_type": "code",
      "source": [
        "X_tr.shape, X_te.shape, y_te.shape, y_tr.shape"
      ],
      "metadata": {
        "colab": {
          "base_uri": "https://localhost:8080/"
        },
        "id": "VjbLhPhYf-Sj",
        "outputId": "2d05fcf7-03a8-4d2e-a888-c234d2b1eb66"
      },
      "execution_count": 144,
      "outputs": [
        {
          "output_type": "execute_result",
          "data": {
            "text/plain": [
              "((641, 26), (275, 26), (275,), (641,))"
            ]
          },
          "metadata": {},
          "execution_count": 144
        }
      ]
    },
    {
      "cell_type": "code",
      "source": [
        "X_tr.reset_index(drop=True, inplace=True)\n",
        "X_te.reset_index(drop=True, inplace=True)\n",
        "y_te.reset_index(drop=True, inplace=True)\n",
        "y_tr.reset_index(drop=True, inplace=True)"
      ],
      "metadata": {
        "id": "OjU-h2VMgBGU"
      },
      "execution_count": 145,
      "outputs": []
    },
    {
      "cell_type": "markdown",
      "source": [
        "> HPO"
      ],
      "metadata": {
        "id": "ZpTSFiVvfQY1"
      }
    },
    {
      "cell_type": "code",
      "source": [
        "!pip install optuna"
      ],
      "metadata": {
        "colab": {
          "base_uri": "https://localhost:8080/"
        },
        "id": "qxAdqYz7gSDe",
        "outputId": "ee5e52b8-e7a0-4c9f-c95b-485b131f089e"
      },
      "execution_count": 101,
      "outputs": [
        {
          "output_type": "stream",
          "name": "stdout",
          "text": [
            "Looking in indexes: https://pypi.org/simple, https://us-python.pkg.dev/colab-wheels/public/simple/\n",
            "Requirement already satisfied: optuna in /usr/local/lib/python3.8/dist-packages (3.1.0)\n",
            "Requirement already satisfied: alembic>=1.5.0 in /usr/local/lib/python3.8/dist-packages (from optuna) (1.9.4)\n",
            "Requirement already satisfied: numpy in /usr/local/lib/python3.8/dist-packages (from optuna) (1.22.4)\n",
            "Requirement already satisfied: cmaes>=0.9.1 in /usr/local/lib/python3.8/dist-packages (from optuna) (0.9.1)\n",
            "Requirement already satisfied: tqdm in /usr/local/lib/python3.8/dist-packages (from optuna) (4.64.1)\n",
            "Requirement already satisfied: PyYAML in /usr/local/lib/python3.8/dist-packages (from optuna) (6.0)\n",
            "Requirement already satisfied: colorlog in /usr/local/lib/python3.8/dist-packages (from optuna) (6.7.0)\n",
            "Requirement already satisfied: packaging>=20.0 in /usr/local/lib/python3.8/dist-packages (from optuna) (23.0)\n",
            "Requirement already satisfied: sqlalchemy>=1.3.0 in /usr/local/lib/python3.8/dist-packages (from optuna) (1.4.46)\n",
            "Requirement already satisfied: importlib-resources in /usr/local/lib/python3.8/dist-packages (from alembic>=1.5.0->optuna) (5.12.0)\n",
            "Requirement already satisfied: Mako in /usr/local/lib/python3.8/dist-packages (from alembic>=1.5.0->optuna) (1.2.4)\n",
            "Requirement already satisfied: importlib-metadata in /usr/local/lib/python3.8/dist-packages (from alembic>=1.5.0->optuna) (6.0.0)\n",
            "Requirement already satisfied: greenlet!=0.4.17 in /usr/local/lib/python3.8/dist-packages (from sqlalchemy>=1.3.0->optuna) (2.0.2)\n",
            "Requirement already satisfied: zipp>=0.5 in /usr/local/lib/python3.8/dist-packages (from importlib-metadata->alembic>=1.5.0->optuna) (3.15.0)\n",
            "Requirement already satisfied: MarkupSafe>=0.9.2 in /usr/local/lib/python3.8/dist-packages (from Mako->alembic>=1.5.0->optuna) (2.1.2)\n"
          ]
        }
      ]
    },
    {
      "cell_type": "code",
      "source": [
        "import optuna\n",
        "from sklearn.model_selection import cross_val_score\n",
        "from optuna.samplers import TPESampler\n",
        "optuna.logging.disable_default_handler()"
      ],
      "metadata": {
        "id": "fqVnxeJdgR-w"
      },
      "execution_count": 146,
      "outputs": []
    },
    {
      "cell_type": "code",
      "source": [
        "from sklearn import svm\n",
        "from sklearn.model_selection import StratifiedKFold\n",
        "from sklearn.metrics import roc_curve, auc\n",
        "\n",
        "from lightgbm import LGBMClassifier, plot_importance"
      ],
      "metadata": {
        "id": "a9cV7gfPgR50"
      },
      "execution_count": 147,
      "outputs": []
    },
    {
      "cell_type": "code",
      "source": [
        "class Objective:\n",
        "    def __init__(self, x_train, y_train, seed):\n",
        "        self.x_train = x_train\n",
        "        self.y_train = y_train\n",
        "        self.seed = seed\n",
        "        num_folds=5\n",
        "        self.cv = StratifiedKFold(n_splits=num_folds, shuffle=True, random_state=self.seed)\n",
        "\n",
        "    def __call__(self, trial):\n",
        "        hp = {\n",
        "            \"max_depth\" : trial.suggest_int(\"max_depth\", 2, 20),\n",
        "            \"min_samples_split\" : trial.suggest_int(\"min_samples_split\", 2, 5),\n",
        "            \"criterion\" : trial.suggest_categorical(\"criterion\", [\"gini\", \"entropy\"]),\n",
        "            \"max_leaf_nodes\" : trial.suggest_int(\"max_leaf_nodes\", 5, 10),\n",
        "            \"n_estimators\" : trial.suggest_int(\"n_estimators\", 10, 1000, 50),\n",
        "            \"learning_rate\" : trial.suggest_float(\"learning_rate\", 0.01, 0.1)\n",
        "        }\n",
        "        model = LGBMClassifier(random_state=self.seed, **hp)\n",
        "        scores = cross_val_score(model, self.x_train, self.y_train, cv=self.cv, scoring=\"roc_auc\")\n",
        "        return np.mean(scores)"
      ],
      "metadata": {
        "id": "eTahisGJgUV0"
      },
      "execution_count": 148,
      "outputs": []
    },
    {
      "cell_type": "code",
      "source": [
        "sampler = TPESampler(seed=SEED)\n",
        "\n",
        "study = optuna.create_study(\n",
        "    direction = \"maximize\",\n",
        "    sampler = sampler\n",
        ")\n",
        "objective = Objective(X_tr, y_tr, SEED)\n",
        "study.optimize(objective, n_trials=100)\n",
        "\n",
        "print(\"Best Score:\", study.best_value)\n",
        "print(\"Best hp\", study.best_params)"
      ],
      "metadata": {
        "colab": {
          "base_uri": "https://localhost:8080/"
        },
        "id": "kIx6iDWwgVsO",
        "outputId": "8f9bce72-a8e5-4645-b862-b60d34b75d9a"
      },
      "execution_count": 149,
      "outputs": [
        {
          "output_type": "stream",
          "name": "stdout",
          "text": [
            "Best Score: 0.8990268180056832\n",
            "Best hp {'max_depth': 3, 'min_samples_split': 5, 'criterion': 'gini', 'max_leaf_nodes': 7, 'n_estimators': 110, 'learning_rate': 0.0538494481992669}\n"
          ]
        }
      ]
    },
    {
      "cell_type": "code",
      "source": [
        "# 모델 정의\n",
        "modelV8 = LGBMClassifier(random_state=SEED, **study.best_params)"
      ],
      "metadata": {
        "id": "IJJ_C05UgX68"
      },
      "execution_count": 152,
      "outputs": []
    },
    {
      "cell_type": "code",
      "source": [
        "# 교차 검증\n",
        "skf = StratifiedKFold(n_splits=5, shuffle=True, random_state=0)"
      ],
      "metadata": {
        "id": "9YXZVqEmgZ37"
      },
      "execution_count": 153,
      "outputs": []
    },
    {
      "cell_type": "code",
      "source": [
        "from sklearn.metrics import roc_curve, auc\n",
        "\n",
        "n_iter = 0\n",
        "auc_te_lst = []\n",
        "\n",
        "for train_index, valid_index in skf.split(X_tr, y_tr):\n",
        "  n_iter += 1\n",
        "  # 학습용, 검증용 데이터 구성\n",
        "  train_x, valid_x = X_tr.loc[train_index], X_tr.loc[valid_index]\n",
        "  train_y, valid_y = y_tr.loc[train_index], y_tr.loc[valid_index]\n",
        "  # 학습\n",
        "  modelV8.fit(train_x, train_y)\n",
        "  # 예측\n",
        "  pred_prob = modelV8.predict_proba(valid_x)[:, 1]  # 클래스 1에 속할 확률 값만 가져옴\n",
        "  # 평가\n",
        "  fpr, tpr, thresholds = roc_curve(valid_y, pred_prob)\n",
        "  auc_te = auc(fpr, tpr)\n",
        "  auc_te_lst.append(auc_te)\n",
        "  print(f'{n_iter} 번째 StratifiedKFold AUC: {auc_te:.4f}, 학습데이터 크기: {train_x.shape}, 검증데이터 크기: {valid_x.shape}')\n",
        "\n",
        "# 최종 평가\n",
        "print('-'*50)\n",
        "print(f'교차 검증 AUC: {np.mean(auc_te_lst):.4f} / 모델 평가: {modelV8.score(X_te, y_te)}')"
      ],
      "metadata": {
        "colab": {
          "base_uri": "https://localhost:8080/"
        },
        "id": "rF5Cxtipga9T",
        "outputId": "ebecc263-52c3-439c-ddaa-625420a33213"
      },
      "execution_count": 154,
      "outputs": [
        {
          "output_type": "stream",
          "name": "stdout",
          "text": [
            "1 번째 StratifiedKFold AUC: 0.8918, 학습데이터 크기: (512, 26), 검증데이터 크기: (129, 26)\n",
            "2 번째 StratifiedKFold AUC: 0.8967, 학습데이터 크기: (513, 26), 검증데이터 크기: (128, 26)\n",
            "3 번째 StratifiedKFold AUC: 0.8796, 학습데이터 크기: (513, 26), 검증데이터 크기: (128, 26)\n",
            "4 번째 StratifiedKFold AUC: 0.9349, 학습데이터 크기: (513, 26), 검증데이터 크기: (128, 26)\n",
            "5 번째 StratifiedKFold AUC: 0.9135, 학습데이터 크기: (513, 26), 검증데이터 크기: (128, 26)\n",
            "--------------------------------------------------\n",
            "교차 검증 AUC: 0.9033 / 모델 평가: 0.8472727272727273\n"
          ]
        }
      ]
    },
    {
      "cell_type": "code",
      "source": [
        "# 모델 확인\n",
        "df_feature_importances = pd.DataFrame(modelV8.feature_importances_, X_tr.columns).sort_values(by=[0], ascending=False).reset_index()\n",
        "\n",
        "print(f'{df_feature_importances.shape}')\n",
        "df_feature_importances"
      ],
      "metadata": {
        "colab": {
          "base_uri": "https://localhost:8080/",
          "height": 882
        },
        "id": "U1x_0BmBgeMM",
        "outputId": "839b6ecf-3fde-4301-c998-af7b096b18da"
      },
      "execution_count": 155,
      "outputs": [
        {
          "output_type": "stream",
          "name": "stdout",
          "text": [
            "(26, 2)\n"
          ]
        },
        {
          "output_type": "execute_result",
          "data": {
            "text/plain": [
              "                       index    0\n",
              "0                       fare  158\n",
              "1                        age  129\n",
              "2                      sibsp   50\n",
              "3              gender_female   49\n",
              "4                     pclass   46\n",
              "5     gender_pclass_female_1   32\n",
              "6                 embarked_Q   18\n",
              "7       gender_pclass_male_2   15\n",
              "8     gender_pclass_female_2   14\n",
              "9                 embarked_S   12\n",
              "10  gender_embarked_female_Q    9\n",
              "11    gender_embarked_male_Q    8\n",
              "12                     parch    6\n",
              "13                parch_solo    6\n",
              "14                embarked_C    0\n",
              "15               gender_male    0\n",
              "16              parch_couple    0\n",
              "17    gender_pclass_female_3    0\n",
              "18      gender_pclass_male_1    0\n",
              "19      gender_pclass_male_3    0\n",
              "20  gender_embarked_female_C    0\n",
              "21              parch_family    0\n",
              "22  gender_embarked_female_S    0\n",
              "23    gender_embarked_male_C    0\n",
              "24                 parch_big    0\n",
              "25    gender_embarked_male_S    0"
            ],
            "text/html": [
              "\n",
              "  <div id=\"df-c14769d3-4fab-476f-932d-5c72971707ee\">\n",
              "    <div class=\"colab-df-container\">\n",
              "      <div>\n",
              "<style scoped>\n",
              "    .dataframe tbody tr th:only-of-type {\n",
              "        vertical-align: middle;\n",
              "    }\n",
              "\n",
              "    .dataframe tbody tr th {\n",
              "        vertical-align: top;\n",
              "    }\n",
              "\n",
              "    .dataframe thead th {\n",
              "        text-align: right;\n",
              "    }\n",
              "</style>\n",
              "<table border=\"1\" class=\"dataframe\">\n",
              "  <thead>\n",
              "    <tr style=\"text-align: right;\">\n",
              "      <th></th>\n",
              "      <th>index</th>\n",
              "      <th>0</th>\n",
              "    </tr>\n",
              "  </thead>\n",
              "  <tbody>\n",
              "    <tr>\n",
              "      <th>0</th>\n",
              "      <td>fare</td>\n",
              "      <td>158</td>\n",
              "    </tr>\n",
              "    <tr>\n",
              "      <th>1</th>\n",
              "      <td>age</td>\n",
              "      <td>129</td>\n",
              "    </tr>\n",
              "    <tr>\n",
              "      <th>2</th>\n",
              "      <td>sibsp</td>\n",
              "      <td>50</td>\n",
              "    </tr>\n",
              "    <tr>\n",
              "      <th>3</th>\n",
              "      <td>gender_female</td>\n",
              "      <td>49</td>\n",
              "    </tr>\n",
              "    <tr>\n",
              "      <th>4</th>\n",
              "      <td>pclass</td>\n",
              "      <td>46</td>\n",
              "    </tr>\n",
              "    <tr>\n",
              "      <th>5</th>\n",
              "      <td>gender_pclass_female_1</td>\n",
              "      <td>32</td>\n",
              "    </tr>\n",
              "    <tr>\n",
              "      <th>6</th>\n",
              "      <td>embarked_Q</td>\n",
              "      <td>18</td>\n",
              "    </tr>\n",
              "    <tr>\n",
              "      <th>7</th>\n",
              "      <td>gender_pclass_male_2</td>\n",
              "      <td>15</td>\n",
              "    </tr>\n",
              "    <tr>\n",
              "      <th>8</th>\n",
              "      <td>gender_pclass_female_2</td>\n",
              "      <td>14</td>\n",
              "    </tr>\n",
              "    <tr>\n",
              "      <th>9</th>\n",
              "      <td>embarked_S</td>\n",
              "      <td>12</td>\n",
              "    </tr>\n",
              "    <tr>\n",
              "      <th>10</th>\n",
              "      <td>gender_embarked_female_Q</td>\n",
              "      <td>9</td>\n",
              "    </tr>\n",
              "    <tr>\n",
              "      <th>11</th>\n",
              "      <td>gender_embarked_male_Q</td>\n",
              "      <td>8</td>\n",
              "    </tr>\n",
              "    <tr>\n",
              "      <th>12</th>\n",
              "      <td>parch</td>\n",
              "      <td>6</td>\n",
              "    </tr>\n",
              "    <tr>\n",
              "      <th>13</th>\n",
              "      <td>parch_solo</td>\n",
              "      <td>6</td>\n",
              "    </tr>\n",
              "    <tr>\n",
              "      <th>14</th>\n",
              "      <td>embarked_C</td>\n",
              "      <td>0</td>\n",
              "    </tr>\n",
              "    <tr>\n",
              "      <th>15</th>\n",
              "      <td>gender_male</td>\n",
              "      <td>0</td>\n",
              "    </tr>\n",
              "    <tr>\n",
              "      <th>16</th>\n",
              "      <td>parch_couple</td>\n",
              "      <td>0</td>\n",
              "    </tr>\n",
              "    <tr>\n",
              "      <th>17</th>\n",
              "      <td>gender_pclass_female_3</td>\n",
              "      <td>0</td>\n",
              "    </tr>\n",
              "    <tr>\n",
              "      <th>18</th>\n",
              "      <td>gender_pclass_male_1</td>\n",
              "      <td>0</td>\n",
              "    </tr>\n",
              "    <tr>\n",
              "      <th>19</th>\n",
              "      <td>gender_pclass_male_3</td>\n",
              "      <td>0</td>\n",
              "    </tr>\n",
              "    <tr>\n",
              "      <th>20</th>\n",
              "      <td>gender_embarked_female_C</td>\n",
              "      <td>0</td>\n",
              "    </tr>\n",
              "    <tr>\n",
              "      <th>21</th>\n",
              "      <td>parch_family</td>\n",
              "      <td>0</td>\n",
              "    </tr>\n",
              "    <tr>\n",
              "      <th>22</th>\n",
              "      <td>gender_embarked_female_S</td>\n",
              "      <td>0</td>\n",
              "    </tr>\n",
              "    <tr>\n",
              "      <th>23</th>\n",
              "      <td>gender_embarked_male_C</td>\n",
              "      <td>0</td>\n",
              "    </tr>\n",
              "    <tr>\n",
              "      <th>24</th>\n",
              "      <td>parch_big</td>\n",
              "      <td>0</td>\n",
              "    </tr>\n",
              "    <tr>\n",
              "      <th>25</th>\n",
              "      <td>gender_embarked_male_S</td>\n",
              "      <td>0</td>\n",
              "    </tr>\n",
              "  </tbody>\n",
              "</table>\n",
              "</div>\n",
              "      <button class=\"colab-df-convert\" onclick=\"convertToInteractive('df-c14769d3-4fab-476f-932d-5c72971707ee')\"\n",
              "              title=\"Convert this dataframe to an interactive table.\"\n",
              "              style=\"display:none;\">\n",
              "        \n",
              "  <svg xmlns=\"http://www.w3.org/2000/svg\" height=\"24px\"viewBox=\"0 0 24 24\"\n",
              "       width=\"24px\">\n",
              "    <path d=\"M0 0h24v24H0V0z\" fill=\"none\"/>\n",
              "    <path d=\"M18.56 5.44l.94 2.06.94-2.06 2.06-.94-2.06-.94-.94-2.06-.94 2.06-2.06.94zm-11 1L8.5 8.5l.94-2.06 2.06-.94-2.06-.94L8.5 2.5l-.94 2.06-2.06.94zm10 10l.94 2.06.94-2.06 2.06-.94-2.06-.94-.94-2.06-.94 2.06-2.06.94z\"/><path d=\"M17.41 7.96l-1.37-1.37c-.4-.4-.92-.59-1.43-.59-.52 0-1.04.2-1.43.59L10.3 9.45l-7.72 7.72c-.78.78-.78 2.05 0 2.83L4 21.41c.39.39.9.59 1.41.59.51 0 1.02-.2 1.41-.59l7.78-7.78 2.81-2.81c.8-.78.8-2.07 0-2.86zM5.41 20L4 18.59l7.72-7.72 1.47 1.35L5.41 20z\"/>\n",
              "  </svg>\n",
              "      </button>\n",
              "      \n",
              "  <style>\n",
              "    .colab-df-container {\n",
              "      display:flex;\n",
              "      flex-wrap:wrap;\n",
              "      gap: 12px;\n",
              "    }\n",
              "\n",
              "    .colab-df-convert {\n",
              "      background-color: #E8F0FE;\n",
              "      border: none;\n",
              "      border-radius: 50%;\n",
              "      cursor: pointer;\n",
              "      display: none;\n",
              "      fill: #1967D2;\n",
              "      height: 32px;\n",
              "      padding: 0 0 0 0;\n",
              "      width: 32px;\n",
              "    }\n",
              "\n",
              "    .colab-df-convert:hover {\n",
              "      background-color: #E2EBFA;\n",
              "      box-shadow: 0px 1px 2px rgba(60, 64, 67, 0.3), 0px 1px 3px 1px rgba(60, 64, 67, 0.15);\n",
              "      fill: #174EA6;\n",
              "    }\n",
              "\n",
              "    [theme=dark] .colab-df-convert {\n",
              "      background-color: #3B4455;\n",
              "      fill: #D2E3FC;\n",
              "    }\n",
              "\n",
              "    [theme=dark] .colab-df-convert:hover {\n",
              "      background-color: #434B5C;\n",
              "      box-shadow: 0px 1px 3px 1px rgba(0, 0, 0, 0.15);\n",
              "      filter: drop-shadow(0px 1px 2px rgba(0, 0, 0, 0.3));\n",
              "      fill: #FFFFFF;\n",
              "    }\n",
              "  </style>\n",
              "\n",
              "      <script>\n",
              "        const buttonEl =\n",
              "          document.querySelector('#df-c14769d3-4fab-476f-932d-5c72971707ee button.colab-df-convert');\n",
              "        buttonEl.style.display =\n",
              "          google.colab.kernel.accessAllowed ? 'block' : 'none';\n",
              "\n",
              "        async function convertToInteractive(key) {\n",
              "          const element = document.querySelector('#df-c14769d3-4fab-476f-932d-5c72971707ee');\n",
              "          const dataTable =\n",
              "            await google.colab.kernel.invokeFunction('convertToInteractive',\n",
              "                                                     [key], {});\n",
              "          if (!dataTable) return;\n",
              "\n",
              "          const docLinkHtml = 'Like what you see? Visit the ' +\n",
              "            '<a target=\"_blank\" href=https://colab.research.google.com/notebooks/data_table.ipynb>data table notebook</a>'\n",
              "            + ' to learn more about interactive tables.';\n",
              "          element.innerHTML = '';\n",
              "          dataTable['output_type'] = 'display_data';\n",
              "          await google.colab.output.renderOutput(dataTable, element);\n",
              "          const docLink = document.createElement('div');\n",
              "          docLink.innerHTML = docLinkHtml;\n",
              "          element.appendChild(docLink);\n",
              "        }\n",
              "      </script>\n",
              "    </div>\n",
              "  </div>\n",
              "  "
            ]
          },
          "metadata": {},
          "execution_count": 155
        }
      ]
    },
    {
      "cell_type": "markdown",
      "source": [
        "## Evaluation"
      ],
      "metadata": {
        "id": "nqEwjHVqggkc"
      }
    },
    {
      "cell_type": "code",
      "source": [
        "# 모델 확인\n",
        "score_tr = modelV8.score(X_tr, y_tr)\n",
        "score_te = modelV8.score(X_te, y_te)\n",
        "\n",
        "score_tr, score_te"
      ],
      "metadata": {
        "colab": {
          "base_uri": "https://localhost:8080/"
        },
        "id": "qP0S_1c6gpec",
        "outputId": "fcf2331d-9451-41c2-964d-aca46af1350e"
      },
      "execution_count": 156,
      "outputs": [
        {
          "output_type": "execute_result",
          "data": {
            "text/plain": [
              "(0.8829953198127926, 0.8472727272727273)"
            ]
          },
          "metadata": {},
          "execution_count": 156
        }
      ]
    },
    {
      "cell_type": "code",
      "source": [
        "ori_te_pred = modelV8.predict_proba(ori_te)[:,1]\n",
        "ori_te_pred.shape"
      ],
      "metadata": {
        "colab": {
          "base_uri": "https://localhost:8080/"
        },
        "id": "9SpjgZ2ngpXN",
        "outputId": "086f68af-b7f0-4de4-e405-2e7e94341728"
      },
      "execution_count": 157,
      "outputs": [
        {
          "output_type": "execute_result",
          "data": {
            "text/plain": [
              "(393,)"
            ]
          },
          "metadata": {},
          "execution_count": 157
        }
      ]
    },
    {
      "cell_type": "code",
      "source": [
        "args.results.append(\n",
        "    {\n",
        "        'model': 'modelV8',\n",
        "        'score_tr': score_tr,\n",
        "        'score_te': score_te,\n",
        "        'auc_te': auc_te,\n",
        "        'ori_te_pred': ori_te_pred,\n",
        "        'len_features': X_tr.shape[1],\n",
        "        'feaute_importances': list(df_feature_importances['index'].values[:X_tr.shape[1]]),\n",
        "        'create_dt': '0303'\n",
        "    }\n",
        ")"
      ],
      "metadata": {
        "id": "mPmB6UVWgpMB"
      },
      "execution_count": 158,
      "outputs": []
    },
    {
      "cell_type": "markdown",
      "source": [
        "> SHAP"
      ],
      "metadata": {
        "id": "cWSjMAd_g7WF"
      }
    },
    {
      "cell_type": "code",
      "source": [
        "# import shap"
      ],
      "metadata": {
        "id": "ch-XfDzsg8ek"
      },
      "execution_count": 114,
      "outputs": []
    },
    {
      "cell_type": "code",
      "source": [
        "# explainer = shap.TreeExplainer(modelV8) #학습 모델\n",
        "# shap_values = explainer.shap_values(X_te)"
      ],
      "metadata": {
        "id": "Ea8enCFLg8XV"
      },
      "execution_count": 115,
      "outputs": []
    },
    {
      "cell_type": "code",
      "source": [
        "# shap.summary_plot(shap_values[1], X_te)"
      ],
      "metadata": {
        "id": "q40GTRcJhRxM"
      },
      "execution_count": 116,
      "outputs": []
    },
    {
      "cell_type": "code",
      "source": [
        "# !pip install shap"
      ],
      "metadata": {
        "id": "8NVcX1xKrAp2"
      },
      "execution_count": 168,
      "outputs": []
    },
    {
      "cell_type": "code",
      "source": [
        "import shap\n",
        "explainer = shap.TreeExplainer(modelV8) #학습 모델\n",
        "shap_values = explainer.shap_values(X_te)\n",
        "shap.summary_plot(shap_values[1], X_te)"
      ],
      "metadata": {
        "colab": {
          "base_uri": "https://localhost:8080/",
          "height": 685
        },
        "id": "UuCZUCMDq4Pe",
        "outputId": "c4c8c18e-3fd1-46bf-fd5e-47f86bdb35f4"
      },
      "execution_count": 169,
      "outputs": [
        {
          "output_type": "display_data",
          "data": {
            "text/plain": [
              "<Figure size 576x684 with 2 Axes>"
            ],
            "image/png": "[encoded data removed]"
          },
          "metadata": {
            "image/png": {
              "width": 558,
              "height": 668
            }
          }
        }
      ]
    },
    {
      "cell_type": "markdown",
      "source": [
        "# ModelV9"
      ],
      "metadata": {
        "id": "h1MpLgNQtMY6"
      }
    },
    {
      "cell_type": "markdown",
      "source": [
        "## Version History"
      ],
      "metadata": {
        "id": "1qVwSP5OtyWL"
      }
    },
    {
      "cell_type": "markdown",
      "source": [
        "- ModelV7 결과\n",
        "  - public score 90점 획득\n",
        "  - 지속적인 Version Upgrade를 통한 score 상승 필요\n",
        "  - 오타가 있는지 체크확인 필요\n",
        "- LGBMClassifier score\n",
        "  - train : 0.8798751950078003\n",
        "  - test : 0.8545454545454545\n",
        "- feature_importances의 상위 5개(변경 전후)\n",
        "  - 변경 전\n",
        "    - gender_male :\t0.532091\n",
        "    - age_random : \t0.204676\n",
        "    - fare\t: 0.176452\n",
        "    - pclass_3.0 : 0.025995\n",
        "    - sibsp\t: 0.024247\n",
        "  - 피쳐 생성 후\n",
        "    - gender_female\t0.531190\n",
        "    - fare\t0.169875\n",
        "    - age\t0.162931\n",
        "    - age_\t0.031489\n",
        "    - pclass\t0.028754\n",
        "  - 앙상블 후\n",
        "    - age\t597\n",
        "    -\tfare\t436\n",
        "    -\tpclass\t122\n",
        "    -\tgender_female\t100\n",
        "    -\tsibsp\t70\n",
        "  - 교차검증 KFold 이후\n",
        "    - age\t412\n",
        "    - fare\t345\n",
        "    - pclass\t118\n",
        "    - gender_female\t100\n",
        "    - parch\t91\n",
        "  - 교차검증 2차 이후\n",
        "    - age\t512\n",
        "    - fare\t269\n",
        "    - sibsp\t106\n",
        "    - pclass\t102\n",
        "    - gender_female\t100\n",
        "  - V5 HPO 이후\n",
        "    -\tage\t493\n",
        "    - fare\t156\n",
        "    - pclass\t146\n",
        "    - gender_female\t100\n",
        "    - parch\t83\n",
        "  - V6 오타 수정 이후\n",
        "    - age\t177\n",
        "    - fare\t95\n",
        "    - sibsp\t53\n",
        "    - gender_female\t50\n",
        "    - pclass\t45\n",
        "  - V8 SHAP\n",
        "    - gender_female\n",
        "    - gender_pcalss_female_1\n",
        "    - fare\n",
        "    - pclass\n",
        "    - age\n",
        "    - sibsp\n",
        "\n",
        "- 인사이트\n",
        "  - shap를 통한 Feature 중요도 파악 및 선정 재진행\n",
        "- 가설\n",
        "  - 유의미한 Feature 찾고 불필요한 것을 제거한다면 Score가 더 오를 것이다."
      ],
      "metadata": {
        "id": "EBWG5UYCtyPA"
      }
    },
    {
      "cell_type": "markdown",
      "source": [
        "## Missing value"
      ],
      "metadata": {
        "id": "2FRPedZ_tyIg"
      }
    },
    {
      "cell_type": "code",
      "source": [
        "ori_train = pd.read_csv(args.train_csv)\n",
        "ori_test = pd.read_csv(args.test_csv)\n",
        "\n",
        "X = ori_train.drop('survived', axis = 1)\n",
        "y = ori_train['survived'] \n",
        "\n",
        "from sklearn.model_selection import train_test_split\n",
        "\n",
        "X_tr, X_te, y_tr, y_te = train_test_split(X, y, test_size = 0.3, stratify =y , random_state = SEED)\n",
        "\n",
        "X_tr.shape, X_te.shape, y_tr.shape, y_te.shape"
      ],
      "metadata": {
        "colab": {
          "base_uri": "https://localhost:8080/"
        },
        "id": "Qag-NrUOvPbU",
        "outputId": "99291ed9-abaf-4e14-fd3b-81895a8ee175"
      },
      "execution_count": 436,
      "outputs": [
        {
          "output_type": "execute_result",
          "data": {
            "text/plain": [
              "((641, 11), (275, 11), (641,), (275,))"
            ]
          },
          "metadata": {},
          "execution_count": 436
        }
      ]
    },
    {
      "cell_type": "code",
      "source": [
        "train = X_tr.copy() \n",
        "test = X_te.copy()\n",
        "ori_te = ori_test.copy()\n",
        "\n",
        "train.shape, test.shape, ori_te.shape"
      ],
      "metadata": {
        "colab": {
          "base_uri": "https://localhost:8080/"
        },
        "id": "MU-SKDQZvPUP",
        "outputId": "7bb8b966-b111-4e3f-ffc3-9246da55f41f"
      },
      "execution_count": 437,
      "outputs": [
        {
          "output_type": "execute_result",
          "data": {
            "text/plain": [
              "((641, 11), (275, 11), (393, 11))"
            ]
          },
          "metadata": {},
          "execution_count": 437
        }
      ]
    },
    {
      "cell_type": "code",
      "source": [
        "train.drop('cabin', axis = 1, inplace=True)\n",
        "test.drop('cabin', axis = 1, inplace=True)\n",
        "ori_te.drop('cabin', axis = 1, inplace=True)\n",
        "\n",
        "train.shape, test.shape, ori_te.shape"
      ],
      "metadata": {
        "colab": {
          "base_uri": "https://localhost:8080/"
        },
        "id": "2LK8EeYuvRTx",
        "outputId": "7ebe43ba-38f0-45c6-df34-c1358b40fa28"
      },
      "execution_count": 438,
      "outputs": [
        {
          "output_type": "execute_result",
          "data": {
            "text/plain": [
              "((641, 10), (275, 10), (393, 10))"
            ]
          },
          "metadata": {},
          "execution_count": 438
        }
      ]
    },
    {
      "cell_type": "code",
      "source": [
        "from pandas.api.types import is_string_dtype\n",
        "from pandas.api.types import is_numeric_dtype\n",
        "\n",
        "def __get_cols_cleaning(p_pd_list:list) -> list:\n",
        "  cols_cleaning = []\n",
        "  for df in p_pd_list:\n",
        "    # 결측치 컬럼 조회\n",
        "    tmp = df.isnull().sum()\n",
        "    cols_cleaning += list(tmp[df.isnull().sum() > 0].index)\n",
        "\n",
        "  cols_cleaning = list(set(cols_cleaning))\n",
        "  print(f'cols_cleaning: {cols_cleaning}')\n",
        "  return cols_cleaning\n",
        "\n",
        "def add_cols_cleaning(p_train:pd.DataFrame, p_test:pd.DataFrame, p_ori_te:pd.DataFrame) -> None:\n",
        "  pd_list = [p_train, p_test, p_ori_te]\n",
        "  for col in __get_cols_cleaning(pd_list):  # for col in cols_cleaning:\n",
        "    for i, df in enumerate(pd_list, start=1): \n",
        "      \n",
        "      if is_numeric_dtype(df[col]): # 숫자형 결측치 처리\n",
        "        new_col = col+'_cleaning'\n",
        "        df[new_col] = df[col]   \n",
        "        # random sampling\n",
        "        random_sampling = (p_train[col].dropna().sample(df[col].isnull().sum()))\n",
        "        # index 부여\n",
        "        random_sampling.index = df[lambda x: x[col].isnull()].index \n",
        "        # NA imputation\n",
        "        df.loc[df[col].isnull(), new_col] = random_sampling\n",
        "        \n",
        "        # 기존 결측치 컬럼 제거\n",
        "        if i == len(pd_list):\n",
        "          for _df in pd_list:\n",
        "            _df.drop([col], axis=1, inplace=True)\n",
        "      \n",
        "      else: # 범주형 결측치 처리\n",
        "        df[col].fillna(p_train[col].mode().values[0], inplace=True)\n",
        "\n",
        "  print(f'p_train: {p_train.isnull().sum().sum()} / p_test: {p_test.isnull().sum().sum()} / p_ori_te: {p_ori_te.isnull().sum().sum()}')\n"
      ],
      "metadata": {
        "id": "A6UUn1jqvRPf"
      },
      "execution_count": 439,
      "outputs": []
    },
    {
      "cell_type": "code",
      "source": [
        "add_cols_cleaning(train, test, ori_te)"
      ],
      "metadata": {
        "colab": {
          "base_uri": "https://localhost:8080/"
        },
        "id": "uawFc6xSvRLn",
        "outputId": "79e7e9cf-b12a-45d8-d0ce-22f8130c6800"
      },
      "execution_count": 440,
      "outputs": [
        {
          "output_type": "stream",
          "name": "stdout",
          "text": [
            "cols_cleaning: ['embarked', 'fare', 'age']\n",
            "p_train: 0 / p_test: 0 / p_ori_te: 0\n"
          ]
        }
      ]
    },
    {
      "cell_type": "code",
      "source": [
        "cols = ['passengerid', 'pclass', 'name', 'gender', 'sibsp', 'parch', 'ticket',\n",
        "       'embarked', 'fare', 'age']\n",
        "\n",
        "for df in [train, test, ori_te]:\n",
        "  df.columns = cols"
      ],
      "metadata": {
        "id": "OtJn7Q-5vUjI"
      },
      "execution_count": 441,
      "outputs": []
    },
    {
      "cell_type": "code",
      "source": [
        "train.shape, test.shape, ori_te.shape"
      ],
      "metadata": {
        "colab": {
          "base_uri": "https://localhost:8080/"
        },
        "id": "BS-a6UfUvUKn",
        "outputId": "3197e93f-22f1-4e72-9c8b-b381e705b78c"
      },
      "execution_count": 442,
      "outputs": [
        {
          "output_type": "execute_result",
          "data": {
            "text/plain": [
              "((641, 10), (275, 10), (393, 10))"
            ]
          },
          "metadata": {},
          "execution_count": 442
        }
      ]
    },
    {
      "cell_type": "code",
      "source": [
        "train.isnull().sum().sum(), test.isnull().sum().sum(), ori_te.isnull().sum().sum()"
      ],
      "metadata": {
        "colab": {
          "base_uri": "https://localhost:8080/"
        },
        "id": "mqhLeJmKvT_v",
        "outputId": "9d3ac2d9-77f8-4ae1-9161-38885c55a27b"
      },
      "execution_count": 443,
      "outputs": [
        {
          "output_type": "execute_result",
          "data": {
            "text/plain": [
              "(0, 0, 0)"
            ]
          },
          "metadata": {},
          "execution_count": 443
        }
      ]
    },
    {
      "cell_type": "markdown",
      "source": [
        "## Add Feature"
      ],
      "metadata": {
        "id": "uEPpuLwrvMzQ"
      }
    },
    {
      "cell_type": "code",
      "source": [
        "train[\"age_\"] = train[\"age\"].map(lambda x: x // 10)\n",
        "test[\"age_\"] = test[\"age\"].map(lambda x: x // 10)\n",
        "ori_te[\"age_\"] = ori_te[\"age\"].map(lambda x: x // 10)\n",
        "\n",
        "train['age_'].unique()"
      ],
      "metadata": {
        "colab": {
          "base_uri": "https://localhost:8080/"
        },
        "id": "XfF4jnFKveI_",
        "outputId": "0ae20cd5-c305-44a6-ec3c-7e44d45b5b9c"
      },
      "execution_count": 444,
      "outputs": [
        {
          "output_type": "execute_result",
          "data": {
            "text/plain": [
              "array([2., 3., 4., 6., 1., 0., 5., 7., 8.])"
            ]
          },
          "metadata": {},
          "execution_count": 444
        }
      ]
    },
    {
      "cell_type": "code",
      "source": [
        "train['gender_pclass'] = train.apply(lambda row: row['gender']+'_'+str(row['pclass']), axis=1)\n",
        "test['gender_pclass'] = test.apply(lambda row: row['gender']+'_'+str(row['pclass']), axis=1)\n",
        "ori_te['gender_pclass'] = ori_te.apply(lambda row: row['gender']+'_'+str(row['pclass']), axis=1)\n",
        "\n",
        "train['gender_pclass'].unique()"
      ],
      "metadata": {
        "colab": {
          "base_uri": "https://localhost:8080/"
        },
        "id": "ynNLSmcHve-l",
        "outputId": "e6b21791-245a-4cee-c047-1b93bc70c28f"
      },
      "execution_count": 445,
      "outputs": [
        {
          "output_type": "execute_result",
          "data": {
            "text/plain": [
              "array(['male_1', 'female_1', 'male_3', 'male_2', 'female_3', 'female_2'],\n",
              "      dtype=object)"
            ]
          },
          "metadata": {},
          "execution_count": 445
        }
      ]
    },
    {
      "cell_type": "code",
      "source": [
        "train['gender_embarked'] = train.apply(lambda row: row['gender']+'_'+str(row['embarked']), axis=1)\n",
        "test['gender_embarked'] = test.apply(lambda row: row['gender']+'_'+str(row['embarked']), axis=1)\n",
        "ori_te['gender_embarked'] = ori_te.apply(lambda row: row['gender']+'_'+str(row['embarked']), axis=1)\n",
        "\n",
        "train['gender_embarked'].unique()"
      ],
      "metadata": {
        "colab": {
          "base_uri": "https://localhost:8080/"
        },
        "id": "HWbZZSrUve4E",
        "outputId": "c436ccc9-01d5-4d9c-99b6-dac9dbb56128"
      },
      "execution_count": 446,
      "outputs": [
        {
          "output_type": "execute_result",
          "data": {
            "text/plain": [
              "array(['male_S', 'female_C', 'male_Q', 'female_S', 'male_C', 'female_Q'],\n",
              "      dtype=object)"
            ]
          },
          "metadata": {},
          "execution_count": 446
        }
      ]
    },
    {
      "cell_type": "code",
      "source": [
        "for data in [train, test, ori_te]:\n",
        "  p1 = data['parch'] == 0\n",
        "  data['parch_solo'] = p1\n",
        "\n",
        "  p2 = data['parch'] == 1\n",
        "  data['parch_couple'] = p2\n",
        "\n",
        "  p3 = data['parch'] == 2 \n",
        "  p4 = data['parch'] == 3\n",
        "  p = p3 | p4\n",
        "  data['parch_family'] = p\n",
        "\n",
        "  p5 = data['parch'] >= 4\n",
        "  data['parch_big'] = p5\n",
        "\n",
        "train.shape, test.shape, ori_te.shape"
      ],
      "metadata": {
        "colab": {
          "base_uri": "https://localhost:8080/"
        },
        "id": "nfcRyf8GvexX",
        "outputId": "2bab3c20-7c5c-4a27-e38a-982a7eec5dab"
      },
      "execution_count": 447,
      "outputs": [
        {
          "output_type": "execute_result",
          "data": {
            "text/plain": [
              "((641, 17), (275, 17), (393, 17))"
            ]
          },
          "metadata": {},
          "execution_count": 447
        }
      ]
    },
    {
      "cell_type": "markdown",
      "source": [
        "## Scaling"
      ],
      "metadata": {
        "id": "SvIHsaSgvMr2"
      }
    },
    {
      "cell_type": "code",
      "source": [
        "from sklearn.preprocessing import StandardScaler\n",
        "\n",
        "scaling_cols = ['pclass', 'sibsp', 'parch', 'age_', 'fare', 'age']\n",
        "scaler = StandardScaler()\n",
        "scaled_dfs = []\n",
        "\n",
        "for i, df in enumerate([train, test, ori_te]):\n",
        "  if not i:\n",
        "    _scaled = scaler.fit_transform(df[scaling_cols])\n",
        "  else:\n",
        "    _scaled = scaler.transform(df[scaling_cols])\n",
        "\n",
        "  _scaled_df = pd.DataFrame(\n",
        "    _scaled, \n",
        "    columns = scaling_cols\n",
        "  )\n",
        "\n",
        "  not_scaling_cols = list(set(df.columns) - set(scaling_cols))\n",
        "\n",
        "  scaled_dfs.append(\n",
        "    pd.concat(\n",
        "      [df[not_scaling_cols].reset_index(drop=True), _scaled_df.reset_index(drop=True)]\n",
        "      , axis=1\n",
        "    ).reset_index(drop=True)\n",
        "  )\n",
        "\n",
        "train = scaled_dfs[0]\n",
        "test = scaled_dfs[1]\n",
        "ori_te = scaled_dfs[2]\n",
        "\n",
        "print(f'{train.isnull().sum().sum()} / {test.isnull().sum().sum()} / {ori_te.isnull().sum().sum()}')\n",
        "train.shape, test.shape, ori_te.shape"
      ],
      "metadata": {
        "colab": {
          "base_uri": "https://localhost:8080/"
        },
        "id": "eV_9Me6VvmMH",
        "outputId": "10235037-5640-4a7c-bc23-ca2c0df9e3a8"
      },
      "execution_count": 448,
      "outputs": [
        {
          "output_type": "stream",
          "name": "stdout",
          "text": [
            "0 / 0 / 0\n"
          ]
        },
        {
          "output_type": "execute_result",
          "data": {
            "text/plain": [
              "((641, 17), (275, 17), (393, 17))"
            ]
          },
          "metadata": {},
          "execution_count": 448
        }
      ]
    },
    {
      "cell_type": "markdown",
      "source": [
        "## Encoding"
      ],
      "metadata": {
        "id": "501DysIovMjX"
      }
    },
    {
      "cell_type": "code",
      "source": [
        "for df in [train, test, ori_te]:\n",
        "  df['parch_big'] = df['parch_big'].astype(\"int32\")\n",
        "  df['parch_family'] = df['parch_family'].astype(\"int32\")\n",
        "  df['parch_solo'] = df['parch_solo'].astype(\"int32\")\n",
        "  df['parch_couple'] = df['parch_couple'].astype(\"int32\")"
      ],
      "metadata": {
        "id": "zVwEyWXgvqbY"
      },
      "execution_count": 449,
      "outputs": []
    },
    {
      "cell_type": "code",
      "source": [
        "from sklearn.preprocessing import OneHotEncoder\n",
        "\n",
        "enc_cols = ['gender', 'embarked', 'gender_pclass', 'gender_embarked']\n",
        "print(f'len_enc_cols: {len(enc_cols)}')\n",
        "encoder = OneHotEncoder() \n",
        "enc_dfs = []\n",
        "\n",
        "for i, df in enumerate([train, test, ori_te]):\n",
        "  if not i:\n",
        "    _encoded = encoder.fit_transform(df[enc_cols])\n",
        "  else:\n",
        "    _encoded = encoder.transform(df[enc_cols])\n",
        "\n",
        "  _encoded_df = pd.DataFrame(\n",
        "    _encoded.toarray(), \n",
        "    columns = encoder.get_feature_names_out()\n",
        "  )\n",
        "\n",
        "  not_enc_cols = list(set(df.columns) - set(enc_cols))\n",
        "  enc_dfs.append(\n",
        "    pd.concat(\n",
        "      [df[not_enc_cols].reset_index(drop=True), _encoded_df.reset_index(drop=True)]\n",
        "      , axis=1\n",
        "    ).reset_index(drop=True)\n",
        "  )\n",
        "\n",
        "train = enc_dfs[0]\n",
        "test = enc_dfs[1]\n",
        "ori_te = enc_dfs[2]\n",
        "\n",
        "print(f'{train.isnull().sum().sum()} / {test.isnull().sum().sum()} / {ori_te.isnull().sum().sum()}')\n",
        "train.shape, test.shape, ori_te.shape"
      ],
      "metadata": {
        "colab": {
          "base_uri": "https://localhost:8080/"
        },
        "id": "4yiC4uzgvqVe",
        "outputId": "1f719722-a259-4eaf-dc33-3e0d3e2a5b79"
      },
      "execution_count": 450,
      "outputs": [
        {
          "output_type": "stream",
          "name": "stdout",
          "text": [
            "len_enc_cols: 4\n",
            "0 / 0 / 0\n"
          ]
        },
        {
          "output_type": "execute_result",
          "data": {
            "text/plain": [
              "((641, 30), (275, 30), (393, 30))"
            ]
          },
          "metadata": {},
          "execution_count": 450
        }
      ]
    },
    {
      "cell_type": "markdown",
      "source": [
        "## Modeling"
      ],
      "metadata": {
        "id": "CqM-fog9tyDX"
      }
    },
    {
      "cell_type": "markdown",
      "source": [
        "> parch, age_ 제거"
      ],
      "metadata": {
        "id": "uY2-Ju_uvvRg"
      }
    },
    {
      "cell_type": "code",
      "source": [
        "# cols = ['parch', 'sibsp', 'age', 'parch_big',\n",
        "#        'fare', 'parch_family', 'parch_solo', 'pclass', 'parch_couple',\n",
        "#        'gender_female', 'gender_male', 'embarked_C', 'embarked_Q',\n",
        "#        'embarked_S', 'gender_pclass_female_1', 'gender_pclass_female_2',\n",
        "#        'gender_pclass_female_3', 'gender_pclass_male_1',\n",
        "#        'gender_pclass_male_2', 'gender_pclass_male_3',\n",
        "#        'gender_embarked_female_C', 'gender_embarked_female_Q',\n",
        "#        'gender_embarked_female_S', 'gender_embarked_male_C',\n",
        "#        'gender_embarked_male_Q', 'gender_embarked_male_S']\n",
        "\n",
        "# X_tr = train[cols]\n",
        "# X_te = test[cols]\n",
        "# ori_te = ori_te[cols]\n",
        "\n",
        "# X_tr.shape, X_te.shape, ori_te.shape"
      ],
      "metadata": {
        "id": "QNAe_c7av4uG"
      },
      "execution_count": 451,
      "outputs": []
    },
    {
      "cell_type": "code",
      "source": [
        "cols = ['sibsp', 'age_', 'fare', 'pclass',\n",
        "       'gender_female', 'gender_male', 'embarked_C', 'embarked_Q',\n",
        "       'embarked_S', 'gender_pclass_female_1', 'gender_pclass_female_2',\n",
        "       'gender_pclass_female_3', 'gender_pclass_male_1',\n",
        "       'gender_pclass_male_2', 'gender_pclass_male_3',\n",
        "       'gender_embarked_female_C', 'gender_embarked_female_Q',\n",
        "       'gender_embarked_female_S', 'gender_embarked_male_C',\n",
        "       'gender_embarked_male_Q', 'gender_embarked_male_S']\n",
        "\n",
        "X_tr = train[cols]\n",
        "X_te = test[cols]\n",
        "ori_te = ori_te[cols]\n",
        "\n",
        "X_tr.shape, X_te.shape, ori_te.shape"
      ],
      "metadata": {
        "colab": {
          "base_uri": "https://localhost:8080/"
        },
        "id": "CRvFVRbgvymI",
        "outputId": "fcc47e2b-a2ce-40bf-f18f-9181932d6aad"
      },
      "execution_count": 452,
      "outputs": [
        {
          "output_type": "execute_result",
          "data": {
            "text/plain": [
              "((641, 21), (275, 21), (393, 21))"
            ]
          },
          "metadata": {},
          "execution_count": 452
        }
      ]
    },
    {
      "cell_type": "code",
      "source": [
        "X_tr.shape, X_te.shape, y_te.shape, y_tr.shape"
      ],
      "metadata": {
        "colab": {
          "base_uri": "https://localhost:8080/"
        },
        "id": "RyY7F9a8vyjP",
        "outputId": "eb02f3dd-b2f9-4dc4-d162-b40c0acc2e39"
      },
      "execution_count": 453,
      "outputs": [
        {
          "output_type": "execute_result",
          "data": {
            "text/plain": [
              "((641, 21), (275, 21), (275,), (641,))"
            ]
          },
          "metadata": {},
          "execution_count": 453
        }
      ]
    },
    {
      "cell_type": "code",
      "source": [
        "X_tr.reset_index(drop=True, inplace=True)\n",
        "X_te.reset_index(drop=True, inplace=True)\n",
        "y_te.reset_index(drop=True, inplace=True)\n",
        "y_tr.reset_index(drop=True, inplace=True)"
      ],
      "metadata": {
        "id": "SNOBcJBxvyew"
      },
      "execution_count": 454,
      "outputs": []
    },
    {
      "cell_type": "markdown",
      "source": [
        "> HPO"
      ],
      "metadata": {
        "id": "kd2RV8zFtx54"
      }
    },
    {
      "cell_type": "code",
      "source": [
        "!pip install optuna"
      ],
      "metadata": {
        "colab": {
          "base_uri": "https://localhost:8080/"
        },
        "id": "pxjvQ_tuwPDi",
        "outputId": "af6106ca-1d56-4de9-d6e9-a44e3c531f51"
      },
      "execution_count": 455,
      "outputs": [
        {
          "output_type": "stream",
          "name": "stdout",
          "text": [
            "Looking in indexes: https://pypi.org/simple, https://us-python.pkg.dev/colab-wheels/public/simple/\n",
            "Requirement already satisfied: optuna in /usr/local/lib/python3.8/dist-packages (3.1.0)\n",
            "Requirement already satisfied: numpy in /usr/local/lib/python3.8/dist-packages (from optuna) (1.22.4)\n",
            "Requirement already satisfied: packaging>=20.0 in /usr/local/lib/python3.8/dist-packages (from optuna) (23.0)\n",
            "Requirement already satisfied: colorlog in /usr/local/lib/python3.8/dist-packages (from optuna) (6.7.0)\n",
            "Requirement already satisfied: sqlalchemy>=1.3.0 in /usr/local/lib/python3.8/dist-packages (from optuna) (1.4.46)\n",
            "Requirement already satisfied: alembic>=1.5.0 in /usr/local/lib/python3.8/dist-packages (from optuna) (1.9.4)\n",
            "Requirement already satisfied: tqdm in /usr/local/lib/python3.8/dist-packages (from optuna) (4.64.1)\n",
            "Requirement already satisfied: cmaes>=0.9.1 in /usr/local/lib/python3.8/dist-packages (from optuna) (0.9.1)\n",
            "Requirement already satisfied: PyYAML in /usr/local/lib/python3.8/dist-packages (from optuna) (6.0)\n",
            "Requirement already satisfied: importlib-metadata in /usr/local/lib/python3.8/dist-packages (from alembic>=1.5.0->optuna) (6.0.0)\n",
            "Requirement already satisfied: importlib-resources in /usr/local/lib/python3.8/dist-packages (from alembic>=1.5.0->optuna) (5.12.0)\n",
            "Requirement already satisfied: Mako in /usr/local/lib/python3.8/dist-packages (from alembic>=1.5.0->optuna) (1.2.4)\n",
            "Requirement already satisfied: greenlet!=0.4.17 in /usr/local/lib/python3.8/dist-packages (from sqlalchemy>=1.3.0->optuna) (2.0.2)\n",
            "Requirement already satisfied: zipp>=0.5 in /usr/local/lib/python3.8/dist-packages (from importlib-metadata->alembic>=1.5.0->optuna) (3.15.0)\n",
            "Requirement already satisfied: MarkupSafe>=0.9.2 in /usr/local/lib/python3.8/dist-packages (from Mako->alembic>=1.5.0->optuna) (2.1.2)\n"
          ]
        }
      ]
    },
    {
      "cell_type": "code",
      "source": [
        "import optuna\n",
        "from sklearn.model_selection import cross_val_score\n",
        "from optuna.samplers import TPESampler\n",
        "optuna.logging.disable_default_handler()\n",
        "\n",
        "from sklearn import svm\n",
        "from sklearn.model_selection import StratifiedKFold\n",
        "from sklearn.metrics import roc_curve, auc\n",
        "\n",
        "from lightgbm import LGBMClassifier, plot_importance"
      ],
      "metadata": {
        "id": "1yJkfAZdwO-f"
      },
      "execution_count": 456,
      "outputs": []
    },
    {
      "cell_type": "code",
      "source": [
        "class Objective:\n",
        "    def __init__(self, x_train, y_train, seed):\n",
        "        self.x_train = x_train\n",
        "        self.y_train = y_train\n",
        "        self.seed = seed\n",
        "        num_folds=5\n",
        "        self.cv = StratifiedKFold(n_splits=num_folds, shuffle=True, random_state=self.seed)\n",
        "\n",
        "    def __call__(self, trial):\n",
        "        hp = {\n",
        "            \"max_depth\" : trial.suggest_int(\"max_depth\", 2, 20),\n",
        "            \"min_samples_split\" : trial.suggest_int(\"min_samples_split\", 2, 5),\n",
        "            \"criterion\" : trial.suggest_categorical(\"criterion\", [\"gini\", \"entropy\"]),\n",
        "            \"max_leaf_nodes\" : trial.suggest_int(\"max_leaf_nodes\", 5, 10),\n",
        "            \"n_estimators\" : trial.suggest_int(\"n_estimators\", 10, 1000, 50),\n",
        "            \"learning_rate\" : trial.suggest_float(\"learning_rate\", 0.01, 0.1)\n",
        "        }\n",
        "        model = LGBMClassifier(random_state=self.seed, **hp)\n",
        "        scores = cross_val_score(model, self.x_train, self.y_train, cv=self.cv, scoring=\"roc_auc\")\n",
        "        return np.mean(scores)"
      ],
      "metadata": {
        "id": "DxSDxTegwO2o"
      },
      "execution_count": 457,
      "outputs": []
    },
    {
      "cell_type": "code",
      "source": [
        "sampler = TPESampler(seed=SEED)\n",
        "\n",
        "study = optuna.create_study(\n",
        "    direction = \"maximize\",\n",
        "    sampler = sampler\n",
        ")\n",
        "objective = Objective(X_tr, y_tr, SEED)\n",
        "study.optimize(objective, n_trials=100)\n",
        "\n",
        "print(\"Best Score:\", study.best_value)\n",
        "print(\"Best hp\", study.best_params)"
      ],
      "metadata": {
        "colab": {
          "base_uri": "https://localhost:8080/"
        },
        "id": "337PYSfpwW-H",
        "outputId": "0e18a4e2-0a37-4f2b-f782-874647a79d5f"
      },
      "execution_count": 458,
      "outputs": [
        {
          "output_type": "stream",
          "name": "stdout",
          "text": [
            "Best Score: 0.901222552312064\n",
            "Best hp {'max_depth': 3, 'min_samples_split': 5, 'criterion': 'entropy', 'max_leaf_nodes': 10, 'n_estimators': 210, 'learning_rate': 0.01486066386908561}\n"
          ]
        }
      ]
    },
    {
      "cell_type": "code",
      "source": [
        "# 모델 정의\n",
        "modelV9 = LGBMClassifier(random_state=SEED, **study.best_params)"
      ],
      "metadata": {
        "id": "gllbSNWxwahg"
      },
      "execution_count": 459,
      "outputs": []
    },
    {
      "cell_type": "code",
      "source": [
        "# 교차 검증\n",
        "skf = StratifiedKFold(n_splits=5, shuffle=True, random_state=0)"
      ],
      "metadata": {
        "id": "uzNhzxPFwaaw"
      },
      "execution_count": 460,
      "outputs": []
    },
    {
      "cell_type": "code",
      "source": [
        "from sklearn.metrics import roc_curve, auc\n",
        "\n",
        "n_iter = 0\n",
        "auc_te_lst = []\n",
        "\n",
        "for train_index, valid_index in skf.split(X_tr, y_tr):\n",
        "    n_iter += 1\n",
        "    # 학습용, 검증용 데이터 구성\n",
        "    train_x, valid_x = X_tr.loc[train_index], X_tr.loc[valid_index]\n",
        "    train_y, valid_y = y_tr.loc[train_index], y_tr.loc[valid_index]\n",
        "    # 학습\n",
        "    modelV9.fit(train_x, train_y)\n",
        "    # 예측\n",
        "    best_threshold = 0.5347038540307555\n",
        "    pred_prob = modelV9.predict_proba(valid_x)[:, 1]\n",
        "    pred_class = (pred_prob >= best_threshold).astype(int)\n",
        "    # 평가\n",
        "    fpr, tpr, thresholds = roc_curve(valid_y, pred_class)\n",
        "    auc_te = auc(fpr, tpr)\n",
        "    auc_te_lst.append(auc_te)\n",
        "    print(f'{n_iter} 번째 StratifiedKFold AUC: {auc_te:.4f}, 학습데이터 크기: {train_x.shape}, 검증데이터 크기: {valid_x.shape}')\n",
        "\n",
        "# 최종 평가\n",
        "print('-'*50)\n",
        "print(f'교차 검증 AUC: {np.mean(auc_te_lst):.4f} / 모델 평가: {modelV9.score(X_te, y_te)}')"
      ],
      "metadata": {
        "colab": {
          "base_uri": "https://localhost:8080/"
        },
        "id": "w7OsRBx5wdMw",
        "outputId": "86a79681-f043-43c1-fa88-d803e284fe56"
      },
      "execution_count": 466,
      "outputs": [
        {
          "output_type": "stream",
          "name": "stdout",
          "text": [
            "1 번째 StratifiedKFold AUC: 0.8401, 학습데이터 크기: (512, 21), 검증데이터 크기: (129, 21)\n",
            "2 번째 StratifiedKFold AUC: 0.8167, 학습데이터 크기: (513, 21), 검증데이터 크기: (128, 21)\n",
            "3 번째 StratifiedKFold AUC: 0.8396, 학습데이터 크기: (513, 21), 검증데이터 크기: (128, 21)\n",
            "4 번째 StratifiedKFold AUC: 0.8958, 학습데이터 크기: (513, 21), 검증데이터 크기: (128, 21)\n",
            "5 번째 StratifiedKFold AUC: 0.8624, 학습데이터 크기: (513, 21), 검증데이터 크기: (128, 21)\n",
            "--------------------------------------------------\n",
            "교차 검증 AUC: 0.8509 / 모델 평가: 0.8436363636363636\n"
          ]
        }
      ]
    },
    {
      "cell_type": "markdown",
      "source": [
        "> threshold"
      ],
      "metadata": {
        "id": "18MsNIb3zy96"
      }
    },
    {
      "cell_type": "code",
      "source": [
        "def find_best_threshold(y_true, y_prob):\n",
        "    fpr, tpr, thresholds = roc_curve(y_true, y_prob)\n",
        "    best_threshold = thresholds[np.argmax(tpr-fpr)]\n",
        "    return best_threshold"
      ],
      "metadata": {
        "id": "U1w6z3yOz7zY"
      },
      "execution_count": 467,
      "outputs": []
    },
    {
      "cell_type": "code",
      "source": [
        "best_threshold = find_best_threshold(valid_y, pred_prob)"
      ],
      "metadata": {
        "id": "n1wrB2VC0ARy"
      },
      "execution_count": 468,
      "outputs": []
    },
    {
      "cell_type": "code",
      "source": [
        "best_threshold"
      ],
      "metadata": {
        "colab": {
          "base_uri": "https://localhost:8080/"
        },
        "id": "rafGDqGp0HFY",
        "outputId": "9f200091-8dd2-40e3-db5c-d6c2f5f2cdcf"
      },
      "execution_count": 469,
      "outputs": [
        {
          "output_type": "execute_result",
          "data": {
            "text/plain": [
              "0.5347038540307555"
            ]
          },
          "metadata": {},
          "execution_count": 469
        }
      ]
    },
    {
      "cell_type": "code",
      "source": [
        "# 모델 확인\n",
        "df_feature_importances = pd.DataFrame(modelV9.feature_importances_, X_tr.columns).sort_values(by=[0], ascending=False).reset_index()\n",
        "\n",
        "print(f'{df_feature_importances.shape}')\n",
        "df_feature_importances"
      ],
      "metadata": {
        "colab": {
          "base_uri": "https://localhost:8080/",
          "height": 726
        },
        "id": "xkolPVLhwmnT",
        "outputId": "0511afba-56a7-496b-a719-ef15a23d211e"
      },
      "execution_count": 470,
      "outputs": [
        {
          "output_type": "stream",
          "name": "stdout",
          "text": [
            "(21, 2)\n"
          ]
        },
        {
          "output_type": "execute_result",
          "data": {
            "text/plain": [
              "                       index    0\n",
              "0                       fare  465\n",
              "1                      sibsp  183\n",
              "2              gender_female  181\n",
              "3                     pclass  157\n",
              "4                       age_  105\n",
              "5                 embarked_Q   82\n",
              "6                 embarked_S   41\n",
              "7       gender_pclass_male_2   35\n",
              "8     gender_pclass_female_1   26\n",
              "9                 embarked_C    4\n",
              "10    gender_embarked_male_S    3\n",
              "11    gender_pclass_female_3    0\n",
              "12      gender_pclass_male_1    0\n",
              "13               gender_male    0\n",
              "14      gender_pclass_male_3    0\n",
              "15  gender_embarked_female_C    0\n",
              "16  gender_embarked_female_Q    0\n",
              "17  gender_embarked_female_S    0\n",
              "18    gender_embarked_male_C    0\n",
              "19    gender_embarked_male_Q    0\n",
              "20    gender_pclass_female_2    0"
            ],
            "text/html": [
              "\n",
              "  <div id=\"df-f70228d4-2e28-4150-bd08-a92b1096e6f1\">\n",
              "    <div class=\"colab-df-container\">\n",
              "      <div>\n",
              "<style scoped>\n",
              "    .dataframe tbody tr th:only-of-type {\n",
              "        vertical-align: middle;\n",
              "    }\n",
              "\n",
              "    .dataframe tbody tr th {\n",
              "        vertical-align: top;\n",
              "    }\n",
              "\n",
              "    .dataframe thead th {\n",
              "        text-align: right;\n",
              "    }\n",
              "</style>\n",
              "<table border=\"1\" class=\"dataframe\">\n",
              "  <thead>\n",
              "    <tr style=\"text-align: right;\">\n",
              "      <th></th>\n",
              "      <th>index</th>\n",
              "      <th>0</th>\n",
              "    </tr>\n",
              "  </thead>\n",
              "  <tbody>\n",
              "    <tr>\n",
              "      <th>0</th>\n",
              "      <td>fare</td>\n",
              "      <td>465</td>\n",
              "    </tr>\n",
              "    <tr>\n",
              "      <th>1</th>\n",
              "      <td>sibsp</td>\n",
              "      <td>183</td>\n",
              "    </tr>\n",
              "    <tr>\n",
              "      <th>2</th>\n",
              "      <td>gender_female</td>\n",
              "      <td>181</td>\n",
              "    </tr>\n",
              "    <tr>\n",
              "      <th>3</th>\n",
              "      <td>pclass</td>\n",
              "      <td>157</td>\n",
              "    </tr>\n",
              "    <tr>\n",
              "      <th>4</th>\n",
              "      <td>age_</td>\n",
              "      <td>105</td>\n",
              "    </tr>\n",
              "    <tr>\n",
              "      <th>5</th>\n",
              "      <td>embarked_Q</td>\n",
              "      <td>82</td>\n",
              "    </tr>\n",
              "    <tr>\n",
              "      <th>6</th>\n",
              "      <td>embarked_S</td>\n",
              "      <td>41</td>\n",
              "    </tr>\n",
              "    <tr>\n",
              "      <th>7</th>\n",
              "      <td>gender_pclass_male_2</td>\n",
              "      <td>35</td>\n",
              "    </tr>\n",
              "    <tr>\n",
              "      <th>8</th>\n",
              "      <td>gender_pclass_female_1</td>\n",
              "      <td>26</td>\n",
              "    </tr>\n",
              "    <tr>\n",
              "      <th>9</th>\n",
              "      <td>embarked_C</td>\n",
              "      <td>4</td>\n",
              "    </tr>\n",
              "    <tr>\n",
              "      <th>10</th>\n",
              "      <td>gender_embarked_male_S</td>\n",
              "      <td>3</td>\n",
              "    </tr>\n",
              "    <tr>\n",
              "      <th>11</th>\n",
              "      <td>gender_pclass_female_3</td>\n",
              "      <td>0</td>\n",
              "    </tr>\n",
              "    <tr>\n",
              "      <th>12</th>\n",
              "      <td>gender_pclass_male_1</td>\n",
              "      <td>0</td>\n",
              "    </tr>\n",
              "    <tr>\n",
              "      <th>13</th>\n",
              "      <td>gender_male</td>\n",
              "      <td>0</td>\n",
              "    </tr>\n",
              "    <tr>\n",
              "      <th>14</th>\n",
              "      <td>gender_pclass_male_3</td>\n",
              "      <td>0</td>\n",
              "    </tr>\n",
              "    <tr>\n",
              "      <th>15</th>\n",
              "      <td>gender_embarked_female_C</td>\n",
              "      <td>0</td>\n",
              "    </tr>\n",
              "    <tr>\n",
              "      <th>16</th>\n",
              "      <td>gender_embarked_female_Q</td>\n",
              "      <td>0</td>\n",
              "    </tr>\n",
              "    <tr>\n",
              "      <th>17</th>\n",
              "      <td>gender_embarked_female_S</td>\n",
              "      <td>0</td>\n",
              "    </tr>\n",
              "    <tr>\n",
              "      <th>18</th>\n",
              "      <td>gender_embarked_male_C</td>\n",
              "      <td>0</td>\n",
              "    </tr>\n",
              "    <tr>\n",
              "      <th>19</th>\n",
              "      <td>gender_embarked_male_Q</td>\n",
              "      <td>0</td>\n",
              "    </tr>\n",
              "    <tr>\n",
              "      <th>20</th>\n",
              "      <td>gender_pclass_female_2</td>\n",
              "      <td>0</td>\n",
              "    </tr>\n",
              "  </tbody>\n",
              "</table>\n",
              "</div>\n",
              "      <button class=\"colab-df-convert\" onclick=\"convertToInteractive('df-f70228d4-2e28-4150-bd08-a92b1096e6f1')\"\n",
              "              title=\"Convert this dataframe to an interactive table.\"\n",
              "              style=\"display:none;\">\n",
              "        \n",
              "  <svg xmlns=\"http://www.w3.org/2000/svg\" height=\"24px\"viewBox=\"0 0 24 24\"\n",
              "       width=\"24px\">\n",
              "    <path d=\"M0 0h24v24H0V0z\" fill=\"none\"/>\n",
              "    <path d=\"M18.56 5.44l.94 2.06.94-2.06 2.06-.94-2.06-.94-.94-2.06-.94 2.06-2.06.94zm-11 1L8.5 8.5l.94-2.06 2.06-.94-2.06-.94L8.5 2.5l-.94 2.06-2.06.94zm10 10l.94 2.06.94-2.06 2.06-.94-2.06-.94-.94-2.06-.94 2.06-2.06.94z\"/><path d=\"M17.41 7.96l-1.37-1.37c-.4-.4-.92-.59-1.43-.59-.52 0-1.04.2-1.43.59L10.3 9.45l-7.72 7.72c-.78.78-.78 2.05 0 2.83L4 21.41c.39.39.9.59 1.41.59.51 0 1.02-.2 1.41-.59l7.78-7.78 2.81-2.81c.8-.78.8-2.07 0-2.86zM5.41 20L4 18.59l7.72-7.72 1.47 1.35L5.41 20z\"/>\n",
              "  </svg>\n",
              "      </button>\n",
              "      \n",
              "  <style>\n",
              "    .colab-df-container {\n",
              "      display:flex;\n",
              "      flex-wrap:wrap;\n",
              "      gap: 12px;\n",
              "    }\n",
              "\n",
              "    .colab-df-convert {\n",
              "      background-color: #E8F0FE;\n",
              "      border: none;\n",
              "      border-radius: 50%;\n",
              "      cursor: pointer;\n",
              "      display: none;\n",
              "      fill: #1967D2;\n",
              "      height: 32px;\n",
              "      padding: 0 0 0 0;\n",
              "      width: 32px;\n",
              "    }\n",
              "\n",
              "    .colab-df-convert:hover {\n",
              "      background-color: #E2EBFA;\n",
              "      box-shadow: 0px 1px 2px rgba(60, 64, 67, 0.3), 0px 1px 3px 1px rgba(60, 64, 67, 0.15);\n",
              "      fill: #174EA6;\n",
              "    }\n",
              "\n",
              "    [theme=dark] .colab-df-convert {\n",
              "      background-color: #3B4455;\n",
              "      fill: #D2E3FC;\n",
              "    }\n",
              "\n",
              "    [theme=dark] .colab-df-convert:hover {\n",
              "      background-color: #434B5C;\n",
              "      box-shadow: 0px 1px 3px 1px rgba(0, 0, 0, 0.15);\n",
              "      filter: drop-shadow(0px 1px 2px rgba(0, 0, 0, 0.3));\n",
              "      fill: #FFFFFF;\n",
              "    }\n",
              "  </style>\n",
              "\n",
              "      <script>\n",
              "        const buttonEl =\n",
              "          document.querySelector('#df-f70228d4-2e28-4150-bd08-a92b1096e6f1 button.colab-df-convert');\n",
              "        buttonEl.style.display =\n",
              "          google.colab.kernel.accessAllowed ? 'block' : 'none';\n",
              "\n",
              "        async function convertToInteractive(key) {\n",
              "          const element = document.querySelector('#df-f70228d4-2e28-4150-bd08-a92b1096e6f1');\n",
              "          const dataTable =\n",
              "            await google.colab.kernel.invokeFunction('convertToInteractive',\n",
              "                                                     [key], {});\n",
              "          if (!dataTable) return;\n",
              "\n",
              "          const docLinkHtml = 'Like what you see? Visit the ' +\n",
              "            '<a target=\"_blank\" href=https://colab.research.google.com/notebooks/data_table.ipynb>data table notebook</a>'\n",
              "            + ' to learn more about interactive tables.';\n",
              "          element.innerHTML = '';\n",
              "          dataTable['output_type'] = 'display_data';\n",
              "          await google.colab.output.renderOutput(dataTable, element);\n",
              "          const docLink = document.createElement('div');\n",
              "          docLink.innerHTML = docLinkHtml;\n",
              "          element.appendChild(docLink);\n",
              "        }\n",
              "      </script>\n",
              "    </div>\n",
              "  </div>\n",
              "  "
            ]
          },
          "metadata": {},
          "execution_count": 470
        }
      ]
    },
    {
      "cell_type": "markdown",
      "source": [
        "## Evaluation"
      ],
      "metadata": {
        "id": "kGfUENlhws24"
      }
    },
    {
      "cell_type": "code",
      "source": [
        "# 모델 확인\n",
        "score_tr = modelV9.score(X_tr, y_tr)\n",
        "score_te = modelV9.score(X_te, y_te)\n",
        "\n",
        "score_tr, score_te"
      ],
      "metadata": {
        "colab": {
          "base_uri": "https://localhost:8080/"
        },
        "id": "--p4EumWwu7U",
        "outputId": "04852422-a7e2-45a4-f19e-83fd1202d524"
      },
      "execution_count": 471,
      "outputs": [
        {
          "output_type": "execute_result",
          "data": {
            "text/plain": [
              "(0.8814352574102964, 0.8436363636363636)"
            ]
          },
          "metadata": {},
          "execution_count": 471
        }
      ]
    },
    {
      "cell_type": "code",
      "source": [
        "# 모델 확인\n",
        "ori_te_pred = modelV9.predict_proba(ori_te)[:,1]\n",
        "ori_te_pred.shape"
      ],
      "metadata": {
        "colab": {
          "base_uri": "https://localhost:8080/"
        },
        "id": "fs4Y3NxMwuyi",
        "outputId": "e9f37d9d-ed34-42a9-c699-b2681fc573be"
      },
      "execution_count": 472,
      "outputs": [
        {
          "output_type": "execute_result",
          "data": {
            "text/plain": [
              "(393,)"
            ]
          },
          "metadata": {},
          "execution_count": 472
        }
      ]
    },
    {
      "cell_type": "code",
      "source": [
        "# 모델 확인\n",
        "args.results.append(\n",
        "    {\n",
        "        'model': 'modelV14',\n",
        "        'score_tr': score_tr,\n",
        "        'score_te': score_te,\n",
        "        'auc_te': auc_te,\n",
        "        'ori_te_pred': ori_te_pred,\n",
        "        'len_features': X_tr.shape[1],\n",
        "        'feaute_importances': list(df_feature_importances['index'].values[:X_tr.shape[1]]),\n",
        "        'create_dt': '0303'\n",
        "    }\n",
        ")"
      ],
      "metadata": {
        "id": "QeZyAnJtw0qJ"
      },
      "execution_count": 474,
      "outputs": []
    },
    {
      "cell_type": "markdown",
      "source": [
        "> SHAP"
      ],
      "metadata": {
        "id": "Duxmvi5Pw9ao"
      }
    },
    {
      "cell_type": "code",
      "source": [
        "!pip install shap"
      ],
      "metadata": {
        "colab": {
          "base_uri": "https://localhost:8080/"
        },
        "id": "gbwC7xAJw-2q",
        "outputId": "4702d77a-a79b-4023-85d1-e73a8d416b5e"
      },
      "execution_count": 204,
      "outputs": [
        {
          "output_type": "stream",
          "name": "stdout",
          "text": [
            "Looking in indexes: https://pypi.org/simple, https://us-python.pkg.dev/colab-wheels/public/simple/\n",
            "Requirement already satisfied: shap in /usr/local/lib/python3.8/dist-packages (0.41.0)\n",
            "Requirement already satisfied: pandas in /usr/local/lib/python3.8/dist-packages (from shap) (1.3.5)\n",
            "Requirement already satisfied: cloudpickle in /usr/local/lib/python3.8/dist-packages (from shap) (2.2.1)\n",
            "Requirement already satisfied: slicer==0.0.7 in /usr/local/lib/python3.8/dist-packages (from shap) (0.0.7)\n",
            "Requirement already satisfied: scikit-learn in /usr/local/lib/python3.8/dist-packages (from shap) (1.2.1)\n",
            "Requirement already satisfied: numpy in /usr/local/lib/python3.8/dist-packages (from shap) (1.22.4)\n",
            "Requirement already satisfied: packaging>20.9 in /usr/local/lib/python3.8/dist-packages (from shap) (23.0)\n",
            "Requirement already satisfied: tqdm>4.25.0 in /usr/local/lib/python3.8/dist-packages (from shap) (4.64.1)\n",
            "Requirement already satisfied: scipy in /usr/local/lib/python3.8/dist-packages (from shap) (1.10.1)\n",
            "Requirement already satisfied: numba in /usr/local/lib/python3.8/dist-packages (from shap) (0.56.4)\n",
            "Requirement already satisfied: setuptools in /usr/local/lib/python3.8/dist-packages (from numba->shap) (57.4.0)\n",
            "Requirement already satisfied: importlib-metadata in /usr/local/lib/python3.8/dist-packages (from numba->shap) (6.0.0)\n",
            "Requirement already satisfied: llvmlite<0.40,>=0.39.0dev0 in /usr/local/lib/python3.8/dist-packages (from numba->shap) (0.39.1)\n",
            "Requirement already satisfied: python-dateutil>=2.7.3 in /usr/local/lib/python3.8/dist-packages (from pandas->shap) (2.8.2)\n",
            "Requirement already satisfied: pytz>=2017.3 in /usr/local/lib/python3.8/dist-packages (from pandas->shap) (2022.7.1)\n",
            "Requirement already satisfied: joblib>=1.1.1 in /usr/local/lib/python3.8/dist-packages (from scikit-learn->shap) (1.2.0)\n",
            "Requirement already satisfied: threadpoolctl>=2.0.0 in /usr/local/lib/python3.8/dist-packages (from scikit-learn->shap) (3.1.0)\n",
            "Requirement already satisfied: six>=1.5 in /usr/local/lib/python3.8/dist-packages (from python-dateutil>=2.7.3->pandas->shap) (1.15.0)\n",
            "Requirement already satisfied: zipp>=0.5 in /usr/local/lib/python3.8/dist-packages (from importlib-metadata->numba->shap) (3.15.0)\n"
          ]
        }
      ]
    },
    {
      "cell_type": "code",
      "source": [
        "# 모델 확인\n",
        "import shap\n",
        "explainer = shap.TreeExplainer(modelV9)\n",
        "shap_values = explainer.shap_values(X_te)\n",
        "shap.summary_plot(shap_values[1], X_te)"
      ],
      "metadata": {
        "colab": {
          "base_uri": "https://localhost:8080/",
          "height": 685
        },
        "id": "0uXkfU1bw-v_",
        "outputId": "29be293a-787a-417b-cb4d-7ec7d8157c89"
      },
      "execution_count": 430,
      "outputs": [
        {
          "output_type": "display_data",
          "data": {
            "text/plain": [
              "<Figure size 576x684 with 2 Axes>"
            ],
            "image/png": "[encoded data removed]"
          },
          "metadata": {
            "image/png": {
              "width": 558,
              "height": 668
            }
          }
        }
      ]
    },
    {
      "cell_type": "markdown",
      "source": [
        "# Submission"
      ],
      "metadata": {
        "id": "Skpki5-LIpuU"
      }
    },
    {
      "cell_type": "code",
      "source": [
        "# df_results = pd.DataFrame(args.results).sort_values(by=['auc_te'], ascending=False)\n",
        "# df_results"
      ],
      "metadata": {
        "id": "FFlcz7k9aCfJ"
      },
      "execution_count": 484,
      "outputs": []
    },
    {
      "cell_type": "code",
      "source": [
        "submission = pd.read_csv(args.submission_csv)\n",
        "submission.head()"
      ],
      "metadata": {
        "colab": {
          "base_uri": "https://localhost:8080/",
          "height": 206
        },
        "id": "orQhAVsKaDQx",
        "outputId": "df0d6d6f-ab40-41c1-8c9e-24012458faa7"
      },
      "execution_count": 476,
      "outputs": [
        {
          "output_type": "execute_result",
          "data": {
            "text/plain": [
              "   passengerid  survived\n",
              "0          916  0.712237\n",
              "1          917  0.671315\n",
              "2          918  0.712237\n",
              "3          919  0.301880\n",
              "4          920  0.762524"
            ],
            "text/html": [
              "\n",
              "  <div id=\"df-6ae893af-215e-4708-b5d4-98766fe8a987\">\n",
              "    <div class=\"colab-df-container\">\n",
              "      <div>\n",
              "<style scoped>\n",
              "    .dataframe tbody tr th:only-of-type {\n",
              "        vertical-align: middle;\n",
              "    }\n",
              "\n",
              "    .dataframe tbody tr th {\n",
              "        vertical-align: top;\n",
              "    }\n",
              "\n",
              "    .dataframe thead th {\n",
              "        text-align: right;\n",
              "    }\n",
              "</style>\n",
              "<table border=\"1\" class=\"dataframe\">\n",
              "  <thead>\n",
              "    <tr style=\"text-align: right;\">\n",
              "      <th></th>\n",
              "      <th>passengerid</th>\n",
              "      <th>survived</th>\n",
              "    </tr>\n",
              "  </thead>\n",
              "  <tbody>\n",
              "    <tr>\n",
              "      <th>0</th>\n",
              "      <td>916</td>\n",
              "      <td>0.712237</td>\n",
              "    </tr>\n",
              "    <tr>\n",
              "      <th>1</th>\n",
              "      <td>917</td>\n",
              "      <td>0.671315</td>\n",
              "    </tr>\n",
              "    <tr>\n",
              "      <th>2</th>\n",
              "      <td>918</td>\n",
              "      <td>0.712237</td>\n",
              "    </tr>\n",
              "    <tr>\n",
              "      <th>3</th>\n",
              "      <td>919</td>\n",
              "      <td>0.301880</td>\n",
              "    </tr>\n",
              "    <tr>\n",
              "      <th>4</th>\n",
              "      <td>920</td>\n",
              "      <td>0.762524</td>\n",
              "    </tr>\n",
              "  </tbody>\n",
              "</table>\n",
              "</div>\n",
              "      <button class=\"colab-df-convert\" onclick=\"convertToInteractive('df-6ae893af-215e-4708-b5d4-98766fe8a987')\"\n",
              "              title=\"Convert this dataframe to an interactive table.\"\n",
              "              style=\"display:none;\">\n",
              "        \n",
              "  <svg xmlns=\"http://www.w3.org/2000/svg\" height=\"24px\"viewBox=\"0 0 24 24\"\n",
              "       width=\"24px\">\n",
              "    <path d=\"M0 0h24v24H0V0z\" fill=\"none\"/>\n",
              "    <path d=\"M18.56 5.44l.94 2.06.94-2.06 2.06-.94-2.06-.94-.94-2.06-.94 2.06-2.06.94zm-11 1L8.5 8.5l.94-2.06 2.06-.94-2.06-.94L8.5 2.5l-.94 2.06-2.06.94zm10 10l.94 2.06.94-2.06 2.06-.94-2.06-.94-.94-2.06-.94 2.06-2.06.94z\"/><path d=\"M17.41 7.96l-1.37-1.37c-.4-.4-.92-.59-1.43-.59-.52 0-1.04.2-1.43.59L10.3 9.45l-7.72 7.72c-.78.78-.78 2.05 0 2.83L4 21.41c.39.39.9.59 1.41.59.51 0 1.02-.2 1.41-.59l7.78-7.78 2.81-2.81c.8-.78.8-2.07 0-2.86zM5.41 20L4 18.59l7.72-7.72 1.47 1.35L5.41 20z\"/>\n",
              "  </svg>\n",
              "      </button>\n",
              "      \n",
              "  <style>\n",
              "    .colab-df-container {\n",
              "      display:flex;\n",
              "      flex-wrap:wrap;\n",
              "      gap: 12px;\n",
              "    }\n",
              "\n",
              "    .colab-df-convert {\n",
              "      background-color: #E8F0FE;\n",
              "      border: none;\n",
              "      border-radius: 50%;\n",
              "      cursor: pointer;\n",
              "      display: none;\n",
              "      fill: #1967D2;\n",
              "      height: 32px;\n",
              "      padding: 0 0 0 0;\n",
              "      width: 32px;\n",
              "    }\n",
              "\n",
              "    .colab-df-convert:hover {\n",
              "      background-color: #E2EBFA;\n",
              "      box-shadow: 0px 1px 2px rgba(60, 64, 67, 0.3), 0px 1px 3px 1px rgba(60, 64, 67, 0.15);\n",
              "      fill: #174EA6;\n",
              "    }\n",
              "\n",
              "    [theme=dark] .colab-df-convert {\n",
              "      background-color: #3B4455;\n",
              "      fill: #D2E3FC;\n",
              "    }\n",
              "\n",
              "    [theme=dark] .colab-df-convert:hover {\n",
              "      background-color: #434B5C;\n",
              "      box-shadow: 0px 1px 3px 1px rgba(0, 0, 0, 0.15);\n",
              "      filter: drop-shadow(0px 1px 2px rgba(0, 0, 0, 0.3));\n",
              "      fill: #FFFFFF;\n",
              "    }\n",
              "  </style>\n",
              "\n",
              "      <script>\n",
              "        const buttonEl =\n",
              "          document.querySelector('#df-6ae893af-215e-4708-b5d4-98766fe8a987 button.colab-df-convert');\n",
              "        buttonEl.style.display =\n",
              "          google.colab.kernel.accessAllowed ? 'block' : 'none';\n",
              "\n",
              "        async function convertToInteractive(key) {\n",
              "          const element = document.querySelector('#df-6ae893af-215e-4708-b5d4-98766fe8a987');\n",
              "          const dataTable =\n",
              "            await google.colab.kernel.invokeFunction('convertToInteractive',\n",
              "                                                     [key], {});\n",
              "          if (!dataTable) return;\n",
              "\n",
              "          const docLinkHtml = 'Like what you see? Visit the ' +\n",
              "            '<a target=\"_blank\" href=https://colab.research.google.com/notebooks/data_table.ipynb>data table notebook</a>'\n",
              "            + ' to learn more about interactive tables.';\n",
              "          element.innerHTML = '';\n",
              "          dataTable['output_type'] = 'display_data';\n",
              "          await google.colab.output.renderOutput(dataTable, element);\n",
              "          const docLink = document.createElement('div');\n",
              "          docLink.innerHTML = docLinkHtml;\n",
              "          element.appendChild(docLink);\n",
              "        }\n",
              "      </script>\n",
              "    </div>\n",
              "  </div>\n",
              "  "
            ]
          },
          "metadata": {},
          "execution_count": 476
        }
      ]
    },
    {
      "cell_type": "code",
      "source": [
        "submission['survived'] = df_results.loc[0, ['ori_te_pred']].values[0]\n",
        "print(f'{submission.isnull().sum().sum()}')\n",
        "submission.head(10)"
      ],
      "metadata": {
        "colab": {
          "base_uri": "https://localhost:8080/",
          "height": 381
        },
        "id": "8Ax5uNaXaFDh",
        "outputId": "2d02bd0f-37a4-48fc-e4b3-f353cf0642bd"
      },
      "execution_count": 477,
      "outputs": [
        {
          "output_type": "stream",
          "name": "stdout",
          "text": [
            "0\n"
          ]
        },
        {
          "output_type": "execute_result",
          "data": {
            "text/plain": [
              "   passengerid  survived\n",
              "0          916  0.712237\n",
              "1          917  0.671315\n",
              "2          918  0.712237\n",
              "3          919  0.301880\n",
              "4          920  0.762524\n",
              "5          921  0.762524\n",
              "6          922  0.177576\n",
              "7          923  0.177576\n",
              "8          924  0.544517\n",
              "9          925  0.168487"
            ],
            "text/html": [
              "\n",
              "  <div id=\"df-15afa2a1-c997-44d0-8c03-62cc4cc71b5a\">\n",
              "    <div class=\"colab-df-container\">\n",
              "      <div>\n",
              "<style scoped>\n",
              "    .dataframe tbody tr th:only-of-type {\n",
              "        vertical-align: middle;\n",
              "    }\n",
              "\n",
              "    .dataframe tbody tr th {\n",
              "        vertical-align: top;\n",
              "    }\n",
              "\n",
              "    .dataframe thead th {\n",
              "        text-align: right;\n",
              "    }\n",
              "</style>\n",
              "<table border=\"1\" class=\"dataframe\">\n",
              "  <thead>\n",
              "    <tr style=\"text-align: right;\">\n",
              "      <th></th>\n",
              "      <th>passengerid</th>\n",
              "      <th>survived</th>\n",
              "    </tr>\n",
              "  </thead>\n",
              "  <tbody>\n",
              "    <tr>\n",
              "      <th>0</th>\n",
              "      <td>916</td>\n",
              "      <td>0.712237</td>\n",
              "    </tr>\n",
              "    <tr>\n",
              "      <th>1</th>\n",
              "      <td>917</td>\n",
              "      <td>0.671315</td>\n",
              "    </tr>\n",
              "    <tr>\n",
              "      <th>2</th>\n",
              "      <td>918</td>\n",
              "      <td>0.712237</td>\n",
              "    </tr>\n",
              "    <tr>\n",
              "      <th>3</th>\n",
              "      <td>919</td>\n",
              "      <td>0.301880</td>\n",
              "    </tr>\n",
              "    <tr>\n",
              "      <th>4</th>\n",
              "      <td>920</td>\n",
              "      <td>0.762524</td>\n",
              "    </tr>\n",
              "    <tr>\n",
              "      <th>5</th>\n",
              "      <td>921</td>\n",
              "      <td>0.762524</td>\n",
              "    </tr>\n",
              "    <tr>\n",
              "      <th>6</th>\n",
              "      <td>922</td>\n",
              "      <td>0.177576</td>\n",
              "    </tr>\n",
              "    <tr>\n",
              "      <th>7</th>\n",
              "      <td>923</td>\n",
              "      <td>0.177576</td>\n",
              "    </tr>\n",
              "    <tr>\n",
              "      <th>8</th>\n",
              "      <td>924</td>\n",
              "      <td>0.544517</td>\n",
              "    </tr>\n",
              "    <tr>\n",
              "      <th>9</th>\n",
              "      <td>925</td>\n",
              "      <td>0.168487</td>\n",
              "    </tr>\n",
              "  </tbody>\n",
              "</table>\n",
              "</div>\n",
              "      <button class=\"colab-df-convert\" onclick=\"convertToInteractive('df-15afa2a1-c997-44d0-8c03-62cc4cc71b5a')\"\n",
              "              title=\"Convert this dataframe to an interactive table.\"\n",
              "              style=\"display:none;\">\n",
              "        \n",
              "  <svg xmlns=\"http://www.w3.org/2000/svg\" height=\"24px\"viewBox=\"0 0 24 24\"\n",
              "       width=\"24px\">\n",
              "    <path d=\"M0 0h24v24H0V0z\" fill=\"none\"/>\n",
              "    <path d=\"M18.56 5.44l.94 2.06.94-2.06 2.06-.94-2.06-.94-.94-2.06-.94 2.06-2.06.94zm-11 1L8.5 8.5l.94-2.06 2.06-.94-2.06-.94L8.5 2.5l-.94 2.06-2.06.94zm10 10l.94 2.06.94-2.06 2.06-.94-2.06-.94-.94-2.06-.94 2.06-2.06.94z\"/><path d=\"M17.41 7.96l-1.37-1.37c-.4-.4-.92-.59-1.43-.59-.52 0-1.04.2-1.43.59L10.3 9.45l-7.72 7.72c-.78.78-.78 2.05 0 2.83L4 21.41c.39.39.9.59 1.41.59.51 0 1.02-.2 1.41-.59l7.78-7.78 2.81-2.81c.8-.78.8-2.07 0-2.86zM5.41 20L4 18.59l7.72-7.72 1.47 1.35L5.41 20z\"/>\n",
              "  </svg>\n",
              "      </button>\n",
              "      \n",
              "  <style>\n",
              "    .colab-df-container {\n",
              "      display:flex;\n",
              "      flex-wrap:wrap;\n",
              "      gap: 12px;\n",
              "    }\n",
              "\n",
              "    .colab-df-convert {\n",
              "      background-color: #E8F0FE;\n",
              "      border: none;\n",
              "      border-radius: 50%;\n",
              "      cursor: pointer;\n",
              "      display: none;\n",
              "      fill: #1967D2;\n",
              "      height: 32px;\n",
              "      padding: 0 0 0 0;\n",
              "      width: 32px;\n",
              "    }\n",
              "\n",
              "    .colab-df-convert:hover {\n",
              "      background-color: #E2EBFA;\n",
              "      box-shadow: 0px 1px 2px rgba(60, 64, 67, 0.3), 0px 1px 3px 1px rgba(60, 64, 67, 0.15);\n",
              "      fill: #174EA6;\n",
              "    }\n",
              "\n",
              "    [theme=dark] .colab-df-convert {\n",
              "      background-color: #3B4455;\n",
              "      fill: #D2E3FC;\n",
              "    }\n",
              "\n",
              "    [theme=dark] .colab-df-convert:hover {\n",
              "      background-color: #434B5C;\n",
              "      box-shadow: 0px 1px 3px 1px rgba(0, 0, 0, 0.15);\n",
              "      filter: drop-shadow(0px 1px 2px rgba(0, 0, 0, 0.3));\n",
              "      fill: #FFFFFF;\n",
              "    }\n",
              "  </style>\n",
              "\n",
              "      <script>\n",
              "        const buttonEl =\n",
              "          document.querySelector('#df-15afa2a1-c997-44d0-8c03-62cc4cc71b5a button.colab-df-convert');\n",
              "        buttonEl.style.display =\n",
              "          google.colab.kernel.accessAllowed ? 'block' : 'none';\n",
              "\n",
              "        async function convertToInteractive(key) {\n",
              "          const element = document.querySelector('#df-15afa2a1-c997-44d0-8c03-62cc4cc71b5a');\n",
              "          const dataTable =\n",
              "            await google.colab.kernel.invokeFunction('convertToInteractive',\n",
              "                                                     [key], {});\n",
              "          if (!dataTable) return;\n",
              "\n",
              "          const docLinkHtml = 'Like what you see? Visit the ' +\n",
              "            '<a target=\"_blank\" href=https://colab.research.google.com/notebooks/data_table.ipynb>data table notebook</a>'\n",
              "            + ' to learn more about interactive tables.';\n",
              "          element.innerHTML = '';\n",
              "          dataTable['output_type'] = 'display_data';\n",
              "          await google.colab.output.renderOutput(dataTable, element);\n",
              "          const docLink = document.createElement('div');\n",
              "          docLink.innerHTML = docLinkHtml;\n",
              "          element.appendChild(docLink);\n",
              "        }\n",
              "      </script>\n",
              "    </div>\n",
              "  </div>\n",
              "  "
            ]
          },
          "metadata": {},
          "execution_count": 477
        }
      ]
    },
    {
      "cell_type": "code",
      "source": [
        "submission.to_csv(args.submission_csv, header=True, index=False)"
      ],
      "metadata": {
        "id": "gbEoGpk5aGZa"
      },
      "execution_count": 478,
      "outputs": []
    },
    {
      "cell_type": "markdown",
      "source": [
        "# Save Results"
      ],
      "metadata": {
        "id": "a1NLzPrlItJ0"
      }
    },
    {
      "cell_type": "code",
      "source": [
        "args.save_results"
      ],
      "metadata": {
        "colab": {
          "base_uri": "https://localhost:8080/",
          "height": 35
        },
        "id": "oZbupzL4I4ie",
        "outputId": "f006bf73-a69d-4b38-865f-8af17adf004f"
      },
      "execution_count": 479,
      "outputs": [
        {
          "output_type": "execute_result",
          "data": {
            "text/plain": [
              "'/content/gdrive/My Drive/titanic_kaggle/data/model_results.json'"
            ],
            "application/vnd.google.colaboratory.intrinsic+json": {
              "type": "string"
            }
          },
          "metadata": {},
          "execution_count": 479
        }
      ]
    },
    {
      "cell_type": "code",
      "source": [
        "df_results.columns"
      ],
      "metadata": {
        "colab": {
          "base_uri": "https://localhost:8080/"
        },
        "id": "_T2w3GZII4fx",
        "outputId": "d53b6d0c-4a60-4d5a-a098-23a8b69ecad8"
      },
      "execution_count": 480,
      "outputs": [
        {
          "output_type": "execute_result",
          "data": {
            "text/plain": [
              "Index(['model', 'score_tr', 'score_te', 'auc_te', 'ori_te_pred',\n",
              "       'len_features', 'feaute_importances', 'create_dt'],\n",
              "      dtype='object')"
            ]
          },
          "metadata": {},
          "execution_count": 480
        }
      ]
    },
    {
      "cell_type": "code",
      "source": [
        "df_results.drop(['ori_te_pred'], axis=1, inplace=True) "
      ],
      "metadata": {
        "id": "aypDzKgqI4c_"
      },
      "execution_count": 481,
      "outputs": []
    },
    {
      "cell_type": "code",
      "source": [
        "df_results.to_json(args.save_results, orient=\"records\")"
      ],
      "metadata": {
        "id": "2tgG-cciIfVy"
      },
      "execution_count": 482,
      "outputs": []
    },
    {
      "cell_type": "code",
      "source": [
        "df_results.head()"
      ],
      "metadata": {
        "colab": {
          "base_uri": "https://localhost:8080/",
          "height": 389
        },
        "id": "L6pxg7IXH9Jm",
        "outputId": "795b1e81-efe2-4446-bdc0-fa695036e3b3"
      },
      "execution_count": 483,
      "outputs": [
        {
          "output_type": "execute_result",
          "data": {
            "text/plain": [
              "     model  score_tr  score_te    auc_te  len_features  \\\n",
              "3  modelV8  0.882995  0.847273  0.913459            26   \n",
              "1  modelV7  0.887676  0.854545  0.908292            27   \n",
              "0  modelV6  0.870515  0.840000  0.904417            27   \n",
              "2  modelV8  0.870515  0.840000  0.904288            26   \n",
              "4  modelV9  0.870515  0.840000  0.899638            22   \n",
              "\n",
              "                                  feaute_importances create_dt  \n",
              "3  [fare, age, sibsp, gender_female, pclass, gend...      0303  \n",
              "1  [fare, age, sibsp, gender_female, pclass, emba...      0303  \n",
              "0  [fare, age, pclass, gender_female, embarked_Q,...      0303  \n",
              "2  [gender_female, pclass, age, fare, embarked_S,...      0303  \n",
              "4  [gender_female, pclass, embarked_S, age, fare,...      0303  "
            ],
            "text/html": [
              "\n",
              "  <div id=\"df-b3ca16da-ea6a-4858-b91c-65553dee486f\">\n",
              "    <div class=\"colab-df-container\">\n",
              "      <div>\n",
              "<style scoped>\n",
              "    .dataframe tbody tr th:only-of-type {\n",
              "        vertical-align: middle;\n",
              "    }\n",
              "\n",
              "    .dataframe tbody tr th {\n",
              "        vertical-align: top;\n",
              "    }\n",
              "\n",
              "    .dataframe thead th {\n",
              "        text-align: right;\n",
              "    }\n",
              "</style>\n",
              "<table border=\"1\" class=\"dataframe\">\n",
              "  <thead>\n",
              "    <tr style=\"text-align: right;\">\n",
              "      <th></th>\n",
              "      <th>model</th>\n",
              "      <th>score_tr</th>\n",
              "      <th>score_te</th>\n",
              "      <th>auc_te</th>\n",
              "      <th>len_features</th>\n",
              "      <th>feaute_importances</th>\n",
              "      <th>create_dt</th>\n",
              "    </tr>\n",
              "  </thead>\n",
              "  <tbody>\n",
              "    <tr>\n",
              "      <th>3</th>\n",
              "      <td>modelV8</td>\n",
              "      <td>0.882995</td>\n",
              "      <td>0.847273</td>\n",
              "      <td>0.913459</td>\n",
              "      <td>26</td>\n",
              "      <td>[fare, age, sibsp, gender_female, pclass, gend...</td>\n",
              "      <td>0303</td>\n",
              "    </tr>\n",
              "    <tr>\n",
              "      <th>1</th>\n",
              "      <td>modelV7</td>\n",
              "      <td>0.887676</td>\n",
              "      <td>0.854545</td>\n",
              "      <td>0.908292</td>\n",
              "      <td>27</td>\n",
              "      <td>[fare, age, sibsp, gender_female, pclass, emba...</td>\n",
              "      <td>0303</td>\n",
              "    </tr>\n",
              "    <tr>\n",
              "      <th>0</th>\n",
              "      <td>modelV6</td>\n",
              "      <td>0.870515</td>\n",
              "      <td>0.840000</td>\n",
              "      <td>0.904417</td>\n",
              "      <td>27</td>\n",
              "      <td>[fare, age, pclass, gender_female, embarked_Q,...</td>\n",
              "      <td>0303</td>\n",
              "    </tr>\n",
              "    <tr>\n",
              "      <th>2</th>\n",
              "      <td>modelV8</td>\n",
              "      <td>0.870515</td>\n",
              "      <td>0.840000</td>\n",
              "      <td>0.904288</td>\n",
              "      <td>26</td>\n",
              "      <td>[gender_female, pclass, age, fare, embarked_S,...</td>\n",
              "      <td>0303</td>\n",
              "    </tr>\n",
              "    <tr>\n",
              "      <th>4</th>\n",
              "      <td>modelV9</td>\n",
              "      <td>0.870515</td>\n",
              "      <td>0.840000</td>\n",
              "      <td>0.899638</td>\n",
              "      <td>22</td>\n",
              "      <td>[gender_female, pclass, embarked_S, age, fare,...</td>\n",
              "      <td>0303</td>\n",
              "    </tr>\n",
              "  </tbody>\n",
              "</table>\n",
              "</div>\n",
              "      <button class=\"colab-df-convert\" onclick=\"convertToInteractive('df-b3ca16da-ea6a-4858-b91c-65553dee486f')\"\n",
              "              title=\"Convert this dataframe to an interactive table.\"\n",
              "              style=\"display:none;\">\n",
              "        \n",
              "  <svg xmlns=\"http://www.w3.org/2000/svg\" height=\"24px\"viewBox=\"0 0 24 24\"\n",
              "       width=\"24px\">\n",
              "    <path d=\"M0 0h24v24H0V0z\" fill=\"none\"/>\n",
              "    <path d=\"M18.56 5.44l.94 2.06.94-2.06 2.06-.94-2.06-.94-.94-2.06-.94 2.06-2.06.94zm-11 1L8.5 8.5l.94-2.06 2.06-.94-2.06-.94L8.5 2.5l-.94 2.06-2.06.94zm10 10l.94 2.06.94-2.06 2.06-.94-2.06-.94-.94-2.06-.94 2.06-2.06.94z\"/><path d=\"M17.41 7.96l-1.37-1.37c-.4-.4-.92-.59-1.43-.59-.52 0-1.04.2-1.43.59L10.3 9.45l-7.72 7.72c-.78.78-.78 2.05 0 2.83L4 21.41c.39.39.9.59 1.41.59.51 0 1.02-.2 1.41-.59l7.78-7.78 2.81-2.81c.8-.78.8-2.07 0-2.86zM5.41 20L4 18.59l7.72-7.72 1.47 1.35L5.41 20z\"/>\n",
              "  </svg>\n",
              "      </button>\n",
              "      \n",
              "  <style>\n",
              "    .colab-df-container {\n",
              "      display:flex;\n",
              "      flex-wrap:wrap;\n",
              "      gap: 12px;\n",
              "    }\n",
              "\n",
              "    .colab-df-convert {\n",
              "      background-color: #E8F0FE;\n",
              "      border: none;\n",
              "      border-radius: 50%;\n",
              "      cursor: pointer;\n",
              "      display: none;\n",
              "      fill: #1967D2;\n",
              "      height: 32px;\n",
              "      padding: 0 0 0 0;\n",
              "      width: 32px;\n",
              "    }\n",
              "\n",
              "    .colab-df-convert:hover {\n",
              "      background-color: #E2EBFA;\n",
              "      box-shadow: 0px 1px 2px rgba(60, 64, 67, 0.3), 0px 1px 3px 1px rgba(60, 64, 67, 0.15);\n",
              "      fill: #174EA6;\n",
              "    }\n",
              "\n",
              "    [theme=dark] .colab-df-convert {\n",
              "      background-color: #3B4455;\n",
              "      fill: #D2E3FC;\n",
              "    }\n",
              "\n",
              "    [theme=dark] .colab-df-convert:hover {\n",
              "      background-color: #434B5C;\n",
              "      box-shadow: 0px 1px 3px 1px rgba(0, 0, 0, 0.15);\n",
              "      filter: drop-shadow(0px 1px 2px rgba(0, 0, 0, 0.3));\n",
              "      fill: #FFFFFF;\n",
              "    }\n",
              "  </style>\n",
              "\n",
              "      <script>\n",
              "        const buttonEl =\n",
              "          document.querySelector('#df-b3ca16da-ea6a-4858-b91c-65553dee486f button.colab-df-convert');\n",
              "        buttonEl.style.display =\n",
              "          google.colab.kernel.accessAllowed ? 'block' : 'none';\n",
              "\n",
              "        async function convertToInteractive(key) {\n",
              "          const element = document.querySelector('#df-b3ca16da-ea6a-4858-b91c-65553dee486f');\n",
              "          const dataTable =\n",
              "            await google.colab.kernel.invokeFunction('convertToInteractive',\n",
              "                                                     [key], {});\n",
              "          if (!dataTable) return;\n",
              "\n",
              "          const docLinkHtml = 'Like what you see? Visit the ' +\n",
              "            '<a target=\"_blank\" href=https://colab.research.google.com/notebooks/data_table.ipynb>data table notebook</a>'\n",
              "            + ' to learn more about interactive tables.';\n",
              "          element.innerHTML = '';\n",
              "          dataTable['output_type'] = 'display_data';\n",
              "          await google.colab.output.renderOutput(dataTable, element);\n",
              "          const docLink = document.createElement('div');\n",
              "          docLink.innerHTML = docLinkHtml;\n",
              "          element.appendChild(docLink);\n",
              "        }\n",
              "      </script>\n",
              "    </div>\n",
              "  </div>\n",
              "  "
            ]
          },
          "metadata": {},
          "execution_count": 483
        }
      ]
    },
    {
      "cell_type": "code",
      "source": [
        "# import json\n",
        "\n",
        "# load_results = None\n",
        "# with open(args.save_results, 'r') as file:\n",
        "#     load_results = json.load(file)\n",
        "\n",
        "# load_results"
      ],
      "metadata": {
        "id": "am0f20UiJHbC"
      },
      "execution_count": 127,
      "outputs": []
    }
  ]
}