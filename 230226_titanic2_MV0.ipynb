{
  "nbformat": 4,
  "nbformat_minor": 0,
  "metadata": {
    "colab": {
      "provenance": [],
      "toc_visible": true,
      "authorship_tag": "ABX9TyODm26iaUp+z4ixeHWYETQt"
    },
    "kernelspec": {
      "name": "python3",
      "display_name": "Python 3"
    },
    "language_info": {
      "name": "python"
    }
  },
  "cells": [
    {
      "cell_type": "markdown",
      "source": [
        "# Mission\n",
        "- 제공된 타이타닉 데이터 사용\n",
        "- passengerid 대비 생존률을 정확하게 맞출 수 있는 머신러닝 모델 완성\n",
        "- submission 파일에 아래와 같이 저장하여 kaggle로 제출\n",
        "\n",
        "![image.png](data:image/png;base64,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)"
      ],
      "metadata": {
        "id": "Qf7h0_6w1hL2"
      }
    },
    {
      "cell_type": "markdown",
      "source": [
        "# Connect to google account"
      ],
      "metadata": {
        "id": "6HYyu31v2IO0"
      }
    },
    {
      "cell_type": "code",
      "execution_count": 531,
      "metadata": {
        "colab": {
          "base_uri": "https://localhost:8080/"
        },
        "id": "h3ivdCIz1GHq",
        "outputId": "ee06b3e5-072b-4ff2-a364-13ca18602dfc"
      },
      "outputs": [
        {
          "output_type": "stream",
          "name": "stdout",
          "text": [
            "Drive already mounted at /content/gdrive; to attempt to forcibly remount, call drive.mount(\"/content/gdrive\", force_remount=True).\n"
          ]
        }
      ],
      "source": [
        "from google.colab import drive\n",
        "import pandas as pd\n",
        "\n",
        "# 구글 드라이브 마운트\n",
        "drive.mount('/content/gdrive')"
      ]
    },
    {
      "cell_type": "code",
      "source": [
        "# 코렙 한글깨짐 방지\n",
        "!apt -qq -y install fonts-nanum > /dev/null\n",
        "\n",
        "# 데이터 시각화에 사용할 라이브러리\n",
        "import matplotlib.pyplot as plt\n",
        "import matplotlib.font_manager as fm\n",
        "import seaborn as sns\n",
        "\n",
        "fontpath = '/usr/share/fonts/truetype/nanum/NanumBarunGothic.ttf'\n",
        "font_name = fm.FontProperties(fname=fontpath).get_name() \n",
        "# fm._rebuild()  \n",
        "\n",
        "%config InlineBackend.figure_format = 'retina'\n",
        "\n",
        "plt.rc('font', family=font_name)  \n",
        "plt.rcParams['axes.unicode_minus'] = False"
      ],
      "metadata": {
        "colab": {
          "base_uri": "https://localhost:8080/"
        },
        "id": "Bv9bR74v2K4c",
        "outputId": "b5864ffd-0c6e-4e19-b224-fa38116ea3af"
      },
      "execution_count": 532,
      "outputs": [
        {
          "output_type": "stream",
          "name": "stdout",
          "text": [
            "\n",
            "WARNING: apt does not have a stable CLI interface. Use with caution in scripts.\n",
            "\n"
          ]
        }
      ]
    },
    {
      "cell_type": "markdown",
      "source": [
        "# Global Variables"
      ],
      "metadata": {
        "id": "sZPi-ow72U9-"
      }
    },
    {
      "cell_type": "code",
      "source": [
        "import easydict\n",
        "import json\n",
        "args = easydict.EasyDict()\n",
        "\n",
        "# path 정보\n",
        "args.default_path = '/content/gdrive/My Drive/titanic_kaggle/data/'\n",
        "args.train_csv = args.default_path+'train.csv'\n",
        "args.test_csv = args.default_path+'test.csv'\n",
        "args.submission_csv = args.default_path+'submission.csv'\n",
        "args.save_results = args.default_path+\"model_results.json\"\n",
        "\n",
        "# 데이터 분석을 위한 변수들\n",
        "args.random_state = 42\n",
        "SEED = 42\n",
        "args.results = []"
      ],
      "metadata": {
        "id": "6h5xcJYZ2SE2"
      },
      "execution_count": 533,
      "outputs": []
    },
    {
      "cell_type": "code",
      "source": [
        "# 데이터 시각화 라이브러리 \n",
        "import numpy as np \n",
        "import pandas as pd\n",
        "\n",
        "import matplotlib.pyplot as plt\n",
        "import seaborn as sns\n",
        "\n",
        "plt.style.use('fivethirtyeight')\n",
        "plt.ion()\n",
        "\n",
        "import warnings\n",
        "warnings.filterwarnings('ignore')"
      ],
      "metadata": {
        "id": "fufaQFJm3pvQ"
      },
      "execution_count": 534,
      "outputs": []
    },
    {
      "cell_type": "code",
      "source": [
        "# 지난 결과 확인\n",
        "# with open(args.save_results, 'r') as file:\n",
        "#     args.results = json.load(file)\n",
        "\n",
        "# args.results"
      ],
      "metadata": {
        "id": "4zCSR6kZ2uy-"
      },
      "execution_count": 535,
      "outputs": []
    },
    {
      "cell_type": "markdown",
      "source": [
        "# Load Tritanic"
      ],
      "metadata": {
        "id": "7QbdXamq3DrE"
      }
    },
    {
      "cell_type": "markdown",
      "source": [
        "- Surived:0=사망, 1=생존\n",
        "- Pclass: 1=1등석, 2=2등석, 3=3등석\n",
        "- Sex:male=남성, female=여성\n",
        "- Age: 나이\n",
        "- SibSp: 타이타닉 호에 동승한 자매/배우자의 수\n",
        "- Parch: 타이타닉 호에 동승한 부모/자식의 수\n",
        "- Ticket: 티켓 번호\n",
        "- Fare: 승객 요금\n",
        "- Cabin: 방 호수\n",
        "- Embarked: 탑승지; C=셰르부르, Q=퀴즈타운, S=사우샘프턴"
      ],
      "metadata": {
        "id": "z1AnNbKq3Fer"
      }
    },
    {
      "cell_type": "code",
      "source": [
        "ori_train = pd.read_csv(args.train_csv)\n",
        "ori_test = pd.read_csv(args.test_csv)\n",
        "\n",
        "train.shape, test.shape"
      ],
      "metadata": {
        "colab": {
          "base_uri": "https://localhost:8080/"
        },
        "id": "yUQ1Ieqv26Ib",
        "outputId": "7c93bd7a-5fbe-4c30-ee73-e2b51a0d3723"
      },
      "execution_count": 536,
      "outputs": [
        {
          "output_type": "execute_result",
          "data": {
            "text/plain": [
              "((641, 10), (275, 10))"
            ]
          },
          "metadata": {},
          "execution_count": 536
        }
      ]
    },
    {
      "cell_type": "code",
      "source": [
        "ori_train.head()"
      ],
      "metadata": {
        "colab": {
          "base_uri": "https://localhost:8080/",
          "height": 206
        },
        "id": "I_dsdii14FCd",
        "outputId": "dc5ff06a-0d35-4654-9210-396fc1b0f4f3"
      },
      "execution_count": 537,
      "outputs": [
        {
          "output_type": "execute_result",
          "data": {
            "text/plain": [
              "   passengerid  survived  pclass  \\\n",
              "0            0         0       2   \n",
              "1            1         0       3   \n",
              "2            2         1       1   \n",
              "3            3         1       3   \n",
              "4            4         0       2   \n",
              "\n",
              "                                                name  gender   age  sibsp  \\\n",
              "0                     Wheeler, Mr. Edwin Frederick\"\"    male   NaN      0   \n",
              "1                                 Henry, Miss. Delia  female   NaN      0   \n",
              "2  Hays, Mrs. Charles Melville (Clara Jennings Gr...  female  52.0      1   \n",
              "3       Andersson, Mr. August Edvard (\"Wennerstrom\")    male  27.0      0   \n",
              "4                                  Hold, Mr. Stephen    male  44.0      1   \n",
              "\n",
              "   parch         ticket     fare cabin embarked  \n",
              "0      0  SC/PARIS 2159  12.8750   NaN        S  \n",
              "1      0         382649   7.7500   NaN        Q  \n",
              "2      1          12749  93.5000   B69        S  \n",
              "3      0         350043   7.7958   NaN        S  \n",
              "4      0          26707  26.0000   NaN        S  "
            ],
            "text/html": [
              "\n",
              "  <div id=\"df-180b83b6-d73d-45ec-81c1-002a38ffe09a\">\n",
              "    <div class=\"colab-df-container\">\n",
              "      <div>\n",
              "<style scoped>\n",
              "    .dataframe tbody tr th:only-of-type {\n",
              "        vertical-align: middle;\n",
              "    }\n",
              "\n",
              "    .dataframe tbody tr th {\n",
              "        vertical-align: top;\n",
              "    }\n",
              "\n",
              "    .dataframe thead th {\n",
              "        text-align: right;\n",
              "    }\n",
              "</style>\n",
              "<table border=\"1\" class=\"dataframe\">\n",
              "  <thead>\n",
              "    <tr style=\"text-align: right;\">\n",
              "      <th></th>\n",
              "      <th>passengerid</th>\n",
              "      <th>survived</th>\n",
              "      <th>pclass</th>\n",
              "      <th>name</th>\n",
              "      <th>gender</th>\n",
              "      <th>age</th>\n",
              "      <th>sibsp</th>\n",
              "      <th>parch</th>\n",
              "      <th>ticket</th>\n",
              "      <th>fare</th>\n",
              "      <th>cabin</th>\n",
              "      <th>embarked</th>\n",
              "    </tr>\n",
              "  </thead>\n",
              "  <tbody>\n",
              "    <tr>\n",
              "      <th>0</th>\n",
              "      <td>0</td>\n",
              "      <td>0</td>\n",
              "      <td>2</td>\n",
              "      <td>Wheeler, Mr. Edwin Frederick\"\"</td>\n",
              "      <td>male</td>\n",
              "      <td>NaN</td>\n",
              "      <td>0</td>\n",
              "      <td>0</td>\n",
              "      <td>SC/PARIS 2159</td>\n",
              "      <td>12.8750</td>\n",
              "      <td>NaN</td>\n",
              "      <td>S</td>\n",
              "    </tr>\n",
              "    <tr>\n",
              "      <th>1</th>\n",
              "      <td>1</td>\n",
              "      <td>0</td>\n",
              "      <td>3</td>\n",
              "      <td>Henry, Miss. Delia</td>\n",
              "      <td>female</td>\n",
              "      <td>NaN</td>\n",
              "      <td>0</td>\n",
              "      <td>0</td>\n",
              "      <td>382649</td>\n",
              "      <td>7.7500</td>\n",
              "      <td>NaN</td>\n",
              "      <td>Q</td>\n",
              "    </tr>\n",
              "    <tr>\n",
              "      <th>2</th>\n",
              "      <td>2</td>\n",
              "      <td>1</td>\n",
              "      <td>1</td>\n",
              "      <td>Hays, Mrs. Charles Melville (Clara Jennings Gr...</td>\n",
              "      <td>female</td>\n",
              "      <td>52.0</td>\n",
              "      <td>1</td>\n",
              "      <td>1</td>\n",
              "      <td>12749</td>\n",
              "      <td>93.5000</td>\n",
              "      <td>B69</td>\n",
              "      <td>S</td>\n",
              "    </tr>\n",
              "    <tr>\n",
              "      <th>3</th>\n",
              "      <td>3</td>\n",
              "      <td>1</td>\n",
              "      <td>3</td>\n",
              "      <td>Andersson, Mr. August Edvard (\"Wennerstrom\")</td>\n",
              "      <td>male</td>\n",
              "      <td>27.0</td>\n",
              "      <td>0</td>\n",
              "      <td>0</td>\n",
              "      <td>350043</td>\n",
              "      <td>7.7958</td>\n",
              "      <td>NaN</td>\n",
              "      <td>S</td>\n",
              "    </tr>\n",
              "    <tr>\n",
              "      <th>4</th>\n",
              "      <td>4</td>\n",
              "      <td>0</td>\n",
              "      <td>2</td>\n",
              "      <td>Hold, Mr. Stephen</td>\n",
              "      <td>male</td>\n",
              "      <td>44.0</td>\n",
              "      <td>1</td>\n",
              "      <td>0</td>\n",
              "      <td>26707</td>\n",
              "      <td>26.0000</td>\n",
              "      <td>NaN</td>\n",
              "      <td>S</td>\n",
              "    </tr>\n",
              "  </tbody>\n",
              "</table>\n",
              "</div>\n",
              "      <button class=\"colab-df-convert\" onclick=\"convertToInteractive('df-180b83b6-d73d-45ec-81c1-002a38ffe09a')\"\n",
              "              title=\"Convert this dataframe to an interactive table.\"\n",
              "              style=\"display:none;\">\n",
              "        \n",
              "  <svg xmlns=\"http://www.w3.org/2000/svg\" height=\"24px\"viewBox=\"0 0 24 24\"\n",
              "       width=\"24px\">\n",
              "    <path d=\"M0 0h24v24H0V0z\" fill=\"none\"/>\n",
              "    <path d=\"M18.56 5.44l.94 2.06.94-2.06 2.06-.94-2.06-.94-.94-2.06-.94 2.06-2.06.94zm-11 1L8.5 8.5l.94-2.06 2.06-.94-2.06-.94L8.5 2.5l-.94 2.06-2.06.94zm10 10l.94 2.06.94-2.06 2.06-.94-2.06-.94-.94-2.06-.94 2.06-2.06.94z\"/><path d=\"M17.41 7.96l-1.37-1.37c-.4-.4-.92-.59-1.43-.59-.52 0-1.04.2-1.43.59L10.3 9.45l-7.72 7.72c-.78.78-.78 2.05 0 2.83L4 21.41c.39.39.9.59 1.41.59.51 0 1.02-.2 1.41-.59l7.78-7.78 2.81-2.81c.8-.78.8-2.07 0-2.86zM5.41 20L4 18.59l7.72-7.72 1.47 1.35L5.41 20z\"/>\n",
              "  </svg>\n",
              "      </button>\n",
              "      \n",
              "  <style>\n",
              "    .colab-df-container {\n",
              "      display:flex;\n",
              "      flex-wrap:wrap;\n",
              "      gap: 12px;\n",
              "    }\n",
              "\n",
              "    .colab-df-convert {\n",
              "      background-color: #E8F0FE;\n",
              "      border: none;\n",
              "      border-radius: 50%;\n",
              "      cursor: pointer;\n",
              "      display: none;\n",
              "      fill: #1967D2;\n",
              "      height: 32px;\n",
              "      padding: 0 0 0 0;\n",
              "      width: 32px;\n",
              "    }\n",
              "\n",
              "    .colab-df-convert:hover {\n",
              "      background-color: #E2EBFA;\n",
              "      box-shadow: 0px 1px 2px rgba(60, 64, 67, 0.3), 0px 1px 3px 1px rgba(60, 64, 67, 0.15);\n",
              "      fill: #174EA6;\n",
              "    }\n",
              "\n",
              "    [theme=dark] .colab-df-convert {\n",
              "      background-color: #3B4455;\n",
              "      fill: #D2E3FC;\n",
              "    }\n",
              "\n",
              "    [theme=dark] .colab-df-convert:hover {\n",
              "      background-color: #434B5C;\n",
              "      box-shadow: 0px 1px 3px 1px rgba(0, 0, 0, 0.15);\n",
              "      filter: drop-shadow(0px 1px 2px rgba(0, 0, 0, 0.3));\n",
              "      fill: #FFFFFF;\n",
              "    }\n",
              "  </style>\n",
              "\n",
              "      <script>\n",
              "        const buttonEl =\n",
              "          document.querySelector('#df-180b83b6-d73d-45ec-81c1-002a38ffe09a button.colab-df-convert');\n",
              "        buttonEl.style.display =\n",
              "          google.colab.kernel.accessAllowed ? 'block' : 'none';\n",
              "\n",
              "        async function convertToInteractive(key) {\n",
              "          const element = document.querySelector('#df-180b83b6-d73d-45ec-81c1-002a38ffe09a');\n",
              "          const dataTable =\n",
              "            await google.colab.kernel.invokeFunction('convertToInteractive',\n",
              "                                                     [key], {});\n",
              "          if (!dataTable) return;\n",
              "\n",
              "          const docLinkHtml = 'Like what you see? Visit the ' +\n",
              "            '<a target=\"_blank\" href=https://colab.research.google.com/notebooks/data_table.ipynb>data table notebook</a>'\n",
              "            + ' to learn more about interactive tables.';\n",
              "          element.innerHTML = '';\n",
              "          dataTable['output_type'] = 'display_data';\n",
              "          await google.colab.output.renderOutput(dataTable, element);\n",
              "          const docLink = document.createElement('div');\n",
              "          docLink.innerHTML = docLinkHtml;\n",
              "          element.appendChild(docLink);\n",
              "        }\n",
              "      </script>\n",
              "    </div>\n",
              "  </div>\n",
              "  "
            ]
          },
          "metadata": {},
          "execution_count": 537
        }
      ]
    },
    {
      "cell_type": "code",
      "source": [
        "ori_train.tail()"
      ],
      "metadata": {
        "colab": {
          "base_uri": "https://localhost:8080/",
          "height": 206
        },
        "id": "du1mfNQz5QAk",
        "outputId": "3af07bdb-32b9-4e7d-c064-9204ff73cce3"
      },
      "execution_count": 538,
      "outputs": [
        {
          "output_type": "execute_result",
          "data": {
            "text/plain": [
              "     passengerid  survived  pclass  \\\n",
              "911          911         0       3   \n",
              "912          912         0       3   \n",
              "913          913         0       2   \n",
              "914          914         1       3   \n",
              "915          915         1       1   \n",
              "\n",
              "                                                 name  gender   age  sibsp  \\\n",
              "911                             Thomas, Mr. Charles P    male   NaN      1   \n",
              "912                              Cacic, Mr. Jego Grga    male  18.0      0   \n",
              "913                   Pengelly, Mr. Frederick William    male  19.0      0   \n",
              "914                  Mullens, Miss. Katherine \"Katie\"  female   NaN      0   \n",
              "915  Candee, Mrs. Edward (Helen Churchill Hungerford)  female  53.0      0   \n",
              "\n",
              "     parch    ticket     fare cabin embarked  \n",
              "911      0      2621   6.4375   NaN        C  \n",
              "912      0    315091   8.6625   NaN        S  \n",
              "913      0     28665  10.5000   NaN        S  \n",
              "914      0     35852   7.7333   NaN        Q  \n",
              "915      0  PC 17606  27.4458   NaN        C  "
            ],
            "text/html": [
              "\n",
              "  <div id=\"df-3821feee-acfe-4175-8dcf-70af51362aff\">\n",
              "    <div class=\"colab-df-container\">\n",
              "      <div>\n",
              "<style scoped>\n",
              "    .dataframe tbody tr th:only-of-type {\n",
              "        vertical-align: middle;\n",
              "    }\n",
              "\n",
              "    .dataframe tbody tr th {\n",
              "        vertical-align: top;\n",
              "    }\n",
              "\n",
              "    .dataframe thead th {\n",
              "        text-align: right;\n",
              "    }\n",
              "</style>\n",
              "<table border=\"1\" class=\"dataframe\">\n",
              "  <thead>\n",
              "    <tr style=\"text-align: right;\">\n",
              "      <th></th>\n",
              "      <th>passengerid</th>\n",
              "      <th>survived</th>\n",
              "      <th>pclass</th>\n",
              "      <th>name</th>\n",
              "      <th>gender</th>\n",
              "      <th>age</th>\n",
              "      <th>sibsp</th>\n",
              "      <th>parch</th>\n",
              "      <th>ticket</th>\n",
              "      <th>fare</th>\n",
              "      <th>cabin</th>\n",
              "      <th>embarked</th>\n",
              "    </tr>\n",
              "  </thead>\n",
              "  <tbody>\n",
              "    <tr>\n",
              "      <th>911</th>\n",
              "      <td>911</td>\n",
              "      <td>0</td>\n",
              "      <td>3</td>\n",
              "      <td>Thomas, Mr. Charles P</td>\n",
              "      <td>male</td>\n",
              "      <td>NaN</td>\n",
              "      <td>1</td>\n",
              "      <td>0</td>\n",
              "      <td>2621</td>\n",
              "      <td>6.4375</td>\n",
              "      <td>NaN</td>\n",
              "      <td>C</td>\n",
              "    </tr>\n",
              "    <tr>\n",
              "      <th>912</th>\n",
              "      <td>912</td>\n",
              "      <td>0</td>\n",
              "      <td>3</td>\n",
              "      <td>Cacic, Mr. Jego Grga</td>\n",
              "      <td>male</td>\n",
              "      <td>18.0</td>\n",
              "      <td>0</td>\n",
              "      <td>0</td>\n",
              "      <td>315091</td>\n",
              "      <td>8.6625</td>\n",
              "      <td>NaN</td>\n",
              "      <td>S</td>\n",
              "    </tr>\n",
              "    <tr>\n",
              "      <th>913</th>\n",
              "      <td>913</td>\n",
              "      <td>0</td>\n",
              "      <td>2</td>\n",
              "      <td>Pengelly, Mr. Frederick William</td>\n",
              "      <td>male</td>\n",
              "      <td>19.0</td>\n",
              "      <td>0</td>\n",
              "      <td>0</td>\n",
              "      <td>28665</td>\n",
              "      <td>10.5000</td>\n",
              "      <td>NaN</td>\n",
              "      <td>S</td>\n",
              "    </tr>\n",
              "    <tr>\n",
              "      <th>914</th>\n",
              "      <td>914</td>\n",
              "      <td>1</td>\n",
              "      <td>3</td>\n",
              "      <td>Mullens, Miss. Katherine \"Katie\"</td>\n",
              "      <td>female</td>\n",
              "      <td>NaN</td>\n",
              "      <td>0</td>\n",
              "      <td>0</td>\n",
              "      <td>35852</td>\n",
              "      <td>7.7333</td>\n",
              "      <td>NaN</td>\n",
              "      <td>Q</td>\n",
              "    </tr>\n",
              "    <tr>\n",
              "      <th>915</th>\n",
              "      <td>915</td>\n",
              "      <td>1</td>\n",
              "      <td>1</td>\n",
              "      <td>Candee, Mrs. Edward (Helen Churchill Hungerford)</td>\n",
              "      <td>female</td>\n",
              "      <td>53.0</td>\n",
              "      <td>0</td>\n",
              "      <td>0</td>\n",
              "      <td>PC 17606</td>\n",
              "      <td>27.4458</td>\n",
              "      <td>NaN</td>\n",
              "      <td>C</td>\n",
              "    </tr>\n",
              "  </tbody>\n",
              "</table>\n",
              "</div>\n",
              "      <button class=\"colab-df-convert\" onclick=\"convertToInteractive('df-3821feee-acfe-4175-8dcf-70af51362aff')\"\n",
              "              title=\"Convert this dataframe to an interactive table.\"\n",
              "              style=\"display:none;\">\n",
              "        \n",
              "  <svg xmlns=\"http://www.w3.org/2000/svg\" height=\"24px\"viewBox=\"0 0 24 24\"\n",
              "       width=\"24px\">\n",
              "    <path d=\"M0 0h24v24H0V0z\" fill=\"none\"/>\n",
              "    <path d=\"M18.56 5.44l.94 2.06.94-2.06 2.06-.94-2.06-.94-.94-2.06-.94 2.06-2.06.94zm-11 1L8.5 8.5l.94-2.06 2.06-.94-2.06-.94L8.5 2.5l-.94 2.06-2.06.94zm10 10l.94 2.06.94-2.06 2.06-.94-2.06-.94-.94-2.06-.94 2.06-2.06.94z\"/><path d=\"M17.41 7.96l-1.37-1.37c-.4-.4-.92-.59-1.43-.59-.52 0-1.04.2-1.43.59L10.3 9.45l-7.72 7.72c-.78.78-.78 2.05 0 2.83L4 21.41c.39.39.9.59 1.41.59.51 0 1.02-.2 1.41-.59l7.78-7.78 2.81-2.81c.8-.78.8-2.07 0-2.86zM5.41 20L4 18.59l7.72-7.72 1.47 1.35L5.41 20z\"/>\n",
              "  </svg>\n",
              "      </button>\n",
              "      \n",
              "  <style>\n",
              "    .colab-df-container {\n",
              "      display:flex;\n",
              "      flex-wrap:wrap;\n",
              "      gap: 12px;\n",
              "    }\n",
              "\n",
              "    .colab-df-convert {\n",
              "      background-color: #E8F0FE;\n",
              "      border: none;\n",
              "      border-radius: 50%;\n",
              "      cursor: pointer;\n",
              "      display: none;\n",
              "      fill: #1967D2;\n",
              "      height: 32px;\n",
              "      padding: 0 0 0 0;\n",
              "      width: 32px;\n",
              "    }\n",
              "\n",
              "    .colab-df-convert:hover {\n",
              "      background-color: #E2EBFA;\n",
              "      box-shadow: 0px 1px 2px rgba(60, 64, 67, 0.3), 0px 1px 3px 1px rgba(60, 64, 67, 0.15);\n",
              "      fill: #174EA6;\n",
              "    }\n",
              "\n",
              "    [theme=dark] .colab-df-convert {\n",
              "      background-color: #3B4455;\n",
              "      fill: #D2E3FC;\n",
              "    }\n",
              "\n",
              "    [theme=dark] .colab-df-convert:hover {\n",
              "      background-color: #434B5C;\n",
              "      box-shadow: 0px 1px 3px 1px rgba(0, 0, 0, 0.15);\n",
              "      filter: drop-shadow(0px 1px 2px rgba(0, 0, 0, 0.3));\n",
              "      fill: #FFFFFF;\n",
              "    }\n",
              "  </style>\n",
              "\n",
              "      <script>\n",
              "        const buttonEl =\n",
              "          document.querySelector('#df-3821feee-acfe-4175-8dcf-70af51362aff button.colab-df-convert');\n",
              "        buttonEl.style.display =\n",
              "          google.colab.kernel.accessAllowed ? 'block' : 'none';\n",
              "\n",
              "        async function convertToInteractive(key) {\n",
              "          const element = document.querySelector('#df-3821feee-acfe-4175-8dcf-70af51362aff');\n",
              "          const dataTable =\n",
              "            await google.colab.kernel.invokeFunction('convertToInteractive',\n",
              "                                                     [key], {});\n",
              "          if (!dataTable) return;\n",
              "\n",
              "          const docLinkHtml = 'Like what you see? Visit the ' +\n",
              "            '<a target=\"_blank\" href=https://colab.research.google.com/notebooks/data_table.ipynb>data table notebook</a>'\n",
              "            + ' to learn more about interactive tables.';\n",
              "          element.innerHTML = '';\n",
              "          dataTable['output_type'] = 'display_data';\n",
              "          await google.colab.output.renderOutput(dataTable, element);\n",
              "          const docLink = document.createElement('div');\n",
              "          docLink.innerHTML = docLinkHtml;\n",
              "          element.appendChild(docLink);\n",
              "        }\n",
              "      </script>\n",
              "    </div>\n",
              "  </div>\n",
              "  "
            ]
          },
          "metadata": {},
          "execution_count": 538
        }
      ]
    },
    {
      "cell_type": "code",
      "source": [
        "ori_train.info()"
      ],
      "metadata": {
        "colab": {
          "base_uri": "https://localhost:8080/"
        },
        "id": "rrtbuTR04xvg",
        "outputId": "b17f6a1c-5352-42df-ffd7-13785e866295"
      },
      "execution_count": 539,
      "outputs": [
        {
          "output_type": "stream",
          "name": "stdout",
          "text": [
            "<class 'pandas.core.frame.DataFrame'>\n",
            "RangeIndex: 916 entries, 0 to 915\n",
            "Data columns (total 12 columns):\n",
            " #   Column       Non-Null Count  Dtype  \n",
            "---  ------       --------------  -----  \n",
            " 0   passengerid  916 non-null    int64  \n",
            " 1   survived     916 non-null    int64  \n",
            " 2   pclass       916 non-null    int64  \n",
            " 3   name         916 non-null    object \n",
            " 4   gender       916 non-null    object \n",
            " 5   age          736 non-null    float64\n",
            " 6   sibsp        916 non-null    int64  \n",
            " 7   parch        916 non-null    int64  \n",
            " 8   ticket       916 non-null    object \n",
            " 9   fare         916 non-null    float64\n",
            " 10  cabin        198 non-null    object \n",
            " 11  embarked     915 non-null    object \n",
            "dtypes: float64(2), int64(5), object(5)\n",
            "memory usage: 86.0+ KB\n"
          ]
        }
      ]
    },
    {
      "cell_type": "code",
      "source": [
        "ori_train.describe(include = 'all')"
      ],
      "metadata": {
        "colab": {
          "base_uri": "https://localhost:8080/",
          "height": 394
        },
        "id": "GcWGoNT544CI",
        "outputId": "d623e7c4-e136-40da-c47d-17daa9888d4b"
      },
      "execution_count": 540,
      "outputs": [
        {
          "output_type": "execute_result",
          "data": {
            "text/plain": [
              "        passengerid    survived      pclass                  name gender  \\\n",
              "count    916.000000  916.000000  916.000000                   916    916   \n",
              "unique          NaN         NaN         NaN                   915      2   \n",
              "top             NaN         NaN         NaN  Connolly, Miss. Kate   male   \n",
              "freq            NaN         NaN         NaN                     2    589   \n",
              "mean     457.500000    0.377729    2.292576                   NaN    NaN   \n",
              "std      264.570721    0.485084    0.838675                   NaN    NaN   \n",
              "min        0.000000    0.000000    1.000000                   NaN    NaN   \n",
              "25%      228.750000    0.000000    2.000000                   NaN    NaN   \n",
              "50%      457.500000    0.000000    3.000000                   NaN    NaN   \n",
              "75%      686.250000    1.000000    3.000000                   NaN    NaN   \n",
              "max      915.000000    1.000000    3.000000                   NaN    NaN   \n",
              "\n",
              "               age       sibsp       parch    ticket        fare cabin  \\\n",
              "count   736.000000  916.000000  916.000000       916  916.000000   198   \n",
              "unique         NaN         NaN         NaN       703         NaN   146   \n",
              "top            NaN         NaN         NaN  CA. 2343         NaN    G6   \n",
              "freq           NaN         NaN         NaN         7         NaN     4   \n",
              "mean     29.698370    0.507642    0.361354       NaN   32.402710   NaN   \n",
              "std      14.185627    1.044866    0.828054       NaN   50.506411   NaN   \n",
              "min       0.170000    0.000000    0.000000       NaN    0.000000   NaN   \n",
              "25%      21.000000    0.000000    0.000000       NaN    7.895800   NaN   \n",
              "50%      28.000000    0.000000    0.000000       NaN   14.458300   NaN   \n",
              "75%      38.000000    1.000000    0.000000       NaN   30.017700   NaN   \n",
              "max      80.000000    8.000000    9.000000       NaN  512.329200   NaN   \n",
              "\n",
              "       embarked  \n",
              "count       915  \n",
              "unique        3  \n",
              "top           S  \n",
              "freq        645  \n",
              "mean        NaN  \n",
              "std         NaN  \n",
              "min         NaN  \n",
              "25%         NaN  \n",
              "50%         NaN  \n",
              "75%         NaN  \n",
              "max         NaN  "
            ],
            "text/html": [
              "\n",
              "  <div id=\"df-b151963e-046e-482c-97ba-0a6ba4fe8754\">\n",
              "    <div class=\"colab-df-container\">\n",
              "      <div>\n",
              "<style scoped>\n",
              "    .dataframe tbody tr th:only-of-type {\n",
              "        vertical-align: middle;\n",
              "    }\n",
              "\n",
              "    .dataframe tbody tr th {\n",
              "        vertical-align: top;\n",
              "    }\n",
              "\n",
              "    .dataframe thead th {\n",
              "        text-align: right;\n",
              "    }\n",
              "</style>\n",
              "<table border=\"1\" class=\"dataframe\">\n",
              "  <thead>\n",
              "    <tr style=\"text-align: right;\">\n",
              "      <th></th>\n",
              "      <th>passengerid</th>\n",
              "      <th>survived</th>\n",
              "      <th>pclass</th>\n",
              "      <th>name</th>\n",
              "      <th>gender</th>\n",
              "      <th>age</th>\n",
              "      <th>sibsp</th>\n",
              "      <th>parch</th>\n",
              "      <th>ticket</th>\n",
              "      <th>fare</th>\n",
              "      <th>cabin</th>\n",
              "      <th>embarked</th>\n",
              "    </tr>\n",
              "  </thead>\n",
              "  <tbody>\n",
              "    <tr>\n",
              "      <th>count</th>\n",
              "      <td>916.000000</td>\n",
              "      <td>916.000000</td>\n",
              "      <td>916.000000</td>\n",
              "      <td>916</td>\n",
              "      <td>916</td>\n",
              "      <td>736.000000</td>\n",
              "      <td>916.000000</td>\n",
              "      <td>916.000000</td>\n",
              "      <td>916</td>\n",
              "      <td>916.000000</td>\n",
              "      <td>198</td>\n",
              "      <td>915</td>\n",
              "    </tr>\n",
              "    <tr>\n",
              "      <th>unique</th>\n",
              "      <td>NaN</td>\n",
              "      <td>NaN</td>\n",
              "      <td>NaN</td>\n",
              "      <td>915</td>\n",
              "      <td>2</td>\n",
              "      <td>NaN</td>\n",
              "      <td>NaN</td>\n",
              "      <td>NaN</td>\n",
              "      <td>703</td>\n",
              "      <td>NaN</td>\n",
              "      <td>146</td>\n",
              "      <td>3</td>\n",
              "    </tr>\n",
              "    <tr>\n",
              "      <th>top</th>\n",
              "      <td>NaN</td>\n",
              "      <td>NaN</td>\n",
              "      <td>NaN</td>\n",
              "      <td>Connolly, Miss. Kate</td>\n",
              "      <td>male</td>\n",
              "      <td>NaN</td>\n",
              "      <td>NaN</td>\n",
              "      <td>NaN</td>\n",
              "      <td>CA. 2343</td>\n",
              "      <td>NaN</td>\n",
              "      <td>G6</td>\n",
              "      <td>S</td>\n",
              "    </tr>\n",
              "    <tr>\n",
              "      <th>freq</th>\n",
              "      <td>NaN</td>\n",
              "      <td>NaN</td>\n",
              "      <td>NaN</td>\n",
              "      <td>2</td>\n",
              "      <td>589</td>\n",
              "      <td>NaN</td>\n",
              "      <td>NaN</td>\n",
              "      <td>NaN</td>\n",
              "      <td>7</td>\n",
              "      <td>NaN</td>\n",
              "      <td>4</td>\n",
              "      <td>645</td>\n",
              "    </tr>\n",
              "    <tr>\n",
              "      <th>mean</th>\n",
              "      <td>457.500000</td>\n",
              "      <td>0.377729</td>\n",
              "      <td>2.292576</td>\n",
              "      <td>NaN</td>\n",
              "      <td>NaN</td>\n",
              "      <td>29.698370</td>\n",
              "      <td>0.507642</td>\n",
              "      <td>0.361354</td>\n",
              "      <td>NaN</td>\n",
              "      <td>32.402710</td>\n",
              "      <td>NaN</td>\n",
              "      <td>NaN</td>\n",
              "    </tr>\n",
              "    <tr>\n",
              "      <th>std</th>\n",
              "      <td>264.570721</td>\n",
              "      <td>0.485084</td>\n",
              "      <td>0.838675</td>\n",
              "      <td>NaN</td>\n",
              "      <td>NaN</td>\n",
              "      <td>14.185627</td>\n",
              "      <td>1.044866</td>\n",
              "      <td>0.828054</td>\n",
              "      <td>NaN</td>\n",
              "      <td>50.506411</td>\n",
              "      <td>NaN</td>\n",
              "      <td>NaN</td>\n",
              "    </tr>\n",
              "    <tr>\n",
              "      <th>min</th>\n",
              "      <td>0.000000</td>\n",
              "      <td>0.000000</td>\n",
              "      <td>1.000000</td>\n",
              "      <td>NaN</td>\n",
              "      <td>NaN</td>\n",
              "      <td>0.170000</td>\n",
              "      <td>0.000000</td>\n",
              "      <td>0.000000</td>\n",
              "      <td>NaN</td>\n",
              "      <td>0.000000</td>\n",
              "      <td>NaN</td>\n",
              "      <td>NaN</td>\n",
              "    </tr>\n",
              "    <tr>\n",
              "      <th>25%</th>\n",
              "      <td>228.750000</td>\n",
              "      <td>0.000000</td>\n",
              "      <td>2.000000</td>\n",
              "      <td>NaN</td>\n",
              "      <td>NaN</td>\n",
              "      <td>21.000000</td>\n",
              "      <td>0.000000</td>\n",
              "      <td>0.000000</td>\n",
              "      <td>NaN</td>\n",
              "      <td>7.895800</td>\n",
              "      <td>NaN</td>\n",
              "      <td>NaN</td>\n",
              "    </tr>\n",
              "    <tr>\n",
              "      <th>50%</th>\n",
              "      <td>457.500000</td>\n",
              "      <td>0.000000</td>\n",
              "      <td>3.000000</td>\n",
              "      <td>NaN</td>\n",
              "      <td>NaN</td>\n",
              "      <td>28.000000</td>\n",
              "      <td>0.000000</td>\n",
              "      <td>0.000000</td>\n",
              "      <td>NaN</td>\n",
              "      <td>14.458300</td>\n",
              "      <td>NaN</td>\n",
              "      <td>NaN</td>\n",
              "    </tr>\n",
              "    <tr>\n",
              "      <th>75%</th>\n",
              "      <td>686.250000</td>\n",
              "      <td>1.000000</td>\n",
              "      <td>3.000000</td>\n",
              "      <td>NaN</td>\n",
              "      <td>NaN</td>\n",
              "      <td>38.000000</td>\n",
              "      <td>1.000000</td>\n",
              "      <td>0.000000</td>\n",
              "      <td>NaN</td>\n",
              "      <td>30.017700</td>\n",
              "      <td>NaN</td>\n",
              "      <td>NaN</td>\n",
              "    </tr>\n",
              "    <tr>\n",
              "      <th>max</th>\n",
              "      <td>915.000000</td>\n",
              "      <td>1.000000</td>\n",
              "      <td>3.000000</td>\n",
              "      <td>NaN</td>\n",
              "      <td>NaN</td>\n",
              "      <td>80.000000</td>\n",
              "      <td>8.000000</td>\n",
              "      <td>9.000000</td>\n",
              "      <td>NaN</td>\n",
              "      <td>512.329200</td>\n",
              "      <td>NaN</td>\n",
              "      <td>NaN</td>\n",
              "    </tr>\n",
              "  </tbody>\n",
              "</table>\n",
              "</div>\n",
              "      <button class=\"colab-df-convert\" onclick=\"convertToInteractive('df-b151963e-046e-482c-97ba-0a6ba4fe8754')\"\n",
              "              title=\"Convert this dataframe to an interactive table.\"\n",
              "              style=\"display:none;\">\n",
              "        \n",
              "  <svg xmlns=\"http://www.w3.org/2000/svg\" height=\"24px\"viewBox=\"0 0 24 24\"\n",
              "       width=\"24px\">\n",
              "    <path d=\"M0 0h24v24H0V0z\" fill=\"none\"/>\n",
              "    <path d=\"M18.56 5.44l.94 2.06.94-2.06 2.06-.94-2.06-.94-.94-2.06-.94 2.06-2.06.94zm-11 1L8.5 8.5l.94-2.06 2.06-.94-2.06-.94L8.5 2.5l-.94 2.06-2.06.94zm10 10l.94 2.06.94-2.06 2.06-.94-2.06-.94-.94-2.06-.94 2.06-2.06.94z\"/><path d=\"M17.41 7.96l-1.37-1.37c-.4-.4-.92-.59-1.43-.59-.52 0-1.04.2-1.43.59L10.3 9.45l-7.72 7.72c-.78.78-.78 2.05 0 2.83L4 21.41c.39.39.9.59 1.41.59.51 0 1.02-.2 1.41-.59l7.78-7.78 2.81-2.81c.8-.78.8-2.07 0-2.86zM5.41 20L4 18.59l7.72-7.72 1.47 1.35L5.41 20z\"/>\n",
              "  </svg>\n",
              "      </button>\n",
              "      \n",
              "  <style>\n",
              "    .colab-df-container {\n",
              "      display:flex;\n",
              "      flex-wrap:wrap;\n",
              "      gap: 12px;\n",
              "    }\n",
              "\n",
              "    .colab-df-convert {\n",
              "      background-color: #E8F0FE;\n",
              "      border: none;\n",
              "      border-radius: 50%;\n",
              "      cursor: pointer;\n",
              "      display: none;\n",
              "      fill: #1967D2;\n",
              "      height: 32px;\n",
              "      padding: 0 0 0 0;\n",
              "      width: 32px;\n",
              "    }\n",
              "\n",
              "    .colab-df-convert:hover {\n",
              "      background-color: #E2EBFA;\n",
              "      box-shadow: 0px 1px 2px rgba(60, 64, 67, 0.3), 0px 1px 3px 1px rgba(60, 64, 67, 0.15);\n",
              "      fill: #174EA6;\n",
              "    }\n",
              "\n",
              "    [theme=dark] .colab-df-convert {\n",
              "      background-color: #3B4455;\n",
              "      fill: #D2E3FC;\n",
              "    }\n",
              "\n",
              "    [theme=dark] .colab-df-convert:hover {\n",
              "      background-color: #434B5C;\n",
              "      box-shadow: 0px 1px 3px 1px rgba(0, 0, 0, 0.15);\n",
              "      filter: drop-shadow(0px 1px 2px rgba(0, 0, 0, 0.3));\n",
              "      fill: #FFFFFF;\n",
              "    }\n",
              "  </style>\n",
              "\n",
              "      <script>\n",
              "        const buttonEl =\n",
              "          document.querySelector('#df-b151963e-046e-482c-97ba-0a6ba4fe8754 button.colab-df-convert');\n",
              "        buttonEl.style.display =\n",
              "          google.colab.kernel.accessAllowed ? 'block' : 'none';\n",
              "\n",
              "        async function convertToInteractive(key) {\n",
              "          const element = document.querySelector('#df-b151963e-046e-482c-97ba-0a6ba4fe8754');\n",
              "          const dataTable =\n",
              "            await google.colab.kernel.invokeFunction('convertToInteractive',\n",
              "                                                     [key], {});\n",
              "          if (!dataTable) return;\n",
              "\n",
              "          const docLinkHtml = 'Like what you see? Visit the ' +\n",
              "            '<a target=\"_blank\" href=https://colab.research.google.com/notebooks/data_table.ipynb>data table notebook</a>'\n",
              "            + ' to learn more about interactive tables.';\n",
              "          element.innerHTML = '';\n",
              "          dataTable['output_type'] = 'display_data';\n",
              "          await google.colab.output.renderOutput(dataTable, element);\n",
              "          const docLink = document.createElement('div');\n",
              "          docLink.innerHTML = docLinkHtml;\n",
              "          element.appendChild(docLink);\n",
              "        }\n",
              "      </script>\n",
              "    </div>\n",
              "  </div>\n",
              "  "
            ]
          },
          "metadata": {},
          "execution_count": 540
        }
      ]
    },
    {
      "cell_type": "code",
      "source": [
        "ori_train.columns"
      ],
      "metadata": {
        "colab": {
          "base_uri": "https://localhost:8080/"
        },
        "id": "GBVR7im45ahj",
        "outputId": "88857ddd-4535-4b84-8af5-a790a313eb5c"
      },
      "execution_count": 541,
      "outputs": [
        {
          "output_type": "execute_result",
          "data": {
            "text/plain": [
              "Index(['passengerid', 'survived', 'pclass', 'name', 'gender', 'age', 'sibsp',\n",
              "       'parch', 'ticket', 'fare', 'cabin', 'embarked'],\n",
              "      dtype='object')"
            ]
          },
          "metadata": {},
          "execution_count": 541
        }
      ]
    },
    {
      "cell_type": "markdown",
      "source": [
        "##drop_duplicates"
      ],
      "metadata": {
        "id": "KIo4sG-D78sz"
      }
    },
    {
      "cell_type": "code",
      "source": [
        "print(f'before : {ori_train.shape}')\n",
        "ori_train.drop_duplicates(keep = 'first', inplace = True, ignore_index = True)\n",
        "print(f'after : {ori_train.shape}')"
      ],
      "metadata": {
        "colab": {
          "base_uri": "https://localhost:8080/"
        },
        "id": "YA29ntPm7vuz",
        "outputId": "4efb9abb-3936-4349-f3bd-794b8287c12e"
      },
      "execution_count": 542,
      "outputs": [
        {
          "output_type": "stream",
          "name": "stdout",
          "text": [
            "before : (916, 12)\n",
            "after : (916, 12)\n"
          ]
        }
      ]
    },
    {
      "cell_type": "markdown",
      "source": [
        "# train_test_split"
      ],
      "metadata": {
        "id": "Q80zSI6-6_y_"
      }
    },
    {
      "cell_type": "code",
      "source": [
        "# 피쳐와 타겟 데이터 분리\n",
        "X = ori_train.drop('survived', axis = 1)\n",
        "y = ori_train['survived'] #우리가 알고자하는 생존 데이터"
      ],
      "metadata": {
        "id": "e7wSJHOs7DnX"
      },
      "execution_count": 543,
      "outputs": []
    },
    {
      "cell_type": "code",
      "source": [
        "# 카테고리화\n",
        "new_survived = pd.Categorical(ori_train[\"survived\"])\n",
        "new_survived = new_survived.rename_categories([\"Died\",\"Survived\"])              \n",
        "\n",
        "new_survived.describe()"
      ],
      "metadata": {
        "colab": {
          "base_uri": "https://localhost:8080/",
          "height": 143
        },
        "id": "560OpCHv7FrH",
        "outputId": "02dd0212-63d2-42da-d86e-7dc40ee57ba7"
      },
      "execution_count": 544,
      "outputs": [
        {
          "output_type": "execute_result",
          "data": {
            "text/plain": [
              "            counts     freqs\n",
              "categories                  \n",
              "Died           570  0.622271\n",
              "Survived       346  0.377729"
            ],
            "text/html": [
              "\n",
              "  <div id=\"df-215af1db-b4b7-4bb1-81d4-e78cb2e926ba\">\n",
              "    <div class=\"colab-df-container\">\n",
              "      <div>\n",
              "<style scoped>\n",
              "    .dataframe tbody tr th:only-of-type {\n",
              "        vertical-align: middle;\n",
              "    }\n",
              "\n",
              "    .dataframe tbody tr th {\n",
              "        vertical-align: top;\n",
              "    }\n",
              "\n",
              "    .dataframe thead th {\n",
              "        text-align: right;\n",
              "    }\n",
              "</style>\n",
              "<table border=\"1\" class=\"dataframe\">\n",
              "  <thead>\n",
              "    <tr style=\"text-align: right;\">\n",
              "      <th></th>\n",
              "      <th>counts</th>\n",
              "      <th>freqs</th>\n",
              "    </tr>\n",
              "    <tr>\n",
              "      <th>categories</th>\n",
              "      <th></th>\n",
              "      <th></th>\n",
              "    </tr>\n",
              "  </thead>\n",
              "  <tbody>\n",
              "    <tr>\n",
              "      <th>Died</th>\n",
              "      <td>570</td>\n",
              "      <td>0.622271</td>\n",
              "    </tr>\n",
              "    <tr>\n",
              "      <th>Survived</th>\n",
              "      <td>346</td>\n",
              "      <td>0.377729</td>\n",
              "    </tr>\n",
              "  </tbody>\n",
              "</table>\n",
              "</div>\n",
              "      <button class=\"colab-df-convert\" onclick=\"convertToInteractive('df-215af1db-b4b7-4bb1-81d4-e78cb2e926ba')\"\n",
              "              title=\"Convert this dataframe to an interactive table.\"\n",
              "              style=\"display:none;\">\n",
              "        \n",
              "  <svg xmlns=\"http://www.w3.org/2000/svg\" height=\"24px\"viewBox=\"0 0 24 24\"\n",
              "       width=\"24px\">\n",
              "    <path d=\"M0 0h24v24H0V0z\" fill=\"none\"/>\n",
              "    <path d=\"M18.56 5.44l.94 2.06.94-2.06 2.06-.94-2.06-.94-.94-2.06-.94 2.06-2.06.94zm-11 1L8.5 8.5l.94-2.06 2.06-.94-2.06-.94L8.5 2.5l-.94 2.06-2.06.94zm10 10l.94 2.06.94-2.06 2.06-.94-2.06-.94-.94-2.06-.94 2.06-2.06.94z\"/><path d=\"M17.41 7.96l-1.37-1.37c-.4-.4-.92-.59-1.43-.59-.52 0-1.04.2-1.43.59L10.3 9.45l-7.72 7.72c-.78.78-.78 2.05 0 2.83L4 21.41c.39.39.9.59 1.41.59.51 0 1.02-.2 1.41-.59l7.78-7.78 2.81-2.81c.8-.78.8-2.07 0-2.86zM5.41 20L4 18.59l7.72-7.72 1.47 1.35L5.41 20z\"/>\n",
              "  </svg>\n",
              "      </button>\n",
              "      \n",
              "  <style>\n",
              "    .colab-df-container {\n",
              "      display:flex;\n",
              "      flex-wrap:wrap;\n",
              "      gap: 12px;\n",
              "    }\n",
              "\n",
              "    .colab-df-convert {\n",
              "      background-color: #E8F0FE;\n",
              "      border: none;\n",
              "      border-radius: 50%;\n",
              "      cursor: pointer;\n",
              "      display: none;\n",
              "      fill: #1967D2;\n",
              "      height: 32px;\n",
              "      padding: 0 0 0 0;\n",
              "      width: 32px;\n",
              "    }\n",
              "\n",
              "    .colab-df-convert:hover {\n",
              "      background-color: #E2EBFA;\n",
              "      box-shadow: 0px 1px 2px rgba(60, 64, 67, 0.3), 0px 1px 3px 1px rgba(60, 64, 67, 0.15);\n",
              "      fill: #174EA6;\n",
              "    }\n",
              "\n",
              "    [theme=dark] .colab-df-convert {\n",
              "      background-color: #3B4455;\n",
              "      fill: #D2E3FC;\n",
              "    }\n",
              "\n",
              "    [theme=dark] .colab-df-convert:hover {\n",
              "      background-color: #434B5C;\n",
              "      box-shadow: 0px 1px 3px 1px rgba(0, 0, 0, 0.15);\n",
              "      filter: drop-shadow(0px 1px 2px rgba(0, 0, 0, 0.3));\n",
              "      fill: #FFFFFF;\n",
              "    }\n",
              "  </style>\n",
              "\n",
              "      <script>\n",
              "        const buttonEl =\n",
              "          document.querySelector('#df-215af1db-b4b7-4bb1-81d4-e78cb2e926ba button.colab-df-convert');\n",
              "        buttonEl.style.display =\n",
              "          google.colab.kernel.accessAllowed ? 'block' : 'none';\n",
              "\n",
              "        async function convertToInteractive(key) {\n",
              "          const element = document.querySelector('#df-215af1db-b4b7-4bb1-81d4-e78cb2e926ba');\n",
              "          const dataTable =\n",
              "            await google.colab.kernel.invokeFunction('convertToInteractive',\n",
              "                                                     [key], {});\n",
              "          if (!dataTable) return;\n",
              "\n",
              "          const docLinkHtml = 'Like what you see? Visit the ' +\n",
              "            '<a target=\"_blank\" href=https://colab.research.google.com/notebooks/data_table.ipynb>data table notebook</a>'\n",
              "            + ' to learn more about interactive tables.';\n",
              "          element.innerHTML = '';\n",
              "          dataTable['output_type'] = 'display_data';\n",
              "          await google.colab.output.renderOutput(dataTable, element);\n",
              "          const docLink = document.createElement('div');\n",
              "          docLink.innerHTML = docLinkHtml;\n",
              "          element.appendChild(docLink);\n",
              "        }\n",
              "      </script>\n",
              "    </div>\n",
              "  </div>\n",
              "  "
            ]
          },
          "metadata": {},
          "execution_count": 544
        }
      ]
    },
    {
      "cell_type": "code",
      "source": [
        "from sklearn.model_selection import train_test_split\n",
        "\n",
        "X_tr, X_te, y_tr, y_te = train_test_split(X, y, test_size = 0.3, stratify =y , random_state = SEED)\n",
        "\n",
        "X_tr.shape, X_te.shape, y_tr.shape, y_te.shape"
      ],
      "metadata": {
        "colab": {
          "base_uri": "https://localhost:8080/"
        },
        "id": "DUqsiBiP7JiQ",
        "outputId": "e1ef892b-15bf-41da-d8c2-d1f8941558aa"
      },
      "execution_count": 545,
      "outputs": [
        {
          "output_type": "execute_result",
          "data": {
            "text/plain": [
              "((641, 11), (275, 11), (641,), (275,))"
            ]
          },
          "metadata": {},
          "execution_count": 545
        }
      ]
    },
    {
      "cell_type": "markdown",
      "source": [
        "# EDA"
      ],
      "metadata": {
        "id": "_ZpE78j39ooc"
      }
    },
    {
      "cell_type": "markdown",
      "source": [
        "## Column Classification"
      ],
      "metadata": {
        "id": "63jZbSrC9vCE"
      }
    },
    {
      "cell_type": "code",
      "source": [
        "X_tr.describe(include = 'all')"
      ],
      "metadata": {
        "colab": {
          "base_uri": "https://localhost:8080/",
          "height": 394
        },
        "id": "Jne472sl-Ktx",
        "outputId": "f86bfbae-39b9-4f9f-c8ee-a52da9007ffa"
      },
      "execution_count": 546,
      "outputs": [
        {
          "output_type": "execute_result",
          "data": {
            "text/plain": [
              "        passengerid      pclass                name gender         age  \\\n",
              "count    641.000000  641.000000                 641    641  523.000000   \n",
              "unique          NaN         NaN                 641      2         NaN   \n",
              "top             NaN         NaN  Klaber, Mr. Herman   male         NaN   \n",
              "freq            NaN         NaN                   1    420         NaN   \n",
              "mean     462.230889    2.271451                 NaN    NaN   29.853576   \n",
              "std      265.479413    0.837376                 NaN    NaN   14.536210   \n",
              "min        0.000000    1.000000                 NaN    NaN    0.170000   \n",
              "25%      230.000000    1.000000                 NaN    NaN   21.000000   \n",
              "50%      468.000000    3.000000                 NaN    NaN   28.000000   \n",
              "75%      692.000000    3.000000                 NaN    NaN   38.000000   \n",
              "max      915.000000    3.000000                 NaN    NaN   80.000000   \n",
              "\n",
              "             sibsp       parch   ticket        fare cabin embarked  \n",
              "count   641.000000  641.000000      641  641.000000   138      641  \n",
              "unique         NaN         NaN      525         NaN   109        3  \n",
              "top            NaN         NaN  3101295         NaN    G6        S  \n",
              "freq           NaN         NaN        7         NaN     3      457  \n",
              "mean      0.492980    0.324493      NaN   31.941796   NaN      NaN  \n",
              "std       0.993902    0.742152      NaN   47.068732   NaN      NaN  \n",
              "min       0.000000    0.000000      NaN    0.000000   NaN      NaN  \n",
              "25%       0.000000    0.000000      NaN    7.925000   NaN      NaN  \n",
              "50%       0.000000    0.000000      NaN   14.500000   NaN      NaN  \n",
              "75%       1.000000    0.000000      NaN   30.000000   NaN      NaN  \n",
              "max       8.000000    6.000000      NaN  512.329200   NaN      NaN  "
            ],
            "text/html": [
              "\n",
              "  <div id=\"df-bd070847-1cb3-4722-96c8-4c9e7e4501cc\">\n",
              "    <div class=\"colab-df-container\">\n",
              "      <div>\n",
              "<style scoped>\n",
              "    .dataframe tbody tr th:only-of-type {\n",
              "        vertical-align: middle;\n",
              "    }\n",
              "\n",
              "    .dataframe tbody tr th {\n",
              "        vertical-align: top;\n",
              "    }\n",
              "\n",
              "    .dataframe thead th {\n",
              "        text-align: right;\n",
              "    }\n",
              "</style>\n",
              "<table border=\"1\" class=\"dataframe\">\n",
              "  <thead>\n",
              "    <tr style=\"text-align: right;\">\n",
              "      <th></th>\n",
              "      <th>passengerid</th>\n",
              "      <th>pclass</th>\n",
              "      <th>name</th>\n",
              "      <th>gender</th>\n",
              "      <th>age</th>\n",
              "      <th>sibsp</th>\n",
              "      <th>parch</th>\n",
              "      <th>ticket</th>\n",
              "      <th>fare</th>\n",
              "      <th>cabin</th>\n",
              "      <th>embarked</th>\n",
              "    </tr>\n",
              "  </thead>\n",
              "  <tbody>\n",
              "    <tr>\n",
              "      <th>count</th>\n",
              "      <td>641.000000</td>\n",
              "      <td>641.000000</td>\n",
              "      <td>641</td>\n",
              "      <td>641</td>\n",
              "      <td>523.000000</td>\n",
              "      <td>641.000000</td>\n",
              "      <td>641.000000</td>\n",
              "      <td>641</td>\n",
              "      <td>641.000000</td>\n",
              "      <td>138</td>\n",
              "      <td>641</td>\n",
              "    </tr>\n",
              "    <tr>\n",
              "      <th>unique</th>\n",
              "      <td>NaN</td>\n",
              "      <td>NaN</td>\n",
              "      <td>641</td>\n",
              "      <td>2</td>\n",
              "      <td>NaN</td>\n",
              "      <td>NaN</td>\n",
              "      <td>NaN</td>\n",
              "      <td>525</td>\n",
              "      <td>NaN</td>\n",
              "      <td>109</td>\n",
              "      <td>3</td>\n",
              "    </tr>\n",
              "    <tr>\n",
              "      <th>top</th>\n",
              "      <td>NaN</td>\n",
              "      <td>NaN</td>\n",
              "      <td>Klaber, Mr. Herman</td>\n",
              "      <td>male</td>\n",
              "      <td>NaN</td>\n",
              "      <td>NaN</td>\n",
              "      <td>NaN</td>\n",
              "      <td>3101295</td>\n",
              "      <td>NaN</td>\n",
              "      <td>G6</td>\n",
              "      <td>S</td>\n",
              "    </tr>\n",
              "    <tr>\n",
              "      <th>freq</th>\n",
              "      <td>NaN</td>\n",
              "      <td>NaN</td>\n",
              "      <td>1</td>\n",
              "      <td>420</td>\n",
              "      <td>NaN</td>\n",
              "      <td>NaN</td>\n",
              "      <td>NaN</td>\n",
              "      <td>7</td>\n",
              "      <td>NaN</td>\n",
              "      <td>3</td>\n",
              "      <td>457</td>\n",
              "    </tr>\n",
              "    <tr>\n",
              "      <th>mean</th>\n",
              "      <td>462.230889</td>\n",
              "      <td>2.271451</td>\n",
              "      <td>NaN</td>\n",
              "      <td>NaN</td>\n",
              "      <td>29.853576</td>\n",
              "      <td>0.492980</td>\n",
              "      <td>0.324493</td>\n",
              "      <td>NaN</td>\n",
              "      <td>31.941796</td>\n",
              "      <td>NaN</td>\n",
              "      <td>NaN</td>\n",
              "    </tr>\n",
              "    <tr>\n",
              "      <th>std</th>\n",
              "      <td>265.479413</td>\n",
              "      <td>0.837376</td>\n",
              "      <td>NaN</td>\n",
              "      <td>NaN</td>\n",
              "      <td>14.536210</td>\n",
              "      <td>0.993902</td>\n",
              "      <td>0.742152</td>\n",
              "      <td>NaN</td>\n",
              "      <td>47.068732</td>\n",
              "      <td>NaN</td>\n",
              "      <td>NaN</td>\n",
              "    </tr>\n",
              "    <tr>\n",
              "      <th>min</th>\n",
              "      <td>0.000000</td>\n",
              "      <td>1.000000</td>\n",
              "      <td>NaN</td>\n",
              "      <td>NaN</td>\n",
              "      <td>0.170000</td>\n",
              "      <td>0.000000</td>\n",
              "      <td>0.000000</td>\n",
              "      <td>NaN</td>\n",
              "      <td>0.000000</td>\n",
              "      <td>NaN</td>\n",
              "      <td>NaN</td>\n",
              "    </tr>\n",
              "    <tr>\n",
              "      <th>25%</th>\n",
              "      <td>230.000000</td>\n",
              "      <td>1.000000</td>\n",
              "      <td>NaN</td>\n",
              "      <td>NaN</td>\n",
              "      <td>21.000000</td>\n",
              "      <td>0.000000</td>\n",
              "      <td>0.000000</td>\n",
              "      <td>NaN</td>\n",
              "      <td>7.925000</td>\n",
              "      <td>NaN</td>\n",
              "      <td>NaN</td>\n",
              "    </tr>\n",
              "    <tr>\n",
              "      <th>50%</th>\n",
              "      <td>468.000000</td>\n",
              "      <td>3.000000</td>\n",
              "      <td>NaN</td>\n",
              "      <td>NaN</td>\n",
              "      <td>28.000000</td>\n",
              "      <td>0.000000</td>\n",
              "      <td>0.000000</td>\n",
              "      <td>NaN</td>\n",
              "      <td>14.500000</td>\n",
              "      <td>NaN</td>\n",
              "      <td>NaN</td>\n",
              "    </tr>\n",
              "    <tr>\n",
              "      <th>75%</th>\n",
              "      <td>692.000000</td>\n",
              "      <td>3.000000</td>\n",
              "      <td>NaN</td>\n",
              "      <td>NaN</td>\n",
              "      <td>38.000000</td>\n",
              "      <td>1.000000</td>\n",
              "      <td>0.000000</td>\n",
              "      <td>NaN</td>\n",
              "      <td>30.000000</td>\n",
              "      <td>NaN</td>\n",
              "      <td>NaN</td>\n",
              "    </tr>\n",
              "    <tr>\n",
              "      <th>max</th>\n",
              "      <td>915.000000</td>\n",
              "      <td>3.000000</td>\n",
              "      <td>NaN</td>\n",
              "      <td>NaN</td>\n",
              "      <td>80.000000</td>\n",
              "      <td>8.000000</td>\n",
              "      <td>6.000000</td>\n",
              "      <td>NaN</td>\n",
              "      <td>512.329200</td>\n",
              "      <td>NaN</td>\n",
              "      <td>NaN</td>\n",
              "    </tr>\n",
              "  </tbody>\n",
              "</table>\n",
              "</div>\n",
              "      <button class=\"colab-df-convert\" onclick=\"convertToInteractive('df-bd070847-1cb3-4722-96c8-4c9e7e4501cc')\"\n",
              "              title=\"Convert this dataframe to an interactive table.\"\n",
              "              style=\"display:none;\">\n",
              "        \n",
              "  <svg xmlns=\"http://www.w3.org/2000/svg\" height=\"24px\"viewBox=\"0 0 24 24\"\n",
              "       width=\"24px\">\n",
              "    <path d=\"M0 0h24v24H0V0z\" fill=\"none\"/>\n",
              "    <path d=\"M18.56 5.44l.94 2.06.94-2.06 2.06-.94-2.06-.94-.94-2.06-.94 2.06-2.06.94zm-11 1L8.5 8.5l.94-2.06 2.06-.94-2.06-.94L8.5 2.5l-.94 2.06-2.06.94zm10 10l.94 2.06.94-2.06 2.06-.94-2.06-.94-.94-2.06-.94 2.06-2.06.94z\"/><path d=\"M17.41 7.96l-1.37-1.37c-.4-.4-.92-.59-1.43-.59-.52 0-1.04.2-1.43.59L10.3 9.45l-7.72 7.72c-.78.78-.78 2.05 0 2.83L4 21.41c.39.39.9.59 1.41.59.51 0 1.02-.2 1.41-.59l7.78-7.78 2.81-2.81c.8-.78.8-2.07 0-2.86zM5.41 20L4 18.59l7.72-7.72 1.47 1.35L5.41 20z\"/>\n",
              "  </svg>\n",
              "      </button>\n",
              "      \n",
              "  <style>\n",
              "    .colab-df-container {\n",
              "      display:flex;\n",
              "      flex-wrap:wrap;\n",
              "      gap: 12px;\n",
              "    }\n",
              "\n",
              "    .colab-df-convert {\n",
              "      background-color: #E8F0FE;\n",
              "      border: none;\n",
              "      border-radius: 50%;\n",
              "      cursor: pointer;\n",
              "      display: none;\n",
              "      fill: #1967D2;\n",
              "      height: 32px;\n",
              "      padding: 0 0 0 0;\n",
              "      width: 32px;\n",
              "    }\n",
              "\n",
              "    .colab-df-convert:hover {\n",
              "      background-color: #E2EBFA;\n",
              "      box-shadow: 0px 1px 2px rgba(60, 64, 67, 0.3), 0px 1px 3px 1px rgba(60, 64, 67, 0.15);\n",
              "      fill: #174EA6;\n",
              "    }\n",
              "\n",
              "    [theme=dark] .colab-df-convert {\n",
              "      background-color: #3B4455;\n",
              "      fill: #D2E3FC;\n",
              "    }\n",
              "\n",
              "    [theme=dark] .colab-df-convert:hover {\n",
              "      background-color: #434B5C;\n",
              "      box-shadow: 0px 1px 3px 1px rgba(0, 0, 0, 0.15);\n",
              "      filter: drop-shadow(0px 1px 2px rgba(0, 0, 0, 0.3));\n",
              "      fill: #FFFFFF;\n",
              "    }\n",
              "  </style>\n",
              "\n",
              "      <script>\n",
              "        const buttonEl =\n",
              "          document.querySelector('#df-bd070847-1cb3-4722-96c8-4c9e7e4501cc button.colab-df-convert');\n",
              "        buttonEl.style.display =\n",
              "          google.colab.kernel.accessAllowed ? 'block' : 'none';\n",
              "\n",
              "        async function convertToInteractive(key) {\n",
              "          const element = document.querySelector('#df-bd070847-1cb3-4722-96c8-4c9e7e4501cc');\n",
              "          const dataTable =\n",
              "            await google.colab.kernel.invokeFunction('convertToInteractive',\n",
              "                                                     [key], {});\n",
              "          if (!dataTable) return;\n",
              "\n",
              "          const docLinkHtml = 'Like what you see? Visit the ' +\n",
              "            '<a target=\"_blank\" href=https://colab.research.google.com/notebooks/data_table.ipynb>data table notebook</a>'\n",
              "            + ' to learn more about interactive tables.';\n",
              "          element.innerHTML = '';\n",
              "          dataTable['output_type'] = 'display_data';\n",
              "          await google.colab.output.renderOutput(dataTable, element);\n",
              "          const docLink = document.createElement('div');\n",
              "          docLink.innerHTML = docLinkHtml;\n",
              "          element.appendChild(docLink);\n",
              "        }\n",
              "      </script>\n",
              "    </div>\n",
              "  </div>\n",
              "  "
            ]
          },
          "metadata": {},
          "execution_count": 546
        }
      ]
    },
    {
      "cell_type": "code",
      "source": [
        "X_tr['pclass'].nunique()"
      ],
      "metadata": {
        "colab": {
          "base_uri": "https://localhost:8080/"
        },
        "id": "s_AHsTRU-p3R",
        "outputId": "80d934aa-fa20-4547-b620-36672a513dcf"
      },
      "execution_count": 547,
      "outputs": [
        {
          "output_type": "execute_result",
          "data": {
            "text/plain": [
              "3"
            ]
          },
          "metadata": {},
          "execution_count": 547
        }
      ]
    },
    {
      "cell_type": "code",
      "source": [
        "X_tr['pclass'].unique()"
      ],
      "metadata": {
        "colab": {
          "base_uri": "https://localhost:8080/"
        },
        "id": "s0mXYyLw-9Nz",
        "outputId": "2a9d6b21-370c-49db-fbb7-135bc7e4d2f6"
      },
      "execution_count": 548,
      "outputs": [
        {
          "output_type": "execute_result",
          "data": {
            "text/plain": [
              "array([1, 3, 2])"
            ]
          },
          "metadata": {},
          "execution_count": 548
        }
      ]
    },
    {
      "cell_type": "code",
      "source": [
        "X_tr['sibsp'].unique()"
      ],
      "metadata": {
        "colab": {
          "base_uri": "https://localhost:8080/"
        },
        "id": "zmCgMHZl_FUz",
        "outputId": "fa80461a-6342-43c0-d4e7-c431860ad10b"
      },
      "execution_count": 549,
      "outputs": [
        {
          "output_type": "execute_result",
          "data": {
            "text/plain": [
              "array([0, 2, 1, 3, 8, 4, 5])"
            ]
          },
          "metadata": {},
          "execution_count": 549
        }
      ]
    },
    {
      "cell_type": "code",
      "source": [
        "X_tr['cabin'].unique()"
      ],
      "metadata": {
        "colab": {
          "base_uri": "https://localhost:8080/"
        },
        "id": "W1QxIkRXCGnm",
        "outputId": "48175e18-44c0-447a-c7d7-55798ef416cc"
      },
      "execution_count": 550,
      "outputs": [
        {
          "output_type": "execute_result",
          "data": {
            "text/plain": [
              "array(['C124', 'C32', nan, 'B52 B54 B56', 'B61', 'B94', 'C2', 'D43',\n",
              "       'B78', 'B36', 'D11', 'F E69', 'B58 B60', 'C65', 'C132', 'D28',\n",
              "       'E63', 'C80', 'E44', 'B39', 'A23', 'C116', 'C85', 'C106',\n",
              "       'B57 B59 B63 B66', 'B45', 'E34', 'G6', 'B50', 'D50', 'F', 'C39',\n",
              "       'C23 C25 C27', 'D49', 'F33', 'D35', 'D34', 'A18', 'C68', 'C54',\n",
              "       'B77', 'E17', 'A5', 'E36', 'D20', 'E12', 'C101', 'C78', 'E39 E41',\n",
              "       'F2', 'D38', 'B5', 'C93', 'E8', 'C95', 'E101', 'C22 C26', 'B20',\n",
              "       'C7', 'C83', 'B51 B53 B55', 'B4', 'A6', 'C46', 'E121', 'A34',\n",
              "       'C51', 'C92', 'B26', 'D15', 'C47', 'B96 B98', 'C53', 'B79', 'D7',\n",
              "       'A10', 'E33', 'C123', 'C31', 'C87', 'C86', 'E46', 'E24', 'B49',\n",
              "       'C55 C57', 'B73', 'C111', 'D17', 'A11', 'C148', 'E25', 'E58',\n",
              "       'C62 C64', 'B80', 'D22', 'D36', 'E49', 'C89', 'E77', 'F G63',\n",
              "       'C104', 'C91', 'A32', 'A24', 'A29', 'A20', 'B38', 'C130', 'B86',\n",
              "       'B22'], dtype=object)"
            ]
          },
          "metadata": {},
          "execution_count": 550
        }
      ]
    },
    {
      "cell_type": "code",
      "source": [
        "X_tr['embarked'].unique()"
      ],
      "metadata": {
        "colab": {
          "base_uri": "https://localhost:8080/"
        },
        "id": "LQYOKvp9CK3C",
        "outputId": "c603a714-520d-49a3-93f2-6227878cc912"
      },
      "execution_count": 551,
      "outputs": [
        {
          "output_type": "execute_result",
          "data": {
            "text/plain": [
              "array(['S', 'C', 'Q'], dtype=object)"
            ]
          },
          "metadata": {},
          "execution_count": 551
        }
      ]
    },
    {
      "cell_type": "code",
      "source": [
        "X_tr.info()"
      ],
      "metadata": {
        "colab": {
          "base_uri": "https://localhost:8080/"
        },
        "id": "N5yco8WGB1il",
        "outputId": "20abd8ee-0994-4ed8-d6e5-7fba7649c374"
      },
      "execution_count": 552,
      "outputs": [
        {
          "output_type": "stream",
          "name": "stdout",
          "text": [
            "<class 'pandas.core.frame.DataFrame'>\n",
            "Int64Index: 641 entries, 539 to 636\n",
            "Data columns (total 11 columns):\n",
            " #   Column       Non-Null Count  Dtype  \n",
            "---  ------       --------------  -----  \n",
            " 0   passengerid  641 non-null    int64  \n",
            " 1   pclass       641 non-null    int64  \n",
            " 2   name         641 non-null    object \n",
            " 3   gender       641 non-null    object \n",
            " 4   age          523 non-null    float64\n",
            " 5   sibsp        641 non-null    int64  \n",
            " 6   parch        641 non-null    int64  \n",
            " 7   ticket       641 non-null    object \n",
            " 8   fare         641 non-null    float64\n",
            " 9   cabin        138 non-null    object \n",
            " 10  embarked     641 non-null    object \n",
            "dtypes: float64(2), int64(4), object(5)\n",
            "memory usage: 60.1+ KB\n"
          ]
        }
      ]
    },
    {
      "cell_type": "code",
      "source": [
        "continous_cols = ['age', 'sibsp', 'parch', 'fare']\n",
        "category_cols = ['pclass', 'gender', 'embarked']\n",
        "other_cols = ['passengerid', 'name', 'ticket', 'cabin']"
      ],
      "metadata": {
        "id": "HGOIu7t19p-s"
      },
      "execution_count": 553,
      "outputs": []
    },
    {
      "cell_type": "markdown",
      "source": [
        "# ModelV0"
      ],
      "metadata": {
        "id": "iA739ZXY3v94"
      }
    },
    {
      "cell_type": "markdown",
      "source": [
        "## Missing Value"
      ],
      "metadata": {
        "id": "3asqu0_x39Ni"
      }
    },
    {
      "cell_type": "code",
      "source": [
        "train = X_tr.copy() \n",
        "test = X_te.copy()\n",
        "ori_te = ori_test.copy()\n",
        "\n",
        "train.shape, test.shape, ori_te.shape"
      ],
      "metadata": {
        "colab": {
          "base_uri": "https://localhost:8080/"
        },
        "id": "wf_2-_NZ3gzx",
        "outputId": "ef25cbc9-49a6-4715-aafe-4b0d6d168b76"
      },
      "execution_count": 554,
      "outputs": [
        {
          "output_type": "execute_result",
          "data": {
            "text/plain": [
              "((641, 11), (275, 11), (393, 11))"
            ]
          },
          "metadata": {},
          "execution_count": 554
        }
      ]
    },
    {
      "cell_type": "code",
      "source": [
        "train.isnull().sum()"
      ],
      "metadata": {
        "colab": {
          "base_uri": "https://localhost:8080/"
        },
        "id": "ywP3ao_QLZbE",
        "outputId": "ce758dc6-17ac-4040-df9a-74f0ee455e4b"
      },
      "execution_count": 555,
      "outputs": [
        {
          "output_type": "execute_result",
          "data": {
            "text/plain": [
              "passengerid      0\n",
              "pclass           0\n",
              "name             0\n",
              "gender           0\n",
              "age            118\n",
              "sibsp            0\n",
              "parch            0\n",
              "ticket           0\n",
              "fare             0\n",
              "cabin          503\n",
              "embarked         0\n",
              "dtype: int64"
            ]
          },
          "metadata": {},
          "execution_count": 555
        }
      ]
    },
    {
      "cell_type": "code",
      "source": [
        "test.isnull().sum()"
      ],
      "metadata": {
        "colab": {
          "base_uri": "https://localhost:8080/"
        },
        "id": "1nBN5GpxLgbk",
        "outputId": "cbd141da-87ae-4e82-b941-6100540a8c24"
      },
      "execution_count": 556,
      "outputs": [
        {
          "output_type": "execute_result",
          "data": {
            "text/plain": [
              "passengerid      0\n",
              "pclass           0\n",
              "name             0\n",
              "gender           0\n",
              "age             62\n",
              "sibsp            0\n",
              "parch            0\n",
              "ticket           0\n",
              "fare             0\n",
              "cabin          215\n",
              "embarked         1\n",
              "dtype: int64"
            ]
          },
          "metadata": {},
          "execution_count": 556
        }
      ]
    },
    {
      "cell_type": "code",
      "source": [
        "ori_te.isnull().sum()"
      ],
      "metadata": {
        "colab": {
          "base_uri": "https://localhost:8080/"
        },
        "id": "s2FCW68iaVQi",
        "outputId": "f5ae3f02-f8db-4ca6-f297-419a644fb9cc"
      },
      "execution_count": 557,
      "outputs": [
        {
          "output_type": "execute_result",
          "data": {
            "text/plain": [
              "passengerid      0\n",
              "pclass           0\n",
              "name             0\n",
              "gender           0\n",
              "age             83\n",
              "sibsp            0\n",
              "parch            0\n",
              "ticket           0\n",
              "fare             1\n",
              "cabin          296\n",
              "embarked         1\n",
              "dtype: int64"
            ]
          },
          "metadata": {},
          "execution_count": 557
        }
      ]
    },
    {
      "cell_type": "code",
      "source": [
        "embarked_mode = train['embarked'].mode().values[0]\n",
        "\n",
        "test['embarked'].fillna(embarked_mode, inplace=True)\n",
        "ori_te['embarked'].fillna(embarked_mode, inplace=True)\n",
        "test.isnull().sum(), ori_te.isnull().sum()"
      ],
      "metadata": {
        "colab": {
          "base_uri": "https://localhost:8080/"
        },
        "id": "LTrKc54S32aw",
        "outputId": "53f8df46-7944-4df4-a409-fd080fd23477"
      },
      "execution_count": 558,
      "outputs": [
        {
          "output_type": "execute_result",
          "data": {
            "text/plain": [
              "(passengerid      0\n",
              " pclass           0\n",
              " name             0\n",
              " gender           0\n",
              " age             62\n",
              " sibsp            0\n",
              " parch            0\n",
              " ticket           0\n",
              " fare             0\n",
              " cabin          215\n",
              " embarked         0\n",
              " dtype: int64, passengerid      0\n",
              " pclass           0\n",
              " name             0\n",
              " gender           0\n",
              " age             83\n",
              " sibsp            0\n",
              " parch            0\n",
              " ticket           0\n",
              " fare             1\n",
              " cabin          296\n",
              " embarked         0\n",
              " dtype: int64)"
            ]
          },
          "metadata": {},
          "execution_count": 558
        }
      ]
    },
    {
      "cell_type": "code",
      "source": [
        "train['fare'].plot.hist(bins = 20)"
      ],
      "metadata": {
        "colab": {
          "base_uri": "https://localhost:8080/",
          "height": 300
        },
        "id": "bybgHRt8bG-5",
        "outputId": "16fed2d2-27e1-402c-84c9-e9054419bfdb"
      },
      "execution_count": 559,
      "outputs": [
        {
          "output_type": "execute_result",
          "data": {
            "text/plain": [
              "<AxesSubplot:ylabel='Frequency'>"
            ]
          },
          "metadata": {},
          "execution_count": 559
        },
        {
          "output_type": "display_data",
          "data": {
            "text/plain": [
              "<Figure size 432x288 with 1 Axes>"
            ],
            "image/png": "[encoded data removed]"
          },
          "metadata": {
            "image/png": {
              "width": 441,
              "height": 265
            }
          }
        }
      ]
    },
    {
      "cell_type": "code",
      "source": [
        "fare_mode = train['fare'].median()\n",
        "\n",
        "ori_te['fare'].fillna(fare_mode, inplace=True)\n",
        "ori_te.isnull().sum()"
      ],
      "metadata": {
        "colab": {
          "base_uri": "https://localhost:8080/"
        },
        "id": "gh45ykonbS_7",
        "outputId": "0e8ca0b4-f0fd-44e6-a574-3c7db2f4bc77"
      },
      "execution_count": 560,
      "outputs": [
        {
          "output_type": "execute_result",
          "data": {
            "text/plain": [
              "passengerid      0\n",
              "pclass           0\n",
              "name             0\n",
              "gender           0\n",
              "age             83\n",
              "sibsp            0\n",
              "parch            0\n",
              "ticket           0\n",
              "fare             0\n",
              "cabin          296\n",
              "embarked         0\n",
              "dtype: int64"
            ]
          },
          "metadata": {},
          "execution_count": 560
        }
      ]
    },
    {
      "cell_type": "code",
      "source": [
        "(train['cabin'].isnull().sum() / train.shape[0]).round(4)"
      ],
      "metadata": {
        "colab": {
          "base_uri": "https://localhost:8080/"
        },
        "id": "LjTtUl5TLrCO",
        "outputId": "8cfbbf7a-2f50-47ef-fec0-a15eb1cba843"
      },
      "execution_count": 561,
      "outputs": [
        {
          "output_type": "execute_result",
          "data": {
            "text/plain": [
              "0.7847"
            ]
          },
          "metadata": {},
          "execution_count": 561
        }
      ]
    },
    {
      "cell_type": "code",
      "source": [
        "(test['cabin'].isnull().sum() / test.shape[0]).round(4)"
      ],
      "metadata": {
        "colab": {
          "base_uri": "https://localhost:8080/"
        },
        "id": "Yf67g1SEL920",
        "outputId": "1de74bd7-79f5-43c6-fdf9-412c6ab6e085"
      },
      "execution_count": 562,
      "outputs": [
        {
          "output_type": "execute_result",
          "data": {
            "text/plain": [
              "0.7818"
            ]
          },
          "metadata": {},
          "execution_count": 562
        }
      ]
    },
    {
      "cell_type": "code",
      "source": [
        "(ori_te['cabin'].isnull().sum() / ori_te.shape[0]).round(4)"
      ],
      "metadata": {
        "colab": {
          "base_uri": "https://localhost:8080/"
        },
        "id": "5Ak5UIWTaq1Z",
        "outputId": "bfa5a0d4-2abf-4f90-d1cd-4eb5f4b9744f"
      },
      "execution_count": 563,
      "outputs": [
        {
          "output_type": "execute_result",
          "data": {
            "text/plain": [
              "0.7532"
            ]
          },
          "metadata": {},
          "execution_count": 563
        }
      ]
    },
    {
      "cell_type": "code",
      "source": [
        "train.drop('cabin', axis = 1, inplace=True)\n",
        "test.drop('cabin', axis = 1, inplace=True)\n",
        "ori_te.drop('cabin', axis = 1, inplace=True)\n",
        "\n",
        "train.isnull().sum(), test.isnull().sum(), ori_te.isnull().sum()"
      ],
      "metadata": {
        "colab": {
          "base_uri": "https://localhost:8080/"
        },
        "id": "dZ75YB0zLVmD",
        "outputId": "5cff05b5-f38e-4616-b43a-561e5ac44cee"
      },
      "execution_count": 564,
      "outputs": [
        {
          "output_type": "execute_result",
          "data": {
            "text/plain": [
              "(passengerid      0\n",
              " pclass           0\n",
              " name             0\n",
              " gender           0\n",
              " age            118\n",
              " sibsp            0\n",
              " parch            0\n",
              " ticket           0\n",
              " fare             0\n",
              " embarked         0\n",
              " dtype: int64, passengerid     0\n",
              " pclass          0\n",
              " name            0\n",
              " gender          0\n",
              " age            62\n",
              " sibsp           0\n",
              " parch           0\n",
              " ticket          0\n",
              " fare            0\n",
              " embarked        0\n",
              " dtype: int64, passengerid     0\n",
              " pclass          0\n",
              " name            0\n",
              " gender          0\n",
              " age            83\n",
              " sibsp           0\n",
              " parch           0\n",
              " ticket          0\n",
              " fare            0\n",
              " embarked        0\n",
              " dtype: int64)"
            ]
          },
          "metadata": {},
          "execution_count": 564
        }
      ]
    },
    {
      "cell_type": "code",
      "source": [
        "train['age'].plot.hist(bins = 20)"
      ],
      "metadata": {
        "colab": {
          "base_uri": "https://localhost:8080/",
          "height": 300
        },
        "id": "dn4ssNRCMdN4",
        "outputId": "25eba95f-99c1-4008-d10e-833b4aeb003c"
      },
      "execution_count": 565,
      "outputs": [
        {
          "output_type": "execute_result",
          "data": {
            "text/plain": [
              "<AxesSubplot:ylabel='Frequency'>"
            ]
          },
          "metadata": {},
          "execution_count": 565
        },
        {
          "output_type": "display_data",
          "data": {
            "text/plain": [
              "<Figure size 432x288 with 1 Axes>"
            ],
            "image/png": "[encoded data removed]"
          },
          "metadata": {
            "image/png": {
              "width": 432,
              "height": 265
            }
          }
        }
      ]
    },
    {
      "cell_type": "code",
      "source": [
        "train['age_random'] = train['age']\n",
        "\n",
        "random_sampling = (train['age'].dropna()).sample(train['age'].isnull().sum())\n",
        "random_sampling.index = train[lambda x : x['age'].isnull()].index\n",
        "\n",
        "train.loc[X_tr['age'].isnull(), 'age_random'] = random_sampling\n",
        "\n",
        "#확인\n",
        "train[['age', 'age_random']].isnull().sum()"
      ],
      "metadata": {
        "colab": {
          "base_uri": "https://localhost:8080/"
        },
        "id": "bJUV9tTVPjrN",
        "outputId": "70dbcf2e-12b5-48d5-a18b-3b07ae04cd60"
      },
      "execution_count": 566,
      "outputs": [
        {
          "output_type": "execute_result",
          "data": {
            "text/plain": [
              "age           118\n",
              "age_random      0\n",
              "dtype: int64"
            ]
          },
          "metadata": {},
          "execution_count": 566
        }
      ]
    },
    {
      "cell_type": "code",
      "source": [
        "test['age_random'] = test['age']\n",
        "\n",
        "random_sampling = (test['age'].dropna()).sample(test['age'].isnull().sum())\n",
        "random_sampling.index = test[lambda x : x['age'].isnull()].index\n",
        "\n",
        "test.loc[test['age'].isnull(), 'age_random'] = random_sampling\n",
        "\n",
        "#확인\n",
        "test[['age', 'age_random']].isnull().sum()"
      ],
      "metadata": {
        "colab": {
          "base_uri": "https://localhost:8080/"
        },
        "id": "OYFZw4AlQTaB",
        "outputId": "198a0d28-ce9d-4772-9bf2-29ef5d74c859"
      },
      "execution_count": 567,
      "outputs": [
        {
          "output_type": "execute_result",
          "data": {
            "text/plain": [
              "age           62\n",
              "age_random     0\n",
              "dtype: int64"
            ]
          },
          "metadata": {},
          "execution_count": 567
        }
      ]
    },
    {
      "cell_type": "code",
      "source": [
        "ori_te['age_random'] = ori_te['age']\n",
        "\n",
        "random_sampling = (ori_te['age'].dropna()).sample(ori_te['age'].isnull().sum())\n",
        "random_sampling.index = ori_te[lambda x : x['age'].isnull()].index\n",
        "\n",
        "ori_te.loc[ori_te['age'].isnull(), 'age_random'] = random_sampling\n",
        "\n",
        "#확인\n",
        "ori_te[['age', 'age_random']].isnull().sum()"
      ],
      "metadata": {
        "colab": {
          "base_uri": "https://localhost:8080/"
        },
        "id": "eCe5iaF0byqx",
        "outputId": "1cb96bd8-a2fe-4dee-9ed7-f0a2d9314cc5"
      },
      "execution_count": 568,
      "outputs": [
        {
          "output_type": "execute_result",
          "data": {
            "text/plain": [
              "age           83\n",
              "age_random     0\n",
              "dtype: int64"
            ]
          },
          "metadata": {},
          "execution_count": 568
        }
      ]
    },
    {
      "cell_type": "code",
      "source": [
        "fig, ax = plt.subplots(figsize = (10, 6))\n",
        "\n",
        "train['age'].plot(kind = 'kde', ax=ax, color='blue')\n",
        "train['age_random'].plot(kind = 'kde', ax=ax, color='red')\n",
        "\n",
        "lines, labels = ax.get_legend_handles_labels()\n",
        "ax.legend(lines, labels, loc = 'best')"
      ],
      "metadata": {
        "colab": {
          "base_uri": "https://localhost:8080/",
          "height": 416
        },
        "id": "P8MxtDcFRkiQ",
        "outputId": "ec27c340-078e-4a84-fb12-c500ca32cb5d"
      },
      "execution_count": 569,
      "outputs": [
        {
          "output_type": "execute_result",
          "data": {
            "text/plain": [
              "<matplotlib.legend.Legend at 0x7fc69a320e50>"
            ]
          },
          "metadata": {},
          "execution_count": 569
        },
        {
          "output_type": "display_data",
          "data": {
            "text/plain": [
              "<Figure size 720x432 with 1 Axes>"
            ],
            "image/png": "[encoded data removed]"
          },
          "metadata": {
            "image/png": {
              "width": 704,
              "height": 381
            }
          }
        }
      ]
    },
    {
      "cell_type": "code",
      "source": [
        "fig, ax = plt.subplots(figsize = (10, 6))\n",
        "\n",
        "test['age'].plot(kind = 'kde', ax=ax, color='blue')\n",
        "test['age_random'].plot(kind = 'kde', ax=ax, color='red')\n",
        "\n",
        "lines, labels = ax.get_legend_handles_labels()\n",
        "ax.legend(lines, labels, loc = 'best')"
      ],
      "metadata": {
        "colab": {
          "base_uri": "https://localhost:8080/",
          "height": 416
        },
        "id": "HFCOPjHNSYbT",
        "outputId": "93c3c500-5037-4053-85e5-b6bc687c6f3b"
      },
      "execution_count": 570,
      "outputs": [
        {
          "output_type": "execute_result",
          "data": {
            "text/plain": [
              "<matplotlib.legend.Legend at 0x7fc69a2ab070>"
            ]
          },
          "metadata": {},
          "execution_count": 570
        },
        {
          "output_type": "display_data",
          "data": {
            "text/plain": [
              "<Figure size 720x432 with 1 Axes>"
            ],
            "image/png": "[encoded data removed]"
          },
          "metadata": {
            "image/png": {
              "width": 704,
              "height": 381
            }
          }
        }
      ]
    },
    {
      "cell_type": "code",
      "source": [
        "fig, ax = plt.subplots(figsize = (10, 6))\n",
        "\n",
        "ori_te['age'].plot(kind = 'kde', ax=ax, color='blue')\n",
        "ori_te['age_random'].plot(kind = 'kde', ax=ax, color='red')\n",
        "\n",
        "lines, labels = ax.get_legend_handles_labels()\n",
        "ax.legend(lines, labels, loc = 'best')"
      ],
      "metadata": {
        "colab": {
          "base_uri": "https://localhost:8080/",
          "height": 416
        },
        "id": "fJuBpxDhb8Mt",
        "outputId": "7d82b07a-f621-418e-b0d9-88fb55ece92b"
      },
      "execution_count": 571,
      "outputs": [
        {
          "output_type": "execute_result",
          "data": {
            "text/plain": [
              "<matplotlib.legend.Legend at 0x7fc69a2932b0>"
            ]
          },
          "metadata": {},
          "execution_count": 571
        },
        {
          "output_type": "display_data",
          "data": {
            "text/plain": [
              "<Figure size 720x432 with 1 Axes>"
            ],
            "image/png": "[encoded data removed]"
          },
          "metadata": {
            "image/png": {
              "width": 704,
              "height": 381
            }
          }
        }
      ]
    },
    {
      "cell_type": "code",
      "source": [
        "train.drop('age', axis = 1, inplace = True)\n",
        "test.drop('age', axis = 1, inplace = True)\n",
        "ori_te.drop('age', axis = 1, inplace = True)\n",
        "\n",
        "train.isnull().sum().sum(), test.isnull().sum().sum(), ori_te.isnull().sum().sum()"
      ],
      "metadata": {
        "colab": {
          "base_uri": "https://localhost:8080/"
        },
        "id": "4lhvQ_TtQ8vY",
        "outputId": "7b76bcad-8c5c-44ac-f7fc-7a8a79b49f45"
      },
      "execution_count": 572,
      "outputs": [
        {
          "output_type": "execute_result",
          "data": {
            "text/plain": [
              "(0, 0, 0)"
            ]
          },
          "metadata": {},
          "execution_count": 572
        }
      ]
    },
    {
      "cell_type": "markdown",
      "source": [
        "## Scaling"
      ],
      "metadata": {
        "id": "BUkq1aUuS5Pu"
      }
    },
    {
      "cell_type": "code",
      "source": [
        "train.info()"
      ],
      "metadata": {
        "colab": {
          "base_uri": "https://localhost:8080/"
        },
        "id": "CLuyXv1YTOXt",
        "outputId": "a7a11136-0ecf-49bb-f6b6-da85068db665"
      },
      "execution_count": 573,
      "outputs": [
        {
          "output_type": "stream",
          "name": "stdout",
          "text": [
            "<class 'pandas.core.frame.DataFrame'>\n",
            "Int64Index: 641 entries, 539 to 636\n",
            "Data columns (total 10 columns):\n",
            " #   Column       Non-Null Count  Dtype  \n",
            "---  ------       --------------  -----  \n",
            " 0   passengerid  641 non-null    int64  \n",
            " 1   pclass       641 non-null    int64  \n",
            " 2   name         641 non-null    object \n",
            " 3   gender       641 non-null    object \n",
            " 4   sibsp        641 non-null    int64  \n",
            " 5   parch        641 non-null    int64  \n",
            " 6   ticket       641 non-null    object \n",
            " 7   fare         641 non-null    float64\n",
            " 8   embarked     641 non-null    object \n",
            " 9   age_random   641 non-null    float64\n",
            "dtypes: float64(2), int64(4), object(4)\n",
            "memory usage: 55.1+ KB\n"
          ]
        }
      ]
    },
    {
      "cell_type": "code",
      "source": [
        "train.select_dtypes(include = np.number)"
      ],
      "metadata": {
        "colab": {
          "base_uri": "https://localhost:8080/",
          "height": 423
        },
        "id": "a9842OrlTeYA",
        "outputId": "b78fd38c-1718-4557-c63f-ff78bc2eace1"
      },
      "execution_count": 574,
      "outputs": [
        {
          "output_type": "execute_result",
          "data": {
            "text/plain": [
              "     passengerid  pclass  sibsp  parch      fare  age_random\n",
              "539          539       1      0      0   26.5500        25.0\n",
              "339          339       1      0      0  135.6333        36.0\n",
              "505          505       3      0      0    8.0500        22.0\n",
              "492          492       3      2      0    8.6625        26.0\n",
              "897          897       3      0      0    7.8792        16.0\n",
              "..           ...     ...    ...    ...       ...         ...\n",
              "538          538       3      0      0    9.3250        24.0\n",
              "761          761       3      1      0   14.4542        15.0\n",
              "879          879       3      0      2   24.1500        10.0\n",
              "214          214       1      0      0   79.2000        24.0\n",
              "636          636       1      1      1   71.0000        70.0\n",
              "\n",
              "[641 rows x 6 columns]"
            ],
            "text/html": [
              "\n",
              "  <div id=\"df-154dc9e1-36a3-4d00-8b49-9c54712caeb3\">\n",
              "    <div class=\"colab-df-container\">\n",
              "      <div>\n",
              "<style scoped>\n",
              "    .dataframe tbody tr th:only-of-type {\n",
              "        vertical-align: middle;\n",
              "    }\n",
              "\n",
              "    .dataframe tbody tr th {\n",
              "        vertical-align: top;\n",
              "    }\n",
              "\n",
              "    .dataframe thead th {\n",
              "        text-align: right;\n",
              "    }\n",
              "</style>\n",
              "<table border=\"1\" class=\"dataframe\">\n",
              "  <thead>\n",
              "    <tr style=\"text-align: right;\">\n",
              "      <th></th>\n",
              "      <th>passengerid</th>\n",
              "      <th>pclass</th>\n",
              "      <th>sibsp</th>\n",
              "      <th>parch</th>\n",
              "      <th>fare</th>\n",
              "      <th>age_random</th>\n",
              "    </tr>\n",
              "  </thead>\n",
              "  <tbody>\n",
              "    <tr>\n",
              "      <th>539</th>\n",
              "      <td>539</td>\n",
              "      <td>1</td>\n",
              "      <td>0</td>\n",
              "      <td>0</td>\n",
              "      <td>26.5500</td>\n",
              "      <td>25.0</td>\n",
              "    </tr>\n",
              "    <tr>\n",
              "      <th>339</th>\n",
              "      <td>339</td>\n",
              "      <td>1</td>\n",
              "      <td>0</td>\n",
              "      <td>0</td>\n",
              "      <td>135.6333</td>\n",
              "      <td>36.0</td>\n",
              "    </tr>\n",
              "    <tr>\n",
              "      <th>505</th>\n",
              "      <td>505</td>\n",
              "      <td>3</td>\n",
              "      <td>0</td>\n",
              "      <td>0</td>\n",
              "      <td>8.0500</td>\n",
              "      <td>22.0</td>\n",
              "    </tr>\n",
              "    <tr>\n",
              "      <th>492</th>\n",
              "      <td>492</td>\n",
              "      <td>3</td>\n",
              "      <td>2</td>\n",
              "      <td>0</td>\n",
              "      <td>8.6625</td>\n",
              "      <td>26.0</td>\n",
              "    </tr>\n",
              "    <tr>\n",
              "      <th>897</th>\n",
              "      <td>897</td>\n",
              "      <td>3</td>\n",
              "      <td>0</td>\n",
              "      <td>0</td>\n",
              "      <td>7.8792</td>\n",
              "      <td>16.0</td>\n",
              "    </tr>\n",
              "    <tr>\n",
              "      <th>...</th>\n",
              "      <td>...</td>\n",
              "      <td>...</td>\n",
              "      <td>...</td>\n",
              "      <td>...</td>\n",
              "      <td>...</td>\n",
              "      <td>...</td>\n",
              "    </tr>\n",
              "    <tr>\n",
              "      <th>538</th>\n",
              "      <td>538</td>\n",
              "      <td>3</td>\n",
              "      <td>0</td>\n",
              "      <td>0</td>\n",
              "      <td>9.3250</td>\n",
              "      <td>24.0</td>\n",
              "    </tr>\n",
              "    <tr>\n",
              "      <th>761</th>\n",
              "      <td>761</td>\n",
              "      <td>3</td>\n",
              "      <td>1</td>\n",
              "      <td>0</td>\n",
              "      <td>14.4542</td>\n",
              "      <td>15.0</td>\n",
              "    </tr>\n",
              "    <tr>\n",
              "      <th>879</th>\n",
              "      <td>879</td>\n",
              "      <td>3</td>\n",
              "      <td>0</td>\n",
              "      <td>2</td>\n",
              "      <td>24.1500</td>\n",
              "      <td>10.0</td>\n",
              "    </tr>\n",
              "    <tr>\n",
              "      <th>214</th>\n",
              "      <td>214</td>\n",
              "      <td>1</td>\n",
              "      <td>0</td>\n",
              "      <td>0</td>\n",
              "      <td>79.2000</td>\n",
              "      <td>24.0</td>\n",
              "    </tr>\n",
              "    <tr>\n",
              "      <th>636</th>\n",
              "      <td>636</td>\n",
              "      <td>1</td>\n",
              "      <td>1</td>\n",
              "      <td>1</td>\n",
              "      <td>71.0000</td>\n",
              "      <td>70.0</td>\n",
              "    </tr>\n",
              "  </tbody>\n",
              "</table>\n",
              "<p>641 rows × 6 columns</p>\n",
              "</div>\n",
              "      <button class=\"colab-df-convert\" onclick=\"convertToInteractive('df-154dc9e1-36a3-4d00-8b49-9c54712caeb3')\"\n",
              "              title=\"Convert this dataframe to an interactive table.\"\n",
              "              style=\"display:none;\">\n",
              "        \n",
              "  <svg xmlns=\"http://www.w3.org/2000/svg\" height=\"24px\"viewBox=\"0 0 24 24\"\n",
              "       width=\"24px\">\n",
              "    <path d=\"M0 0h24v24H0V0z\" fill=\"none\"/>\n",
              "    <path d=\"M18.56 5.44l.94 2.06.94-2.06 2.06-.94-2.06-.94-.94-2.06-.94 2.06-2.06.94zm-11 1L8.5 8.5l.94-2.06 2.06-.94-2.06-.94L8.5 2.5l-.94 2.06-2.06.94zm10 10l.94 2.06.94-2.06 2.06-.94-2.06-.94-.94-2.06-.94 2.06-2.06.94z\"/><path d=\"M17.41 7.96l-1.37-1.37c-.4-.4-.92-.59-1.43-.59-.52 0-1.04.2-1.43.59L10.3 9.45l-7.72 7.72c-.78.78-.78 2.05 0 2.83L4 21.41c.39.39.9.59 1.41.59.51 0 1.02-.2 1.41-.59l7.78-7.78 2.81-2.81c.8-.78.8-2.07 0-2.86zM5.41 20L4 18.59l7.72-7.72 1.47 1.35L5.41 20z\"/>\n",
              "  </svg>\n",
              "      </button>\n",
              "      \n",
              "  <style>\n",
              "    .colab-df-container {\n",
              "      display:flex;\n",
              "      flex-wrap:wrap;\n",
              "      gap: 12px;\n",
              "    }\n",
              "\n",
              "    .colab-df-convert {\n",
              "      background-color: #E8F0FE;\n",
              "      border: none;\n",
              "      border-radius: 50%;\n",
              "      cursor: pointer;\n",
              "      display: none;\n",
              "      fill: #1967D2;\n",
              "      height: 32px;\n",
              "      padding: 0 0 0 0;\n",
              "      width: 32px;\n",
              "    }\n",
              "\n",
              "    .colab-df-convert:hover {\n",
              "      background-color: #E2EBFA;\n",
              "      box-shadow: 0px 1px 2px rgba(60, 64, 67, 0.3), 0px 1px 3px 1px rgba(60, 64, 67, 0.15);\n",
              "      fill: #174EA6;\n",
              "    }\n",
              "\n",
              "    [theme=dark] .colab-df-convert {\n",
              "      background-color: #3B4455;\n",
              "      fill: #D2E3FC;\n",
              "    }\n",
              "\n",
              "    [theme=dark] .colab-df-convert:hover {\n",
              "      background-color: #434B5C;\n",
              "      box-shadow: 0px 1px 3px 1px rgba(0, 0, 0, 0.15);\n",
              "      filter: drop-shadow(0px 1px 2px rgba(0, 0, 0, 0.3));\n",
              "      fill: #FFFFFF;\n",
              "    }\n",
              "  </style>\n",
              "\n",
              "      <script>\n",
              "        const buttonEl =\n",
              "          document.querySelector('#df-154dc9e1-36a3-4d00-8b49-9c54712caeb3 button.colab-df-convert');\n",
              "        buttonEl.style.display =\n",
              "          google.colab.kernel.accessAllowed ? 'block' : 'none';\n",
              "\n",
              "        async function convertToInteractive(key) {\n",
              "          const element = document.querySelector('#df-154dc9e1-36a3-4d00-8b49-9c54712caeb3');\n",
              "          const dataTable =\n",
              "            await google.colab.kernel.invokeFunction('convertToInteractive',\n",
              "                                                     [key], {});\n",
              "          if (!dataTable) return;\n",
              "\n",
              "          const docLinkHtml = 'Like what you see? Visit the ' +\n",
              "            '<a target=\"_blank\" href=https://colab.research.google.com/notebooks/data_table.ipynb>data table notebook</a>'\n",
              "            + ' to learn more about interactive tables.';\n",
              "          element.innerHTML = '';\n",
              "          dataTable['output_type'] = 'display_data';\n",
              "          await google.colab.output.renderOutput(dataTable, element);\n",
              "          const docLink = document.createElement('div');\n",
              "          docLink.innerHTML = docLinkHtml;\n",
              "          element.appendChild(docLink);\n",
              "        }\n",
              "      </script>\n",
              "    </div>\n",
              "  </div>\n",
              "  "
            ]
          },
          "metadata": {},
          "execution_count": 574
        }
      ]
    },
    {
      "cell_type": "code",
      "source": [
        "continous_cols = ['age_random', 'sibsp', 'parch', 'fare']\n",
        "\n",
        "from sklearn.preprocessing import StandardScaler\n",
        "\n",
        "std = StandardScaler()\n",
        "\n",
        "train[continous_cols] = std.fit_transform(train[continous_cols])\n",
        "test[continous_cols] = std.transform(test[continous_cols])\n",
        "ori_te[continous_cols] = std.transform(ori_te[continous_cols])\n",
        "\n",
        "train[continous_cols]"
      ],
      "metadata": {
        "colab": {
          "base_uri": "https://localhost:8080/",
          "height": 423
        },
        "id": "qPEcLzv0UYe_",
        "outputId": "72d7e954-b9ce-4b83-96a5-2a2d73c10845"
      },
      "execution_count": 575,
      "outputs": [
        {
          "output_type": "execute_result",
          "data": {
            "text/plain": [
              "     age_random     sibsp     parch      fare\n",
              "539   -0.297867 -0.496392 -0.437574 -0.114641\n",
              "339    0.451466 -0.496392 -0.437574  2.204701\n",
              "505   -0.502230 -0.496392 -0.437574 -0.507990\n",
              "492   -0.229746  1.517451 -0.437574 -0.494967\n",
              "897   -0.910957 -0.496392 -0.437574 -0.511622\n",
              "..          ...       ...       ...       ...\n",
              "538   -0.365988 -0.496392 -0.437574 -0.480881\n",
              "761   -0.979079  0.510529 -0.437574 -0.371823\n",
              "879   -1.319684 -0.496392  2.259396 -0.165670\n",
              "214   -0.365988 -0.496392 -0.437574  1.004810\n",
              "636    2.767585  0.510529  0.910911  0.830460\n",
              "\n",
              "[641 rows x 4 columns]"
            ],
            "text/html": [
              "\n",
              "  <div id=\"df-1cc6cda6-61eb-4a02-b6ce-ef894405ecf8\">\n",
              "    <div class=\"colab-df-container\">\n",
              "      <div>\n",
              "<style scoped>\n",
              "    .dataframe tbody tr th:only-of-type {\n",
              "        vertical-align: middle;\n",
              "    }\n",
              "\n",
              "    .dataframe tbody tr th {\n",
              "        vertical-align: top;\n",
              "    }\n",
              "\n",
              "    .dataframe thead th {\n",
              "        text-align: right;\n",
              "    }\n",
              "</style>\n",
              "<table border=\"1\" class=\"dataframe\">\n",
              "  <thead>\n",
              "    <tr style=\"text-align: right;\">\n",
              "      <th></th>\n",
              "      <th>age_random</th>\n",
              "      <th>sibsp</th>\n",
              "      <th>parch</th>\n",
              "      <th>fare</th>\n",
              "    </tr>\n",
              "  </thead>\n",
              "  <tbody>\n",
              "    <tr>\n",
              "      <th>539</th>\n",
              "      <td>-0.297867</td>\n",
              "      <td>-0.496392</td>\n",
              "      <td>-0.437574</td>\n",
              "      <td>-0.114641</td>\n",
              "    </tr>\n",
              "    <tr>\n",
              "      <th>339</th>\n",
              "      <td>0.451466</td>\n",
              "      <td>-0.496392</td>\n",
              "      <td>-0.437574</td>\n",
              "      <td>2.204701</td>\n",
              "    </tr>\n",
              "    <tr>\n",
              "      <th>505</th>\n",
              "      <td>-0.502230</td>\n",
              "      <td>-0.496392</td>\n",
              "      <td>-0.437574</td>\n",
              "      <td>-0.507990</td>\n",
              "    </tr>\n",
              "    <tr>\n",
              "      <th>492</th>\n",
              "      <td>-0.229746</td>\n",
              "      <td>1.517451</td>\n",
              "      <td>-0.437574</td>\n",
              "      <td>-0.494967</td>\n",
              "    </tr>\n",
              "    <tr>\n",
              "      <th>897</th>\n",
              "      <td>-0.910957</td>\n",
              "      <td>-0.496392</td>\n",
              "      <td>-0.437574</td>\n",
              "      <td>-0.511622</td>\n",
              "    </tr>\n",
              "    <tr>\n",
              "      <th>...</th>\n",
              "      <td>...</td>\n",
              "      <td>...</td>\n",
              "      <td>...</td>\n",
              "      <td>...</td>\n",
              "    </tr>\n",
              "    <tr>\n",
              "      <th>538</th>\n",
              "      <td>-0.365988</td>\n",
              "      <td>-0.496392</td>\n",
              "      <td>-0.437574</td>\n",
              "      <td>-0.480881</td>\n",
              "    </tr>\n",
              "    <tr>\n",
              "      <th>761</th>\n",
              "      <td>-0.979079</td>\n",
              "      <td>0.510529</td>\n",
              "      <td>-0.437574</td>\n",
              "      <td>-0.371823</td>\n",
              "    </tr>\n",
              "    <tr>\n",
              "      <th>879</th>\n",
              "      <td>-1.319684</td>\n",
              "      <td>-0.496392</td>\n",
              "      <td>2.259396</td>\n",
              "      <td>-0.165670</td>\n",
              "    </tr>\n",
              "    <tr>\n",
              "      <th>214</th>\n",
              "      <td>-0.365988</td>\n",
              "      <td>-0.496392</td>\n",
              "      <td>-0.437574</td>\n",
              "      <td>1.004810</td>\n",
              "    </tr>\n",
              "    <tr>\n",
              "      <th>636</th>\n",
              "      <td>2.767585</td>\n",
              "      <td>0.510529</td>\n",
              "      <td>0.910911</td>\n",
              "      <td>0.830460</td>\n",
              "    </tr>\n",
              "  </tbody>\n",
              "</table>\n",
              "<p>641 rows × 4 columns</p>\n",
              "</div>\n",
              "      <button class=\"colab-df-convert\" onclick=\"convertToInteractive('df-1cc6cda6-61eb-4a02-b6ce-ef894405ecf8')\"\n",
              "              title=\"Convert this dataframe to an interactive table.\"\n",
              "              style=\"display:none;\">\n",
              "        \n",
              "  <svg xmlns=\"http://www.w3.org/2000/svg\" height=\"24px\"viewBox=\"0 0 24 24\"\n",
              "       width=\"24px\">\n",
              "    <path d=\"M0 0h24v24H0V0z\" fill=\"none\"/>\n",
              "    <path d=\"M18.56 5.44l.94 2.06.94-2.06 2.06-.94-2.06-.94-.94-2.06-.94 2.06-2.06.94zm-11 1L8.5 8.5l.94-2.06 2.06-.94-2.06-.94L8.5 2.5l-.94 2.06-2.06.94zm10 10l.94 2.06.94-2.06 2.06-.94-2.06-.94-.94-2.06-.94 2.06-2.06.94z\"/><path d=\"M17.41 7.96l-1.37-1.37c-.4-.4-.92-.59-1.43-.59-.52 0-1.04.2-1.43.59L10.3 9.45l-7.72 7.72c-.78.78-.78 2.05 0 2.83L4 21.41c.39.39.9.59 1.41.59.51 0 1.02-.2 1.41-.59l7.78-7.78 2.81-2.81c.8-.78.8-2.07 0-2.86zM5.41 20L4 18.59l7.72-7.72 1.47 1.35L5.41 20z\"/>\n",
              "  </svg>\n",
              "      </button>\n",
              "      \n",
              "  <style>\n",
              "    .colab-df-container {\n",
              "      display:flex;\n",
              "      flex-wrap:wrap;\n",
              "      gap: 12px;\n",
              "    }\n",
              "\n",
              "    .colab-df-convert {\n",
              "      background-color: #E8F0FE;\n",
              "      border: none;\n",
              "      border-radius: 50%;\n",
              "      cursor: pointer;\n",
              "      display: none;\n",
              "      fill: #1967D2;\n",
              "      height: 32px;\n",
              "      padding: 0 0 0 0;\n",
              "      width: 32px;\n",
              "    }\n",
              "\n",
              "    .colab-df-convert:hover {\n",
              "      background-color: #E2EBFA;\n",
              "      box-shadow: 0px 1px 2px rgba(60, 64, 67, 0.3), 0px 1px 3px 1px rgba(60, 64, 67, 0.15);\n",
              "      fill: #174EA6;\n",
              "    }\n",
              "\n",
              "    [theme=dark] .colab-df-convert {\n",
              "      background-color: #3B4455;\n",
              "      fill: #D2E3FC;\n",
              "    }\n",
              "\n",
              "    [theme=dark] .colab-df-convert:hover {\n",
              "      background-color: #434B5C;\n",
              "      box-shadow: 0px 1px 3px 1px rgba(0, 0, 0, 0.15);\n",
              "      filter: drop-shadow(0px 1px 2px rgba(0, 0, 0, 0.3));\n",
              "      fill: #FFFFFF;\n",
              "    }\n",
              "  </style>\n",
              "\n",
              "      <script>\n",
              "        const buttonEl =\n",
              "          document.querySelector('#df-1cc6cda6-61eb-4a02-b6ce-ef894405ecf8 button.colab-df-convert');\n",
              "        buttonEl.style.display =\n",
              "          google.colab.kernel.accessAllowed ? 'block' : 'none';\n",
              "\n",
              "        async function convertToInteractive(key) {\n",
              "          const element = document.querySelector('#df-1cc6cda6-61eb-4a02-b6ce-ef894405ecf8');\n",
              "          const dataTable =\n",
              "            await google.colab.kernel.invokeFunction('convertToInteractive',\n",
              "                                                     [key], {});\n",
              "          if (!dataTable) return;\n",
              "\n",
              "          const docLinkHtml = 'Like what you see? Visit the ' +\n",
              "            '<a target=\"_blank\" href=https://colab.research.google.com/notebooks/data_table.ipynb>data table notebook</a>'\n",
              "            + ' to learn more about interactive tables.';\n",
              "          element.innerHTML = '';\n",
              "          dataTable['output_type'] = 'display_data';\n",
              "          await google.colab.output.renderOutput(dataTable, element);\n",
              "          const docLink = document.createElement('div');\n",
              "          docLink.innerHTML = docLinkHtml;\n",
              "          element.appendChild(docLink);\n",
              "        }\n",
              "      </script>\n",
              "    </div>\n",
              "  </div>\n",
              "  "
            ]
          },
          "metadata": {},
          "execution_count": 575
        }
      ]
    },
    {
      "cell_type": "code",
      "source": [
        "train[continous_cols].shape, test[continous_cols].shape, ori_te[continous_cols].shape"
      ],
      "metadata": {
        "colab": {
          "base_uri": "https://localhost:8080/"
        },
        "id": "UvsWIWM0V1RJ",
        "outputId": "1e385e1e-5e55-41c5-efa1-1aba22d22a16"
      },
      "execution_count": 584,
      "outputs": [
        {
          "output_type": "execute_result",
          "data": {
            "text/plain": [
              "((641, 4), (275, 4), (393, 4))"
            ]
          },
          "metadata": {},
          "execution_count": 584
        }
      ]
    },
    {
      "cell_type": "markdown",
      "source": [
        "## Encoding"
      ],
      "metadata": {
        "id": "Pbbqudg0S8Vn"
      }
    },
    {
      "cell_type": "code",
      "source": [
        "pip install category_encoders\n"
      ],
      "metadata": {
        "colab": {
          "base_uri": "https://localhost:8080/"
        },
        "id": "cHxKvPbSSgYw",
        "outputId": "6bd6f8b2-3e69-4057-f645-6c42666739b0"
      },
      "execution_count": 577,
      "outputs": [
        {
          "output_type": "stream",
          "name": "stdout",
          "text": [
            "Looking in indexes: https://pypi.org/simple, https://us-python.pkg.dev/colab-wheels/public/simple/\n",
            "Requirement already satisfied: category_encoders in /usr/local/lib/python3.8/dist-packages (2.6.0)\n",
            "Requirement already satisfied: scipy>=1.0.0 in /usr/local/lib/python3.8/dist-packages (from category_encoders) (1.7.3)\n",
            "Requirement already satisfied: numpy>=1.14.0 in /usr/local/lib/python3.8/dist-packages (from category_encoders) (1.22.4)\n",
            "Requirement already satisfied: scikit-learn>=0.20.0 in /usr/local/lib/python3.8/dist-packages (from category_encoders) (1.0.2)\n",
            "Requirement already satisfied: patsy>=0.5.1 in /usr/local/lib/python3.8/dist-packages (from category_encoders) (0.5.3)\n",
            "Requirement already satisfied: pandas>=1.0.5 in /usr/local/lib/python3.8/dist-packages (from category_encoders) (1.3.5)\n",
            "Requirement already satisfied: statsmodels>=0.9.0 in /usr/local/lib/python3.8/dist-packages (from category_encoders) (0.12.2)\n",
            "Requirement already satisfied: python-dateutil>=2.7.3 in /usr/local/lib/python3.8/dist-packages (from pandas>=1.0.5->category_encoders) (2.8.2)\n",
            "Requirement already satisfied: pytz>=2017.3 in /usr/local/lib/python3.8/dist-packages (from pandas>=1.0.5->category_encoders) (2022.7.1)\n",
            "Requirement already satisfied: six in /usr/local/lib/python3.8/dist-packages (from patsy>=0.5.1->category_encoders) (1.15.0)\n",
            "Requirement already satisfied: threadpoolctl>=2.0.0 in /usr/local/lib/python3.8/dist-packages (from scikit-learn>=0.20.0->category_encoders) (3.1.0)\n",
            "Requirement already satisfied: joblib>=0.11 in /usr/local/lib/python3.8/dist-packages (from scikit-learn>=0.20.0->category_encoders) (1.2.0)\n"
          ]
        }
      ]
    },
    {
      "cell_type": "code",
      "source": [
        "category_cols = ['pclass', 'gender', 'embarked']\n",
        "\n",
        "import category_encoders as ce\n",
        "\n",
        "encoder = ce.OneHotEncoder(use_cat_names = True)\n",
        "enco_tr = pd.DataFrame()\n",
        "enco_te = pd.DataFrame()\n",
        "enc_ori_te = pd.DataFrame()\n",
        "\n",
        "for col in train[category_cols].columns:\n",
        "  _enco = encoder.fit_transform(train[col].astype('category'))\n",
        "  enco_tr = pd.concat([enco_tr, _enco], axis=1)\n",
        "\n",
        "  _enco = encoder.transform(test[col].astype('category'))\n",
        "  enco_te = pd.concat([enco_te, _enco], axis=1)\n",
        "  \n",
        "  _enco = encoder.transform(ori_te[col].astype('category'))\n",
        "  enc_ori_te = pd.concat([enc_ori_te, _enco], axis=1)"
      ],
      "metadata": {
        "id": "CHcfi6fCUsEP"
      },
      "execution_count": 588,
      "outputs": []
    },
    {
      "cell_type": "code",
      "source": [
        "enco_tr.shape, enco_te.shape, enc_ori_te.shape"
      ],
      "metadata": {
        "colab": {
          "base_uri": "https://localhost:8080/"
        },
        "id": "rYls7zrRVIpg",
        "outputId": "ec98aa9b-3534-4dca-db1b-ea90f6e2d9f9"
      },
      "execution_count": 589,
      "outputs": [
        {
          "output_type": "execute_result",
          "data": {
            "text/plain": [
              "((641, 8), (275, 8), (393, 8))"
            ]
          },
          "metadata": {},
          "execution_count": 589
        }
      ]
    },
    {
      "cell_type": "code",
      "source": [
        "train.head()"
      ],
      "metadata": {
        "colab": {
          "base_uri": "https://localhost:8080/",
          "height": 206
        },
        "id": "mfytLx3pVq53",
        "outputId": "7154a1c9-5f01-4bd8-8fbe-9f434348b4ea"
      },
      "execution_count": 590,
      "outputs": [
        {
          "output_type": "execute_result",
          "data": {
            "text/plain": [
              "     passengerid  pclass                      name  gender     sibsp  \\\n",
              "539          539       1        Klaber, Mr. Herman    male -0.496392   \n",
              "339          339       1  Young, Miss. Marie Grice  female -0.496392   \n",
              "505          505       3          Davies, Mr. Evan    male -0.496392   \n",
              "492          492       3         Kink, Mr. Vincenz    male  1.517451   \n",
              "897          897       3      Linehan, Mr. Michael    male -0.496392   \n",
              "\n",
              "        parch       ticket      fare embarked  age_random  \n",
              "539 -0.437574       113028 -0.114641        S   -0.297867  \n",
              "339 -0.437574     PC 17760  2.204701        C    0.451466  \n",
              "505 -0.437574  SC/A4 23568 -0.507990        S   -0.502230  \n",
              "492 -0.437574       315151 -0.494967        S   -0.229746  \n",
              "897 -0.437574       330971 -0.511622        Q   -0.910957  "
            ],
            "text/html": [
              "\n",
              "  <div id=\"df-3630bd10-940b-400d-b79e-59977585b658\">\n",
              "    <div class=\"colab-df-container\">\n",
              "      <div>\n",
              "<style scoped>\n",
              "    .dataframe tbody tr th:only-of-type {\n",
              "        vertical-align: middle;\n",
              "    }\n",
              "\n",
              "    .dataframe tbody tr th {\n",
              "        vertical-align: top;\n",
              "    }\n",
              "\n",
              "    .dataframe thead th {\n",
              "        text-align: right;\n",
              "    }\n",
              "</style>\n",
              "<table border=\"1\" class=\"dataframe\">\n",
              "  <thead>\n",
              "    <tr style=\"text-align: right;\">\n",
              "      <th></th>\n",
              "      <th>passengerid</th>\n",
              "      <th>pclass</th>\n",
              "      <th>name</th>\n",
              "      <th>gender</th>\n",
              "      <th>sibsp</th>\n",
              "      <th>parch</th>\n",
              "      <th>ticket</th>\n",
              "      <th>fare</th>\n",
              "      <th>embarked</th>\n",
              "      <th>age_random</th>\n",
              "    </tr>\n",
              "  </thead>\n",
              "  <tbody>\n",
              "    <tr>\n",
              "      <th>539</th>\n",
              "      <td>539</td>\n",
              "      <td>1</td>\n",
              "      <td>Klaber, Mr. Herman</td>\n",
              "      <td>male</td>\n",
              "      <td>-0.496392</td>\n",
              "      <td>-0.437574</td>\n",
              "      <td>113028</td>\n",
              "      <td>-0.114641</td>\n",
              "      <td>S</td>\n",
              "      <td>-0.297867</td>\n",
              "    </tr>\n",
              "    <tr>\n",
              "      <th>339</th>\n",
              "      <td>339</td>\n",
              "      <td>1</td>\n",
              "      <td>Young, Miss. Marie Grice</td>\n",
              "      <td>female</td>\n",
              "      <td>-0.496392</td>\n",
              "      <td>-0.437574</td>\n",
              "      <td>PC 17760</td>\n",
              "      <td>2.204701</td>\n",
              "      <td>C</td>\n",
              "      <td>0.451466</td>\n",
              "    </tr>\n",
              "    <tr>\n",
              "      <th>505</th>\n",
              "      <td>505</td>\n",
              "      <td>3</td>\n",
              "      <td>Davies, Mr. Evan</td>\n",
              "      <td>male</td>\n",
              "      <td>-0.496392</td>\n",
              "      <td>-0.437574</td>\n",
              "      <td>SC/A4 23568</td>\n",
              "      <td>-0.507990</td>\n",
              "      <td>S</td>\n",
              "      <td>-0.502230</td>\n",
              "    </tr>\n",
              "    <tr>\n",
              "      <th>492</th>\n",
              "      <td>492</td>\n",
              "      <td>3</td>\n",
              "      <td>Kink, Mr. Vincenz</td>\n",
              "      <td>male</td>\n",
              "      <td>1.517451</td>\n",
              "      <td>-0.437574</td>\n",
              "      <td>315151</td>\n",
              "      <td>-0.494967</td>\n",
              "      <td>S</td>\n",
              "      <td>-0.229746</td>\n",
              "    </tr>\n",
              "    <tr>\n",
              "      <th>897</th>\n",
              "      <td>897</td>\n",
              "      <td>3</td>\n",
              "      <td>Linehan, Mr. Michael</td>\n",
              "      <td>male</td>\n",
              "      <td>-0.496392</td>\n",
              "      <td>-0.437574</td>\n",
              "      <td>330971</td>\n",
              "      <td>-0.511622</td>\n",
              "      <td>Q</td>\n",
              "      <td>-0.910957</td>\n",
              "    </tr>\n",
              "  </tbody>\n",
              "</table>\n",
              "</div>\n",
              "      <button class=\"colab-df-convert\" onclick=\"convertToInteractive('df-3630bd10-940b-400d-b79e-59977585b658')\"\n",
              "              title=\"Convert this dataframe to an interactive table.\"\n",
              "              style=\"display:none;\">\n",
              "        \n",
              "  <svg xmlns=\"http://www.w3.org/2000/svg\" height=\"24px\"viewBox=\"0 0 24 24\"\n",
              "       width=\"24px\">\n",
              "    <path d=\"M0 0h24v24H0V0z\" fill=\"none\"/>\n",
              "    <path d=\"M18.56 5.44l.94 2.06.94-2.06 2.06-.94-2.06-.94-.94-2.06-.94 2.06-2.06.94zm-11 1L8.5 8.5l.94-2.06 2.06-.94-2.06-.94L8.5 2.5l-.94 2.06-2.06.94zm10 10l.94 2.06.94-2.06 2.06-.94-2.06-.94-.94-2.06-.94 2.06-2.06.94z\"/><path d=\"M17.41 7.96l-1.37-1.37c-.4-.4-.92-.59-1.43-.59-.52 0-1.04.2-1.43.59L10.3 9.45l-7.72 7.72c-.78.78-.78 2.05 0 2.83L4 21.41c.39.39.9.59 1.41.59.51 0 1.02-.2 1.41-.59l7.78-7.78 2.81-2.81c.8-.78.8-2.07 0-2.86zM5.41 20L4 18.59l7.72-7.72 1.47 1.35L5.41 20z\"/>\n",
              "  </svg>\n",
              "      </button>\n",
              "      \n",
              "  <style>\n",
              "    .colab-df-container {\n",
              "      display:flex;\n",
              "      flex-wrap:wrap;\n",
              "      gap: 12px;\n",
              "    }\n",
              "\n",
              "    .colab-df-convert {\n",
              "      background-color: #E8F0FE;\n",
              "      border: none;\n",
              "      border-radius: 50%;\n",
              "      cursor: pointer;\n",
              "      display: none;\n",
              "      fill: #1967D2;\n",
              "      height: 32px;\n",
              "      padding: 0 0 0 0;\n",
              "      width: 32px;\n",
              "    }\n",
              "\n",
              "    .colab-df-convert:hover {\n",
              "      background-color: #E2EBFA;\n",
              "      box-shadow: 0px 1px 2px rgba(60, 64, 67, 0.3), 0px 1px 3px 1px rgba(60, 64, 67, 0.15);\n",
              "      fill: #174EA6;\n",
              "    }\n",
              "\n",
              "    [theme=dark] .colab-df-convert {\n",
              "      background-color: #3B4455;\n",
              "      fill: #D2E3FC;\n",
              "    }\n",
              "\n",
              "    [theme=dark] .colab-df-convert:hover {\n",
              "      background-color: #434B5C;\n",
              "      box-shadow: 0px 1px 3px 1px rgba(0, 0, 0, 0.15);\n",
              "      filter: drop-shadow(0px 1px 2px rgba(0, 0, 0, 0.3));\n",
              "      fill: #FFFFFF;\n",
              "    }\n",
              "  </style>\n",
              "\n",
              "      <script>\n",
              "        const buttonEl =\n",
              "          document.querySelector('#df-3630bd10-940b-400d-b79e-59977585b658 button.colab-df-convert');\n",
              "        buttonEl.style.display =\n",
              "          google.colab.kernel.accessAllowed ? 'block' : 'none';\n",
              "\n",
              "        async function convertToInteractive(key) {\n",
              "          const element = document.querySelector('#df-3630bd10-940b-400d-b79e-59977585b658');\n",
              "          const dataTable =\n",
              "            await google.colab.kernel.invokeFunction('convertToInteractive',\n",
              "                                                     [key], {});\n",
              "          if (!dataTable) return;\n",
              "\n",
              "          const docLinkHtml = 'Like what you see? Visit the ' +\n",
              "            '<a target=\"_blank\" href=https://colab.research.google.com/notebooks/data_table.ipynb>data table notebook</a>'\n",
              "            + ' to learn more about interactive tables.';\n",
              "          element.innerHTML = '';\n",
              "          dataTable['output_type'] = 'display_data';\n",
              "          await google.colab.output.renderOutput(dataTable, element);\n",
              "          const docLink = document.createElement('div');\n",
              "          docLink.innerHTML = docLinkHtml;\n",
              "          element.appendChild(docLink);\n",
              "        }\n",
              "      </script>\n",
              "    </div>\n",
              "  </div>\n",
              "  "
            ]
          },
          "metadata": {},
          "execution_count": 590
        }
      ]
    },
    {
      "cell_type": "markdown",
      "source": [
        "## Training"
      ],
      "metadata": {
        "id": "lLeYRdqwWKGO"
      }
    },
    {
      "cell_type": "code",
      "source": [
        "tr = pd.concat([train[continous_cols], enco_tr], axis=1)\n",
        "te = pd.concat([test[continous_cols], enco_te], axis=1)\n",
        "ori = pd.concat([ori_te[continous_cols], enc_ori_te], axis=1)\n",
        "\n",
        "tr.shape, te.shape,  ori.shape"
      ],
      "metadata": {
        "colab": {
          "base_uri": "https://localhost:8080/"
        },
        "id": "5F_eqEflWjfH",
        "outputId": "d0cfdd74-b9ad-4da9-ae67-98b9785fd2c8"
      },
      "execution_count": 591,
      "outputs": [
        {
          "output_type": "execute_result",
          "data": {
            "text/plain": [
              "((641, 12), (275, 12), (393, 12))"
            ]
          },
          "metadata": {},
          "execution_count": 591
        }
      ]
    },
    {
      "cell_type": "code",
      "source": [
        "tr.head()"
      ],
      "metadata": {
        "colab": {
          "base_uri": "https://localhost:8080/",
          "height": 206
        },
        "id": "cGbQBHWXXdWq",
        "outputId": "bbfae82a-b2f8-4d29-8fe5-969a68ec713d"
      },
      "execution_count": 592,
      "outputs": [
        {
          "output_type": "execute_result",
          "data": {
            "text/plain": [
              "     age_random     sibsp     parch      fare  pclass_1.0  pclass_3.0  \\\n",
              "539   -0.297867 -0.496392 -0.437574 -0.114641           1           0   \n",
              "339    0.451466 -0.496392 -0.437574  2.204701           1           0   \n",
              "505   -0.502230 -0.496392 -0.437574 -0.507990           0           1   \n",
              "492   -0.229746  1.517451 -0.437574 -0.494967           0           1   \n",
              "897   -0.910957 -0.496392 -0.437574 -0.511622           0           1   \n",
              "\n",
              "     pclass_2.0  gender_male  gender_female  embarked_S  embarked_C  \\\n",
              "539           0            1              0           1           0   \n",
              "339           0            0              1           0           1   \n",
              "505           0            1              0           1           0   \n",
              "492           0            1              0           1           0   \n",
              "897           0            1              0           0           0   \n",
              "\n",
              "     embarked_Q  \n",
              "539           0  \n",
              "339           0  \n",
              "505           0  \n",
              "492           0  \n",
              "897           1  "
            ],
            "text/html": [
              "\n",
              "  <div id=\"df-041ac080-55da-4baf-93fd-6f97f6a0f886\">\n",
              "    <div class=\"colab-df-container\">\n",
              "      <div>\n",
              "<style scoped>\n",
              "    .dataframe tbody tr th:only-of-type {\n",
              "        vertical-align: middle;\n",
              "    }\n",
              "\n",
              "    .dataframe tbody tr th {\n",
              "        vertical-align: top;\n",
              "    }\n",
              "\n",
              "    .dataframe thead th {\n",
              "        text-align: right;\n",
              "    }\n",
              "</style>\n",
              "<table border=\"1\" class=\"dataframe\">\n",
              "  <thead>\n",
              "    <tr style=\"text-align: right;\">\n",
              "      <th></th>\n",
              "      <th>age_random</th>\n",
              "      <th>sibsp</th>\n",
              "      <th>parch</th>\n",
              "      <th>fare</th>\n",
              "      <th>pclass_1.0</th>\n",
              "      <th>pclass_3.0</th>\n",
              "      <th>pclass_2.0</th>\n",
              "      <th>gender_male</th>\n",
              "      <th>gender_female</th>\n",
              "      <th>embarked_S</th>\n",
              "      <th>embarked_C</th>\n",
              "      <th>embarked_Q</th>\n",
              "    </tr>\n",
              "  </thead>\n",
              "  <tbody>\n",
              "    <tr>\n",
              "      <th>539</th>\n",
              "      <td>-0.297867</td>\n",
              "      <td>-0.496392</td>\n",
              "      <td>-0.437574</td>\n",
              "      <td>-0.114641</td>\n",
              "      <td>1</td>\n",
              "      <td>0</td>\n",
              "      <td>0</td>\n",
              "      <td>1</td>\n",
              "      <td>0</td>\n",
              "      <td>1</td>\n",
              "      <td>0</td>\n",
              "      <td>0</td>\n",
              "    </tr>\n",
              "    <tr>\n",
              "      <th>339</th>\n",
              "      <td>0.451466</td>\n",
              "      <td>-0.496392</td>\n",
              "      <td>-0.437574</td>\n",
              "      <td>2.204701</td>\n",
              "      <td>1</td>\n",
              "      <td>0</td>\n",
              "      <td>0</td>\n",
              "      <td>0</td>\n",
              "      <td>1</td>\n",
              "      <td>0</td>\n",
              "      <td>1</td>\n",
              "      <td>0</td>\n",
              "    </tr>\n",
              "    <tr>\n",
              "      <th>505</th>\n",
              "      <td>-0.502230</td>\n",
              "      <td>-0.496392</td>\n",
              "      <td>-0.437574</td>\n",
              "      <td>-0.507990</td>\n",
              "      <td>0</td>\n",
              "      <td>1</td>\n",
              "      <td>0</td>\n",
              "      <td>1</td>\n",
              "      <td>0</td>\n",
              "      <td>1</td>\n",
              "      <td>0</td>\n",
              "      <td>0</td>\n",
              "    </tr>\n",
              "    <tr>\n",
              "      <th>492</th>\n",
              "      <td>-0.229746</td>\n",
              "      <td>1.517451</td>\n",
              "      <td>-0.437574</td>\n",
              "      <td>-0.494967</td>\n",
              "      <td>0</td>\n",
              "      <td>1</td>\n",
              "      <td>0</td>\n",
              "      <td>1</td>\n",
              "      <td>0</td>\n",
              "      <td>1</td>\n",
              "      <td>0</td>\n",
              "      <td>0</td>\n",
              "    </tr>\n",
              "    <tr>\n",
              "      <th>897</th>\n",
              "      <td>-0.910957</td>\n",
              "      <td>-0.496392</td>\n",
              "      <td>-0.437574</td>\n",
              "      <td>-0.511622</td>\n",
              "      <td>0</td>\n",
              "      <td>1</td>\n",
              "      <td>0</td>\n",
              "      <td>1</td>\n",
              "      <td>0</td>\n",
              "      <td>0</td>\n",
              "      <td>0</td>\n",
              "      <td>1</td>\n",
              "    </tr>\n",
              "  </tbody>\n",
              "</table>\n",
              "</div>\n",
              "      <button class=\"colab-df-convert\" onclick=\"convertToInteractive('df-041ac080-55da-4baf-93fd-6f97f6a0f886')\"\n",
              "              title=\"Convert this dataframe to an interactive table.\"\n",
              "              style=\"display:none;\">\n",
              "        \n",
              "  <svg xmlns=\"http://www.w3.org/2000/svg\" height=\"24px\"viewBox=\"0 0 24 24\"\n",
              "       width=\"24px\">\n",
              "    <path d=\"M0 0h24v24H0V0z\" fill=\"none\"/>\n",
              "    <path d=\"M18.56 5.44l.94 2.06.94-2.06 2.06-.94-2.06-.94-.94-2.06-.94 2.06-2.06.94zm-11 1L8.5 8.5l.94-2.06 2.06-.94-2.06-.94L8.5 2.5l-.94 2.06-2.06.94zm10 10l.94 2.06.94-2.06 2.06-.94-2.06-.94-.94-2.06-.94 2.06-2.06.94z\"/><path d=\"M17.41 7.96l-1.37-1.37c-.4-.4-.92-.59-1.43-.59-.52 0-1.04.2-1.43.59L10.3 9.45l-7.72 7.72c-.78.78-.78 2.05 0 2.83L4 21.41c.39.39.9.59 1.41.59.51 0 1.02-.2 1.41-.59l7.78-7.78 2.81-2.81c.8-.78.8-2.07 0-2.86zM5.41 20L4 18.59l7.72-7.72 1.47 1.35L5.41 20z\"/>\n",
              "  </svg>\n",
              "      </button>\n",
              "      \n",
              "  <style>\n",
              "    .colab-df-container {\n",
              "      display:flex;\n",
              "      flex-wrap:wrap;\n",
              "      gap: 12px;\n",
              "    }\n",
              "\n",
              "    .colab-df-convert {\n",
              "      background-color: #E8F0FE;\n",
              "      border: none;\n",
              "      border-radius: 50%;\n",
              "      cursor: pointer;\n",
              "      display: none;\n",
              "      fill: #1967D2;\n",
              "      height: 32px;\n",
              "      padding: 0 0 0 0;\n",
              "      width: 32px;\n",
              "    }\n",
              "\n",
              "    .colab-df-convert:hover {\n",
              "      background-color: #E2EBFA;\n",
              "      box-shadow: 0px 1px 2px rgba(60, 64, 67, 0.3), 0px 1px 3px 1px rgba(60, 64, 67, 0.15);\n",
              "      fill: #174EA6;\n",
              "    }\n",
              "\n",
              "    [theme=dark] .colab-df-convert {\n",
              "      background-color: #3B4455;\n",
              "      fill: #D2E3FC;\n",
              "    }\n",
              "\n",
              "    [theme=dark] .colab-df-convert:hover {\n",
              "      background-color: #434B5C;\n",
              "      box-shadow: 0px 1px 3px 1px rgba(0, 0, 0, 0.15);\n",
              "      filter: drop-shadow(0px 1px 2px rgba(0, 0, 0, 0.3));\n",
              "      fill: #FFFFFF;\n",
              "    }\n",
              "  </style>\n",
              "\n",
              "      <script>\n",
              "        const buttonEl =\n",
              "          document.querySelector('#df-041ac080-55da-4baf-93fd-6f97f6a0f886 button.colab-df-convert');\n",
              "        buttonEl.style.display =\n",
              "          google.colab.kernel.accessAllowed ? 'block' : 'none';\n",
              "\n",
              "        async function convertToInteractive(key) {\n",
              "          const element = document.querySelector('#df-041ac080-55da-4baf-93fd-6f97f6a0f886');\n",
              "          const dataTable =\n",
              "            await google.colab.kernel.invokeFunction('convertToInteractive',\n",
              "                                                     [key], {});\n",
              "          if (!dataTable) return;\n",
              "\n",
              "          const docLinkHtml = 'Like what you see? Visit the ' +\n",
              "            '<a target=\"_blank\" href=https://colab.research.google.com/notebooks/data_table.ipynb>data table notebook</a>'\n",
              "            + ' to learn more about interactive tables.';\n",
              "          element.innerHTML = '';\n",
              "          dataTable['output_type'] = 'display_data';\n",
              "          await google.colab.output.renderOutput(dataTable, element);\n",
              "          const docLink = document.createElement('div');\n",
              "          docLink.innerHTML = docLinkHtml;\n",
              "          element.appendChild(docLink);\n",
              "        }\n",
              "      </script>\n",
              "    </div>\n",
              "  </div>\n",
              "  "
            ]
          },
          "metadata": {},
          "execution_count": 592
        }
      ]
    },
    {
      "cell_type": "code",
      "source": [
        "tr.isnull().sum().sum(), te.isnull().sum().sum(), ori.isnull().sum().sum()"
      ],
      "metadata": {
        "colab": {
          "base_uri": "https://localhost:8080/"
        },
        "id": "1HvO4dajV_dW",
        "outputId": "5534ee78-20e3-45eb-b270-828c4e781d46"
      },
      "execution_count": 593,
      "outputs": [
        {
          "output_type": "execute_result",
          "data": {
            "text/plain": [
              "(0, 0, 0)"
            ]
          },
          "metadata": {},
          "execution_count": 593
        }
      ]
    },
    {
      "cell_type": "code",
      "source": [
        "from sklearn.tree import DecisionTreeClassifier\n",
        "\n",
        "modelV0 = DecisionTreeClassifier(random_state=args.random_state)\n",
        "\n",
        "print(f'{tr.shape} / {y_tr.shape}')\n",
        "modelV0.fit(tr, y_tr)"
      ],
      "metadata": {
        "colab": {
          "base_uri": "https://localhost:8080/"
        },
        "id": "T4TkYLEYX64l",
        "outputId": "d61f1ae8-8b8f-46df-a018-c27b318d5be9"
      },
      "execution_count": 595,
      "outputs": [
        {
          "output_type": "stream",
          "name": "stdout",
          "text": [
            "(641, 12) / (641,)\n"
          ]
        },
        {
          "output_type": "execute_result",
          "data": {
            "text/plain": [
              "DecisionTreeClassifier(random_state=42)"
            ]
          },
          "metadata": {},
          "execution_count": 595
        }
      ]
    },
    {
      "cell_type": "markdown",
      "source": [
        "## Evaluation"
      ],
      "metadata": {
        "id": "89L31PzhfQhY"
      }
    },
    {
      "cell_type": "code",
      "source": [
        "score_tr = modelV0.score(tr, y_tr)\n",
        "score_te = modelV0.score(te, y_te) \n",
        "\n",
        "score_tr, score_te  "
      ],
      "metadata": {
        "colab": {
          "base_uri": "https://localhost:8080/"
        },
        "id": "WWFoWS16fQIs",
        "outputId": "66e74495-1b2f-4ea8-f8d1-c7c5844288cd"
      },
      "execution_count": 596,
      "outputs": [
        {
          "output_type": "execute_result",
          "data": {
            "text/plain": [
              "(0.9906396255850234, 0.8181818181818182)"
            ]
          },
          "metadata": {},
          "execution_count": 596
        }
      ]
    },
    {
      "cell_type": "code",
      "source": [
        "from sklearn.metrics import roc_curve, auc \n",
        "\n",
        "y_pred = modelV0.predict_proba(te)[:,1]\n",
        "fpr, tpr, thresholds = roc_curve(y_te, y_pred)\n",
        "auc_te = auc(fpr, tpr)\n",
        "print(f'model: {auc_te}')"
      ],
      "metadata": {
        "colab": {
          "base_uri": "https://localhost:8080/"
        },
        "id": "CrtkkUC8fAk5",
        "outputId": "5a27b6cb-bb3c-4bd8-a143-2352e050819f"
      },
      "execution_count": 599,
      "outputs": [
        {
          "output_type": "stream",
          "name": "stdout",
          "text": [
            "model: 0.811740890688259\n"
          ]
        }
      ]
    },
    {
      "cell_type": "code",
      "source": [
        "ori_te_pred = modelV0.predict_proba(ori)[:,1]\n",
        "ori_te_pred.shape"
      ],
      "metadata": {
        "colab": {
          "base_uri": "https://localhost:8080/"
        },
        "id": "ogSq_OxLffRT",
        "outputId": "3c29b58d-ad2f-4faf-b0e7-6ad926043566"
      },
      "execution_count": 600,
      "outputs": [
        {
          "output_type": "execute_result",
          "data": {
            "text/plain": [
              "(393,)"
            ]
          },
          "metadata": {},
          "execution_count": 600
        }
      ]
    },
    {
      "cell_type": "code",
      "source": [
        "df_feature_importances = pd.DataFrame(modelV0.feature_importances_, tr.columns).sort_values(by=[0], ascending=False).reset_index()\n",
        "\n",
        "print(f'{df_feature_importances.shape}')\n",
        "df_feature_importances"
      ],
      "metadata": {
        "colab": {
          "base_uri": "https://localhost:8080/",
          "height": 444
        },
        "id": "WThhqkupf_Cn",
        "outputId": "7b9ba91b-15c0-4cfe-c6a7-5ff68f7538e8"
      },
      "execution_count": 602,
      "outputs": [
        {
          "output_type": "stream",
          "name": "stdout",
          "text": [
            "(12, 2)\n"
          ]
        },
        {
          "output_type": "execute_result",
          "data": {
            "text/plain": [
              "            index         0\n",
              "0     gender_male  0.532091\n",
              "1      age_random  0.204676\n",
              "2            fare  0.176452\n",
              "3      pclass_3.0  0.025995\n",
              "4           sibsp  0.024247\n",
              "5           parch  0.019035\n",
              "6      embarked_C  0.007350\n",
              "7      embarked_Q  0.005904\n",
              "8      embarked_S  0.004249\n",
              "9      pclass_1.0  0.000000\n",
              "10     pclass_2.0  0.000000\n",
              "11  gender_female  0.000000"
            ],
            "text/html": [
              "\n",
              "  <div id=\"df-e5a4e51b-8c62-4c43-8f04-0033b67546b7\">\n",
              "    <div class=\"colab-df-container\">\n",
              "      <div>\n",
              "<style scoped>\n",
              "    .dataframe tbody tr th:only-of-type {\n",
              "        vertical-align: middle;\n",
              "    }\n",
              "\n",
              "    .dataframe tbody tr th {\n",
              "        vertical-align: top;\n",
              "    }\n",
              "\n",
              "    .dataframe thead th {\n",
              "        text-align: right;\n",
              "    }\n",
              "</style>\n",
              "<table border=\"1\" class=\"dataframe\">\n",
              "  <thead>\n",
              "    <tr style=\"text-align: right;\">\n",
              "      <th></th>\n",
              "      <th>index</th>\n",
              "      <th>0</th>\n",
              "    </tr>\n",
              "  </thead>\n",
              "  <tbody>\n",
              "    <tr>\n",
              "      <th>0</th>\n",
              "      <td>gender_male</td>\n",
              "      <td>0.532091</td>\n",
              "    </tr>\n",
              "    <tr>\n",
              "      <th>1</th>\n",
              "      <td>age_random</td>\n",
              "      <td>0.204676</td>\n",
              "    </tr>\n",
              "    <tr>\n",
              "      <th>2</th>\n",
              "      <td>fare</td>\n",
              "      <td>0.176452</td>\n",
              "    </tr>\n",
              "    <tr>\n",
              "      <th>3</th>\n",
              "      <td>pclass_3.0</td>\n",
              "      <td>0.025995</td>\n",
              "    </tr>\n",
              "    <tr>\n",
              "      <th>4</th>\n",
              "      <td>sibsp</td>\n",
              "      <td>0.024247</td>\n",
              "    </tr>\n",
              "    <tr>\n",
              "      <th>5</th>\n",
              "      <td>parch</td>\n",
              "      <td>0.019035</td>\n",
              "    </tr>\n",
              "    <tr>\n",
              "      <th>6</th>\n",
              "      <td>embarked_C</td>\n",
              "      <td>0.007350</td>\n",
              "    </tr>\n",
              "    <tr>\n",
              "      <th>7</th>\n",
              "      <td>embarked_Q</td>\n",
              "      <td>0.005904</td>\n",
              "    </tr>\n",
              "    <tr>\n",
              "      <th>8</th>\n",
              "      <td>embarked_S</td>\n",
              "      <td>0.004249</td>\n",
              "    </tr>\n",
              "    <tr>\n",
              "      <th>9</th>\n",
              "      <td>pclass_1.0</td>\n",
              "      <td>0.000000</td>\n",
              "    </tr>\n",
              "    <tr>\n",
              "      <th>10</th>\n",
              "      <td>pclass_2.0</td>\n",
              "      <td>0.000000</td>\n",
              "    </tr>\n",
              "    <tr>\n",
              "      <th>11</th>\n",
              "      <td>gender_female</td>\n",
              "      <td>0.000000</td>\n",
              "    </tr>\n",
              "  </tbody>\n",
              "</table>\n",
              "</div>\n",
              "      <button class=\"colab-df-convert\" onclick=\"convertToInteractive('df-e5a4e51b-8c62-4c43-8f04-0033b67546b7')\"\n",
              "              title=\"Convert this dataframe to an interactive table.\"\n",
              "              style=\"display:none;\">\n",
              "        \n",
              "  <svg xmlns=\"http://www.w3.org/2000/svg\" height=\"24px\"viewBox=\"0 0 24 24\"\n",
              "       width=\"24px\">\n",
              "    <path d=\"M0 0h24v24H0V0z\" fill=\"none\"/>\n",
              "    <path d=\"M18.56 5.44l.94 2.06.94-2.06 2.06-.94-2.06-.94-.94-2.06-.94 2.06-2.06.94zm-11 1L8.5 8.5l.94-2.06 2.06-.94-2.06-.94L8.5 2.5l-.94 2.06-2.06.94zm10 10l.94 2.06.94-2.06 2.06-.94-2.06-.94-.94-2.06-.94 2.06-2.06.94z\"/><path d=\"M17.41 7.96l-1.37-1.37c-.4-.4-.92-.59-1.43-.59-.52 0-1.04.2-1.43.59L10.3 9.45l-7.72 7.72c-.78.78-.78 2.05 0 2.83L4 21.41c.39.39.9.59 1.41.59.51 0 1.02-.2 1.41-.59l7.78-7.78 2.81-2.81c.8-.78.8-2.07 0-2.86zM5.41 20L4 18.59l7.72-7.72 1.47 1.35L5.41 20z\"/>\n",
              "  </svg>\n",
              "      </button>\n",
              "      \n",
              "  <style>\n",
              "    .colab-df-container {\n",
              "      display:flex;\n",
              "      flex-wrap:wrap;\n",
              "      gap: 12px;\n",
              "    }\n",
              "\n",
              "    .colab-df-convert {\n",
              "      background-color: #E8F0FE;\n",
              "      border: none;\n",
              "      border-radius: 50%;\n",
              "      cursor: pointer;\n",
              "      display: none;\n",
              "      fill: #1967D2;\n",
              "      height: 32px;\n",
              "      padding: 0 0 0 0;\n",
              "      width: 32px;\n",
              "    }\n",
              "\n",
              "    .colab-df-convert:hover {\n",
              "      background-color: #E2EBFA;\n",
              "      box-shadow: 0px 1px 2px rgba(60, 64, 67, 0.3), 0px 1px 3px 1px rgba(60, 64, 67, 0.15);\n",
              "      fill: #174EA6;\n",
              "    }\n",
              "\n",
              "    [theme=dark] .colab-df-convert {\n",
              "      background-color: #3B4455;\n",
              "      fill: #D2E3FC;\n",
              "    }\n",
              "\n",
              "    [theme=dark] .colab-df-convert:hover {\n",
              "      background-color: #434B5C;\n",
              "      box-shadow: 0px 1px 3px 1px rgba(0, 0, 0, 0.15);\n",
              "      filter: drop-shadow(0px 1px 2px rgba(0, 0, 0, 0.3));\n",
              "      fill: #FFFFFF;\n",
              "    }\n",
              "  </style>\n",
              "\n",
              "      <script>\n",
              "        const buttonEl =\n",
              "          document.querySelector('#df-e5a4e51b-8c62-4c43-8f04-0033b67546b7 button.colab-df-convert');\n",
              "        buttonEl.style.display =\n",
              "          google.colab.kernel.accessAllowed ? 'block' : 'none';\n",
              "\n",
              "        async function convertToInteractive(key) {\n",
              "          const element = document.querySelector('#df-e5a4e51b-8c62-4c43-8f04-0033b67546b7');\n",
              "          const dataTable =\n",
              "            await google.colab.kernel.invokeFunction('convertToInteractive',\n",
              "                                                     [key], {});\n",
              "          if (!dataTable) return;\n",
              "\n",
              "          const docLinkHtml = 'Like what you see? Visit the ' +\n",
              "            '<a target=\"_blank\" href=https://colab.research.google.com/notebooks/data_table.ipynb>data table notebook</a>'\n",
              "            + ' to learn more about interactive tables.';\n",
              "          element.innerHTML = '';\n",
              "          dataTable['output_type'] = 'display_data';\n",
              "          await google.colab.output.renderOutput(dataTable, element);\n",
              "          const docLink = document.createElement('div');\n",
              "          docLink.innerHTML = docLinkHtml;\n",
              "          element.appendChild(docLink);\n",
              "        }\n",
              "      </script>\n",
              "    </div>\n",
              "  </div>\n",
              "  "
            ]
          },
          "metadata": {},
          "execution_count": 602
        }
      ]
    },
    {
      "cell_type": "code",
      "source": [
        "args.results.append(\n",
        "    {\n",
        "        'model': 'modelV0',\n",
        "        'score_tr': score_tr,\n",
        "        'score_te': score_te,\n",
        "        'auc_te': auc_te,\n",
        "        'ori_te_pred': ori_te_pred,\n",
        "        'len_features': X_tr.shape[1],\n",
        "        'feaute_importances': list(df_feature_importances['index'].values[:X_tr.shape[1]]),\n",
        "        'create_dt': '0227'\n",
        "    }\n",
        ")\n",
        "\n",
        "args.results"
      ],
      "metadata": {
        "colab": {
          "base_uri": "https://localhost:8080/"
        },
        "id": "AQAFNTs4gDbh",
        "outputId": "f44e9a11-20ff-45c7-8a96-11fb89158c99"
      },
      "execution_count": 603,
      "outputs": [
        {
          "output_type": "execute_result",
          "data": {
            "text/plain": [
              "[{'model': 'modelV0',\n",
              "  'score_tr': 0.9906396255850234,\n",
              "  'score_te': 0.8181818181818182,\n",
              "  'auc_te': 0.811740890688259,\n",
              "  'ori_te_pred': array([1.  , 1.  , 1.  , 0.  , 1.  , 1.  , 0.  , 0.  , 0.  , 0.  , 0.  ,\n",
              "         0.  , 1.  , 0.  , 0.  , 0.  , 0.  , 0.  , 0.  , 0.  , 0.  , 0.  ,\n",
              "         0.  , 0.  , 0.  , 0.5 , 0.  , 1.  , 0.  , 1.  , 1.  , 0.  , 0.  ,\n",
              "         0.  , 0.  , 0.  , 1.  , 0.  , 0.  , 0.  , 0.  , 1.  , 0.  , 1.  ,\n",
              "         0.  , 0.  , 0.  , 0.  , 1.  , 0.  , 1.  , 0.  , 1.  , 0.  , 1.  ,\n",
              "         1.  , 0.  , 0.  , 1.  , 1.  , 1.  , 1.  , 1.  , 0.  , 0.  , 1.  ,\n",
              "         0.  , 1.  , 0.  , 1.  , 0.  , 1.  , 1.  , 1.  , 0.  , 0.  , 0.  ,\n",
              "         1.  , 0.25, 0.  , 0.  , 0.  , 0.  , 1.  , 1.  , 1.  , 0.  , 1.  ,\n",
              "         0.  , 0.  , 1.  , 1.  , 1.  , 0.  , 0.  , 0.  , 0.  , 1.  , 0.  ,\n",
              "         0.  , 1.  , 1.  , 0.  , 0.  , 0.  , 0.  , 0.  , 1.  , 0.  , 0.  ,\n",
              "         0.  , 0.  , 1.  , 0.  , 0.  , 1.  , 0.  , 1.  , 1.  , 0.  , 1.  ,\n",
              "         0.  , 0.  , 1.  , 0.  , 0.  , 1.  , 0.  , 0.  , 1.  , 0.  , 0.  ,\n",
              "         1.  , 1.  , 0.  , 1.  , 1.  , 0.  , 1.  , 0.  , 0.  , 0.  , 0.  ,\n",
              "         0.  , 0.  , 0.  , 1.  , 0.  , 0.  , 0.  , 0.  , 0.  , 0.  , 0.  ,\n",
              "         0.  , 0.  , 1.  , 0.  , 0.  , 1.  , 0.  , 0.  , 1.  , 1.  , 0.  ,\n",
              "         0.  , 1.  , 0.  , 1.  , 0.  , 0.  , 0.  , 0.  , 0.  , 1.  , 0.  ,\n",
              "         1.  , 1.  , 1.  , 1.  , 0.  , 0.  , 0.  , 1.  , 1.  , 1.  , 1.  ,\n",
              "         1.  , 0.  , 0.  , 0.  , 1.  , 1.  , 1.  , 1.  , 0.  , 0.  , 0.  ,\n",
              "         0.  , 0.  , 0.  , 0.  , 0.  , 0.  , 0.  , 1.  , 1.  , 0.  , 1.  ,\n",
              "         0.  , 0.  , 0.  , 0.5 , 0.  , 1.  , 1.  , 0.  , 0.  , 1.  , 1.  ,\n",
              "         0.  , 1.  , 0.  , 0.  , 0.  , 0.  , 0.  , 1.  , 1.  , 1.  , 0.  ,\n",
              "         1.  , 1.  , 1.  , 1.  , 0.  , 1.  , 0.  , 0.  , 0.  , 1.  , 0.  ,\n",
              "         0.  , 0.  , 0.  , 0.  , 1.  , 0.  , 0.  , 1.  , 1.  , 0.  , 1.  ,\n",
              "         0.  , 1.  , 0.  , 0.  , 0.  , 1.  , 1.  , 0.  , 1.  , 0.  , 0.  ,\n",
              "         1.  , 0.  , 0.  , 1.  , 1.  , 0.  , 1.  , 0.  , 0.  , 0.  , 1.  ,\n",
              "         0.  , 0.  , 0.5 , 0.  , 1.  , 0.  , 1.  , 1.  , 0.  , 1.  , 0.  ,\n",
              "         0.  , 0.  , 1.  , 0.  , 0.  , 0.  , 0.  , 0.  , 0.  , 1.  , 0.  ,\n",
              "         0.  , 1.  , 0.  , 0.  , 0.5 , 1.  , 0.  , 1.  , 0.  , 0.  , 0.  ,\n",
              "         0.  , 0.  , 0.  , 0.  , 1.  , 0.  , 1.  , 1.  , 0.  , 0.  , 0.  ,\n",
              "         0.  , 1.  , 0.  , 0.  , 1.  , 0.  , 0.  , 0.  , 1.  , 0.  , 1.  ,\n",
              "         1.  , 0.  , 0.  , 0.  , 1.  , 1.  , 0.  , 0.  , 1.  , 0.  , 1.  ,\n",
              "         0.  , 0.  , 0.  , 0.  , 0.  , 1.  , 1.  , 1.  , 0.  , 1.  , 1.  ,\n",
              "         0.  , 0.  , 1.  , 1.  , 0.  , 0.  , 1.  , 1.  , 0.  , 1.  , 1.  ,\n",
              "         0.  , 1.  , 0.  , 1.  , 1.  , 1.  , 0.  , 0.  , 0.  , 0.  , 0.  ,\n",
              "         1.  , 1.  , 0.  , 1.  , 0.  , 1.  , 0.  , 0.  , 1.  , 0.  , 0.  ,\n",
              "         0.  , 1.  , 1.  , 1.  , 1.  , 1.  , 0.  , 1.  ]),\n",
              "  'len_features': 11,\n",
              "  'feaute_importances': ['gender_male',\n",
              "   'age_random',\n",
              "   'fare',\n",
              "   'pclass_3.0',\n",
              "   'sibsp',\n",
              "   'parch',\n",
              "   'embarked_C',\n",
              "   'embarked_Q',\n",
              "   'embarked_S',\n",
              "   'pclass_1.0',\n",
              "   'pclass_2.0'],\n",
              "  'create_dt': '0227'}]"
            ]
          },
          "metadata": {},
          "execution_count": 603
        }
      ]
    },
    {
      "cell_type": "markdown",
      "source": [
        "# Submission"
      ],
      "metadata": {
        "id": "98Q4mUYXgtvV"
      }
    },
    {
      "cell_type": "code",
      "source": [
        "df_results = pd.DataFrame(args.results).sort_values(by=['auc_te'], ascending=False)\n",
        "df_results"
      ],
      "metadata": {
        "colab": {
          "base_uri": "https://localhost:8080/",
          "height": 81
        },
        "id": "EmQ8jypmgock",
        "outputId": "b9abf3d2-97a8-4999-ca64-621904384301"
      },
      "execution_count": 604,
      "outputs": [
        {
          "output_type": "execute_result",
          "data": {
            "text/plain": [
              "     model  score_tr  score_te    auc_te  \\\n",
              "0  modelV0   0.99064  0.818182  0.811741   \n",
              "\n",
              "                                         ori_te_pred  len_features  \\\n",
              "0  [1.0, 1.0, 1.0, 0.0, 1.0, 1.0, 0.0, 0.0, 0.0, ...            11   \n",
              "\n",
              "                                  feaute_importances create_dt  \n",
              "0  [gender_male, age_random, fare, pclass_3.0, si...      0227  "
            ],
            "text/html": [
              "\n",
              "  <div id=\"df-2ea6589e-08e2-4bc8-a9c6-5fd2663de9ee\">\n",
              "    <div class=\"colab-df-container\">\n",
              "      <div>\n",
              "<style scoped>\n",
              "    .dataframe tbody tr th:only-of-type {\n",
              "        vertical-align: middle;\n",
              "    }\n",
              "\n",
              "    .dataframe tbody tr th {\n",
              "        vertical-align: top;\n",
              "    }\n",
              "\n",
              "    .dataframe thead th {\n",
              "        text-align: right;\n",
              "    }\n",
              "</style>\n",
              "<table border=\"1\" class=\"dataframe\">\n",
              "  <thead>\n",
              "    <tr style=\"text-align: right;\">\n",
              "      <th></th>\n",
              "      <th>model</th>\n",
              "      <th>score_tr</th>\n",
              "      <th>score_te</th>\n",
              "      <th>auc_te</th>\n",
              "      <th>ori_te_pred</th>\n",
              "      <th>len_features</th>\n",
              "      <th>feaute_importances</th>\n",
              "      <th>create_dt</th>\n",
              "    </tr>\n",
              "  </thead>\n",
              "  <tbody>\n",
              "    <tr>\n",
              "      <th>0</th>\n",
              "      <td>modelV0</td>\n",
              "      <td>0.99064</td>\n",
              "      <td>0.818182</td>\n",
              "      <td>0.811741</td>\n",
              "      <td>[1.0, 1.0, 1.0, 0.0, 1.0, 1.0, 0.0, 0.0, 0.0, ...</td>\n",
              "      <td>11</td>\n",
              "      <td>[gender_male, age_random, fare, pclass_3.0, si...</td>\n",
              "      <td>0227</td>\n",
              "    </tr>\n",
              "  </tbody>\n",
              "</table>\n",
              "</div>\n",
              "      <button class=\"colab-df-convert\" onclick=\"convertToInteractive('df-2ea6589e-08e2-4bc8-a9c6-5fd2663de9ee')\"\n",
              "              title=\"Convert this dataframe to an interactive table.\"\n",
              "              style=\"display:none;\">\n",
              "        \n",
              "  <svg xmlns=\"http://www.w3.org/2000/svg\" height=\"24px\"viewBox=\"0 0 24 24\"\n",
              "       width=\"24px\">\n",
              "    <path d=\"M0 0h24v24H0V0z\" fill=\"none\"/>\n",
              "    <path d=\"M18.56 5.44l.94 2.06.94-2.06 2.06-.94-2.06-.94-.94-2.06-.94 2.06-2.06.94zm-11 1L8.5 8.5l.94-2.06 2.06-.94-2.06-.94L8.5 2.5l-.94 2.06-2.06.94zm10 10l.94 2.06.94-2.06 2.06-.94-2.06-.94-.94-2.06-.94 2.06-2.06.94z\"/><path d=\"M17.41 7.96l-1.37-1.37c-.4-.4-.92-.59-1.43-.59-.52 0-1.04.2-1.43.59L10.3 9.45l-7.72 7.72c-.78.78-.78 2.05 0 2.83L4 21.41c.39.39.9.59 1.41.59.51 0 1.02-.2 1.41-.59l7.78-7.78 2.81-2.81c.8-.78.8-2.07 0-2.86zM5.41 20L4 18.59l7.72-7.72 1.47 1.35L5.41 20z\"/>\n",
              "  </svg>\n",
              "      </button>\n",
              "      \n",
              "  <style>\n",
              "    .colab-df-container {\n",
              "      display:flex;\n",
              "      flex-wrap:wrap;\n",
              "      gap: 12px;\n",
              "    }\n",
              "\n",
              "    .colab-df-convert {\n",
              "      background-color: #E8F0FE;\n",
              "      border: none;\n",
              "      border-radius: 50%;\n",
              "      cursor: pointer;\n",
              "      display: none;\n",
              "      fill: #1967D2;\n",
              "      height: 32px;\n",
              "      padding: 0 0 0 0;\n",
              "      width: 32px;\n",
              "    }\n",
              "\n",
              "    .colab-df-convert:hover {\n",
              "      background-color: #E2EBFA;\n",
              "      box-shadow: 0px 1px 2px rgba(60, 64, 67, 0.3), 0px 1px 3px 1px rgba(60, 64, 67, 0.15);\n",
              "      fill: #174EA6;\n",
              "    }\n",
              "\n",
              "    [theme=dark] .colab-df-convert {\n",
              "      background-color: #3B4455;\n",
              "      fill: #D2E3FC;\n",
              "    }\n",
              "\n",
              "    [theme=dark] .colab-df-convert:hover {\n",
              "      background-color: #434B5C;\n",
              "      box-shadow: 0px 1px 3px 1px rgba(0, 0, 0, 0.15);\n",
              "      filter: drop-shadow(0px 1px 2px rgba(0, 0, 0, 0.3));\n",
              "      fill: #FFFFFF;\n",
              "    }\n",
              "  </style>\n",
              "\n",
              "      <script>\n",
              "        const buttonEl =\n",
              "          document.querySelector('#df-2ea6589e-08e2-4bc8-a9c6-5fd2663de9ee button.colab-df-convert');\n",
              "        buttonEl.style.display =\n",
              "          google.colab.kernel.accessAllowed ? 'block' : 'none';\n",
              "\n",
              "        async function convertToInteractive(key) {\n",
              "          const element = document.querySelector('#df-2ea6589e-08e2-4bc8-a9c6-5fd2663de9ee');\n",
              "          const dataTable =\n",
              "            await google.colab.kernel.invokeFunction('convertToInteractive',\n",
              "                                                     [key], {});\n",
              "          if (!dataTable) return;\n",
              "\n",
              "          const docLinkHtml = 'Like what you see? Visit the ' +\n",
              "            '<a target=\"_blank\" href=https://colab.research.google.com/notebooks/data_table.ipynb>data table notebook</a>'\n",
              "            + ' to learn more about interactive tables.';\n",
              "          element.innerHTML = '';\n",
              "          dataTable['output_type'] = 'display_data';\n",
              "          await google.colab.output.renderOutput(dataTable, element);\n",
              "          const docLink = document.createElement('div');\n",
              "          docLink.innerHTML = docLinkHtml;\n",
              "          element.appendChild(docLink);\n",
              "        }\n",
              "      </script>\n",
              "    </div>\n",
              "  </div>\n",
              "  "
            ]
          },
          "metadata": {},
          "execution_count": 604
        }
      ]
    },
    {
      "cell_type": "code",
      "source": [
        "submission = pd.read_csv(args.submission_csv)\n",
        "submission.head()"
      ],
      "metadata": {
        "colab": {
          "base_uri": "https://localhost:8080/",
          "height": 206
        },
        "id": "RxQxtdpBgxQr",
        "outputId": "014198fc-12d9-4ff8-9c56-07d112c2eee6"
      },
      "execution_count": 606,
      "outputs": [
        {
          "output_type": "execute_result",
          "data": {
            "text/plain": [
              "   passengerid  survived\n",
              "0          916  0.841330\n",
              "1          917  0.883158\n",
              "2          918  0.865411\n",
              "3          919  0.101740\n",
              "4          920  0.959227"
            ],
            "text/html": [
              "\n",
              "  <div id=\"df-c5a8cb7b-ca51-4524-b0e7-f57e92385fe4\">\n",
              "    <div class=\"colab-df-container\">\n",
              "      <div>\n",
              "<style scoped>\n",
              "    .dataframe tbody tr th:only-of-type {\n",
              "        vertical-align: middle;\n",
              "    }\n",
              "\n",
              "    .dataframe tbody tr th {\n",
              "        vertical-align: top;\n",
              "    }\n",
              "\n",
              "    .dataframe thead th {\n",
              "        text-align: right;\n",
              "    }\n",
              "</style>\n",
              "<table border=\"1\" class=\"dataframe\">\n",
              "  <thead>\n",
              "    <tr style=\"text-align: right;\">\n",
              "      <th></th>\n",
              "      <th>passengerid</th>\n",
              "      <th>survived</th>\n",
              "    </tr>\n",
              "  </thead>\n",
              "  <tbody>\n",
              "    <tr>\n",
              "      <th>0</th>\n",
              "      <td>916</td>\n",
              "      <td>0.841330</td>\n",
              "    </tr>\n",
              "    <tr>\n",
              "      <th>1</th>\n",
              "      <td>917</td>\n",
              "      <td>0.883158</td>\n",
              "    </tr>\n",
              "    <tr>\n",
              "      <th>2</th>\n",
              "      <td>918</td>\n",
              "      <td>0.865411</td>\n",
              "    </tr>\n",
              "    <tr>\n",
              "      <th>3</th>\n",
              "      <td>919</td>\n",
              "      <td>0.101740</td>\n",
              "    </tr>\n",
              "    <tr>\n",
              "      <th>4</th>\n",
              "      <td>920</td>\n",
              "      <td>0.959227</td>\n",
              "    </tr>\n",
              "  </tbody>\n",
              "</table>\n",
              "</div>\n",
              "      <button class=\"colab-df-convert\" onclick=\"convertToInteractive('df-c5a8cb7b-ca51-4524-b0e7-f57e92385fe4')\"\n",
              "              title=\"Convert this dataframe to an interactive table.\"\n",
              "              style=\"display:none;\">\n",
              "        \n",
              "  <svg xmlns=\"http://www.w3.org/2000/svg\" height=\"24px\"viewBox=\"0 0 24 24\"\n",
              "       width=\"24px\">\n",
              "    <path d=\"M0 0h24v24H0V0z\" fill=\"none\"/>\n",
              "    <path d=\"M18.56 5.44l.94 2.06.94-2.06 2.06-.94-2.06-.94-.94-2.06-.94 2.06-2.06.94zm-11 1L8.5 8.5l.94-2.06 2.06-.94-2.06-.94L8.5 2.5l-.94 2.06-2.06.94zm10 10l.94 2.06.94-2.06 2.06-.94-2.06-.94-.94-2.06-.94 2.06-2.06.94z\"/><path d=\"M17.41 7.96l-1.37-1.37c-.4-.4-.92-.59-1.43-.59-.52 0-1.04.2-1.43.59L10.3 9.45l-7.72 7.72c-.78.78-.78 2.05 0 2.83L4 21.41c.39.39.9.59 1.41.59.51 0 1.02-.2 1.41-.59l7.78-7.78 2.81-2.81c.8-.78.8-2.07 0-2.86zM5.41 20L4 18.59l7.72-7.72 1.47 1.35L5.41 20z\"/>\n",
              "  </svg>\n",
              "      </button>\n",
              "      \n",
              "  <style>\n",
              "    .colab-df-container {\n",
              "      display:flex;\n",
              "      flex-wrap:wrap;\n",
              "      gap: 12px;\n",
              "    }\n",
              "\n",
              "    .colab-df-convert {\n",
              "      background-color: #E8F0FE;\n",
              "      border: none;\n",
              "      border-radius: 50%;\n",
              "      cursor: pointer;\n",
              "      display: none;\n",
              "      fill: #1967D2;\n",
              "      height: 32px;\n",
              "      padding: 0 0 0 0;\n",
              "      width: 32px;\n",
              "    }\n",
              "\n",
              "    .colab-df-convert:hover {\n",
              "      background-color: #E2EBFA;\n",
              "      box-shadow: 0px 1px 2px rgba(60, 64, 67, 0.3), 0px 1px 3px 1px rgba(60, 64, 67, 0.15);\n",
              "      fill: #174EA6;\n",
              "    }\n",
              "\n",
              "    [theme=dark] .colab-df-convert {\n",
              "      background-color: #3B4455;\n",
              "      fill: #D2E3FC;\n",
              "    }\n",
              "\n",
              "    [theme=dark] .colab-df-convert:hover {\n",
              "      background-color: #434B5C;\n",
              "      box-shadow: 0px 1px 3px 1px rgba(0, 0, 0, 0.15);\n",
              "      filter: drop-shadow(0px 1px 2px rgba(0, 0, 0, 0.3));\n",
              "      fill: #FFFFFF;\n",
              "    }\n",
              "  </style>\n",
              "\n",
              "      <script>\n",
              "        const buttonEl =\n",
              "          document.querySelector('#df-c5a8cb7b-ca51-4524-b0e7-f57e92385fe4 button.colab-df-convert');\n",
              "        buttonEl.style.display =\n",
              "          google.colab.kernel.accessAllowed ? 'block' : 'none';\n",
              "\n",
              "        async function convertToInteractive(key) {\n",
              "          const element = document.querySelector('#df-c5a8cb7b-ca51-4524-b0e7-f57e92385fe4');\n",
              "          const dataTable =\n",
              "            await google.colab.kernel.invokeFunction('convertToInteractive',\n",
              "                                                     [key], {});\n",
              "          if (!dataTable) return;\n",
              "\n",
              "          const docLinkHtml = 'Like what you see? Visit the ' +\n",
              "            '<a target=\"_blank\" href=https://colab.research.google.com/notebooks/data_table.ipynb>data table notebook</a>'\n",
              "            + ' to learn more about interactive tables.';\n",
              "          element.innerHTML = '';\n",
              "          dataTable['output_type'] = 'display_data';\n",
              "          await google.colab.output.renderOutput(dataTable, element);\n",
              "          const docLink = document.createElement('div');\n",
              "          docLink.innerHTML = docLinkHtml;\n",
              "          element.appendChild(docLink);\n",
              "        }\n",
              "      </script>\n",
              "    </div>\n",
              "  </div>\n",
              "  "
            ]
          },
          "metadata": {},
          "execution_count": 606
        }
      ]
    },
    {
      "cell_type": "code",
      "source": [
        "submission['survived'] = df_results.loc[0, ['ori_te_pred']].values[0]\n",
        "print(f'{submission.isnull().sum().sum()}')\n",
        "submission.head(10)"
      ],
      "metadata": {
        "colab": {
          "base_uri": "https://localhost:8080/",
          "height": 381
        },
        "id": "L9VdyTXkg04B",
        "outputId": "adb97021-54d4-4f11-96e7-64a3df69b27b"
      },
      "execution_count": 607,
      "outputs": [
        {
          "output_type": "stream",
          "name": "stdout",
          "text": [
            "0\n"
          ]
        },
        {
          "output_type": "execute_result",
          "data": {
            "text/plain": [
              "   passengerid  survived\n",
              "0          916       1.0\n",
              "1          917       1.0\n",
              "2          918       1.0\n",
              "3          919       0.0\n",
              "4          920       1.0\n",
              "5          921       1.0\n",
              "6          922       0.0\n",
              "7          923       0.0\n",
              "8          924       0.0\n",
              "9          925       0.0"
            ],
            "text/html": [
              "\n",
              "  <div id=\"df-cc905ca7-0f61-4ea0-ad19-e272e64ab06b\">\n",
              "    <div class=\"colab-df-container\">\n",
              "      <div>\n",
              "<style scoped>\n",
              "    .dataframe tbody tr th:only-of-type {\n",
              "        vertical-align: middle;\n",
              "    }\n",
              "\n",
              "    .dataframe tbody tr th {\n",
              "        vertical-align: top;\n",
              "    }\n",
              "\n",
              "    .dataframe thead th {\n",
              "        text-align: right;\n",
              "    }\n",
              "</style>\n",
              "<table border=\"1\" class=\"dataframe\">\n",
              "  <thead>\n",
              "    <tr style=\"text-align: right;\">\n",
              "      <th></th>\n",
              "      <th>passengerid</th>\n",
              "      <th>survived</th>\n",
              "    </tr>\n",
              "  </thead>\n",
              "  <tbody>\n",
              "    <tr>\n",
              "      <th>0</th>\n",
              "      <td>916</td>\n",
              "      <td>1.0</td>\n",
              "    </tr>\n",
              "    <tr>\n",
              "      <th>1</th>\n",
              "      <td>917</td>\n",
              "      <td>1.0</td>\n",
              "    </tr>\n",
              "    <tr>\n",
              "      <th>2</th>\n",
              "      <td>918</td>\n",
              "      <td>1.0</td>\n",
              "    </tr>\n",
              "    <tr>\n",
              "      <th>3</th>\n",
              "      <td>919</td>\n",
              "      <td>0.0</td>\n",
              "    </tr>\n",
              "    <tr>\n",
              "      <th>4</th>\n",
              "      <td>920</td>\n",
              "      <td>1.0</td>\n",
              "    </tr>\n",
              "    <tr>\n",
              "      <th>5</th>\n",
              "      <td>921</td>\n",
              "      <td>1.0</td>\n",
              "    </tr>\n",
              "    <tr>\n",
              "      <th>6</th>\n",
              "      <td>922</td>\n",
              "      <td>0.0</td>\n",
              "    </tr>\n",
              "    <tr>\n",
              "      <th>7</th>\n",
              "      <td>923</td>\n",
              "      <td>0.0</td>\n",
              "    </tr>\n",
              "    <tr>\n",
              "      <th>8</th>\n",
              "      <td>924</td>\n",
              "      <td>0.0</td>\n",
              "    </tr>\n",
              "    <tr>\n",
              "      <th>9</th>\n",
              "      <td>925</td>\n",
              "      <td>0.0</td>\n",
              "    </tr>\n",
              "  </tbody>\n",
              "</table>\n",
              "</div>\n",
              "      <button class=\"colab-df-convert\" onclick=\"convertToInteractive('df-cc905ca7-0f61-4ea0-ad19-e272e64ab06b')\"\n",
              "              title=\"Convert this dataframe to an interactive table.\"\n",
              "              style=\"display:none;\">\n",
              "        \n",
              "  <svg xmlns=\"http://www.w3.org/2000/svg\" height=\"24px\"viewBox=\"0 0 24 24\"\n",
              "       width=\"24px\">\n",
              "    <path d=\"M0 0h24v24H0V0z\" fill=\"none\"/>\n",
              "    <path d=\"M18.56 5.44l.94 2.06.94-2.06 2.06-.94-2.06-.94-.94-2.06-.94 2.06-2.06.94zm-11 1L8.5 8.5l.94-2.06 2.06-.94-2.06-.94L8.5 2.5l-.94 2.06-2.06.94zm10 10l.94 2.06.94-2.06 2.06-.94-2.06-.94-.94-2.06-.94 2.06-2.06.94z\"/><path d=\"M17.41 7.96l-1.37-1.37c-.4-.4-.92-.59-1.43-.59-.52 0-1.04.2-1.43.59L10.3 9.45l-7.72 7.72c-.78.78-.78 2.05 0 2.83L4 21.41c.39.39.9.59 1.41.59.51 0 1.02-.2 1.41-.59l7.78-7.78 2.81-2.81c.8-.78.8-2.07 0-2.86zM5.41 20L4 18.59l7.72-7.72 1.47 1.35L5.41 20z\"/>\n",
              "  </svg>\n",
              "      </button>\n",
              "      \n",
              "  <style>\n",
              "    .colab-df-container {\n",
              "      display:flex;\n",
              "      flex-wrap:wrap;\n",
              "      gap: 12px;\n",
              "    }\n",
              "\n",
              "    .colab-df-convert {\n",
              "      background-color: #E8F0FE;\n",
              "      border: none;\n",
              "      border-radius: 50%;\n",
              "      cursor: pointer;\n",
              "      display: none;\n",
              "      fill: #1967D2;\n",
              "      height: 32px;\n",
              "      padding: 0 0 0 0;\n",
              "      width: 32px;\n",
              "    }\n",
              "\n",
              "    .colab-df-convert:hover {\n",
              "      background-color: #E2EBFA;\n",
              "      box-shadow: 0px 1px 2px rgba(60, 64, 67, 0.3), 0px 1px 3px 1px rgba(60, 64, 67, 0.15);\n",
              "      fill: #174EA6;\n",
              "    }\n",
              "\n",
              "    [theme=dark] .colab-df-convert {\n",
              "      background-color: #3B4455;\n",
              "      fill: #D2E3FC;\n",
              "    }\n",
              "\n",
              "    [theme=dark] .colab-df-convert:hover {\n",
              "      background-color: #434B5C;\n",
              "      box-shadow: 0px 1px 3px 1px rgba(0, 0, 0, 0.15);\n",
              "      filter: drop-shadow(0px 1px 2px rgba(0, 0, 0, 0.3));\n",
              "      fill: #FFFFFF;\n",
              "    }\n",
              "  </style>\n",
              "\n",
              "      <script>\n",
              "        const buttonEl =\n",
              "          document.querySelector('#df-cc905ca7-0f61-4ea0-ad19-e272e64ab06b button.colab-df-convert');\n",
              "        buttonEl.style.display =\n",
              "          google.colab.kernel.accessAllowed ? 'block' : 'none';\n",
              "\n",
              "        async function convertToInteractive(key) {\n",
              "          const element = document.querySelector('#df-cc905ca7-0f61-4ea0-ad19-e272e64ab06b');\n",
              "          const dataTable =\n",
              "            await google.colab.kernel.invokeFunction('convertToInteractive',\n",
              "                                                     [key], {});\n",
              "          if (!dataTable) return;\n",
              "\n",
              "          const docLinkHtml = 'Like what you see? Visit the ' +\n",
              "            '<a target=\"_blank\" href=https://colab.research.google.com/notebooks/data_table.ipynb>data table notebook</a>'\n",
              "            + ' to learn more about interactive tables.';\n",
              "          element.innerHTML = '';\n",
              "          dataTable['output_type'] = 'display_data';\n",
              "          await google.colab.output.renderOutput(dataTable, element);\n",
              "          const docLink = document.createElement('div');\n",
              "          docLink.innerHTML = docLinkHtml;\n",
              "          element.appendChild(docLink);\n",
              "        }\n",
              "      </script>\n",
              "    </div>\n",
              "  </div>\n",
              "  "
            ]
          },
          "metadata": {},
          "execution_count": 607
        }
      ]
    },
    {
      "cell_type": "code",
      "source": [
        "submission.to_csv(args.submission_csv, header=True, index=False)"
      ],
      "metadata": {
        "id": "t8zs0zxdhEsO"
      },
      "execution_count": 608,
      "outputs": []
    },
    {
      "cell_type": "markdown",
      "source": [
        "# Save Results"
      ],
      "metadata": {
        "id": "CgoZYlnbhN_J"
      }
    },
    {
      "cell_type": "code",
      "source": [
        "args.save_results"
      ],
      "metadata": {
        "colab": {
          "base_uri": "https://localhost:8080/",
          "height": 35
        },
        "id": "CUDvI-PIhLTY",
        "outputId": "903560af-5433-458e-fb2c-e9855a50750e"
      },
      "execution_count": 609,
      "outputs": [
        {
          "output_type": "execute_result",
          "data": {
            "text/plain": [
              "'/content/gdrive/My Drive/titanic_kaggle/data/model_results.json'"
            ],
            "application/vnd.google.colaboratory.intrinsic+json": {
              "type": "string"
            }
          },
          "metadata": {},
          "execution_count": 609
        }
      ]
    },
    {
      "cell_type": "code",
      "source": [
        "df_results.columns"
      ],
      "metadata": {
        "colab": {
          "base_uri": "https://localhost:8080/"
        },
        "id": "Xf01TbRQhQgk",
        "outputId": "505ced32-fbaa-4eec-abac-b00592c604da"
      },
      "execution_count": 610,
      "outputs": [
        {
          "output_type": "execute_result",
          "data": {
            "text/plain": [
              "Index(['model', 'score_tr', 'score_te', 'auc_te', 'ori_te_pred',\n",
              "       'len_features', 'feaute_importances', 'create_dt'],\n",
              "      dtype='object')"
            ]
          },
          "metadata": {},
          "execution_count": 610
        }
      ]
    },
    {
      "cell_type": "code",
      "source": [
        "df_results.drop(['ori_te_pred'], axis=1, inplace=True) "
      ],
      "metadata": {
        "id": "jcUIx-7NhTFb"
      },
      "execution_count": 611,
      "outputs": []
    },
    {
      "cell_type": "code",
      "source": [
        "df_results.to_json(args.save_results, orient=\"records\")"
      ],
      "metadata": {
        "id": "uUANSiZfhVnY"
      },
      "execution_count": 612,
      "outputs": []
    },
    {
      "cell_type": "code",
      "source": [
        "df_results.head()"
      ],
      "metadata": {
        "colab": {
          "base_uri": "https://localhost:8080/",
          "height": 81
        },
        "id": "sVXMVY0mhWml",
        "outputId": "25305676-c12f-4256-d9eb-99f9d3b4ecc3"
      },
      "execution_count": 613,
      "outputs": [
        {
          "output_type": "execute_result",
          "data": {
            "text/plain": [
              "     model  score_tr  score_te    auc_te  len_features  \\\n",
              "0  modelV0   0.99064  0.818182  0.811741            11   \n",
              "\n",
              "                                  feaute_importances create_dt  \n",
              "0  [gender_male, age_random, fare, pclass_3.0, si...      0227  "
            ],
            "text/html": [
              "\n",
              "  <div id=\"df-8cddcf1e-cbad-4019-a47d-f5957ba91f22\">\n",
              "    <div class=\"colab-df-container\">\n",
              "      <div>\n",
              "<style scoped>\n",
              "    .dataframe tbody tr th:only-of-type {\n",
              "        vertical-align: middle;\n",
              "    }\n",
              "\n",
              "    .dataframe tbody tr th {\n",
              "        vertical-align: top;\n",
              "    }\n",
              "\n",
              "    .dataframe thead th {\n",
              "        text-align: right;\n",
              "    }\n",
              "</style>\n",
              "<table border=\"1\" class=\"dataframe\">\n",
              "  <thead>\n",
              "    <tr style=\"text-align: right;\">\n",
              "      <th></th>\n",
              "      <th>model</th>\n",
              "      <th>score_tr</th>\n",
              "      <th>score_te</th>\n",
              "      <th>auc_te</th>\n",
              "      <th>len_features</th>\n",
              "      <th>feaute_importances</th>\n",
              "      <th>create_dt</th>\n",
              "    </tr>\n",
              "  </thead>\n",
              "  <tbody>\n",
              "    <tr>\n",
              "      <th>0</th>\n",
              "      <td>modelV0</td>\n",
              "      <td>0.99064</td>\n",
              "      <td>0.818182</td>\n",
              "      <td>0.811741</td>\n",
              "      <td>11</td>\n",
              "      <td>[gender_male, age_random, fare, pclass_3.0, si...</td>\n",
              "      <td>0227</td>\n",
              "    </tr>\n",
              "  </tbody>\n",
              "</table>\n",
              "</div>\n",
              "      <button class=\"colab-df-convert\" onclick=\"convertToInteractive('df-8cddcf1e-cbad-4019-a47d-f5957ba91f22')\"\n",
              "              title=\"Convert this dataframe to an interactive table.\"\n",
              "              style=\"display:none;\">\n",
              "        \n",
              "  <svg xmlns=\"http://www.w3.org/2000/svg\" height=\"24px\"viewBox=\"0 0 24 24\"\n",
              "       width=\"24px\">\n",
              "    <path d=\"M0 0h24v24H0V0z\" fill=\"none\"/>\n",
              "    <path d=\"M18.56 5.44l.94 2.06.94-2.06 2.06-.94-2.06-.94-.94-2.06-.94 2.06-2.06.94zm-11 1L8.5 8.5l.94-2.06 2.06-.94-2.06-.94L8.5 2.5l-.94 2.06-2.06.94zm10 10l.94 2.06.94-2.06 2.06-.94-2.06-.94-.94-2.06-.94 2.06-2.06.94z\"/><path d=\"M17.41 7.96l-1.37-1.37c-.4-.4-.92-.59-1.43-.59-.52 0-1.04.2-1.43.59L10.3 9.45l-7.72 7.72c-.78.78-.78 2.05 0 2.83L4 21.41c.39.39.9.59 1.41.59.51 0 1.02-.2 1.41-.59l7.78-7.78 2.81-2.81c.8-.78.8-2.07 0-2.86zM5.41 20L4 18.59l7.72-7.72 1.47 1.35L5.41 20z\"/>\n",
              "  </svg>\n",
              "      </button>\n",
              "      \n",
              "  <style>\n",
              "    .colab-df-container {\n",
              "      display:flex;\n",
              "      flex-wrap:wrap;\n",
              "      gap: 12px;\n",
              "    }\n",
              "\n",
              "    .colab-df-convert {\n",
              "      background-color: #E8F0FE;\n",
              "      border: none;\n",
              "      border-radius: 50%;\n",
              "      cursor: pointer;\n",
              "      display: none;\n",
              "      fill: #1967D2;\n",
              "      height: 32px;\n",
              "      padding: 0 0 0 0;\n",
              "      width: 32px;\n",
              "    }\n",
              "\n",
              "    .colab-df-convert:hover {\n",
              "      background-color: #E2EBFA;\n",
              "      box-shadow: 0px 1px 2px rgba(60, 64, 67, 0.3), 0px 1px 3px 1px rgba(60, 64, 67, 0.15);\n",
              "      fill: #174EA6;\n",
              "    }\n",
              "\n",
              "    [theme=dark] .colab-df-convert {\n",
              "      background-color: #3B4455;\n",
              "      fill: #D2E3FC;\n",
              "    }\n",
              "\n",
              "    [theme=dark] .colab-df-convert:hover {\n",
              "      background-color: #434B5C;\n",
              "      box-shadow: 0px 1px 3px 1px rgba(0, 0, 0, 0.15);\n",
              "      filter: drop-shadow(0px 1px 2px rgba(0, 0, 0, 0.3));\n",
              "      fill: #FFFFFF;\n",
              "    }\n",
              "  </style>\n",
              "\n",
              "      <script>\n",
              "        const buttonEl =\n",
              "          document.querySelector('#df-8cddcf1e-cbad-4019-a47d-f5957ba91f22 button.colab-df-convert');\n",
              "        buttonEl.style.display =\n",
              "          google.colab.kernel.accessAllowed ? 'block' : 'none';\n",
              "\n",
              "        async function convertToInteractive(key) {\n",
              "          const element = document.querySelector('#df-8cddcf1e-cbad-4019-a47d-f5957ba91f22');\n",
              "          const dataTable =\n",
              "            await google.colab.kernel.invokeFunction('convertToInteractive',\n",
              "                                                     [key], {});\n",
              "          if (!dataTable) return;\n",
              "\n",
              "          const docLinkHtml = 'Like what you see? Visit the ' +\n",
              "            '<a target=\"_blank\" href=https://colab.research.google.com/notebooks/data_table.ipynb>data table notebook</a>'\n",
              "            + ' to learn more about interactive tables.';\n",
              "          element.innerHTML = '';\n",
              "          dataTable['output_type'] = 'display_data';\n",
              "          await google.colab.output.renderOutput(dataTable, element);\n",
              "          const docLink = document.createElement('div');\n",
              "          docLink.innerHTML = docLinkHtml;\n",
              "          element.appendChild(docLink);\n",
              "        }\n",
              "      </script>\n",
              "    </div>\n",
              "  </div>\n",
              "  "
            ]
          },
          "metadata": {},
          "execution_count": 613
        }
      ]
    },
    {
      "cell_type": "code",
      "source": [
        "import json\n",
        "\n",
        "load_results = None\n",
        "with open(args.save_results, 'r') as file:\n",
        "    load_results = json.load(file)\n",
        "\n",
        "load_results"
      ],
      "metadata": {
        "colab": {
          "base_uri": "https://localhost:8080/"
        },
        "id": "4_k3S08chXsX",
        "outputId": "432a29e7-6436-455c-ebc8-3f001c2a9dd3"
      },
      "execution_count": 614,
      "outputs": [
        {
          "output_type": "execute_result",
          "data": {
            "text/plain": [
              "[{'model': 'modelV0',\n",
              "  'score_tr': 0.9906396256,\n",
              "  'score_te': 0.8181818182,\n",
              "  'auc_te': 0.8117408907,\n",
              "  'len_features': 11,\n",
              "  'feaute_importances': ['gender_male',\n",
              "   'age_random',\n",
              "   'fare',\n",
              "   'pclass_3.0',\n",
              "   'sibsp',\n",
              "   'parch',\n",
              "   'embarked_C',\n",
              "   'embarked_Q',\n",
              "   'embarked_S',\n",
              "   'pclass_1.0',\n",
              "   'pclass_2.0'],\n",
              "  'create_dt': '0227'}]"
            ]
          },
          "metadata": {},
          "execution_count": 614
        }
      ]
    },
    {
      "cell_type": "code",
      "source": [],
      "metadata": {
        "id": "r_Q33mQ1hZgq"
      },
      "execution_count": null,
      "outputs": []
    }
  ]
}